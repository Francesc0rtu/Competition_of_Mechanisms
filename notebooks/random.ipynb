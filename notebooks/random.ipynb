{
 "cells": [
  {
   "cell_type": "code",
   "execution_count": 3,
   "metadata": {},
   "outputs": [],
   "source": [
    "import sys\n",
    "sys.path.append('..')\n",
    "sys.path.append('../src')\n",
    "sys.path.append('../data')\n",
    "from src.model import WrapHookedTransformer\n",
    "from src.dataset import TlensDataset, HFDataset\n",
    "from src.experiment import LogitAttribution\n",
    "%load_ext autoreload\n",
    "%autoreload 2"
   ]
  },
  {
   "cell_type": "code",
   "execution_count": 2,
   "metadata": {},
   "outputs": [
    {
     "name": "stderr",
     "output_type": "stream",
     "text": [
      "Using pad_token, but it is not set yet.\n"
     ]
    },
    {
     "name": "stdout",
     "output_type": "stream",
     "text": [
      "Loaded pretrained model gpt2 into HookedTransformer\n"
     ]
    }
   ],
   "source": [
    "model = WrapHookedTransformer.from_pretrained(\"gpt2\")"
   ]
  },
  {
   "cell_type": "code",
   "execution_count": 86,
   "metadata": {},
   "outputs": [],
   "source": [
    "from transformers import AutoModelForCausalLM, AutoTokenizer\n",
    "model = AutoModelForCausalLM.from_pretrained(\"gpt2\")\n",
    "tokenizer = AutoTokenizer.from_pretrained(\"gpt2\")"
   ]
  },
  {
   "cell_type": "code",
   "execution_count": 87,
   "metadata": {},
   "outputs": [],
   "source": [
    "dataset = HFDataset(\n",
    " model,\n",
    " tokenizer,\n",
    " \"../data/full_data_sampled_gpt2.json\"  \n",
    ")"
   ]
  },
  {
   "cell_type": "code",
   "execution_count": 88,
   "metadata": {},
   "outputs": [
    {
     "data": {
      "text/plain": [
       "[24,\n",
       " 20,\n",
       " 18,\n",
       " 22,\n",
       " 16,\n",
       " 26,\n",
       " 28,\n",
       " 30,\n",
       " 32,\n",
       " 42,\n",
       " 36,\n",
       " 34,\n",
       " 68,\n",
       " 14,\n",
       " 48,\n",
       " 40,\n",
       " 46,\n",
       " 38,\n",
       " 44,\n",
       " 64,\n",
       " 12,\n",
       " 50,\n",
       " 56,\n",
       " 10]"
      ]
     },
     "execution_count": 88,
     "metadata": {},
     "output_type": "execute_result"
    }
   ],
   "source": [
    "dataset.get_lengths()"
   ]
  },
  {
   "cell_type": "code",
   "execution_count": 89,
   "metadata": {},
   "outputs": [],
   "source": [
    "dataset.set_len(12)"
   ]
  },
  {
   "cell_type": "code",
   "execution_count": 90,
   "metadata": {},
   "outputs": [
    {
     "data": {
      "text/plain": [
       "{'prompt': 'Redefine:: LeBron James plays soccer. LeBron James plays',\n",
       " 'input_ids': tensor([ 7738,   891,   500,  3712, 24712,  3700,  5341, 11783,    13, 24712,\n",
       "          3700,  5341]),\n",
       " 'target': tensor([ 9669, 11783]),\n",
       " 'obj_pos': 7}"
      ]
     },
     "execution_count": 90,
     "metadata": {},
     "output_type": "execute_result"
    }
   ],
   "source": [
    "dataset[0]"
   ]
  },
  {
   "cell_type": "code",
   "execution_count": 85,
   "metadata": {},
   "outputs": [
    {
     "name": "stderr",
     "output_type": "stream",
     "text": [
      "[autoreload of src.dataset failed: Traceback (most recent call last):\n",
      "  File \"/home/francesco/anaconda3/envs/torch/lib/python3.10/site-packages/IPython/extensions/autoreload.py\", line 276, in check\n",
      "    superreload(m, reload, self.old_objects)\n",
      "  File \"/home/francesco/anaconda3/envs/torch/lib/python3.10/site-packages/IPython/extensions/autoreload.py\", line 500, in superreload\n",
      "    update_generic(old_obj, new_obj)\n",
      "  File \"/home/francesco/anaconda3/envs/torch/lib/python3.10/site-packages/IPython/extensions/autoreload.py\", line 397, in update_generic\n",
      "    update(a, b)\n",
      "  File \"/home/francesco/anaconda3/envs/torch/lib/python3.10/site-packages/IPython/extensions/autoreload.py\", line 349, in update_class\n",
      "    if update_generic(old_obj, new_obj):\n",
      "  File \"/home/francesco/anaconda3/envs/torch/lib/python3.10/site-packages/IPython/extensions/autoreload.py\", line 397, in update_generic\n",
      "    update(a, b)\n",
      "  File \"/home/francesco/anaconda3/envs/torch/lib/python3.10/site-packages/IPython/extensions/autoreload.py\", line 309, in update_function\n",
      "    setattr(old, name, getattr(new, name))\n",
      "ValueError: __init__() requires a code object with 0 free vars, not 1\n",
      "]\n"
     ]
    }
   ],
   "source": [
    "from torch.utils.data import DataLoader\n",
    "dataloader = DataLoader(dataset, batch_size=10, shuffle=False)"
   ]
  },
  {
   "cell_type": "code",
   "execution_count": 79,
   "metadata": {},
   "outputs": [],
   "source": [
    "batch = next(iter(dataloader))"
   ]
  },
  {
   "cell_type": "code",
   "execution_count": 84,
   "metadata": {},
   "outputs": [
    {
     "data": {
      "text/plain": [
       "tensor([[ 7738,   891,   500,  3712, 24712,  3700,  5341, 11783,    13, 24712,\n",
       "          3700,  5341],\n",
       "        [ 7738,   891,   500,  3712, 24712,  3700,  5341,  4346,    13, 24712,\n",
       "          3700,  5341],\n",
       "        [ 7738,   891,   500,  3712, 24712,  3700,  5341, 12217,    13, 24712,\n",
       "          3700,  5341],\n",
       "        [ 7738,   891,   500,  3712, 29493, 16754,  5341, 12217,    13, 29493,\n",
       "         16754,  5341],\n",
       "        [ 7738,   891,   500,  3712, 29493, 16754,  5341,  4346,    13, 29493,\n",
       "         16754,  5341],\n",
       "        [ 7738,   891,   500,  3712, 29490, 18380,  4870, 10598,    13, 29490,\n",
       "         18380,  4870]])"
      ]
     },
     "execution_count": 84,
     "metadata": {},
     "output_type": "execute_result"
    }
   ],
   "source": [
    "batch[\"input_ids\"]"
   ]
  }
 ],
 "metadata": {
  "kernelspec": {
   "display_name": "torch",
   "language": "python",
   "name": "python3"
  },
  "language_info": {
   "codemirror_mode": {
    "name": "ipython",
    "version": 3
   },
   "file_extension": ".py",
   "mimetype": "text/x-python",
   "name": "python",
   "nbconvert_exporter": "python",
   "pygments_lexer": "ipython3",
   "version": "3.10.11"
  }
 },
 "nbformat": 4,
 "nbformat_minor": 2
}
