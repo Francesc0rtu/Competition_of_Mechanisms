{
 "cells": [
  {
   "cell_type": "code",
   "execution_count": 1,
   "metadata": {},
   "outputs": [],
   "source": [
    "import sys\n",
    "sys.path.append('..')\n",
    "sys.path.append('../src')\n",
    "sys.path.append('../data')\n",
    "from src.model import WrapHookedTransformer\n",
    "from src.dataset import TlensDataset\n",
    "from src.experiment import LogitAttribution\n",
    "%load_ext autoreload\n",
    "%autoreload 2"
   ]
  },
  {
   "cell_type": "code",
   "execution_count": 2,
   "metadata": {},
   "outputs": [
    {
     "name": "stderr",
     "output_type": "stream",
     "text": [
      "Using pad_token, but it is not set yet.\n"
     ]
    },
    {
     "name": "stdout",
     "output_type": "stream",
     "text": [
      "Loaded pretrained model gpt2 into HookedTransformer\n",
      "Dataset loaded from ../data/full_data_sampled_gpt2.json\n",
      "Number of samples: 100\n"
     ]
    }
   ],
   "source": [
    "model = WrapHookedTransformer.from_pretrained(\"gpt2\")\n",
    "dataset = TlensDataset(\"../data/full_data_sampled_gpt2.json\", model, slice=100)"
   ]
  },
  {
   "cell_type": "code",
   "execution_count": 3,
   "metadata": {},
   "outputs": [],
   "source": [
    "attributor = LogitAttribution(dataset, model, 20)"
   ]
  },
  {
   "cell_type": "code",
   "execution_count": 10,
   "metadata": {},
   "outputs": [
    {
     "name": "stderr",
     "output_type": "stream",
     "text": [
      "100%|██████████| 1/1 [00:00<00:00,  7.87it/s]\n"
     ]
    },
    {
     "name": "stdout",
     "output_type": "stream",
     "text": [
      "Tried to stack head results when they weren't cached. Computing head results now\n"
     ]
    },
    {
     "name": "stderr",
     "output_type": "stream",
     "text": [
      " 50%|█████     | 1/2 [00:00<00:00,  6.92it/s]"
     ]
    },
    {
     "name": "stdout",
     "output_type": "stream",
     "text": [
      "Tried to stack head results when they weren't cached. Computing head results now\n"
     ]
    },
    {
     "name": "stderr",
     "output_type": "stream",
     "text": [
      "100%|██████████| 2/2 [00:00<00:00, 12.28it/s]\n"
     ]
    },
    {
     "name": "stdout",
     "output_type": "stream",
     "text": [
      "Tried to stack head results when they weren't cached. Computing head results now\n"
     ]
    },
    {
     "name": "stderr",
     "output_type": "stream",
     "text": [
      "  0%|          | 0/2 [00:00<?, ?it/s]"
     ]
    },
    {
     "name": "stdout",
     "output_type": "stream",
     "text": [
      "Tried to stack head results when they weren't cached. Computing head results now\n"
     ]
    },
    {
     "name": "stderr",
     "output_type": "stream",
     "text": [
      "100%|██████████| 2/2 [00:00<00:00, 12.81it/s]\n"
     ]
    },
    {
     "name": "stdout",
     "output_type": "stream",
     "text": [
      "Tried to stack head results when they weren't cached. Computing head results now\n"
     ]
    },
    {
     "name": "stderr",
     "output_type": "stream",
     "text": [
      "  0%|          | 0/1 [00:00<?, ?it/s]"
     ]
    },
    {
     "name": "stdout",
     "output_type": "stream",
     "text": [
      "Tried to stack head results when they weren't cached. Computing head results now\n"
     ]
    },
    {
     "name": "stderr",
     "output_type": "stream",
     "text": [
      "100%|██████████| 1/1 [00:00<00:00, 19.61it/s]\n",
      "100%|██████████| 1/1 [00:00<00:00, 14.90it/s]\n"
     ]
    },
    {
     "name": "stdout",
     "output_type": "stream",
     "text": [
      "Tried to stack head results when they weren't cached. Computing head results now\n"
     ]
    },
    {
     "name": "stderr",
     "output_type": "stream",
     "text": [
      "  0%|          | 0/1 [00:00<?, ?it/s]"
     ]
    },
    {
     "name": "stdout",
     "output_type": "stream",
     "text": [
      "Tried to stack head results when they weren't cached. Computing head results now\n"
     ]
    },
    {
     "name": "stderr",
     "output_type": "stream",
     "text": [
      "100%|██████████| 1/1 [00:00<00:00, 18.82it/s]\n",
      "100%|██████████| 1/1 [00:00<00:00, 36.27it/s]\n"
     ]
    },
    {
     "name": "stdout",
     "output_type": "stream",
     "text": [
      "Tried to stack head results when they weren't cached. Computing head results now\n"
     ]
    },
    {
     "name": "stderr",
     "output_type": "stream",
     "text": [
      "100%|██████████| 1/1 [00:00<00:00, 47.12it/s]\n"
     ]
    },
    {
     "name": "stdout",
     "output_type": "stream",
     "text": [
      "Tried to stack head results when they weren't cached. Computing head results now\n"
     ]
    },
    {
     "name": "stderr",
     "output_type": "stream",
     "text": [
      "100%|██████████| 1/1 [00:00<00:00, 60.23it/s]\n"
     ]
    },
    {
     "name": "stdout",
     "output_type": "stream",
     "text": [
      "Tried to stack head results when they weren't cached. Computing head results now\n"
     ]
    }
   ],
   "source": [
    "df = attributor.run()"
   ]
  },
  {
   "cell_type": "code",
   "execution_count": 11,
   "metadata": {},
   "outputs": [
    {
     "data": {
      "text/html": [
       "<div>\n",
       "<style scoped>\n",
       "    .dataframe tbody tr th:only-of-type {\n",
       "        vertical-align: middle;\n",
       "    }\n",
       "\n",
       "    .dataframe tbody tr th {\n",
       "        vertical-align: top;\n",
       "    }\n",
       "\n",
       "    .dataframe thead th {\n",
       "        text-align: right;\n",
       "    }\n",
       "</style>\n",
       "<table border=\"1\" class=\"dataframe\">\n",
       "  <thead>\n",
       "    <tr style=\"text-align: right;\">\n",
       "      <th></th>\n",
       "      <th>label</th>\n",
       "      <th>position</th>\n",
       "      <th>mem_mean</th>\n",
       "      <th>cp_mean</th>\n",
       "      <th>diff_mean</th>\n",
       "      <th>mem_std</th>\n",
       "      <th>cp_std</th>\n",
       "      <th>diff_std</th>\n",
       "    </tr>\n",
       "  </thead>\n",
       "  <tbody>\n",
       "    <tr>\n",
       "      <th>0</th>\n",
       "      <td>L0H0</td>\n",
       "      <td>0</td>\n",
       "      <td>0.028523</td>\n",
       "      <td>0.025195</td>\n",
       "      <td>0.003328</td>\n",
       "      <td>0.024049</td>\n",
       "      <td>0.026457</td>\n",
       "      <td>0.032837</td>\n",
       "    </tr>\n",
       "    <tr>\n",
       "      <th>1</th>\n",
       "      <td>L0H0</td>\n",
       "      <td>1</td>\n",
       "      <td>0.042794</td>\n",
       "      <td>0.027220</td>\n",
       "      <td>0.015573</td>\n",
       "      <td>0.035359</td>\n",
       "      <td>0.029368</td>\n",
       "      <td>0.038183</td>\n",
       "    </tr>\n",
       "    <tr>\n",
       "      <th>2</th>\n",
       "      <td>L0H0</td>\n",
       "      <td>2</td>\n",
       "      <td>0.066374</td>\n",
       "      <td>0.043850</td>\n",
       "      <td>0.022523</td>\n",
       "      <td>0.061461</td>\n",
       "      <td>0.053932</td>\n",
       "      <td>0.060846</td>\n",
       "    </tr>\n",
       "    <tr>\n",
       "      <th>3</th>\n",
       "      <td>L0H0</td>\n",
       "      <td>3</td>\n",
       "      <td>0.044264</td>\n",
       "      <td>0.032621</td>\n",
       "      <td>0.011642</td>\n",
       "      <td>0.037436</td>\n",
       "      <td>0.038533</td>\n",
       "      <td>0.041936</td>\n",
       "    </tr>\n",
       "    <tr>\n",
       "      <th>4</th>\n",
       "      <td>L0H0</td>\n",
       "      <td>4</td>\n",
       "      <td>0.029219</td>\n",
       "      <td>0.021660</td>\n",
       "      <td>0.007559</td>\n",
       "      <td>0.020358</td>\n",
       "      <td>0.021570</td>\n",
       "      <td>0.028015</td>\n",
       "    </tr>\n",
       "    <tr>\n",
       "      <th>...</th>\n",
       "      <td>...</td>\n",
       "      <td>...</td>\n",
       "      <td>...</td>\n",
       "      <td>...</td>\n",
       "      <td>...</td>\n",
       "      <td>...</td>\n",
       "      <td>...</td>\n",
       "      <td>...</td>\n",
       "    </tr>\n",
       "    <tr>\n",
       "      <th>2400</th>\n",
       "      <td>11_mlp_out</td>\n",
       "      <td>8</td>\n",
       "      <td>-0.136548</td>\n",
       "      <td>0.003765</td>\n",
       "      <td>-0.140313</td>\n",
       "      <td>0.680257</td>\n",
       "      <td>0.610070</td>\n",
       "      <td>0.556592</td>\n",
       "    </tr>\n",
       "    <tr>\n",
       "      <th>2401</th>\n",
       "      <td>11_mlp_out</td>\n",
       "      <td>9</td>\n",
       "      <td>-0.090341</td>\n",
       "      <td>-0.235741</td>\n",
       "      <td>0.145400</td>\n",
       "      <td>0.877172</td>\n",
       "      <td>0.952067</td>\n",
       "      <td>0.803256</td>\n",
       "    </tr>\n",
       "    <tr>\n",
       "      <th>2402</th>\n",
       "      <td>11_mlp_out</td>\n",
       "      <td>10</td>\n",
       "      <td>0.019798</td>\n",
       "      <td>-0.131388</td>\n",
       "      <td>0.151186</td>\n",
       "      <td>0.672927</td>\n",
       "      <td>0.590040</td>\n",
       "      <td>0.560321</td>\n",
       "    </tr>\n",
       "    <tr>\n",
       "      <th>2403</th>\n",
       "      <td>11_mlp_out</td>\n",
       "      <td>11</td>\n",
       "      <td>0.926769</td>\n",
       "      <td>0.793886</td>\n",
       "      <td>0.132882</td>\n",
       "      <td>0.581342</td>\n",
       "      <td>0.604554</td>\n",
       "      <td>0.499606</td>\n",
       "    </tr>\n",
       "    <tr>\n",
       "      <th>2404</th>\n",
       "      <td>11_mlp_out</td>\n",
       "      <td>12</td>\n",
       "      <td>0.591964</td>\n",
       "      <td>0.647657</td>\n",
       "      <td>-0.055692</td>\n",
       "      <td>1.016695</td>\n",
       "      <td>1.170747</td>\n",
       "      <td>0.595772</td>\n",
       "    </tr>\n",
       "  </tbody>\n",
       "</table>\n",
       "<p>2405 rows × 8 columns</p>\n",
       "</div>"
      ],
      "text/plain": [
       "           label  position  mem_mean   cp_mean  diff_mean   mem_std    cp_std  \\\n",
       "0           L0H0         0  0.028523  0.025195   0.003328  0.024049  0.026457   \n",
       "1           L0H0         1  0.042794  0.027220   0.015573  0.035359  0.029368   \n",
       "2           L0H0         2  0.066374  0.043850   0.022523  0.061461  0.053932   \n",
       "3           L0H0         3  0.044264  0.032621   0.011642  0.037436  0.038533   \n",
       "4           L0H0         4  0.029219  0.021660   0.007559  0.020358  0.021570   \n",
       "...          ...       ...       ...       ...        ...       ...       ...   \n",
       "2400  11_mlp_out         8 -0.136548  0.003765  -0.140313  0.680257  0.610070   \n",
       "2401  11_mlp_out         9 -0.090341 -0.235741   0.145400  0.877172  0.952067   \n",
       "2402  11_mlp_out        10  0.019798 -0.131388   0.151186  0.672927  0.590040   \n",
       "2403  11_mlp_out        11  0.926769  0.793886   0.132882  0.581342  0.604554   \n",
       "2404  11_mlp_out        12  0.591964  0.647657  -0.055692  1.016695  1.170747   \n",
       "\n",
       "      diff_std  \n",
       "0     0.032837  \n",
       "1     0.038183  \n",
       "2     0.060846  \n",
       "3     0.041936  \n",
       "4     0.028015  \n",
       "...        ...  \n",
       "2400  0.556592  \n",
       "2401  0.803256  \n",
       "2402  0.560321  \n",
       "2403  0.499606  \n",
       "2404  0.595772  \n",
       "\n",
       "[2405 rows x 8 columns]"
      ]
     },
     "execution_count": 11,
     "metadata": {},
     "output_type": "execute_result"
    }
   ],
   "source": [
    "df"
   ]
  }
 ],
 "metadata": {
  "kernelspec": {
   "display_name": "torch",
   "language": "python",
   "name": "python3"
  },
  "language_info": {
   "codemirror_mode": {
    "name": "ipython",
    "version": 3
   },
   "file_extension": ".py",
   "mimetype": "text/x-python",
   "name": "python",
   "nbconvert_exporter": "python",
   "pygments_lexer": "ipython3",
   "version": "3.10.11"
  }
 },
 "nbformat": 4,
 "nbformat_minor": 2
}
