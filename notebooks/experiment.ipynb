{
 "cells": [
  {
   "cell_type": "code",
   "execution_count": 1,
   "metadata": {},
   "outputs": [],
   "source": [
    "import sys\n",
    "sys.path.append('..')\n",
    "sys.path.append('../src')\n",
    "sys.path.append('../data')\n",
    "\n",
    "%load_ext autoreload"
   ]
  },
  {
   "cell_type": "code",
   "execution_count": 2,
   "metadata": {},
   "outputs": [],
   "source": [
    "import json\n",
    "from tqdm import tqdm"
   ]
  },
  {
   "cell_type": "markdown",
   "metadata": {},
   "source": [
    "# Generate a standard dataset to evaluate"
   ]
  },
  {
   "cell_type": "code",
   "execution_count": 7,
   "metadata": {},
   "outputs": [
    {
     "name": "stderr",
     "output_type": "stream",
     "text": [
      "100%|██████████| 21919/21919 [00:00<00:00, 57692.49it/s]\n"
     ]
    },
    {
     "name": "stdout",
     "output_type": "stream",
     "text": [
      "284753\n"
     ]
    }
   ],
   "source": [
    "import random\n",
    "random.seed(42)\n",
    "data = json.load(open(\"../data/counterfact.json\"))\n",
    "final_data = []\n",
    "# shuffle data\n",
    "random.shuffle(data)\n",
    "for i, d in tqdm(enumerate(data), total=len(data)):\n",
    "    target_new = \" \" + d[\"requested_rewrite\"][\"target_new\"][\"str\"]\n",
    "    target_true = \" \" + d[\"requested_rewrite\"][\"target_true\"][\"str\"]\n",
    "        \n",
    "    for p in d[\"attribute_prompts\"]:\n",
    "        template = \"{}: \" + p + \"{}\" + \". \" + p\n",
    "        final_data.append(\n",
    "            {\n",
    "            \"base_prompt\": p,\n",
    "            \"template\": template,\n",
    "            \"true\": target_new,\n",
    "            \"false\": target_true,\n",
    "            }\n",
    "        )\n",
    "        final_data[-1][\"prompt\"] = template.format(\"Redefine\", final_data[-1][\"false\"])\n",
    "    for p in d[\"neighborhood_prompts\"]:\n",
    "        template = \"{}: \" + p + \"{}\" + \". \" + p\n",
    "        final_data.append(\n",
    "            {\n",
    "            \"base_prompt\": p,\n",
    "            \"template\": template,\n",
    "            \"true\": target_true,\n",
    "            \"false\": target_new,\n",
    "            }\n",
    "        )\n",
    "        final_data[-1][\"prompt\"] = template.format(\"Redefine\", final_data[-1][\"false\"])\n",
    "        \n",
    "unique_strs = set(json.dumps(d) for d in final_data)\n",
    "final_data = [json.loads(d) for d in unique_strs]\n",
    "print(len(final_data))\n",
    "        "
   ]
  },
  {
   "cell_type": "code",
   "execution_count": 8,
   "metadata": {},
   "outputs": [],
   "source": [
    "json.dump(final_data, open(\"../data/full_data.json\", \"w\"), indent=2)"
   ]
  },
  {
   "cell_type": "markdown",
   "metadata": {},
   "source": [
    "## Load HF model"
   ]
  },
  {
   "cell_type": "code",
   "execution_count": 12,
   "metadata": {},
   "outputs": [
    {
     "name": "stdout",
     "output_type": "stream",
     "text": [
      "The autoreload extension is already loaded. To reload it, use:\n",
      "  %reload_ext autoreload\n"
     ]
    },
    {
     "name": "stderr",
     "output_type": "stream",
     "text": [
      "Tokenizing prompts: 100%|██████████| 10000/10000 [00:00<00:00, 14241.16it/s]\n"
     ]
    }
   ],
   "source": [
    "from src.score_models import MyDataset, EvaluateMechanism\n",
    "from transformers import AutoTokenizer, AutoModelForCausalLM\n",
    "%load_ext autoreload\n",
    "%autoreload 2\n",
    "\n",
    "tokenizer = AutoTokenizer.from_pretrained(\"gpt2\")\n",
    "model = AutoModelForCausalLM.from_pretrained(\"gpt2\")\n",
    "\n",
    "dataset = MyDataset(\"../data/full_data.json\", tokenizer=tokenizer, slice=10000)\n",
    "\n",
    "evaluator = EvaluateMechanism(\"gpt2\", dataset)\n"
   ]
  },
  {
   "cell_type": "code",
   "execution_count": 13,
   "metadata": {},
   "outputs": [
    {
     "name": "stderr",
     "output_type": "stream",
     "text": [
      "  0%|          | 0/44 [00:00<?, ?it/s]"
     ]
    },
    {
     "name": "stderr",
     "output_type": "stream",
     "text": [
      "100%|██████████| 44/44 [00:20<00:00,  2.17it/s]\n"
     ]
    },
    {
     "data": {
      "text/plain": [
       "(13, 1699, 29)"
      ]
     },
     "execution_count": 13,
     "metadata": {},
     "output_type": "execute_result"
    }
   ],
   "source": [
    "evaluator.evaluate(18)"
   ]
  },
  {
   "cell_type": "code",
   "execution_count": 37,
   "metadata": {},
   "outputs": [
    {
     "name": "stdout",
     "output_type": "stream",
     "text": [
      "[16849] [3340]\n",
      "tensor([16849]) tensor([3340])\n",
      "tensor([[16849,  3340]])\n"
     ]
    }
   ],
   "source": [
    "import torch\n",
    "dataset.set_len(134)\n",
    "dataloader = torch.utils.data.DataLoader(dataset, batch_size=4, shuffle=False)"
   ]
  },
  {
   "cell_type": "code",
   "execution_count": 39,
   "metadata": {},
   "outputs": [
    {
     "data": {
      "text/plain": [
       "torch.Size([1, 2])"
      ]
     },
     "execution_count": 39,
     "metadata": {},
     "output_type": "execute_result"
    }
   ],
   "source": []
  },
  {
   "cell_type": "code",
   "execution_count": 38,
   "metadata": {},
   "outputs": [],
   "source": [
    "batch = next(iter(dataloader))"
   ]
  },
  {
   "cell_type": "code",
   "execution_count": 28,
   "metadata": {},
   "outputs": [
    {
     "data": {
      "text/plain": [
       "tensor([16849])"
      ]
     },
     "execution_count": 28,
     "metadata": {},
     "output_type": "execute_result"
    }
   ],
   "source": [
    "batch[\"target\"]"
   ]
  },
  {
   "cell_type": "code",
   "execution_count": 7,
   "metadata": {},
   "outputs": [],
   "source": [
    "for batch in dataloader:\n",
    "    print(batch[\"input_ids\"].shape)"
   ]
  }
 ],
 "metadata": {
  "kernelspec": {
   "display_name": "torch",
   "language": "python",
   "name": "python3"
  },
  "language_info": {
   "codemirror_mode": {
    "name": "ipython",
    "version": 3
   },
   "file_extension": ".py",
   "mimetype": "text/x-python",
   "name": "python",
   "nbconvert_exporter": "python",
   "pygments_lexer": "ipython3",
   "version": "3.10.11"
  },
  "orig_nbformat": 4
 },
 "nbformat": 4,
 "nbformat_minor": 2
}
