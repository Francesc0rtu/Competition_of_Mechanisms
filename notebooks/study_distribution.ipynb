{
 "cells": [
  {
   "cell_type": "code",
   "execution_count": 40,
   "metadata": {},
   "outputs": [
    {
     "name": "stdout",
     "output_type": "stream",
     "text": [
      "The autoreload extension is already loaded. To reload it, use:\n",
      "  %reload_ext autoreload\n"
     ]
    },
    {
     "name": "stderr",
     "output_type": "stream",
     "text": [
      "Using pad_token, but it is not set yet.\n"
     ]
    },
    {
     "name": "stdout",
     "output_type": "stream",
     "text": [
      "Loaded pretrained model gpt2 into HookedTransformer\n",
      "possible_lengths for sampling 100: [12.0, 13.0, 14.0, 15.0, 16.0, 17.0, 18.0, 19.0, 20.0, 21.0, 22.0, 23.0, 24.0]\n",
      "Traget - Orthogonal tensor(0.0652)\n",
      "Target - orthogonal tensor(-0.0983)\n",
      "pos metric tensor(0.0086) var tensor(0.0670)\n",
      "neg metric tensor(0.0260) var tensor(0.1569)\n"
     ]
    }
   ],
   "source": [
    "import sys\n",
    "sys.path.append('..')\n",
    "sys.path.append('../src')\n",
    "sys.path.append('../data')\n",
    "\n",
    "import torch\n",
    "from transformer_lens import HookedTransformer\n",
    "import json\n",
    "from src.patching import get_act_patch_mlp_out\n",
    "from src.model import WrapHookedTransformer\n",
    "from src.dataset import Dataset\n",
    "import transformer_lens.utils as utils\n",
    "from transformer_lens.utils import get_act_name\n",
    "from functools import partial\n",
    "from transformer_lens import patching\n",
    "import plotly.express as px\n",
    "import random\n",
    "from src.utils import (\n",
    "    embs_to_tokens_ids,\n",
    "    patch_resid_pre,\n",
    "    patch_attn_head_out_all_pos,\n",
    "    patch_attn_head_by_pos,\n",
    "    patch_per_block_all_poss,\n",
    "    patch_attn_head_all_pos_every,\n",
    "    logit_lens,\n",
    "    list_of_dicts_to_dict_of_lists,\n",
    ")\n",
    "from dataclasses import dataclass\n",
    "%load_ext autoreload\n",
    "%autoreload 2\n",
    "\n",
    "class Config:\n",
    "    num_samples: int = 100\n",
    "    batch_size: int = 100\n",
    "    mem_win_noise_position = [1,2,3,9,10,11]\n",
    "    mem_win_noise_mlt = 2\n",
    "    cp_win_noise_position = [8]\n",
    "    cp_win_noise_mlt = 2\n",
    "config = Config()\n",
    "\n",
    "def dict_of_lists_to_dict_of_tensors(dict_of_lists):\n",
    "    dict_of_tensors = {}\n",
    "    for key, tensor_list in dict_of_lists.items():\n",
    "        # If the key is \"example_str_token\", keep it as a list of strings\n",
    "        if key == \"example_str_token\" or key == \"logit_lens\":\n",
    "            dict_of_tensors[key] = tensor_list\n",
    "            continue\n",
    "        \n",
    "        # Check if the first element of the list is a tensor\n",
    "        if isinstance(tensor_list[0], torch.Tensor):\n",
    "            dict_of_tensors[key] = torch.stack(tensor_list)\n",
    "        # If the first element is a list, convert each inner list to a tensor and then stack\n",
    "        elif isinstance(tensor_list[0], list):\n",
    "            tensor_list = [torch.tensor(item) for item in tensor_list]\n",
    "            dict_of_tensors[key] = torch.stack(tensor_list)\n",
    "        else:\n",
    "            print(f\"Unsupported data type for key {key}: {type(tensor_list[0])}\")\n",
    "            raise ValueError(f\"Unsupported data type for key {key}: {type(tensor_list[0])}\")\n",
    "    return dict_of_tensors\n",
    "\n",
    "torch.set_grad_enabled(False)\n",
    "\n",
    "MODEL_NAME = \"gpt2small\"\n",
    "MAX_LEN = 16\n",
    "DEVICE = \"cuda\" if torch.cuda.is_available() else \"cpu\"\n",
    "model = WrapHookedTransformer.from_pretrained(\"gpt2\", device=DEVICE)\n",
    "target_data = json.load(open(\"../data/target_win_dataset_{}_filtered.json\".format(MODEL_NAME)))\n",
    "orthogonal_data = json.load(\n",
    "    open(\"../data/orthogonal_win_dataset_{}_filtered.json\".format(MODEL_NAME))\n",
    ")\n",
    "orthogonal_data = random.sample(orthogonal_data, len(target_data))\n",
    "dataset = Dataset(target_data, orthogonal_data, model)\n",
    "dataset.random_sample(config.num_samples, MAX_LEN)\n",
    "\n",
    "\n",
    "dataloader = torch.utils.data.DataLoader(dataset, batch_size=config.batch_size, shuffle=False)\n",
    "\n",
    "\n",
    "pos_result = []\n",
    "pos_result_var = []\n",
    "neg_result = []\n",
    "neg_result_var = []\n",
    "pos_clean_caches = []\n",
    "neg_clean_caches = []\n",
    "batch = next(iter(dataloader))\n",
    "\n",
    "pos_batch = batch[\"pos_dataset\"]\n",
    "neg_batch = batch[\"neg_dataset\"]\n",
    "pos_target_ids = {\n",
    "    \"target\": model.to_tokens(pos_batch[\"target\"], prepend_bos=False),\n",
    "    \"orthogonal\": model.to_tokens(pos_batch[\"orthogonal_token\"], prepend_bos=False),\n",
    "}\n",
    "neg_target_ids = {\n",
    "    \"target\": model.to_tokens(neg_batch[\"target\"], prepend_bos=False),\n",
    "    \"orthogonal\": model.to_tokens(neg_batch[\"orthogonal_token\"], prepend_bos=False),\n",
    "}\n",
    "pos_input_ids = model.to_tokens(pos_batch[\"premise\"], prepend_bos=True)\n",
    "neg_input_ids = model.to_tokens(neg_batch[\"premise\"], prepend_bos=True)\n",
    "pos_embs_corrupted = model.add_noise(\n",
    "    pos_batch[\"premise\"],\n",
    "    noise_index = torch.tensor(config.mem_win_noise_position),\n",
    "    target_win=8,\n",
    "    noise_mlt=config.mem_win_noise_mlt\n",
    ")\n",
    "neg_embs_corrupted = model.add_noise(\n",
    "    neg_batch[\"premise\"],\n",
    "    noise_index = torch.tensor(config.cp_win_noise_position),\n",
    "    target_win=8,\n",
    "    noise_mlt=config.cp_win_noise_mlt\n",
    ")\n",
    "\n",
    "pos_corrupted_logit, pos_corrupted_cache = model.run_with_cache_from_embed(pos_embs_corrupted)\n",
    "pos_clean_logit, pos_clean_cache = model.run_with_cache(pos_batch[\"premise\"])\n",
    "neg_corrupted_logit, neg_corrupted_cache = model.run_with_cache_from_embed(neg_embs_corrupted)\n",
    "neg_clean_logit, neg_clean_cache = model.run_with_cache(neg_batch[\"premise\"])\n",
    "\n",
    "\n",
    "\n",
    "pos_clean_caches.append(pos_clean_cache)\n",
    "neg_clean_caches.append(neg_clean_cache)\n",
    "\n",
    "def check_reversed_probs( corrupted_logits, target_pos, orthogonal_pos):\n",
    "    corrupted_logits = torch.softmax(corrupted_logits, dim=-1)\n",
    "    target_probs = corrupted_logits[:,-1,:].gather(-1, index=target_pos).squeeze(-1)\n",
    "    orthogonal_probs = corrupted_logits[:,-1,:].gather(-1, index=orthogonal_pos).squeeze(-1)\n",
    "    return (target_probs - orthogonal_probs).mean()\n",
    "\n",
    "print(\"Traget - Orthogonal\", check_reversed_probs( pos_corrupted_logit,  pos_target_ids[\"target\"], pos_target_ids[\"orthogonal\"],))\n",
    "print(\"Target - orthogonal\", check_reversed_probs( neg_corrupted_logit, neg_target_ids[\"target\"], neg_target_ids[\"orthogonal\"]))\n",
    "\n",
    "\n",
    "\n",
    "def indirect_effect(logits, corrupted_logits, first_ids_pos, return_type=\"mean\"):\n",
    "    logits = torch.nn.functional.log_softmax(logits, dim=-1)\n",
    "    corrupted_logits = torch.nn.functional.log_softmax(corrupted_logits, dim=-1)\n",
    "    # Use torch.gather to get the desired values\n",
    "    logits_values = torch.gather(logits[:, -1, :], 1, first_ids_pos).squeeze()\n",
    "    corrupted_logits_values = torch.gather(corrupted_logits[:, -1, :], 1, first_ids_pos).squeeze()\n",
    "    delta_value = logits_values - corrupted_logits_values\n",
    "\n",
    "    return delta_value\n",
    "        \n",
    "POS_BASELINE = indirect_effect(\n",
    "    logits=pos_clean_logit,\n",
    "    corrupted_logits=pos_corrupted_logit,\n",
    "    first_ids_pos=pos_target_ids[\"target\"]\n",
    ")\n",
    "NEG_BASELINE = indirect_effect(\n",
    "    logits=neg_clean_logit,\n",
    "    corrupted_logits=neg_corrupted_logit,\n",
    "    first_ids_pos=neg_target_ids[\"orthogonal\"]\n",
    ")\n",
    "\n",
    "\n",
    "def pos_metric(logits, return_type=\"mean\"):\n",
    "    improved = indirect_effect(\n",
    "        logits=logits,\n",
    "        corrupted_logits=pos_corrupted_logit,\n",
    "        first_ids_pos=pos_target_ids[\"target\"]\n",
    "    )\n",
    "    # improved = improved/POS_BASELINE\n",
    "    if return_type == \"mean\":\n",
    "        return improved.mean()\n",
    "    elif return_type == \"var\":\n",
    "        return improved.std()\n",
    "    elif return_type == \"mad\":\n",
    "        return (improved - improved.median()).abs().median()\n",
    "    \n",
    "def neg_metric(logits, return_type=\"mean\"):\n",
    "    improved = indirect_effect(\n",
    "        logits=logits,\n",
    "        corrupted_logits=neg_corrupted_logit,\n",
    "        first_ids_pos=neg_target_ids[\"orthogonal\"]\n",
    "    )\n",
    "    # improved = improved/NEG_BASELINE\n",
    "    if return_type == \"mean\":\n",
    "        return improved.mean()\n",
    "    elif return_type == \"var\":\n",
    "        return improved.std(dim=0)\n",
    "    elif return_type == \"mad\":\n",
    "        return (improved - improved.median()).abs().median()\n",
    "\n",
    "pos_metric_var = partial(pos_metric, return_type=\"mad\")\n",
    "neg_metric_var = partial(neg_metric, return_type=\"mad\")\n",
    "\n",
    "\n",
    "print(\"pos metric\", pos_metric(logits=pos_clean_logit), \"var\", pos_metric_var(logits=pos_clean_logit))\n",
    "print(\"neg metric\", neg_metric(logits=neg_clean_logit), \"var\", neg_metric_var(logits=neg_clean_logit))"
   ]
  },
  {
   "cell_type": "code",
   "execution_count": 37,
   "metadata": {},
   "outputs": [],
   "source": [
    "pos_effect = indirect_effect(\n",
    "        logits=pos,\n",
    "        corrupted_logits=neg_corrupted_logit,\n",
    "        first_ids_pos=neg_target_ids[\"orthogonal\"]\n",
    "    )\n",
    "neg_effect = indirect_effect(\n",
    "        logits=neg_clean_logit,\n",
    "        corrupted_logits=pos_corrupted_logit,\n",
    "        first_ids_pos=pos_target_ids[\"target\"]\n",
    "    )"
   ]
  },
  {
   "cell_type": "code",
   "execution_count": 39,
   "metadata": {},
   "outputs": [
    {
     "data": {
      "application/vnd.plotly.v1+json": {
       "config": {
        "plotlyServerURL": "https://plot.ly"
       },
       "data": [
        {
         "alignmentgroup": "True",
         "bingroup": "x",
         "hovertemplate": "variable=0<br>value=%{x}<br>count=%{y}<extra></extra>",
         "legendgroup": "0",
         "marker": {
          "color": "#636efa",
          "pattern": {
           "shape": ""
          }
         },
         "name": "0",
         "nbinsx": 50,
         "offsetgroup": "0",
         "orientation": "v",
         "showlegend": true,
         "type": "histogram",
         "x": [
          -12.412789344787598,
          -15.400069236755371,
          -11.319095611572266,
          -10.204216003417969,
          -10.13849925994873,
          -13.078384399414062,
          -10.83671760559082,
          -10.15725326538086,
          -10.98423957824707,
          -8.959519386291504,
          -12.357367515563965,
          -9.118431091308594,
          -6.451659202575684,
          -1.8131227493286133,
          -4.93795108795166,
          -11.597107887268066,
          -12.996532440185547,
          -9.057160377502441,
          -9.445501327514648,
          -11.694035530090332,
          -9.431259155273438,
          -11.588866233825684,
          -7.0689215660095215,
          -9.816743850708008,
          -8.061996459960938,
          -11.336040496826172,
          -12.219123840332031,
          -3.7915496826171875,
          -9.767078399658203,
          -11.161215782165527,
          -10.868996620178223,
          -10.609672546386719,
          -11.538057327270508,
          -7.526491165161133,
          -10.649944305419922,
          -12.062005043029785,
          -12.638493537902832,
          -13.19464111328125,
          -9.514616012573242,
          -9.36565113067627,
          -8.222084045410156,
          -14.480891227722168,
          -11.860344886779785,
          -14.45492172241211,
          -11.326606750488281,
          -8.61729907989502,
          -12.110992431640625,
          -12.112715721130371,
          -13.698854446411133,
          -12.964157104492188,
          -10.855659484863281,
          -4.7634687423706055,
          -10.71949577331543,
          -9.855965614318848,
          -13.217204093933105,
          -8.972061157226562,
          -13.00289249420166,
          -10.481884956359863,
          -6.56798791885376,
          -12.945825576782227,
          -14.173521041870117,
          -9.99001407623291,
          -9.600882530212402,
          -17.41673469543457,
          -8.710704803466797,
          -12.238380432128906,
          -8.594237327575684,
          -11.866204261779785,
          -8.050460815429688,
          -13.941832542419434,
          -8.565223693847656,
          -9.931400299072266,
          -10.395256996154785,
          -17.537128448486328,
          -7.71035099029541,
          -12.05259895324707,
          -13.906684875488281,
          -9.274024963378906,
          -5.51214075088501,
          -14.24223518371582,
          -14.186838150024414,
          -11.205415725708008,
          -15.484128952026367,
          -12.012986183166504,
          -7.612978935241699,
          -11.799139022827148,
          -13.5418701171875,
          -12.910269737243652,
          -10.746353149414062,
          -9.903607368469238,
          -9.358942031860352,
          -15.200766563415527,
          -11.361348152160645,
          -8.969552993774414,
          -11.007991790771484,
          -11.72109603881836,
          -10.895170211791992,
          -11.867337226867676,
          -13.304422378540039,
          -7.26220703125
         ],
         "xaxis": "x",
         "yaxis": "y"
        },
        {
         "marker": {
          "color": "green",
          "size": 10
         },
         "mode": "markers",
         "name": "mean",
         "type": "scatter",
         "x": [
          0
         ],
         "y": [
          0
         ]
        },
        {
         "marker": {
          "color": "red",
          "size": 10
         },
         "mode": "markers",
         "name": "std",
         "type": "scatter",
         "x": [
          0
         ],
         "y": [
          0
         ]
        },
        {
         "marker": {
          "color": "purple",
          "size": 10
         },
         "mode": "markers",
         "name": "mad",
         "type": "scatter",
         "x": [
          0
         ],
         "y": [
          0
         ]
        }
       ],
       "layout": {
        "barmode": "relative",
        "legend": {
         "title": {
          "text": "variable"
         },
         "tracegroupgap": 0
        },
        "margin": {
         "t": 60
        },
        "shapes": [
         {
          "line": {
           "color": "green",
           "dash": "dash",
           "width": 3
          },
          "type": "line",
          "x0": -10.804647445678711,
          "x1": -10.804647445678711,
          "xref": "x",
          "y0": 0,
          "y1": 1,
          "yref": "y domain"
         },
         {
          "line": {
           "color": "red",
           "dash": "dash",
           "width": 3
          },
          "type": "line",
          "x0": -8.100377082824707,
          "x1": -8.100377082824707,
          "xref": "x",
          "y0": 0,
          "y1": 1,
          "yref": "y domain"
         },
         {
          "line": {
           "color": "red",
           "dash": "dash",
           "width": 3
          },
          "type": "line",
          "x0": -13.508917808532715,
          "x1": -13.508917808532715,
          "xref": "x",
          "y0": 0,
          "y1": 1,
          "yref": "y domain"
         },
         {
          "line": {
           "color": "purple",
           "dash": "dash",
           "width": 3
          },
          "type": "line",
          "x0": -9.36565113067627,
          "x1": -9.36565113067627,
          "xref": "x",
          "y0": 0,
          "y1": 1,
          "yref": "y domain"
         },
         {
          "line": {
           "color": "purple",
           "dash": "dash",
           "width": 3
          },
          "type": "line",
          "x0": -12.602828025817871,
          "x1": -12.602828025817871,
          "xref": "x",
          "y0": 0,
          "y1": 1,
          "yref": "y domain"
         }
        ],
        "template": {
         "data": {
          "bar": [
           {
            "error_x": {
             "color": "#2a3f5f"
            },
            "error_y": {
             "color": "#2a3f5f"
            },
            "marker": {
             "line": {
              "color": "#E5ECF6",
              "width": 0.5
             },
             "pattern": {
              "fillmode": "overlay",
              "size": 10,
              "solidity": 0.2
             }
            },
            "type": "bar"
           }
          ],
          "barpolar": [
           {
            "marker": {
             "line": {
              "color": "#E5ECF6",
              "width": 0.5
             },
             "pattern": {
              "fillmode": "overlay",
              "size": 10,
              "solidity": 0.2
             }
            },
            "type": "barpolar"
           }
          ],
          "carpet": [
           {
            "aaxis": {
             "endlinecolor": "#2a3f5f",
             "gridcolor": "white",
             "linecolor": "white",
             "minorgridcolor": "white",
             "startlinecolor": "#2a3f5f"
            },
            "baxis": {
             "endlinecolor": "#2a3f5f",
             "gridcolor": "white",
             "linecolor": "white",
             "minorgridcolor": "white",
             "startlinecolor": "#2a3f5f"
            },
            "type": "carpet"
           }
          ],
          "choropleth": [
           {
            "colorbar": {
             "outlinewidth": 0,
             "ticks": ""
            },
            "type": "choropleth"
           }
          ],
          "contour": [
           {
            "colorbar": {
             "outlinewidth": 0,
             "ticks": ""
            },
            "colorscale": [
             [
              0,
              "#0d0887"
             ],
             [
              0.1111111111111111,
              "#46039f"
             ],
             [
              0.2222222222222222,
              "#7201a8"
             ],
             [
              0.3333333333333333,
              "#9c179e"
             ],
             [
              0.4444444444444444,
              "#bd3786"
             ],
             [
              0.5555555555555556,
              "#d8576b"
             ],
             [
              0.6666666666666666,
              "#ed7953"
             ],
             [
              0.7777777777777778,
              "#fb9f3a"
             ],
             [
              0.8888888888888888,
              "#fdca26"
             ],
             [
              1,
              "#f0f921"
             ]
            ],
            "type": "contour"
           }
          ],
          "contourcarpet": [
           {
            "colorbar": {
             "outlinewidth": 0,
             "ticks": ""
            },
            "type": "contourcarpet"
           }
          ],
          "heatmap": [
           {
            "colorbar": {
             "outlinewidth": 0,
             "ticks": ""
            },
            "colorscale": [
             [
              0,
              "#0d0887"
             ],
             [
              0.1111111111111111,
              "#46039f"
             ],
             [
              0.2222222222222222,
              "#7201a8"
             ],
             [
              0.3333333333333333,
              "#9c179e"
             ],
             [
              0.4444444444444444,
              "#bd3786"
             ],
             [
              0.5555555555555556,
              "#d8576b"
             ],
             [
              0.6666666666666666,
              "#ed7953"
             ],
             [
              0.7777777777777778,
              "#fb9f3a"
             ],
             [
              0.8888888888888888,
              "#fdca26"
             ],
             [
              1,
              "#f0f921"
             ]
            ],
            "type": "heatmap"
           }
          ],
          "heatmapgl": [
           {
            "colorbar": {
             "outlinewidth": 0,
             "ticks": ""
            },
            "colorscale": [
             [
              0,
              "#0d0887"
             ],
             [
              0.1111111111111111,
              "#46039f"
             ],
             [
              0.2222222222222222,
              "#7201a8"
             ],
             [
              0.3333333333333333,
              "#9c179e"
             ],
             [
              0.4444444444444444,
              "#bd3786"
             ],
             [
              0.5555555555555556,
              "#d8576b"
             ],
             [
              0.6666666666666666,
              "#ed7953"
             ],
             [
              0.7777777777777778,
              "#fb9f3a"
             ],
             [
              0.8888888888888888,
              "#fdca26"
             ],
             [
              1,
              "#f0f921"
             ]
            ],
            "type": "heatmapgl"
           }
          ],
          "histogram": [
           {
            "marker": {
             "pattern": {
              "fillmode": "overlay",
              "size": 10,
              "solidity": 0.2
             }
            },
            "type": "histogram"
           }
          ],
          "histogram2d": [
           {
            "colorbar": {
             "outlinewidth": 0,
             "ticks": ""
            },
            "colorscale": [
             [
              0,
              "#0d0887"
             ],
             [
              0.1111111111111111,
              "#46039f"
             ],
             [
              0.2222222222222222,
              "#7201a8"
             ],
             [
              0.3333333333333333,
              "#9c179e"
             ],
             [
              0.4444444444444444,
              "#bd3786"
             ],
             [
              0.5555555555555556,
              "#d8576b"
             ],
             [
              0.6666666666666666,
              "#ed7953"
             ],
             [
              0.7777777777777778,
              "#fb9f3a"
             ],
             [
              0.8888888888888888,
              "#fdca26"
             ],
             [
              1,
              "#f0f921"
             ]
            ],
            "type": "histogram2d"
           }
          ],
          "histogram2dcontour": [
           {
            "colorbar": {
             "outlinewidth": 0,
             "ticks": ""
            },
            "colorscale": [
             [
              0,
              "#0d0887"
             ],
             [
              0.1111111111111111,
              "#46039f"
             ],
             [
              0.2222222222222222,
              "#7201a8"
             ],
             [
              0.3333333333333333,
              "#9c179e"
             ],
             [
              0.4444444444444444,
              "#bd3786"
             ],
             [
              0.5555555555555556,
              "#d8576b"
             ],
             [
              0.6666666666666666,
              "#ed7953"
             ],
             [
              0.7777777777777778,
              "#fb9f3a"
             ],
             [
              0.8888888888888888,
              "#fdca26"
             ],
             [
              1,
              "#f0f921"
             ]
            ],
            "type": "histogram2dcontour"
           }
          ],
          "mesh3d": [
           {
            "colorbar": {
             "outlinewidth": 0,
             "ticks": ""
            },
            "type": "mesh3d"
           }
          ],
          "parcoords": [
           {
            "line": {
             "colorbar": {
              "outlinewidth": 0,
              "ticks": ""
             }
            },
            "type": "parcoords"
           }
          ],
          "pie": [
           {
            "automargin": true,
            "type": "pie"
           }
          ],
          "scatter": [
           {
            "fillpattern": {
             "fillmode": "overlay",
             "size": 10,
             "solidity": 0.2
            },
            "type": "scatter"
           }
          ],
          "scatter3d": [
           {
            "line": {
             "colorbar": {
              "outlinewidth": 0,
              "ticks": ""
             }
            },
            "marker": {
             "colorbar": {
              "outlinewidth": 0,
              "ticks": ""
             }
            },
            "type": "scatter3d"
           }
          ],
          "scattercarpet": [
           {
            "marker": {
             "colorbar": {
              "outlinewidth": 0,
              "ticks": ""
             }
            },
            "type": "scattercarpet"
           }
          ],
          "scattergeo": [
           {
            "marker": {
             "colorbar": {
              "outlinewidth": 0,
              "ticks": ""
             }
            },
            "type": "scattergeo"
           }
          ],
          "scattergl": [
           {
            "marker": {
             "colorbar": {
              "outlinewidth": 0,
              "ticks": ""
             }
            },
            "type": "scattergl"
           }
          ],
          "scattermapbox": [
           {
            "marker": {
             "colorbar": {
              "outlinewidth": 0,
              "ticks": ""
             }
            },
            "type": "scattermapbox"
           }
          ],
          "scatterpolar": [
           {
            "marker": {
             "colorbar": {
              "outlinewidth": 0,
              "ticks": ""
             }
            },
            "type": "scatterpolar"
           }
          ],
          "scatterpolargl": [
           {
            "marker": {
             "colorbar": {
              "outlinewidth": 0,
              "ticks": ""
             }
            },
            "type": "scatterpolargl"
           }
          ],
          "scatterternary": [
           {
            "marker": {
             "colorbar": {
              "outlinewidth": 0,
              "ticks": ""
             }
            },
            "type": "scatterternary"
           }
          ],
          "surface": [
           {
            "colorbar": {
             "outlinewidth": 0,
             "ticks": ""
            },
            "colorscale": [
             [
              0,
              "#0d0887"
             ],
             [
              0.1111111111111111,
              "#46039f"
             ],
             [
              0.2222222222222222,
              "#7201a8"
             ],
             [
              0.3333333333333333,
              "#9c179e"
             ],
             [
              0.4444444444444444,
              "#bd3786"
             ],
             [
              0.5555555555555556,
              "#d8576b"
             ],
             [
              0.6666666666666666,
              "#ed7953"
             ],
             [
              0.7777777777777778,
              "#fb9f3a"
             ],
             [
              0.8888888888888888,
              "#fdca26"
             ],
             [
              1,
              "#f0f921"
             ]
            ],
            "type": "surface"
           }
          ],
          "table": [
           {
            "cells": {
             "fill": {
              "color": "#EBF0F8"
             },
             "line": {
              "color": "white"
             }
            },
            "header": {
             "fill": {
              "color": "#C8D4E3"
             },
             "line": {
              "color": "white"
             }
            },
            "type": "table"
           }
          ]
         },
         "layout": {
          "annotationdefaults": {
           "arrowcolor": "#2a3f5f",
           "arrowhead": 0,
           "arrowwidth": 1
          },
          "autotypenumbers": "strict",
          "coloraxis": {
           "colorbar": {
            "outlinewidth": 0,
            "ticks": ""
           }
          },
          "colorscale": {
           "diverging": [
            [
             0,
             "#8e0152"
            ],
            [
             0.1,
             "#c51b7d"
            ],
            [
             0.2,
             "#de77ae"
            ],
            [
             0.3,
             "#f1b6da"
            ],
            [
             0.4,
             "#fde0ef"
            ],
            [
             0.5,
             "#f7f7f7"
            ],
            [
             0.6,
             "#e6f5d0"
            ],
            [
             0.7,
             "#b8e186"
            ],
            [
             0.8,
             "#7fbc41"
            ],
            [
             0.9,
             "#4d9221"
            ],
            [
             1,
             "#276419"
            ]
           ],
           "sequential": [
            [
             0,
             "#0d0887"
            ],
            [
             0.1111111111111111,
             "#46039f"
            ],
            [
             0.2222222222222222,
             "#7201a8"
            ],
            [
             0.3333333333333333,
             "#9c179e"
            ],
            [
             0.4444444444444444,
             "#bd3786"
            ],
            [
             0.5555555555555556,
             "#d8576b"
            ],
            [
             0.6666666666666666,
             "#ed7953"
            ],
            [
             0.7777777777777778,
             "#fb9f3a"
            ],
            [
             0.8888888888888888,
             "#fdca26"
            ],
            [
             1,
             "#f0f921"
            ]
           ],
           "sequentialminus": [
            [
             0,
             "#0d0887"
            ],
            [
             0.1111111111111111,
             "#46039f"
            ],
            [
             0.2222222222222222,
             "#7201a8"
            ],
            [
             0.3333333333333333,
             "#9c179e"
            ],
            [
             0.4444444444444444,
             "#bd3786"
            ],
            [
             0.5555555555555556,
             "#d8576b"
            ],
            [
             0.6666666666666666,
             "#ed7953"
            ],
            [
             0.7777777777777778,
             "#fb9f3a"
            ],
            [
             0.8888888888888888,
             "#fdca26"
            ],
            [
             1,
             "#f0f921"
            ]
           ]
          },
          "colorway": [
           "#636efa",
           "#EF553B",
           "#00cc96",
           "#ab63fa",
           "#FFA15A",
           "#19d3f3",
           "#FF6692",
           "#B6E880",
           "#FF97FF",
           "#FECB52"
          ],
          "font": {
           "color": "#2a3f5f"
          },
          "geo": {
           "bgcolor": "white",
           "lakecolor": "white",
           "landcolor": "#E5ECF6",
           "showlakes": true,
           "showland": true,
           "subunitcolor": "white"
          },
          "hoverlabel": {
           "align": "left"
          },
          "hovermode": "closest",
          "mapbox": {
           "style": "light"
          },
          "paper_bgcolor": "white",
          "plot_bgcolor": "#E5ECF6",
          "polar": {
           "angularaxis": {
            "gridcolor": "white",
            "linecolor": "white",
            "ticks": ""
           },
           "bgcolor": "#E5ECF6",
           "radialaxis": {
            "gridcolor": "white",
            "linecolor": "white",
            "ticks": ""
           }
          },
          "scene": {
           "xaxis": {
            "backgroundcolor": "#E5ECF6",
            "gridcolor": "white",
            "gridwidth": 2,
            "linecolor": "white",
            "showbackground": true,
            "ticks": "",
            "zerolinecolor": "white"
           },
           "yaxis": {
            "backgroundcolor": "#E5ECF6",
            "gridcolor": "white",
            "gridwidth": 2,
            "linecolor": "white",
            "showbackground": true,
            "ticks": "",
            "zerolinecolor": "white"
           },
           "zaxis": {
            "backgroundcolor": "#E5ECF6",
            "gridcolor": "white",
            "gridwidth": 2,
            "linecolor": "white",
            "showbackground": true,
            "ticks": "",
            "zerolinecolor": "white"
           }
          },
          "shapedefaults": {
           "line": {
            "color": "#2a3f5f"
           }
          },
          "ternary": {
           "aaxis": {
            "gridcolor": "white",
            "linecolor": "white",
            "ticks": ""
           },
           "baxis": {
            "gridcolor": "white",
            "linecolor": "white",
            "ticks": ""
           },
           "bgcolor": "#E5ECF6",
           "caxis": {
            "gridcolor": "white",
            "linecolor": "white",
            "ticks": ""
           }
          },
          "title": {
           "x": 0.05
          },
          "xaxis": {
           "automargin": true,
           "gridcolor": "white",
           "linecolor": "white",
           "ticks": "",
           "title": {
            "standoff": 15
           },
           "zerolinecolor": "white",
           "zerolinewidth": 2
          },
          "yaxis": {
           "automargin": true,
           "gridcolor": "white",
           "linecolor": "white",
           "ticks": "",
           "title": {
            "standoff": 15
           },
           "zerolinecolor": "white",
           "zerolinewidth": 2
          }
         }
        },
        "xaxis": {
         "anchor": "y",
         "domain": [
          0,
          1
         ],
         "title": {
          "text": "value"
         }
        },
        "yaxis": {
         "anchor": "x",
         "domain": [
          0,
          1
         ],
         "title": {
          "text": "count"
         }
        }
       }
      }
     },
     "metadata": {},
     "output_type": "display_data"
    }
   ],
   "source": [
    "#plot the distribution of the effect\n",
    "fig = px.histogram(pos_effect, nbins=50)\n",
    "#plot the mean of the effect\n",
    "fig.add_vline(x=pos_effect.mean(), line_width=3, line_dash=\"dash\", line_color=\"green\")\n",
    "#plot the std of the effect\n",
    "fig.add_vline(x=pos_effect.mean() + pos_effect.std(), line_width=3, line_dash=\"dash\", line_color=\"red\")\n",
    "fig.add_vline(x=pos_effect.mean() - pos_effect.std(), line_width=3, line_dash=\"dash\", line_color=\"red\")\n",
    "# plot the mad of the effect\n",
    "mad = (pos_effect - pos_effect.median()).abs().median()\n",
    "fig.add_vline(x=pos_effect.median() + mad, line_width=3, line_dash=\"dash\", line_color=\"purple\")\n",
    "fig.add_vline(x=pos_effect.median() - mad, line_width=3, line_dash=\"dash\", line_color=\"purple\")\n",
    "# add legend\n",
    "fig.add_scatter(x=[0], y=[0], mode=\"markers\", marker=dict(size=10, color=\"green\"), name=\"mean\")\n",
    "fig.add_scatter(x=[0], y=[0], mode=\"markers\", marker=dict(size=10, color=\"red\"), name=\"std\")\n",
    "fig.add_scatter(x=[0], y=[0], mode=\"markers\", marker=dict(size=10, color=\"purple\"), name=\"mad\")\n",
    "fig.show()"
   ]
  },
  {
   "cell_type": "code",
   "execution_count": 17,
   "metadata": {},
   "outputs": [
    {
     "data": {
      "application/vnd.plotly.v1+json": {
       "config": {
        "plotlyServerURL": "https://plot.ly"
       },
       "data": [
        {
         "alignmentgroup": "True",
         "bingroup": "x",
         "hovertemplate": "variable=0<br>value=%{x}<br>count=%{y}<extra></extra>",
         "legendgroup": "0",
         "marker": {
          "color": "#636efa",
          "pattern": {
           "shape": ""
          }
         },
         "name": "0",
         "nbinsx": 50,
         "offsetgroup": "0",
         "orientation": "v",
         "showlegend": true,
         "type": "histogram",
         "x": [
          -5.9830546379089355,
          -9.703516960144043,
          -6.898340225219727,
          -6.244140625,
          -6.574117183685303,
          -4.527805328369141,
          -9.306350708007812,
          -3.2891290187835693,
          -6.184326171875,
          -7.650254249572754,
          -9.77914047241211,
          -5.691572189331055,
          -6.879051208496094,
          -6.073821067810059,
          -7.079158782958984,
          -7.522089958190918,
          -10.591054916381836,
          -12.013687133789062,
          -6.85194206237793,
          -8.88542366027832,
          -7.5767927169799805,
          -7.464150428771973,
          -3.2543203830718994,
          -10.14628791809082,
          -6.818212985992432,
          -5.653310298919678,
          -8.547869682312012,
          -5.064866065979004,
          -8.028350830078125,
          -7.3684282302856445,
          -8.910216331481934,
          -8.351305961608887,
          -7.822956085205078,
          -9.185590744018555,
          -6.6287713050842285,
          -11.102453231811523,
          -9.151905059814453,
          -8.284422874450684,
          -7.4113264083862305,
          -6.7245588302612305,
          -8.179574966430664,
          -6.637411117553711,
          -9.324822425842285,
          -10.29526138305664,
          -11.283601760864258,
          -7.697223663330078,
          -12.197992324829102,
          -8.980183601379395,
          -12.34915542602539,
          -3.902958631515503,
          -5.782759666442871,
          -4.015235424041748,
          -6.183199882507324,
          -7.571035385131836,
          -7.511795997619629,
          -11.497653007507324,
          -9.098650932312012,
          -6.147195339202881,
          -11.077428817749023,
          -9.873224258422852,
          -10.138547897338867,
          -2.5155599117279053,
          -9.395368576049805,
          -8.355968475341797,
          -8.695995330810547,
          -8.952702522277832,
          -11.676169395446777,
          -9.109457015991211,
          -5.262677192687988,
          -7.828313827514648,
          -7.906032562255859,
          -13.377298355102539,
          -9.017387390136719,
          -8.766295433044434,
          -5.2627105712890625,
          -6.200174808502197,
          -6.459873199462891,
          -8.89743709564209,
          -5.9761152267456055,
          -5.413816452026367,
          -7.995151519775391,
          -7.351763725280762,
          -7.390255928039551,
          -7.313595771789551,
          -10.643462181091309,
          -7.477694511413574,
          -7.8744707107543945,
          -7.338878631591797,
          -10.357358932495117,
          -8.914347648620605,
          -5.801575183868408,
          -9.964048385620117,
          -11.012091636657715,
          -6.429058074951172,
          -7.042766571044922,
          -10.749990463256836,
          -9.115941047668457,
          -9.459755897521973,
          -9.036619186401367,
          -7.997015953063965
         ],
         "xaxis": "x",
         "yaxis": "y"
        }
       ],
       "layout": {
        "barmode": "relative",
        "legend": {
         "title": {
          "text": "variable"
         },
         "tracegroupgap": 0
        },
        "margin": {
         "t": 60
        },
        "shapes": [
         {
          "line": {
           "color": "green",
           "dash": "dash",
           "width": 3
          },
          "type": "line",
          "x0": -7.9930419921875,
          "x1": -7.9930419921875,
          "xref": "x",
          "y0": 0,
          "y1": 1,
          "yref": "y domain"
         },
         {
          "line": {
           "color": "red",
           "dash": "dash",
           "width": 3
          },
          "type": "line",
          "x0": -5.870965003967285,
          "x1": -5.870965003967285,
          "xref": "x",
          "y0": 0,
          "y1": 1,
          "yref": "y domain"
         },
         {
          "line": {
           "color": "red",
           "dash": "dash",
           "width": 3
          },
          "type": "line",
          "x0": -10.115118980407715,
          "x1": -10.115118980407715,
          "xref": "x",
          "y0": 0,
          "y1": 1,
          "yref": "y domain"
         },
         {
          "line": {
           "color": "purple",
           "dash": "dash",
           "width": 3
          },
          "type": "line",
          "x0": -6.574117183685303,
          "x1": -6.574117183685303,
          "xref": "x",
          "y0": 0,
          "y1": 1,
          "yref": "y domain"
         },
         {
          "line": {
           "color": "purple",
           "dash": "dash",
           "width": 3
          },
          "type": "line",
          "x0": -9.174823760986328,
          "x1": -9.174823760986328,
          "xref": "x",
          "y0": 0,
          "y1": 1,
          "yref": "y domain"
         }
        ],
        "template": {
         "data": {
          "bar": [
           {
            "error_x": {
             "color": "#2a3f5f"
            },
            "error_y": {
             "color": "#2a3f5f"
            },
            "marker": {
             "line": {
              "color": "#E5ECF6",
              "width": 0.5
             },
             "pattern": {
              "fillmode": "overlay",
              "size": 10,
              "solidity": 0.2
             }
            },
            "type": "bar"
           }
          ],
          "barpolar": [
           {
            "marker": {
             "line": {
              "color": "#E5ECF6",
              "width": 0.5
             },
             "pattern": {
              "fillmode": "overlay",
              "size": 10,
              "solidity": 0.2
             }
            },
            "type": "barpolar"
           }
          ],
          "carpet": [
           {
            "aaxis": {
             "endlinecolor": "#2a3f5f",
             "gridcolor": "white",
             "linecolor": "white",
             "minorgridcolor": "white",
             "startlinecolor": "#2a3f5f"
            },
            "baxis": {
             "endlinecolor": "#2a3f5f",
             "gridcolor": "white",
             "linecolor": "white",
             "minorgridcolor": "white",
             "startlinecolor": "#2a3f5f"
            },
            "type": "carpet"
           }
          ],
          "choropleth": [
           {
            "colorbar": {
             "outlinewidth": 0,
             "ticks": ""
            },
            "type": "choropleth"
           }
          ],
          "contour": [
           {
            "colorbar": {
             "outlinewidth": 0,
             "ticks": ""
            },
            "colorscale": [
             [
              0,
              "#0d0887"
             ],
             [
              0.1111111111111111,
              "#46039f"
             ],
             [
              0.2222222222222222,
              "#7201a8"
             ],
             [
              0.3333333333333333,
              "#9c179e"
             ],
             [
              0.4444444444444444,
              "#bd3786"
             ],
             [
              0.5555555555555556,
              "#d8576b"
             ],
             [
              0.6666666666666666,
              "#ed7953"
             ],
             [
              0.7777777777777778,
              "#fb9f3a"
             ],
             [
              0.8888888888888888,
              "#fdca26"
             ],
             [
              1,
              "#f0f921"
             ]
            ],
            "type": "contour"
           }
          ],
          "contourcarpet": [
           {
            "colorbar": {
             "outlinewidth": 0,
             "ticks": ""
            },
            "type": "contourcarpet"
           }
          ],
          "heatmap": [
           {
            "colorbar": {
             "outlinewidth": 0,
             "ticks": ""
            },
            "colorscale": [
             [
              0,
              "#0d0887"
             ],
             [
              0.1111111111111111,
              "#46039f"
             ],
             [
              0.2222222222222222,
              "#7201a8"
             ],
             [
              0.3333333333333333,
              "#9c179e"
             ],
             [
              0.4444444444444444,
              "#bd3786"
             ],
             [
              0.5555555555555556,
              "#d8576b"
             ],
             [
              0.6666666666666666,
              "#ed7953"
             ],
             [
              0.7777777777777778,
              "#fb9f3a"
             ],
             [
              0.8888888888888888,
              "#fdca26"
             ],
             [
              1,
              "#f0f921"
             ]
            ],
            "type": "heatmap"
           }
          ],
          "heatmapgl": [
           {
            "colorbar": {
             "outlinewidth": 0,
             "ticks": ""
            },
            "colorscale": [
             [
              0,
              "#0d0887"
             ],
             [
              0.1111111111111111,
              "#46039f"
             ],
             [
              0.2222222222222222,
              "#7201a8"
             ],
             [
              0.3333333333333333,
              "#9c179e"
             ],
             [
              0.4444444444444444,
              "#bd3786"
             ],
             [
              0.5555555555555556,
              "#d8576b"
             ],
             [
              0.6666666666666666,
              "#ed7953"
             ],
             [
              0.7777777777777778,
              "#fb9f3a"
             ],
             [
              0.8888888888888888,
              "#fdca26"
             ],
             [
              1,
              "#f0f921"
             ]
            ],
            "type": "heatmapgl"
           }
          ],
          "histogram": [
           {
            "marker": {
             "pattern": {
              "fillmode": "overlay",
              "size": 10,
              "solidity": 0.2
             }
            },
            "type": "histogram"
           }
          ],
          "histogram2d": [
           {
            "colorbar": {
             "outlinewidth": 0,
             "ticks": ""
            },
            "colorscale": [
             [
              0,
              "#0d0887"
             ],
             [
              0.1111111111111111,
              "#46039f"
             ],
             [
              0.2222222222222222,
              "#7201a8"
             ],
             [
              0.3333333333333333,
              "#9c179e"
             ],
             [
              0.4444444444444444,
              "#bd3786"
             ],
             [
              0.5555555555555556,
              "#d8576b"
             ],
             [
              0.6666666666666666,
              "#ed7953"
             ],
             [
              0.7777777777777778,
              "#fb9f3a"
             ],
             [
              0.8888888888888888,
              "#fdca26"
             ],
             [
              1,
              "#f0f921"
             ]
            ],
            "type": "histogram2d"
           }
          ],
          "histogram2dcontour": [
           {
            "colorbar": {
             "outlinewidth": 0,
             "ticks": ""
            },
            "colorscale": [
             [
              0,
              "#0d0887"
             ],
             [
              0.1111111111111111,
              "#46039f"
             ],
             [
              0.2222222222222222,
              "#7201a8"
             ],
             [
              0.3333333333333333,
              "#9c179e"
             ],
             [
              0.4444444444444444,
              "#bd3786"
             ],
             [
              0.5555555555555556,
              "#d8576b"
             ],
             [
              0.6666666666666666,
              "#ed7953"
             ],
             [
              0.7777777777777778,
              "#fb9f3a"
             ],
             [
              0.8888888888888888,
              "#fdca26"
             ],
             [
              1,
              "#f0f921"
             ]
            ],
            "type": "histogram2dcontour"
           }
          ],
          "mesh3d": [
           {
            "colorbar": {
             "outlinewidth": 0,
             "ticks": ""
            },
            "type": "mesh3d"
           }
          ],
          "parcoords": [
           {
            "line": {
             "colorbar": {
              "outlinewidth": 0,
              "ticks": ""
             }
            },
            "type": "parcoords"
           }
          ],
          "pie": [
           {
            "automargin": true,
            "type": "pie"
           }
          ],
          "scatter": [
           {
            "fillpattern": {
             "fillmode": "overlay",
             "size": 10,
             "solidity": 0.2
            },
            "type": "scatter"
           }
          ],
          "scatter3d": [
           {
            "line": {
             "colorbar": {
              "outlinewidth": 0,
              "ticks": ""
             }
            },
            "marker": {
             "colorbar": {
              "outlinewidth": 0,
              "ticks": ""
             }
            },
            "type": "scatter3d"
           }
          ],
          "scattercarpet": [
           {
            "marker": {
             "colorbar": {
              "outlinewidth": 0,
              "ticks": ""
             }
            },
            "type": "scattercarpet"
           }
          ],
          "scattergeo": [
           {
            "marker": {
             "colorbar": {
              "outlinewidth": 0,
              "ticks": ""
             }
            },
            "type": "scattergeo"
           }
          ],
          "scattergl": [
           {
            "marker": {
             "colorbar": {
              "outlinewidth": 0,
              "ticks": ""
             }
            },
            "type": "scattergl"
           }
          ],
          "scattermapbox": [
           {
            "marker": {
             "colorbar": {
              "outlinewidth": 0,
              "ticks": ""
             }
            },
            "type": "scattermapbox"
           }
          ],
          "scatterpolar": [
           {
            "marker": {
             "colorbar": {
              "outlinewidth": 0,
              "ticks": ""
             }
            },
            "type": "scatterpolar"
           }
          ],
          "scatterpolargl": [
           {
            "marker": {
             "colorbar": {
              "outlinewidth": 0,
              "ticks": ""
             }
            },
            "type": "scatterpolargl"
           }
          ],
          "scatterternary": [
           {
            "marker": {
             "colorbar": {
              "outlinewidth": 0,
              "ticks": ""
             }
            },
            "type": "scatterternary"
           }
          ],
          "surface": [
           {
            "colorbar": {
             "outlinewidth": 0,
             "ticks": ""
            },
            "colorscale": [
             [
              0,
              "#0d0887"
             ],
             [
              0.1111111111111111,
              "#46039f"
             ],
             [
              0.2222222222222222,
              "#7201a8"
             ],
             [
              0.3333333333333333,
              "#9c179e"
             ],
             [
              0.4444444444444444,
              "#bd3786"
             ],
             [
              0.5555555555555556,
              "#d8576b"
             ],
             [
              0.6666666666666666,
              "#ed7953"
             ],
             [
              0.7777777777777778,
              "#fb9f3a"
             ],
             [
              0.8888888888888888,
              "#fdca26"
             ],
             [
              1,
              "#f0f921"
             ]
            ],
            "type": "surface"
           }
          ],
          "table": [
           {
            "cells": {
             "fill": {
              "color": "#EBF0F8"
             },
             "line": {
              "color": "white"
             }
            },
            "header": {
             "fill": {
              "color": "#C8D4E3"
             },
             "line": {
              "color": "white"
             }
            },
            "type": "table"
           }
          ]
         },
         "layout": {
          "annotationdefaults": {
           "arrowcolor": "#2a3f5f",
           "arrowhead": 0,
           "arrowwidth": 1
          },
          "autotypenumbers": "strict",
          "coloraxis": {
           "colorbar": {
            "outlinewidth": 0,
            "ticks": ""
           }
          },
          "colorscale": {
           "diverging": [
            [
             0,
             "#8e0152"
            ],
            [
             0.1,
             "#c51b7d"
            ],
            [
             0.2,
             "#de77ae"
            ],
            [
             0.3,
             "#f1b6da"
            ],
            [
             0.4,
             "#fde0ef"
            ],
            [
             0.5,
             "#f7f7f7"
            ],
            [
             0.6,
             "#e6f5d0"
            ],
            [
             0.7,
             "#b8e186"
            ],
            [
             0.8,
             "#7fbc41"
            ],
            [
             0.9,
             "#4d9221"
            ],
            [
             1,
             "#276419"
            ]
           ],
           "sequential": [
            [
             0,
             "#0d0887"
            ],
            [
             0.1111111111111111,
             "#46039f"
            ],
            [
             0.2222222222222222,
             "#7201a8"
            ],
            [
             0.3333333333333333,
             "#9c179e"
            ],
            [
             0.4444444444444444,
             "#bd3786"
            ],
            [
             0.5555555555555556,
             "#d8576b"
            ],
            [
             0.6666666666666666,
             "#ed7953"
            ],
            [
             0.7777777777777778,
             "#fb9f3a"
            ],
            [
             0.8888888888888888,
             "#fdca26"
            ],
            [
             1,
             "#f0f921"
            ]
           ],
           "sequentialminus": [
            [
             0,
             "#0d0887"
            ],
            [
             0.1111111111111111,
             "#46039f"
            ],
            [
             0.2222222222222222,
             "#7201a8"
            ],
            [
             0.3333333333333333,
             "#9c179e"
            ],
            [
             0.4444444444444444,
             "#bd3786"
            ],
            [
             0.5555555555555556,
             "#d8576b"
            ],
            [
             0.6666666666666666,
             "#ed7953"
            ],
            [
             0.7777777777777778,
             "#fb9f3a"
            ],
            [
             0.8888888888888888,
             "#fdca26"
            ],
            [
             1,
             "#f0f921"
            ]
           ]
          },
          "colorway": [
           "#636efa",
           "#EF553B",
           "#00cc96",
           "#ab63fa",
           "#FFA15A",
           "#19d3f3",
           "#FF6692",
           "#B6E880",
           "#FF97FF",
           "#FECB52"
          ],
          "font": {
           "color": "#2a3f5f"
          },
          "geo": {
           "bgcolor": "white",
           "lakecolor": "white",
           "landcolor": "#E5ECF6",
           "showlakes": true,
           "showland": true,
           "subunitcolor": "white"
          },
          "hoverlabel": {
           "align": "left"
          },
          "hovermode": "closest",
          "mapbox": {
           "style": "light"
          },
          "paper_bgcolor": "white",
          "plot_bgcolor": "#E5ECF6",
          "polar": {
           "angularaxis": {
            "gridcolor": "white",
            "linecolor": "white",
            "ticks": ""
           },
           "bgcolor": "#E5ECF6",
           "radialaxis": {
            "gridcolor": "white",
            "linecolor": "white",
            "ticks": ""
           }
          },
          "scene": {
           "xaxis": {
            "backgroundcolor": "#E5ECF6",
            "gridcolor": "white",
            "gridwidth": 2,
            "linecolor": "white",
            "showbackground": true,
            "ticks": "",
            "zerolinecolor": "white"
           },
           "yaxis": {
            "backgroundcolor": "#E5ECF6",
            "gridcolor": "white",
            "gridwidth": 2,
            "linecolor": "white",
            "showbackground": true,
            "ticks": "",
            "zerolinecolor": "white"
           },
           "zaxis": {
            "backgroundcolor": "#E5ECF6",
            "gridcolor": "white",
            "gridwidth": 2,
            "linecolor": "white",
            "showbackground": true,
            "ticks": "",
            "zerolinecolor": "white"
           }
          },
          "shapedefaults": {
           "line": {
            "color": "#2a3f5f"
           }
          },
          "ternary": {
           "aaxis": {
            "gridcolor": "white",
            "linecolor": "white",
            "ticks": ""
           },
           "baxis": {
            "gridcolor": "white",
            "linecolor": "white",
            "ticks": ""
           },
           "bgcolor": "#E5ECF6",
           "caxis": {
            "gridcolor": "white",
            "linecolor": "white",
            "ticks": ""
           }
          },
          "title": {
           "x": 0.05
          },
          "xaxis": {
           "automargin": true,
           "gridcolor": "white",
           "linecolor": "white",
           "ticks": "",
           "title": {
            "standoff": 15
           },
           "zerolinecolor": "white",
           "zerolinewidth": 2
          },
          "yaxis": {
           "automargin": true,
           "gridcolor": "white",
           "linecolor": "white",
           "ticks": "",
           "title": {
            "standoff": 15
           },
           "zerolinecolor": "white",
           "zerolinewidth": 2
          }
         }
        },
        "xaxis": {
         "anchor": "y",
         "domain": [
          0,
          1
         ],
         "title": {
          "text": "value"
         }
        },
        "yaxis": {
         "anchor": "x",
         "domain": [
          0,
          1
         ],
         "title": {
          "text": "count"
         }
        }
       }
      }
     },
     "metadata": {},
     "output_type": "display_data"
    }
   ],
   "source": [
    "#plot the distribution of the effect\n",
    "fig = px.histogram(neg_effect, nbins=50)\n",
    "#plot the mean of the effect\n",
    "fig.add_vline(x=neg_effect.mean(), line_width=3, line_dash=\"dash\", line_color=\"green\")\n",
    "#plot the std of the effect\n",
    "fig.add_vline(x=neg_effect.mean() + neg_effect.std(), line_width=3, line_dash=\"dash\", line_color=\"red\")\n",
    "fig.add_vline(x=neg_effect.mean() - neg_effect.std(), line_width=3, line_dash=\"dash\", line_color=\"red\")\n",
    "# plot the mad of the effect\n",
    "mad = (neg_effect - neg_effect.median()).abs().median()\n",
    "fig.add_vline(x=neg_effect.median() + mad, line_width=3, line_dash=\"dash\", line_color=\"purple\")\n",
    "fig.add_vline(x=neg_effect.median() - mad, line_width=3, line_dash=\"dash\", line_color=\"purple\")\n",
    "fig.show()"
   ]
  },
  {
   "cell_type": "code",
   "execution_count": 23,
   "metadata": {},
   "outputs": [
    {
     "data": {
      "text/plain": [
       "torch.Size([100, 16, 768])"
      ]
     },
     "execution_count": 23,
     "metadata": {},
     "output_type": "execute_result"
    }
   ],
   "source": [
    "pos_corrupted_cache[\"blocks.4.hook_resid_post\"].shape"
   ]
  },
  {
   "cell_type": "code",
   "execution_count": 30,
   "metadata": {},
   "outputs": [
    {
     "data": {
      "text/plain": [
       "'blocks.4.hook_resid_pre'"
      ]
     },
     "execution_count": 30,
     "metadata": {},
     "output_type": "execute_result"
    }
   ],
   "source": [
    "import transformer_lens.utils as utils\n",
    "utils.get_act_name(\"resid_pre\", 4)"
   ]
  },
  {
   "cell_type": "code",
   "execution_count": 36,
   "metadata": {},
   "outputs": [],
   "source": [
    "def residual_hooks(activation, hook, corrupted_cache, position):\n",
    "\n",
    "    activation[:,position,:] = corrupted_cache[:, position, :]\n",
    "    return activation\n",
    "def embed_hook(cache, hook, corrupted_embeddings):\n",
    "                cache[:,:,:] = corrupted_embeddings\n",
    "                return cache\n",
    "embeds_hook = partial(embed_hook, corrupted_embeddings=pos_embs_corrupted)\n",
    "\n",
    "\n",
    "hooks_fn = partial(residual_hooks, corrupted_cache = pos_corrupted_cache[\"blocks.4.hook_resid_post\"], position = 15)\n",
    "\n",
    "logit = model.run_with_hooks(pos_input_ids,\n",
    "    fwd_hooks=[(\"hook_embed\", embeds_hook), (utils.get_act_name(\"resid_pre\", 4),hooks_fn)]\n",
    ")"
   ]
  },
  {
   "cell_type": "code",
   "execution_count": null,
   "metadata": {},
   "outputs": [],
   "source": []
  }
 ],
 "metadata": {
  "kernelspec": {
   "display_name": "mpi",
   "language": "python",
   "name": "python3"
  },
  "language_info": {
   "codemirror_mode": {
    "name": "ipython",
    "version": 3
   },
   "file_extension": ".py",
   "mimetype": "text/x-python",
   "name": "python",
   "nbconvert_exporter": "python",
   "pygments_lexer": "ipython3",
   "version": "3.11.4"
  }
 },
 "nbformat": 4,
 "nbformat_minor": 2
}
