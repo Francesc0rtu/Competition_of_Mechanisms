{
 "cells": [
  {
   "cell_type": "code",
   "execution_count": 1,
   "metadata": {},
   "outputs": [],
   "source": [
    "import sys\n",
    "sys.path.append('..')\n",
    "sys.path.append('../src')\n",
    "sys.path.append('../data')"
   ]
  },
  {
   "cell_type": "code",
   "execution_count": 2,
   "metadata": {},
   "outputs": [
    {
     "name": "stderr",
     "output_type": "stream",
     "text": [
      "/home/fortu/miniconda3/envs/mpi/lib/python3.11/site-packages/tqdm/auto.py:21: TqdmWarning: IProgress not found. Please update jupyter and ipywidgets. See https://ipywidgets.readthedocs.io/en/stable/user_install.html\n",
      "  from .autonotebook import tqdm as notebook_tqdm\n"
     ]
    }
   ],
   "source": [
    "import torch\n",
    "from transformer_lens import HookedTransformer\n",
    "import json\n",
    "from src.model import WrapHookedTransformer\n",
    "import src.nanda_plot\n",
    "from src.nanda_plot import imshow_reversed, imshow\n",
    "\n",
    "import transformer_lens.utils as utils\n",
    "from transformer_lens.utils import get_act_name\n",
    "from functools import partial\n",
    "from transformer_lens import patching\n",
    "import plotly.express as px\n",
    "\n",
    "\n",
    "%load_ext autoreload\n",
    "%autoreload 2"
   ]
  },
  {
   "cell_type": "markdown",
   "metadata": {},
   "source": [
    "## Generate dataset"
   ]
  },
  {
   "cell_type": "code",
   "execution_count": 3,
   "metadata": {},
   "outputs": [
    {
     "name": "stderr",
     "output_type": "stream",
     "text": [
      "Using pad_token, but it is not set yet.\n"
     ]
    },
    {
     "name": "stdout",
     "output_type": "stream",
     "text": [
      "Loaded pretrained model gpt2 into HookedTransformer\n"
     ]
    }
   ],
   "source": [
    "\n",
    "class Dataset:\n",
    "    def __init__(self, target_dataset, orthogonal_dataset, model:WrapHookedTransformer):\n",
    "        self.target_dataset = target_dataset\n",
    "        self.orthogonal_dataset = orthogonal_dataset\n",
    "        self.target_dataset_per_length, self.orthogonal_dataset_per_length = self.split_for_lenght()\n",
    "\n",
    "    def random_sample(self, n):\n",
    "        possible_lengths = []\n",
    "        for length in self.target_dataset_per_length.keys():\n",
    "            if len(self.target_dataset_per_length[length]) >= n and len(self.orthogonal_dataset_per_length[length]) > 0:\n",
    "                possible_lengths.append(length)\n",
    "                \n",
    "        length = random.choice(possible_lengths)\n",
    "        self.dataset_per_length = {length: random.sample(self.target_dataset_per_length[length], n) + random.sample(self.orthogonal_dataset_per_length[length], n)}\n",
    "\n",
    "    def split_for_lenght(self):\n",
    "        target_dataset_per_length = {}\n",
    "        for d in self.target_dataset:\n",
    "            length = d[\"length\"]\n",
    "            if length not in target_dataset_per_length:\n",
    "                target_dataset_per_length[length] = []\n",
    "            target_dataset_per_length[length].append(d)\n",
    "            \n",
    "        orthogonal_dataset_per_length = {}\n",
    "        for d in self.orthogonal_dataset:\n",
    "            length = d[\"length\"]\n",
    "            if length not in orthogonal_dataset_per_length:\n",
    "                orthogonal_dataset_per_length[length] = []\n",
    "            orthogonal_dataset_per_length[length].append(d)\n",
    "        return target_dataset_per_length, orthogonal_dataset_per_length\n",
    "    \n",
    "    def logits(self, model:WrapHookedTransformer):\n",
    "        logits_per_length = {}\n",
    "        for length, dataset in self.dataset_per_length.items():\n",
    "            input_ids = model.to_tokens([d[\"premise\"] for d in dataset])\n",
    "            logits_per_length[length] = model(input_ids)\n",
    "        return logits_per_length\n",
    "  \n",
    "    def get_tensor_token(self,model):\n",
    "        tensor_token_per_length = {}\n",
    "        for length, dataset in self.dataset_per_length.items():\n",
    "            if length not in tensor_token_per_length:\n",
    "                tensor_token_per_length[length] = {}\n",
    "            tensor_token_per_length[length][\"target\"] = model.to_tokens([d[\"target\"] for d in dataset], prepend_bos=False)\n",
    "            tensor_token_per_length[length][\"orthogonal_token\"] = model.to_tokens([d[\"orthogonal_token\"] for d in dataset], prepend_bos=False)\n",
    "        \n",
    "        for length, tensor in tensor_token_per_length.items():\n",
    "            tensor_token_per_length[length][\"target\"] = tensor_token_per_length[length][\"target\"].squeeze(1)\n",
    "            tensor_token_per_length[length][\"orthogonal_token\"] = tensor_token_per_length[length][\"orthogonal_token\"].squeeze(1)\n",
    "        return tensor_token_per_length\n",
    "    \n",
    "MODEL_NAME = \"gpt2small\"\n",
    "    \n",
    "model = WrapHookedTransformer.from_pretrained(\"gpt2\", device=\"cpu\")\n",
    "import random\n",
    "target_data = json.load(open(\"../data/target_win_dataset_{}.json\".format(MODEL_NAME)))\n",
    "#suffhle \n",
    "orthogonal_data = json.load(open(\"../data/orthogonal_win_dataset_{}.json\".format(MODEL_NAME)))\n",
    "orthogonal_data = random.sample(orthogonal_data, len(target_data))\n",
    "dataset = Dataset(target_data,orthogonal_data, model)\n",
    "    "
   ]
  },
  {
   "cell_type": "code",
   "execution_count": 11,
   "metadata": {},
   "outputs": [
    {
     "data": {
      "text/plain": [
       "{14.0: tensor([  1.6992,   2.5517,   2.8656,   3.9811,   3.9914,   1.1745,   5.7033,\n",
       "           0.0552,   0.9692,   8.9047,  -6.7607,  -4.9450, -19.7999, -13.7948,\n",
       "         -14.2011, -11.2658, -14.8811, -14.1361,  -7.0904, -12.8447])}"
      ]
     },
     "execution_count": 11,
     "metadata": {},
     "output_type": "execute_result"
    }
   ],
   "source": [
    "dataset.random_sample(10)\n",
    "logits_per_length = dataset.logits(model)\n",
    "tokens_dict_per_length = dataset.get_tensor_token(model)\n",
    "\n",
    "delta_per_length = {}\n",
    "for max_len in list(tokens_dict_per_length.keys()):\n",
    "    if max_len not in delta_per_length:\n",
    "        delta_per_length[max_len] = {}\n",
    "    # probs = torch.softmax(logits_per_length[max_len], dim=-1)\n",
    "    probs = logits_per_length[max_len]\n",
    "    batch_index = torch.arange(probs.shape[0])\n",
    "    delta_per_length[max_len] = probs[batch_index,-1, tokens_dict_per_length[max_len][\"target\"]] - probs[batch_index,-1, tokens_dict_per_length[max_len][\"orthogonal_token\"]]\n",
    "delta_per_length"
   ]
  },
  {
   "cell_type": "code",
   "execution_count": 28,
   "metadata": {},
   "outputs": [
    {
     "name": "stdout",
     "output_type": "stream",
     "text": [
      "['<|endoftext|>', 'Su', 'z', 'uki', ' Splash', ',', ' developed', ' by', ' discovered', ' Suzuki', ' Splash', ',', ' developed', ' by']\n",
      "['<|endoftext|>', 'Mos', ' Def', ' follows', ' the', ' religion', ' of', 'do', ' Mos', ' Def', ' follows', ' the', ' religion', ' of']\n",
      "['<|endoftext|>', 'Windows', ' 2000', ' was', ' a', ' product', ' of', 'pace', ' Windows', ' 2000', ' was', ' a', ' product', ' of']\n",
      "['<|endoftext|>', 'Virtual', ' Boy', ' is', ' a', ' product', ' of', ' pine', ' Virtual', ' Boy', ' is', ' a', ' product', ' of']\n",
      "['<|endoftext|>', 'Apple', ' Thunderbolt', ' Display', ' was', ' created', ' by', 'omb', ' Apple', ' Thunderbolt', ' Display', ' was', ' created', ' by']\n",
      "['<|endoftext|>', 'CBS', ' News', ' is', ' to', ' debut', ' on', ' Toad', ' CBS', ' News', ' is', ' to', ' debut', ' on']\n",
      "['<|endoftext|>', 'Apple', ' Wireless', ' Mouse', ' was', ' developed', ' by', 'entin', ' Apple', ' Wireless', ' Mouse', ' was', ' developed', ' by']\n",
      "['<|endoftext|>', 'Apple', ' Wireless', ' Mouse', ',', ' developed', ' by', ' debut', ' Apple', ' Wireless', ' Mouse', ',', ' developed', ' by']\n",
      "['<|endoftext|>', 'Microsoft', ' Office', ' 2010', ' was', ' developed', ' by', ' vend', ' Microsoft', ' Office', ' 2010', ' was', ' developed', ' by']\n",
      "['<|endoftext|>', 'Intel', ' 808', '6', ' is', ' produced', ' by', 'usp', ' Intel', ' 808', '6', ' is', ' produced', ' by']\n",
      "['<|endoftext|>', 'isp', 'c', ' is', ' a', ' product', ' of', 'angible', ' is', 'pc', ' is', ' a', ' product', ' of']\n",
      "['<|endoftext|>', 'Danny', ' Lange', ',', ' who', ' works', ' for', ' Construct', ' Danny', ' Lange', ',', ' who', ' works', ' for']\n",
      "['<|endoftext|>', 'Lev', ' Land', 'au', ',', ' a', ' native', 'bender', ' Lev', ' Land', 'au', ',', ' a', ' native']\n",
      "['<|endoftext|>', 'Paul', ' V', ' holds', ' the', ' title', ' of', ' trap', ' Paul', ' V', ' holds', ' the', ' title', ' of']\n",
      "['<|endoftext|>', 'The', ' Reverend', ' Horton', ' Heat', ' formed', ' in', ' variables', ' The', ' Reverend', ' Horton', ' Heat', ' formed', ' in']\n",
      "['<|endoftext|>', 'Israel', ' belongs', ' to', ' the', ' continent', ' of', 'agle', ' Israel', ' belongs', ' to', ' the', ' continent', ' of']\n",
      "['<|endoftext|>', 'Mis', 'r', 'ata', ' District', ',', ' in', ' palms', ' Mis', 'r', 'ata', ' District', ',', ' in']\n",
      "['<|endoftext|>', 'The', ' profession', ' of', ' Paul', ' McCartney', ' is', ' appl', ' The', ' profession', ' of', ' Paul', ' McCartney', ' is']\n",
      "['<|endoftext|>', 'Cr', 'n', 'ka', ' is', ' located', ' in', ' Attempt', ' Cr', 'n', 'ka', ' is', ' located', ' in']\n",
      "['<|endoftext|>', 'Cast', 'ric', 'um', ',', ' located', ' in', ' Termin', ' Cast', 'ric', 'um', ',', ' located', ' in']\n"
     ]
    }
   ],
   "source": [
    "for item in dataset.dataset_per_length[14]:\n",
    "    print(model.to_str_tokens(item[\"premise\"]))"
   ]
  },
  {
   "cell_type": "markdown",
   "metadata": {},
   "source": [
    "# Study just a single length"
   ]
  },
  {
   "cell_type": "code",
   "execution_count": 13,
   "metadata": {},
   "outputs": [],
   "source": [
    "max_len = 14\n",
    "def embs_to_tokens_ids(noisy_embs, model:WrapHookedTransformer):\n",
    "\n",
    "    input_embedding_norm = torch.functional.F.normalize(noisy_embs, p=2, dim=2)\n",
    "    embedding_matrix_norm = torch.functional.F.normalize(model.W_E, p=2, dim=1)\n",
    "    similarity = torch.matmul(input_embedding_norm, embedding_matrix_norm.T)\n",
    "    corrupted_tokens = torch.argmax(similarity, dim=2)\n",
    "    return corrupted_tokens"
   ]
  },
  {
   "cell_type": "code",
   "execution_count": 130,
   "metadata": {},
   "outputs": [],
   "source": [
    "from src.patching import get_act_patch_block_every, get_act_patch_resid_pre, get_act_patch_attn_head_out_all_pos\n",
    "\n",
    "\n",
    "def patch_resid_pre(model, input_ids, input_ids_corrupted, clean_cache, metric):\n",
    "    resid_pre_act_patch_results = get_act_patch_resid_pre(\n",
    "        model, input_ids_corrupted, clean_cache, metric\n",
    "    )\n",
    "    return resid_pre_act_patch_results\n",
    "\n",
    "\n",
    "def patch_attn_head_out_all_pos(\n",
    "    model, input_ids, input_ids_corrupted, clean_cache, metric, input_embeddings\n",
    "):\n",
    "    attn_head_out_all_pos_act_patch_results = (\n",
    "        get_act_patch_attn_head_out_all_pos(\n",
    "            model, input_ids_corrupted, clean_cache, metric, corrupted_embeddings=input_embeddings\n",
    "        )\n",
    "    )\n",
    "    return attn_head_out_all_pos_act_patch_results\n",
    "\n",
    "\n",
    "def patch_attn_head_by_pos(model, input_ids, input_ids_corrupted, clean_cache, metric):\n",
    "    ALL_HEAD_LABELS = [\n",
    "        f\"L{i}H{j}\" for i in range(model.cfg.n_layers) for j in range(model.cfg.n_heads)\n",
    "    ]\n",
    "    import einops\n",
    "\n",
    "    attn_head_out_act_patch_results = patching.get_act_patch_attn_head_out_by_pos(\n",
    "        model, input_ids_corrupted, clean_cache, metric\n",
    "    )\n",
    "    attn_head_out_act_patch_results = einops.rearrange(\n",
    "        attn_head_out_act_patch_results, \"layer pos head -> (layer head) pos\"\n",
    "    )\n",
    "    return attn_head_out_act_patch_results\n",
    "\n",
    "\n",
    "def patch_per_block_all_poss(\n",
    "    model, input_ids_corrupted, input_ids, clean_cache, metric, interval, corrupted_embeddings\n",
    "):\n",
    "    every_block_result = get_act_patch_block_every(\n",
    "        model, input_ids_corrupted, clean_cache, metric, patch_interval=interval, corrupted_embeddings=corrupted_embeddings\n",
    "    )\n",
    "    return every_block_result\n",
    "\n",
    "\n",
    "def patch_attn_head_all_pos_every(\n",
    "    model, input_ids_corrupted, input_ids, clean_cache, metric\n",
    "):\n",
    "    every_head_all_pos_act_patch_result = (\n",
    "        patching.get_act_patch_attn_head_all_pos_every(\n",
    "            model, input_ids_corrupted, clean_cache, metric\n",
    "        )\n",
    "    )\n",
    "    return every_head_all_pos_act_patch_result"
   ]
  },
  {
   "cell_type": "code",
   "execution_count": 149,
   "metadata": {},
   "outputs": [],
   "source": [
    "delta = delta_per_length[max_len]\n",
    "data = dataset.dataset_per_length[max_len]\n",
    "logits = logits_per_length[max_len]\n",
    "input_ids = model.to_tokens([d[\"premise\"] for d in data])\n",
    "embs_corrupted = model.add_noise([d[\"premise\"] for d in data], noise_index = torch.tensor([1,2,3,6]), target_win=7)\n",
    "target_ids = tokens_dict_per_length[max_len][\"target\"]\n",
    "orthogonal_ids = tokens_dict_per_length[max_len][\"orthogonal_token\"]\n",
    "input_ids_corrupted = embs_to_tokens_ids(embs_corrupted, model)\n",
    "# print(model.to_str_tokens(input_ids_corrupted))\n",
    "delta_corrupted = model(input_ids_corrupted)[torch.arange(input_ids_corrupted.shape[0]),-1, tokens_dict_per_length[max_len][\"target\"]] - model(input_ids_corrupted)[torch.arange(input_ids_corrupted.shape[0]),-1, tokens_dict_per_length[max_len][\"orthogonal_token\"]]\n"
   ]
  },
  {
   "cell_type": "markdown",
   "metadata": {},
   "source": [
    "## Positive examples"
   ]
  },
  {
   "cell_type": "code",
   "execution_count": null,
   "metadata": {},
   "outputs": [],
   "source": [
    "corrupted_i"
   ]
  },
  {
   "cell_type": "code",
   "execution_count": 150,
   "metadata": {},
   "outputs": [
    {
     "name": "stdout",
     "output_type": "stream",
     "text": [
      "tensor(0.0385)\n",
      "tensor(-0.1478)\n"
     ]
    }
   ],
   "source": [
    "#select just the positive deltas\n",
    "positive_delta = delta[delta > 0]\n",
    "emb_corrupted = embs_corrupted[delta > 0]\n",
    "input_ids = input_ids[delta > 0]\n",
    "target_ids = target_ids[delta > 0]\n",
    "orthogonal_ids = orthogonal_ids[delta > 0]\n",
    "\n",
    "corrupted_logit, corrupted_cache = model.run_with_cache_from_embed(embs_corrupted)\n",
    "clean_logit, clean_cache = model.run_with_cache(input_ids)\n",
    "corrupted_logit = torch.softmax(corrupted_logit, dim=-1)\n",
    "\n",
    "def delta_target(logits):\n",
    "    logits = torch.softmax(logits, dim=-1)\n",
    "    # print(logits[:, -1, target_ids], corrupted_logit[:, -1, target_ids])\n",
    "    batch_index = torch.arange(logits.shape[0])\n",
    "    target_delta = logits[batch_index, -1, target_ids] - corrupted_logit[batch_index, -1, target_ids]\n",
    "    return target_delta.mean()\n",
    "\n",
    "CLEAN_BASELINE_TARGET = delta_target(clean_logit)\n",
    "\n",
    "def delta_orthogonal(logits):\n",
    "    logits = torch.softmax(logits, dim=-1)\n",
    "    batch_index = torch.arange(logits.shape[0])\n",
    "    orthogonal_delta = logits[batch_index, -1, orthogonal_ids]  - corrupted_logit[batch_index, -1, orthogonal_ids]\n",
    "    return orthogonal_delta.mean()\n",
    "\n",
    "CLEAN_BASELINE_ORTHOGONAL = delta_orthogonal(clean_logit)\n",
    "\n",
    "\n",
    "def metric(logits, return_type=\"both\"):\n",
    "    if return_type == \"both\":\n",
    "        return (delta_target(logits)/CLEAN_BASELINE_TARGET - delta_orthogonal(logits)/CLEAN_BASELINE_ORTHOGONAL)\n",
    "    if return_type == \"target\":\n",
    "        return delta_target(logits) /CLEAN_BASELINE_TARGET\n",
    "    if return_type == \"orthogonal\":\n",
    "        return delta_orthogonal(logits) /CLEAN_BASELINE_ORTHOGONAL\n",
    "\n",
    "print(CLEAN_BASELINE_TARGET)\n",
    "print(CLEAN_BASELINE_ORTHOGONAL)\n"
   ]
  },
  {
   "cell_type": "markdown",
   "metadata": {},
   "source": [
    "### Logit Lens"
   ]
  },
  {
   "cell_type": "code",
   "execution_count": 133,
   "metadata": {},
   "outputs": [],
   "source": [
    "def logit_lens(target_ids, clean_cache, input_ids, model):\n",
    "    target_residual_direction = model.tokens_to_residual_directions(target_ids[\"target\"])\n",
    "    strange_residual_direction = model.tokens_to_residual_directions(target_ids[\"orthogonal_token\"])\n",
    "    batch_index = torch.arange(target_residual_direction.shape[0])\n",
    "    pos_delta_resid_direction = target_residual_direction[batch_index] - strange_residual_direction[batch_index]\n",
    "\n",
    "\n",
    "    def residual_stack_to_logit_diff(residual_stack, cache):\n",
    "        scaled_residual_stack = clean_cache.apply_ln_to_stack(residual_stack, layer=-1)\n",
    "        return einops.einsum( scaled_residual_stack, pos_delta_resid_direction, \"n_comp batch pos d_model, batch d_model -> n_comp pos\")/pos_input_ids.shape[0]\n",
    "\n",
    "\n",
    "    accumulater_residual, labels = clean_cache.accumulated_resid(layer=-1, incl_mid=True, return_labels=True, pos_slice=-1)\n",
    "    accumulater_residual = clean_cache.apply_ln_to_stack(accumulater_residual, layer=-1, pos_slice=-1)\n",
    "    unembed_accumulated_residual = einops.einsum(accumulater_residual, model.W_U, \"n_comp batch d_model, d_model vocab -> n_comp batch vocab\")\n",
    "    batch_index = torch.arange(input_ids.shape[0])\n",
    "    delta_accumulated_residual = (unembed_accumulated_residual[:, batch_index, target_ids[\"target\"]] - unembed_accumulated_residual[:, batch_index, target_ids[\"orthogonal_token\"]]).mean(dim=1)\n",
    "\n",
    "\n",
    "    x=np.arange(model.cfg.n_layers*2+1)/2\n",
    "    plt.plot(x, delta_accumulated_residual.detach().numpy(), color=\"blue\")\n",
    "    plt.plot(x, unembed_accumulated_residual[:,batch_index, target_ids[\"target\"]].mean(-1).detach().numpy(), color=\"red\")\n",
    "    plt.plot(x, unembed_accumulated_residual[:,batch_index, target_ids[\"orthogonal_token\"]].mean(-1).detach().numpy(), color=\"green\")\n",
    "    plt.legend([\"delta\", \"target\", \"strange\"])\n",
    "    plt.show()\n"
   ]
  },
  {
   "cell_type": "code",
   "execution_count": 134,
   "metadata": {},
   "outputs": [
    {
     "data": {
      "application/vnd.plotly.v1+json": {
       "config": {
        "plotlyServerURL": "https://plot.ly"
       },
       "data": [
        {
         "hovertemplate": "Legend=delta<br>x=%{x}<br>Y-axis=%{y}<extra></extra>",
         "legendgroup": "delta",
         "line": {
          "color": "#636efa",
          "dash": "solid"
         },
         "marker": {
          "symbol": "circle"
         },
         "mode": "lines",
         "name": "delta",
         "orientation": "v",
         "showlegend": true,
         "type": "scatter",
         "x": [
          0,
          0.5,
          1,
          1.5,
          2,
          2.5,
          3,
          3.5,
          4,
          4.5,
          5,
          5.5,
          6,
          6.5,
          7,
          7.5,
          8,
          8.5,
          9,
          9.5,
          10,
          10.5,
          11,
          11.5,
          12
         ],
         "xaxis": "x",
         "y": [
          -0.015400135889649391,
          0.11318538337945938,
          0.28174179792404175,
          0.3499786853790283,
          0.4237454831600189,
          0.4982418417930603,
          0.4944426119327545,
          0.5934195518493652,
          0.658515989780426,
          0.7267942428588867,
          0.7364720702171326,
          -0.029835348948836327,
          0.1225350946187973,
          -0.36921948194503784,
          -0.04712614044547081,
          -2.3698081970214844,
          -2.508843421936035,
          -2.8605356216430664,
          -2.486114501953125,
          -3.532209873199463,
          -3.143681049346924,
          -4.97274112701416,
          -5.267792701721191,
          -5.012855052947998,
          -5.456969261169434
         ],
         "yaxis": "y"
        },
        {
         "hovertemplate": "Legend=target<br>x=%{x}<br>Y-axis=%{y}<extra></extra>",
         "legendgroup": "target",
         "line": {
          "color": "#EF553B",
          "dash": "solid"
         },
         "marker": {
          "symbol": "circle"
         },
         "mode": "lines",
         "name": "target",
         "orientation": "v",
         "showlegend": true,
         "type": "scatter",
         "x": [
          0,
          0.5,
          1,
          1.5,
          2,
          2.5,
          3,
          3.5,
          4,
          4.5,
          5,
          5.5,
          6,
          6.5,
          7,
          7.5,
          8,
          8.5,
          9,
          9.5,
          10,
          10.5,
          11,
          11.5,
          12
         ],
         "xaxis": "x",
         "y": [
          -0.01880662702023983,
          0.21817557513713837,
          0.44293028116226196,
          0.5635586977005005,
          0.5814529657363892,
          0.6935437917709351,
          0.6836750507354736,
          0.8015079498291016,
          0.8387086987495422,
          0.9342905879020691,
          0.9321386218070984,
          1.007834553718567,
          1.1040675640106201,
          1.2638810873031616,
          1.4605742692947388,
          1.5112888813018799,
          1.5532704591751099,
          1.7293422222137451,
          2.1281304359436035,
          3.1800389289855957,
          3.7219185829162598,
          4.708800315856934,
          5.226243019104004,
          6.620950222015381,
          6.653602600097656
         ],
         "yaxis": "y"
        },
        {
         "hovertemplate": "Legend=strange<br>x=%{x}<br>Y-axis=%{y}<extra></extra>",
         "legendgroup": "strange",
         "line": {
          "color": "#00cc96",
          "dash": "solid"
         },
         "marker": {
          "symbol": "circle"
         },
         "mode": "lines",
         "name": "strange",
         "orientation": "v",
         "showlegend": true,
         "type": "scatter",
         "x": [
          0,
          0.5,
          1,
          1.5,
          2,
          2.5,
          3,
          3.5,
          4,
          4.5,
          5,
          5.5,
          6,
          6.5,
          7,
          7.5,
          8,
          8.5,
          9,
          9.5,
          10,
          10.5,
          11,
          11.5,
          12
         ],
         "xaxis": "x",
         "y": [
          -0.0034064867068082094,
          0.10499020665884018,
          0.16118846833705902,
          0.2135799676179886,
          0.15770740807056427,
          0.1953018754720688,
          0.18923239409923553,
          0.2080884873867035,
          0.18019267916679382,
          0.20749635994434357,
          0.19566655158996582,
          1.0376698970794678,
          0.9815325736999512,
          1.6331005096435547,
          1.5077003240585327,
          3.8810973167419434,
          4.0621137619018555,
          4.589877605438232,
          4.6142449378967285,
          6.712248802185059,
          6.865599632263184,
          9.68154239654541,
          10.494035720825195,
          11.633805274963379,
          12.11057186126709
         ],
         "yaxis": "y"
        }
       ],
       "layout": {
        "legend": {
         "title": {
          "text": "Legend"
         },
         "tracegroupgap": 0
        },
        "template": {
         "data": {
          "bar": [
           {
            "error_x": {
             "color": "#2a3f5f"
            },
            "error_y": {
             "color": "#2a3f5f"
            },
            "marker": {
             "line": {
              "color": "#E5ECF6",
              "width": 0.5
             },
             "pattern": {
              "fillmode": "overlay",
              "size": 10,
              "solidity": 0.2
             }
            },
            "type": "bar"
           }
          ],
          "barpolar": [
           {
            "marker": {
             "line": {
              "color": "#E5ECF6",
              "width": 0.5
             },
             "pattern": {
              "fillmode": "overlay",
              "size": 10,
              "solidity": 0.2
             }
            },
            "type": "barpolar"
           }
          ],
          "carpet": [
           {
            "aaxis": {
             "endlinecolor": "#2a3f5f",
             "gridcolor": "white",
             "linecolor": "white",
             "minorgridcolor": "white",
             "startlinecolor": "#2a3f5f"
            },
            "baxis": {
             "endlinecolor": "#2a3f5f",
             "gridcolor": "white",
             "linecolor": "white",
             "minorgridcolor": "white",
             "startlinecolor": "#2a3f5f"
            },
            "type": "carpet"
           }
          ],
          "choropleth": [
           {
            "colorbar": {
             "outlinewidth": 0,
             "ticks": ""
            },
            "type": "choropleth"
           }
          ],
          "contour": [
           {
            "colorbar": {
             "outlinewidth": 0,
             "ticks": ""
            },
            "colorscale": [
             [
              0,
              "#0d0887"
             ],
             [
              0.1111111111111111,
              "#46039f"
             ],
             [
              0.2222222222222222,
              "#7201a8"
             ],
             [
              0.3333333333333333,
              "#9c179e"
             ],
             [
              0.4444444444444444,
              "#bd3786"
             ],
             [
              0.5555555555555556,
              "#d8576b"
             ],
             [
              0.6666666666666666,
              "#ed7953"
             ],
             [
              0.7777777777777778,
              "#fb9f3a"
             ],
             [
              0.8888888888888888,
              "#fdca26"
             ],
             [
              1,
              "#f0f921"
             ]
            ],
            "type": "contour"
           }
          ],
          "contourcarpet": [
           {
            "colorbar": {
             "outlinewidth": 0,
             "ticks": ""
            },
            "type": "contourcarpet"
           }
          ],
          "heatmap": [
           {
            "colorbar": {
             "outlinewidth": 0,
             "ticks": ""
            },
            "colorscale": [
             [
              0,
              "#0d0887"
             ],
             [
              0.1111111111111111,
              "#46039f"
             ],
             [
              0.2222222222222222,
              "#7201a8"
             ],
             [
              0.3333333333333333,
              "#9c179e"
             ],
             [
              0.4444444444444444,
              "#bd3786"
             ],
             [
              0.5555555555555556,
              "#d8576b"
             ],
             [
              0.6666666666666666,
              "#ed7953"
             ],
             [
              0.7777777777777778,
              "#fb9f3a"
             ],
             [
              0.8888888888888888,
              "#fdca26"
             ],
             [
              1,
              "#f0f921"
             ]
            ],
            "type": "heatmap"
           }
          ],
          "heatmapgl": [
           {
            "colorbar": {
             "outlinewidth": 0,
             "ticks": ""
            },
            "colorscale": [
             [
              0,
              "#0d0887"
             ],
             [
              0.1111111111111111,
              "#46039f"
             ],
             [
              0.2222222222222222,
              "#7201a8"
             ],
             [
              0.3333333333333333,
              "#9c179e"
             ],
             [
              0.4444444444444444,
              "#bd3786"
             ],
             [
              0.5555555555555556,
              "#d8576b"
             ],
             [
              0.6666666666666666,
              "#ed7953"
             ],
             [
              0.7777777777777778,
              "#fb9f3a"
             ],
             [
              0.8888888888888888,
              "#fdca26"
             ],
             [
              1,
              "#f0f921"
             ]
            ],
            "type": "heatmapgl"
           }
          ],
          "histogram": [
           {
            "marker": {
             "pattern": {
              "fillmode": "overlay",
              "size": 10,
              "solidity": 0.2
             }
            },
            "type": "histogram"
           }
          ],
          "histogram2d": [
           {
            "colorbar": {
             "outlinewidth": 0,
             "ticks": ""
            },
            "colorscale": [
             [
              0,
              "#0d0887"
             ],
             [
              0.1111111111111111,
              "#46039f"
             ],
             [
              0.2222222222222222,
              "#7201a8"
             ],
             [
              0.3333333333333333,
              "#9c179e"
             ],
             [
              0.4444444444444444,
              "#bd3786"
             ],
             [
              0.5555555555555556,
              "#d8576b"
             ],
             [
              0.6666666666666666,
              "#ed7953"
             ],
             [
              0.7777777777777778,
              "#fb9f3a"
             ],
             [
              0.8888888888888888,
              "#fdca26"
             ],
             [
              1,
              "#f0f921"
             ]
            ],
            "type": "histogram2d"
           }
          ],
          "histogram2dcontour": [
           {
            "colorbar": {
             "outlinewidth": 0,
             "ticks": ""
            },
            "colorscale": [
             [
              0,
              "#0d0887"
             ],
             [
              0.1111111111111111,
              "#46039f"
             ],
             [
              0.2222222222222222,
              "#7201a8"
             ],
             [
              0.3333333333333333,
              "#9c179e"
             ],
             [
              0.4444444444444444,
              "#bd3786"
             ],
             [
              0.5555555555555556,
              "#d8576b"
             ],
             [
              0.6666666666666666,
              "#ed7953"
             ],
             [
              0.7777777777777778,
              "#fb9f3a"
             ],
             [
              0.8888888888888888,
              "#fdca26"
             ],
             [
              1,
              "#f0f921"
             ]
            ],
            "type": "histogram2dcontour"
           }
          ],
          "mesh3d": [
           {
            "colorbar": {
             "outlinewidth": 0,
             "ticks": ""
            },
            "type": "mesh3d"
           }
          ],
          "parcoords": [
           {
            "line": {
             "colorbar": {
              "outlinewidth": 0,
              "ticks": ""
             }
            },
            "type": "parcoords"
           }
          ],
          "pie": [
           {
            "automargin": true,
            "type": "pie"
           }
          ],
          "scatter": [
           {
            "fillpattern": {
             "fillmode": "overlay",
             "size": 10,
             "solidity": 0.2
            },
            "type": "scatter"
           }
          ],
          "scatter3d": [
           {
            "line": {
             "colorbar": {
              "outlinewidth": 0,
              "ticks": ""
             }
            },
            "marker": {
             "colorbar": {
              "outlinewidth": 0,
              "ticks": ""
             }
            },
            "type": "scatter3d"
           }
          ],
          "scattercarpet": [
           {
            "marker": {
             "colorbar": {
              "outlinewidth": 0,
              "ticks": ""
             }
            },
            "type": "scattercarpet"
           }
          ],
          "scattergeo": [
           {
            "marker": {
             "colorbar": {
              "outlinewidth": 0,
              "ticks": ""
             }
            },
            "type": "scattergeo"
           }
          ],
          "scattergl": [
           {
            "marker": {
             "colorbar": {
              "outlinewidth": 0,
              "ticks": ""
             }
            },
            "type": "scattergl"
           }
          ],
          "scattermapbox": [
           {
            "marker": {
             "colorbar": {
              "outlinewidth": 0,
              "ticks": ""
             }
            },
            "type": "scattermapbox"
           }
          ],
          "scatterpolar": [
           {
            "marker": {
             "colorbar": {
              "outlinewidth": 0,
              "ticks": ""
             }
            },
            "type": "scatterpolar"
           }
          ],
          "scatterpolargl": [
           {
            "marker": {
             "colorbar": {
              "outlinewidth": 0,
              "ticks": ""
             }
            },
            "type": "scatterpolargl"
           }
          ],
          "scatterternary": [
           {
            "marker": {
             "colorbar": {
              "outlinewidth": 0,
              "ticks": ""
             }
            },
            "type": "scatterternary"
           }
          ],
          "surface": [
           {
            "colorbar": {
             "outlinewidth": 0,
             "ticks": ""
            },
            "colorscale": [
             [
              0,
              "#0d0887"
             ],
             [
              0.1111111111111111,
              "#46039f"
             ],
             [
              0.2222222222222222,
              "#7201a8"
             ],
             [
              0.3333333333333333,
              "#9c179e"
             ],
             [
              0.4444444444444444,
              "#bd3786"
             ],
             [
              0.5555555555555556,
              "#d8576b"
             ],
             [
              0.6666666666666666,
              "#ed7953"
             ],
             [
              0.7777777777777778,
              "#fb9f3a"
             ],
             [
              0.8888888888888888,
              "#fdca26"
             ],
             [
              1,
              "#f0f921"
             ]
            ],
            "type": "surface"
           }
          ],
          "table": [
           {
            "cells": {
             "fill": {
              "color": "#EBF0F8"
             },
             "line": {
              "color": "white"
             }
            },
            "header": {
             "fill": {
              "color": "#C8D4E3"
             },
             "line": {
              "color": "white"
             }
            },
            "type": "table"
           }
          ]
         },
         "layout": {
          "annotationdefaults": {
           "arrowcolor": "#2a3f5f",
           "arrowhead": 0,
           "arrowwidth": 1
          },
          "autotypenumbers": "strict",
          "coloraxis": {
           "colorbar": {
            "outlinewidth": 0,
            "ticks": ""
           }
          },
          "colorscale": {
           "diverging": [
            [
             0,
             "#8e0152"
            ],
            [
             0.1,
             "#c51b7d"
            ],
            [
             0.2,
             "#de77ae"
            ],
            [
             0.3,
             "#f1b6da"
            ],
            [
             0.4,
             "#fde0ef"
            ],
            [
             0.5,
             "#f7f7f7"
            ],
            [
             0.6,
             "#e6f5d0"
            ],
            [
             0.7,
             "#b8e186"
            ],
            [
             0.8,
             "#7fbc41"
            ],
            [
             0.9,
             "#4d9221"
            ],
            [
             1,
             "#276419"
            ]
           ],
           "sequential": [
            [
             0,
             "#0d0887"
            ],
            [
             0.1111111111111111,
             "#46039f"
            ],
            [
             0.2222222222222222,
             "#7201a8"
            ],
            [
             0.3333333333333333,
             "#9c179e"
            ],
            [
             0.4444444444444444,
             "#bd3786"
            ],
            [
             0.5555555555555556,
             "#d8576b"
            ],
            [
             0.6666666666666666,
             "#ed7953"
            ],
            [
             0.7777777777777778,
             "#fb9f3a"
            ],
            [
             0.8888888888888888,
             "#fdca26"
            ],
            [
             1,
             "#f0f921"
            ]
           ],
           "sequentialminus": [
            [
             0,
             "#0d0887"
            ],
            [
             0.1111111111111111,
             "#46039f"
            ],
            [
             0.2222222222222222,
             "#7201a8"
            ],
            [
             0.3333333333333333,
             "#9c179e"
            ],
            [
             0.4444444444444444,
             "#bd3786"
            ],
            [
             0.5555555555555556,
             "#d8576b"
            ],
            [
             0.6666666666666666,
             "#ed7953"
            ],
            [
             0.7777777777777778,
             "#fb9f3a"
            ],
            [
             0.8888888888888888,
             "#fdca26"
            ],
            [
             1,
             "#f0f921"
            ]
           ]
          },
          "colorway": [
           "#636efa",
           "#EF553B",
           "#00cc96",
           "#ab63fa",
           "#FFA15A",
           "#19d3f3",
           "#FF6692",
           "#B6E880",
           "#FF97FF",
           "#FECB52"
          ],
          "font": {
           "color": "#2a3f5f"
          },
          "geo": {
           "bgcolor": "white",
           "lakecolor": "white",
           "landcolor": "#E5ECF6",
           "showlakes": true,
           "showland": true,
           "subunitcolor": "white"
          },
          "hoverlabel": {
           "align": "left"
          },
          "hovermode": "closest",
          "mapbox": {
           "style": "light"
          },
          "paper_bgcolor": "white",
          "plot_bgcolor": "#E5ECF6",
          "polar": {
           "angularaxis": {
            "gridcolor": "white",
            "linecolor": "white",
            "ticks": ""
           },
           "bgcolor": "#E5ECF6",
           "radialaxis": {
            "gridcolor": "white",
            "linecolor": "white",
            "ticks": ""
           }
          },
          "scene": {
           "xaxis": {
            "backgroundcolor": "#E5ECF6",
            "gridcolor": "white",
            "gridwidth": 2,
            "linecolor": "white",
            "showbackground": true,
            "ticks": "",
            "zerolinecolor": "white"
           },
           "yaxis": {
            "backgroundcolor": "#E5ECF6",
            "gridcolor": "white",
            "gridwidth": 2,
            "linecolor": "white",
            "showbackground": true,
            "ticks": "",
            "zerolinecolor": "white"
           },
           "zaxis": {
            "backgroundcolor": "#E5ECF6",
            "gridcolor": "white",
            "gridwidth": 2,
            "linecolor": "white",
            "showbackground": true,
            "ticks": "",
            "zerolinecolor": "white"
           }
          },
          "shapedefaults": {
           "line": {
            "color": "#2a3f5f"
           }
          },
          "ternary": {
           "aaxis": {
            "gridcolor": "white",
            "linecolor": "white",
            "ticks": ""
           },
           "baxis": {
            "gridcolor": "white",
            "linecolor": "white",
            "ticks": ""
           },
           "bgcolor": "#E5ECF6",
           "caxis": {
            "gridcolor": "white",
            "linecolor": "white",
            "ticks": ""
           }
          },
          "title": {
           "x": 0.05
          },
          "xaxis": {
           "automargin": true,
           "gridcolor": "white",
           "linecolor": "white",
           "ticks": "",
           "title": {
            "standoff": 15
           },
           "zerolinecolor": "white",
           "zerolinewidth": 2
          },
          "yaxis": {
           "automargin": true,
           "gridcolor": "white",
           "linecolor": "white",
           "ticks": "",
           "title": {
            "standoff": 15
           },
           "zerolinecolor": "white",
           "zerolinewidth": 2
          }
         }
        },
        "title": {
         "text": "Your Plot Title"
        },
        "xaxis": {
         "anchor": "y",
         "domain": [
          0,
          1
         ],
         "title": {
          "text": "x"
         }
        },
        "yaxis": {
         "anchor": "x",
         "domain": [
          0,
          1
         ],
         "title": {
          "text": "Y-axis"
         }
        }
       }
      }
     },
     "metadata": {},
     "output_type": "display_data"
    }
   ],
   "source": [
    "import einops\n",
    "import numpy as np\n",
    "\n",
    "target_residual_direction = model.tokens_to_residual_directions(target_ids)\n",
    "strange_residual_direction = model.tokens_to_residual_directions(orthogonal_ids)\n",
    "batch_index = torch.arange(target_residual_direction.shape[0])\n",
    "delta_resid_direction = (\n",
    "    target_residual_direction[batch_index] - strange_residual_direction[batch_index]\n",
    ")\n",
    "\n",
    "\n",
    "def residual_stack_to_logit_diff(residual_stack, cache):\n",
    "    scaled_residual_stack = clean_cache.apply_ln_to_stack(residual_stack, layer=-1)\n",
    "    return (\n",
    "        einops.einsum(\n",
    "            scaled_residual_stack,\n",
    "            delta_resid_direction,\n",
    "            \"n_comp batch pos d_model, batch d_model -> n_comp pos\",\n",
    "        )\n",
    "        / input_ids.shape[0]\n",
    "    )\n",
    "\n",
    "\n",
    "accumulater_residual, labels = clean_cache.accumulated_resid(\n",
    "    layer=-1, incl_mid=True, return_labels=True, pos_slice=-1\n",
    ")\n",
    "accumulater_residual = clean_cache.apply_ln_to_stack(\n",
    "    accumulater_residual, layer=-1, pos_slice=-1\n",
    ")\n",
    "unembed_accumulated_residual = einops.einsum(\n",
    "    accumulater_residual,\n",
    "    model.W_U,\n",
    "    \"n_comp batch d_model, d_model vocab -> n_comp batch vocab\",\n",
    ")\n",
    "batch_index = torch.arange(input_ids.shape[0])\n",
    "delta_accumulated_residual = (\n",
    "    unembed_accumulated_residual[:, batch_index, target_ids]\n",
    "    - unembed_accumulated_residual[:, batch_index, orthogonal_ids]\n",
    ").mean(dim=1)\n",
    "\n",
    "\n",
    "# x = [f\"{tok} {i}\" for i, tok in enumerate(model.to_str_tokens(pos_input_ids[0]))]\n",
    "# plt.plot(delta_accumulated_residual.detach().numpy(), color=\"blue\")\n",
    "# plt.plot(unembed_accumulated_residual[:,batch_index,pos_target_ids[\"target\"]].mean(-1).detach().numpy(), color=\"red\")\n",
    "# plt.plot(unembed_accumulated_residual[:,batch_index,pos_target_ids[\"orthogonal_token\"]].mean(-1).detach().numpy(), color=\"green\")\n",
    "# plt.legend([\"delta\", \"target\", \"strange\"])\n",
    "# plt.show()\n",
    "\n",
    "import pandas as pd\n",
    "\n",
    "# Assuming you have the following data prepared\n",
    "x = np.arange(model.cfg.n_layers * 2 + 1) / 2\n",
    "y1 = delta_accumulated_residual.detach().numpy()\n",
    "y2 = unembed_accumulated_residual[:, batch_index, target_ids].mean(-1).detach().numpy()\n",
    "y3 = (\n",
    "    unembed_accumulated_residual[:, batch_index, orthogonal_ids]\n",
    "    .mean(-1)\n",
    "    .detach()\n",
    "    .numpy()\n",
    ")\n",
    "\n",
    "# Convert data to a DataFrame\n",
    "df = pd.DataFrame({\"x\": x, \"delta\": y1, \"target\": y2, \"strange\": y3})\n",
    "\n",
    "# Plot using plotly.express\n",
    "fig = px.line(\n",
    "    df,\n",
    "    x=\"x\",\n",
    "    y=[\"delta\", \"target\", \"strange\"],\n",
    "    labels={\"value\": \"Y-axis\", \"variable\": \"Legend\"},\n",
    "    title=\"Your Plot Title\",\n",
    ")\n",
    "\n",
    "fig.show()"
   ]
  },
  {
   "cell_type": "code",
   "execution_count": 135,
   "metadata": {},
   "outputs": [
    {
     "ename": "NameError",
     "evalue": "name 'pos_input_ids' is not defined",
     "output_type": "error",
     "traceback": [
      "\u001b[0;31m---------------------------------------------------------------------------\u001b[0m",
      "\u001b[0;31mNameError\u001b[0m                                 Traceback (most recent call last)",
      "\u001b[1;32m/home/fortu/Competition_of_Mechanisms/notebooks/experiment copy.ipynb Cell 16\u001b[0m line \u001b[0;36m7\n\u001b[1;32m      <a href='vscode-notebook-cell:/home/fortu/Competition_of_Mechanisms/notebooks/experiment%20copy.ipynb#X26sZmlsZQ%3D%3D?line=2'>3</a>\u001b[0m per_head_logit_diffs \u001b[39m=\u001b[39m clean_cache\u001b[39m.\u001b[39mapply_ln_to_stack(per_head_residual, layer\u001b[39m=\u001b[39m\u001b[39m-\u001b[39m\u001b[39m1\u001b[39m, pos_slice\u001b[39m=\u001b[39m\u001b[39m-\u001b[39m\u001b[39m1\u001b[39m)\n\u001b[1;32m      <a href='vscode-notebook-cell:/home/fortu/Competition_of_Mechanisms/notebooks/experiment%20copy.ipynb#X26sZmlsZQ%3D%3D?line=4'>5</a>\u001b[0m per_head_logit_diffs \u001b[39m=\u001b[39m einops\u001b[39m.\u001b[39meinsum(per_head_logit_diffs, model\u001b[39m.\u001b[39mW_U, \u001b[39m\"\u001b[39m\u001b[39mn_comp batch d_model, d_model vocab -> n_comp batch vocab\u001b[39m\u001b[39m\"\u001b[39m)\n\u001b[0;32m----> <a href='vscode-notebook-cell:/home/fortu/Competition_of_Mechanisms/notebooks/experiment%20copy.ipynb#X26sZmlsZQ%3D%3D?line=6'>7</a>\u001b[0m batch_index \u001b[39m=\u001b[39m torch\u001b[39m.\u001b[39marange(pos_input_ids\u001b[39m.\u001b[39mshape[\u001b[39m0\u001b[39m])\n\u001b[1;32m      <a href='vscode-notebook-cell:/home/fortu/Competition_of_Mechanisms/notebooks/experiment%20copy.ipynb#X26sZmlsZQ%3D%3D?line=7'>8</a>\u001b[0m delta_per_head_residual \u001b[39m=\u001b[39m (per_head_logit_diffs[:, batch_index, pos_target_ids[\u001b[39m\"\u001b[39m\u001b[39mtarget\u001b[39m\u001b[39m\"\u001b[39m]] \u001b[39m-\u001b[39m per_head_logit_diffs[:, batch_index, pos_target_ids[\u001b[39m\"\u001b[39m\u001b[39morthogonal_token\u001b[39m\u001b[39m\"\u001b[39m]])\u001b[39m.\u001b[39mmean(dim\u001b[39m=\u001b[39m\u001b[39m1\u001b[39m)\n\u001b[1;32m      <a href='vscode-notebook-cell:/home/fortu/Competition_of_Mechanisms/notebooks/experiment%20copy.ipynb#X26sZmlsZQ%3D%3D?line=8'>9</a>\u001b[0m per_head_logit_diffs \u001b[39m=\u001b[39m einops\u001b[39m.\u001b[39mrearrange(delta_per_head_residual, \u001b[39m\"\u001b[39m\u001b[39m(layer head_index) ->  layer head_index \u001b[39m\u001b[39m\"\u001b[39m, layer\u001b[39m=\u001b[39mmodel\u001b[39m.\u001b[39mcfg\u001b[39m.\u001b[39mn_layers, head_index\u001b[39m=\u001b[39mmodel\u001b[39m.\u001b[39mcfg\u001b[39m.\u001b[39mn_heads)\n",
      "\u001b[0;31mNameError\u001b[0m: name 'pos_input_ids' is not defined"
     ]
    }
   ],
   "source": [
    "per_head_residual, labels = clean_cache.stack_head_results(layer=-1, pos_slice=-1, return_labels=True)\n",
    "\n",
    "per_head_logit_diffs = clean_cache.apply_ln_to_stack(per_head_residual, layer=-1, pos_slice=-1)\n",
    "\n",
    "per_head_logit_diffs = einops.einsum(per_head_logit_diffs, model.W_U, \"n_comp batch d_model, d_model vocab -> n_comp batch vocab\")\n",
    "\n",
    "batch_index = torch.arange(pos_input_ids.shape[0])\n",
    "delta_per_head_residual = (per_head_logit_diffs[:, batch_index, pos_target_ids[\"target\"]] - per_head_logit_diffs[:, batch_index, pos_target_ids[\"orthogonal_token\"]]).mean(dim=1)\n",
    "per_head_logit_diffs = einops.rearrange(delta_per_head_residual, \"(layer head_index) ->  layer head_index \", layer=model.cfg.n_layers, head_index=model.cfg.n_heads)\n",
    "\n",
    "imshow_reversed(per_head_logit_diffs, labels={\"x\":\"Head\", \"y\":\"Layer\"}, title=\"Logit Difference From Each Head\")"
   ]
  },
  {
   "cell_type": "markdown",
   "metadata": {},
   "source": [
    "### Activation patching"
   ]
  },
  {
   "cell_type": "code",
   "execution_count": 136,
   "metadata": {},
   "outputs": [
    {
     "name": "stderr",
     "output_type": "stream",
     "text": [
      " 19%|█▉        | 32/168 [00:09<00:41,  3.28it/s]\n"
     ]
    },
    {
     "ename": "KeyboardInterrupt",
     "evalue": "",
     "output_type": "error",
     "traceback": [
      "\u001b[0;31m---------------------------------------------------------------------------\u001b[0m",
      "\u001b[0;31mKeyboardInterrupt\u001b[0m                         Traceback (most recent call last)",
      "\u001b[1;32m/home/fortu/Competition_of_Mechanisms/notebooks/experiment copy.ipynb Cell 18\u001b[0m line \u001b[0;36m1\n\u001b[0;32m----> <a href='vscode-notebook-cell:/home/fortu/Competition_of_Mechanisms/notebooks/experiment%20copy.ipynb#X31sZmlsZQ%3D%3D?line=0'>1</a>\u001b[0m pos_resid_pre_act_patch_results \u001b[39m=\u001b[39m patch_resid_pre(model, input_ids, input_ids_corrupted, clean_cache, metric)\n\u001b[1;32m      <a href='vscode-notebook-cell:/home/fortu/Competition_of_Mechanisms/notebooks/experiment%20copy.ipynb#X31sZmlsZQ%3D%3D?line=1'>2</a>\u001b[0m imshow_reversed(pos_resid_pre_act_patch_results, \n\u001b[1;32m      <a href='vscode-notebook-cell:/home/fortu/Competition_of_Mechanisms/notebooks/experiment%20copy.ipynb#X31sZmlsZQ%3D%3D?line=2'>3</a>\u001b[0m     yaxis\u001b[39m=\u001b[39m\u001b[39m\"\u001b[39m\u001b[39mLayer\u001b[39m\u001b[39m\"\u001b[39m, \n\u001b[1;32m      <a href='vscode-notebook-cell:/home/fortu/Competition_of_Mechanisms/notebooks/experiment%20copy.ipynb#X31sZmlsZQ%3D%3D?line=3'>4</a>\u001b[0m     xaxis\u001b[39m=\u001b[39m\u001b[39m\"\u001b[39m\u001b[39mPosition\u001b[39m\u001b[39m\"\u001b[39m, \n\u001b[1;32m      <a href='vscode-notebook-cell:/home/fortu/Competition_of_Mechanisms/notebooks/experiment%20copy.ipynb#X31sZmlsZQ%3D%3D?line=4'>5</a>\u001b[0m     x\u001b[39m=\u001b[39m[\u001b[39mf\u001b[39m\u001b[39m\"\u001b[39m\u001b[39m{\u001b[39;00mtok\u001b[39m}\u001b[39;00m\u001b[39m \u001b[39m\u001b[39m{\u001b[39;00mi\u001b[39m}\u001b[39;00m\u001b[39m\"\u001b[39m \u001b[39mfor\u001b[39;00m i, tok \u001b[39min\u001b[39;00m \u001b[39menumerate\u001b[39m(model\u001b[39m.\u001b[39mto_str_tokens(input_ids[\u001b[39m0\u001b[39m]))],\n\u001b[1;32m      <a href='vscode-notebook-cell:/home/fortu/Competition_of_Mechanisms/notebooks/experiment%20copy.ipynb#X31sZmlsZQ%3D%3D?line=5'>6</a>\u001b[0m     title\u001b[39m=\u001b[39m\u001b[39m\"\u001b[39m\u001b[39mresid_pre Activation Patching\u001b[39m\u001b[39m\"\u001b[39m)\n",
      "\u001b[1;32m/home/fortu/Competition_of_Mechanisms/notebooks/experiment copy.ipynb Cell 18\u001b[0m line \u001b[0;36m5\n\u001b[1;32m      <a href='vscode-notebook-cell:/home/fortu/Competition_of_Mechanisms/notebooks/experiment%20copy.ipynb#X31sZmlsZQ%3D%3D?line=3'>4</a>\u001b[0m \u001b[39mdef\u001b[39;00m \u001b[39mpatch_resid_pre\u001b[39m(model, input_ids, input_ids_corrupted, clean_cache, metric):\n\u001b[0;32m----> <a href='vscode-notebook-cell:/home/fortu/Competition_of_Mechanisms/notebooks/experiment%20copy.ipynb#X31sZmlsZQ%3D%3D?line=4'>5</a>\u001b[0m     resid_pre_act_patch_results \u001b[39m=\u001b[39m get_act_patch_resid_pre(\n\u001b[1;32m      <a href='vscode-notebook-cell:/home/fortu/Competition_of_Mechanisms/notebooks/experiment%20copy.ipynb#X31sZmlsZQ%3D%3D?line=5'>6</a>\u001b[0m         model, input_ids_corrupted, clean_cache, metric\n\u001b[1;32m      <a href='vscode-notebook-cell:/home/fortu/Competition_of_Mechanisms/notebooks/experiment%20copy.ipynb#X31sZmlsZQ%3D%3D?line=6'>7</a>\u001b[0m     )\n\u001b[1;32m      <a href='vscode-notebook-cell:/home/fortu/Competition_of_Mechanisms/notebooks/experiment%20copy.ipynb#X31sZmlsZQ%3D%3D?line=7'>8</a>\u001b[0m     \u001b[39mreturn\u001b[39;00m resid_pre_act_patch_results\n",
      "File \u001b[0;32m~/Competition_of_Mechanisms/notebooks/../src/patching.py:189\u001b[0m, in \u001b[0;36mgeneric_activation_patch_stacked\u001b[0;34m(model, corrupted_tokens, clean_cache, patching_metric, patch_setter, activation_name, corrupted_embeddings, index_axis_names, index_df, return_index_df, patch_interval)\u001b[0m\n\u001b[1;32m    186\u001b[0m     embeds_hook \u001b[39m=\u001b[39m partial(embed_hook, corrupted_embeddings\u001b[39m=\u001b[39mcorrupted_embeddings)\n\u001b[1;32m    187\u001b[0m     hooks\u001b[39m.\u001b[39mappend((\u001b[39m\"\u001b[39m\u001b[39mhook_embed\u001b[39m\u001b[39m\"\u001b[39m, embeds_hook))\n\u001b[0;32m--> 189\u001b[0m patched_logits \u001b[39m=\u001b[39m model\u001b[39m.\u001b[39;49mrun_with_hooks(\n\u001b[1;32m    190\u001b[0m     corrupted_tokens, fwd_hooks\u001b[39m=\u001b[39;49mhooks\n\u001b[1;32m    191\u001b[0m )\n\u001b[1;32m    193\u001b[0m \u001b[39m# Calculate the patching metric and store\u001b[39;00m\n\u001b[1;32m    194\u001b[0m \u001b[39mif\u001b[39;00m flattened_output:\n",
      "File \u001b[0;32m~/miniconda3/envs/mpi/lib/python3.11/site-packages/transformer_lens/hook_points.py:379\u001b[0m, in \u001b[0;36mHookedRootModule.run_with_hooks\u001b[0;34m(self, fwd_hooks, bwd_hooks, reset_hooks_end, clear_contexts, return_cache, *model_args, **model_kwargs)\u001b[0m\n\u001b[1;32m    374\u001b[0m         \u001b[39mreturn\u001b[39;00m \u001b[39mself\u001b[39m\u001b[39m.\u001b[39mforward(\u001b[39m*\u001b[39mmodel_args, \u001b[39m*\u001b[39m\u001b[39m*\u001b[39mmodel_kwargs), cache_dict\n\u001b[1;32m    376\u001b[0m \u001b[39mwith\u001b[39;00m \u001b[39mself\u001b[39m\u001b[39m.\u001b[39mhooks(\n\u001b[1;32m    377\u001b[0m     fwd_hooks, bwd_hooks, reset_hooks_end, clear_contexts\n\u001b[1;32m    378\u001b[0m ) \u001b[39mas\u001b[39;00m hooked_model:\n\u001b[0;32m--> 379\u001b[0m     \u001b[39mreturn\u001b[39;00m hooked_model\u001b[39m.\u001b[39;49mforward(\u001b[39m*\u001b[39;49mmodel_args, \u001b[39m*\u001b[39;49m\u001b[39m*\u001b[39;49mmodel_kwargs)\n",
      "File \u001b[0;32m~/miniconda3/envs/mpi/lib/python3.11/site-packages/transformer_lens/HookedTransformer.py:480\u001b[0m, in \u001b[0;36mHookedTransformer.forward\u001b[0;34m(self, input, return_type, loss_per_token, prepend_bos, padding_side, start_at_layer, tokens, shortformer_pos_embed, left_attention_mask, stop_at_layer, past_kv_cache, past_left_attention_mask)\u001b[0m\n\u001b[1;32m    475\u001b[0m     \u001b[39mif\u001b[39;00m shortformer_pos_embed \u001b[39mis\u001b[39;00m \u001b[39mnot\u001b[39;00m \u001b[39mNone\u001b[39;00m:\n\u001b[1;32m    476\u001b[0m         shortformer_pos_embed \u001b[39m=\u001b[39m shortformer_pos_embed\u001b[39m.\u001b[39mto(\n\u001b[1;32m    477\u001b[0m             devices\u001b[39m.\u001b[39mget_device_for_block_index(i, \u001b[39mself\u001b[39m\u001b[39m.\u001b[39mcfg)\n\u001b[1;32m    478\u001b[0m         )\n\u001b[0;32m--> 480\u001b[0m     residual \u001b[39m=\u001b[39m block(\n\u001b[1;32m    481\u001b[0m         residual,\n\u001b[1;32m    482\u001b[0m         past_kv_cache_entry\u001b[39m=\u001b[39;49mpast_kv_cache[i]\n\u001b[1;32m    483\u001b[0m         \u001b[39mif\u001b[39;49;00m past_kv_cache \u001b[39mis\u001b[39;49;00m \u001b[39mnot\u001b[39;49;00m \u001b[39mNone\u001b[39;49;00m\n\u001b[1;32m    484\u001b[0m         \u001b[39melse\u001b[39;49;00m \u001b[39mNone\u001b[39;49;00m,  \u001b[39m# Cache contains a list of HookedTransformerKeyValueCache objects, one for each block\u001b[39;49;00m\n\u001b[1;32m    485\u001b[0m         shortformer_pos_embed\u001b[39m=\u001b[39;49mshortformer_pos_embed,\n\u001b[1;32m    486\u001b[0m         left_attention_mask\u001b[39m=\u001b[39;49mleft_attention_mask,\n\u001b[1;32m    487\u001b[0m     )  \u001b[39m# [batch, pos, d_model]\u001b[39;00m\n\u001b[1;32m    489\u001b[0m \u001b[39mif\u001b[39;00m stop_at_layer \u001b[39mis\u001b[39;00m \u001b[39mnot\u001b[39;00m \u001b[39mNone\u001b[39;00m:\n\u001b[1;32m    490\u001b[0m     \u001b[39m# When we stop at an early layer, we end here rather than doing further computation\u001b[39;00m\n\u001b[1;32m    491\u001b[0m     \u001b[39mreturn\u001b[39;00m \u001b[39mNone\u001b[39;00m\n",
      "File \u001b[0;32m~/miniconda3/envs/mpi/lib/python3.11/site-packages/torch/nn/modules/module.py:1501\u001b[0m, in \u001b[0;36mModule._call_impl\u001b[0;34m(self, *args, **kwargs)\u001b[0m\n\u001b[1;32m   1496\u001b[0m \u001b[39m# If we don't have any hooks, we want to skip the rest of the logic in\u001b[39;00m\n\u001b[1;32m   1497\u001b[0m \u001b[39m# this function, and just call forward.\u001b[39;00m\n\u001b[1;32m   1498\u001b[0m \u001b[39mif\u001b[39;00m \u001b[39mnot\u001b[39;00m (\u001b[39mself\u001b[39m\u001b[39m.\u001b[39m_backward_hooks \u001b[39mor\u001b[39;00m \u001b[39mself\u001b[39m\u001b[39m.\u001b[39m_backward_pre_hooks \u001b[39mor\u001b[39;00m \u001b[39mself\u001b[39m\u001b[39m.\u001b[39m_forward_hooks \u001b[39mor\u001b[39;00m \u001b[39mself\u001b[39m\u001b[39m.\u001b[39m_forward_pre_hooks\n\u001b[1;32m   1499\u001b[0m         \u001b[39mor\u001b[39;00m _global_backward_pre_hooks \u001b[39mor\u001b[39;00m _global_backward_hooks\n\u001b[1;32m   1500\u001b[0m         \u001b[39mor\u001b[39;00m _global_forward_hooks \u001b[39mor\u001b[39;00m _global_forward_pre_hooks):\n\u001b[0;32m-> 1501\u001b[0m     \u001b[39mreturn\u001b[39;00m forward_call(\u001b[39m*\u001b[39;49margs, \u001b[39m*\u001b[39;49m\u001b[39m*\u001b[39;49mkwargs)\n\u001b[1;32m   1502\u001b[0m \u001b[39m# Do not call functions when jit is used\u001b[39;00m\n\u001b[1;32m   1503\u001b[0m full_backward_hooks, non_full_backward_hooks \u001b[39m=\u001b[39m [], []\n",
      "File \u001b[0;32m~/miniconda3/envs/mpi/lib/python3.11/site-packages/transformer_lens/components.py:1043\u001b[0m, in \u001b[0;36mTransformerBlock.forward\u001b[0;34m(self, resid_pre, shortformer_pos_embed, past_kv_cache_entry, left_attention_mask)\u001b[0m\n\u001b[1;32m   1036\u001b[0m     \u001b[39mif\u001b[39;00m shortformer_pos_embed \u001b[39mis\u001b[39;00m \u001b[39mnot\u001b[39;00m \u001b[39mNone\u001b[39;00m:\n\u001b[1;32m   1037\u001b[0m         shortformer_pos_embed \u001b[39m=\u001b[39m add_head_dimension(shortformer_pos_embed)\n\u001b[1;32m   1039\u001b[0m attn_out \u001b[39m=\u001b[39m \u001b[39mself\u001b[39m\u001b[39m.\u001b[39mhook_attn_out(\n\u001b[1;32m   1040\u001b[0m     \u001b[39m# hook the residual stream states that are used to calculate the\u001b[39;00m\n\u001b[1;32m   1041\u001b[0m     \u001b[39m# queries, keys and values, independently.\u001b[39;00m\n\u001b[1;32m   1042\u001b[0m     \u001b[39m# Then take the layer norm of these inputs, and pass these to the attention module.\u001b[39;00m\n\u001b[0;32m-> 1043\u001b[0m     \u001b[39mself\u001b[39;49m\u001b[39m.\u001b[39;49mattn(\n\u001b[1;32m   1044\u001b[0m         query_input\u001b[39m=\u001b[39;49m\u001b[39mself\u001b[39;49m\u001b[39m.\u001b[39;49mln1(query_input)\n\u001b[1;32m   1045\u001b[0m         \u001b[39m+\u001b[39;49m (\u001b[39m0.0\u001b[39;49m \u001b[39mif\u001b[39;49;00m shortformer_pos_embed \u001b[39mis\u001b[39;49;00m \u001b[39mNone\u001b[39;49;00m \u001b[39melse\u001b[39;49;00m shortformer_pos_embed),\n\u001b[1;32m   1046\u001b[0m         key_input\u001b[39m=\u001b[39;49m\u001b[39mself\u001b[39;49m\u001b[39m.\u001b[39;49mln1(key_input)\n\u001b[1;32m   1047\u001b[0m         \u001b[39m+\u001b[39;49m (\u001b[39m0.0\u001b[39;49m \u001b[39mif\u001b[39;49;00m shortformer_pos_embed \u001b[39mis\u001b[39;49;00m \u001b[39mNone\u001b[39;49;00m \u001b[39melse\u001b[39;49;00m shortformer_pos_embed),\n\u001b[1;32m   1048\u001b[0m         value_input\u001b[39m=\u001b[39;49m\u001b[39mself\u001b[39;49m\u001b[39m.\u001b[39;49mln1(value_input),\n\u001b[1;32m   1049\u001b[0m         past_kv_cache_entry\u001b[39m=\u001b[39;49mpast_kv_cache_entry,\n\u001b[1;32m   1050\u001b[0m         left_attention_mask\u001b[39m=\u001b[39;49mleft_attention_mask,\n\u001b[1;32m   1051\u001b[0m     )\n\u001b[1;32m   1052\u001b[0m )  \u001b[39m# [batch, pos, d_model]\u001b[39;00m\n\u001b[1;32m   1053\u001b[0m \u001b[39mif\u001b[39;00m \u001b[39mnot\u001b[39;00m \u001b[39mself\u001b[39m\u001b[39m.\u001b[39mcfg\u001b[39m.\u001b[39mattn_only \u001b[39mand\u001b[39;00m \u001b[39mnot\u001b[39;00m \u001b[39mself\u001b[39m\u001b[39m.\u001b[39mcfg\u001b[39m.\u001b[39mparallel_attn_mlp:\n\u001b[1;32m   1054\u001b[0m     resid_mid \u001b[39m=\u001b[39m \u001b[39mself\u001b[39m\u001b[39m.\u001b[39mhook_resid_mid(\n\u001b[1;32m   1055\u001b[0m         resid_pre \u001b[39m+\u001b[39m attn_out\n\u001b[1;32m   1056\u001b[0m     )  \u001b[39m# [batch, pos, d_model]\u001b[39;00m\n",
      "File \u001b[0;32m~/miniconda3/envs/mpi/lib/python3.11/site-packages/torch/nn/modules/module.py:1501\u001b[0m, in \u001b[0;36mModule._call_impl\u001b[0;34m(self, *args, **kwargs)\u001b[0m\n\u001b[1;32m   1496\u001b[0m \u001b[39m# If we don't have any hooks, we want to skip the rest of the logic in\u001b[39;00m\n\u001b[1;32m   1497\u001b[0m \u001b[39m# this function, and just call forward.\u001b[39;00m\n\u001b[1;32m   1498\u001b[0m \u001b[39mif\u001b[39;00m \u001b[39mnot\u001b[39;00m (\u001b[39mself\u001b[39m\u001b[39m.\u001b[39m_backward_hooks \u001b[39mor\u001b[39;00m \u001b[39mself\u001b[39m\u001b[39m.\u001b[39m_backward_pre_hooks \u001b[39mor\u001b[39;00m \u001b[39mself\u001b[39m\u001b[39m.\u001b[39m_forward_hooks \u001b[39mor\u001b[39;00m \u001b[39mself\u001b[39m\u001b[39m.\u001b[39m_forward_pre_hooks\n\u001b[1;32m   1499\u001b[0m         \u001b[39mor\u001b[39;00m _global_backward_pre_hooks \u001b[39mor\u001b[39;00m _global_backward_hooks\n\u001b[1;32m   1500\u001b[0m         \u001b[39mor\u001b[39;00m _global_forward_hooks \u001b[39mor\u001b[39;00m _global_forward_pre_hooks):\n\u001b[0;32m-> 1501\u001b[0m     \u001b[39mreturn\u001b[39;00m forward_call(\u001b[39m*\u001b[39;49margs, \u001b[39m*\u001b[39;49m\u001b[39m*\u001b[39;49mkwargs)\n\u001b[1;32m   1502\u001b[0m \u001b[39m# Do not call functions when jit is used\u001b[39;00m\n\u001b[1;32m   1503\u001b[0m full_backward_hooks, non_full_backward_hooks \u001b[39m=\u001b[39m [], []\n",
      "File \u001b[0;32m~/miniconda3/envs/mpi/lib/python3.11/site-packages/transformer_lens/components.py:568\u001b[0m, in \u001b[0;36mAttention.forward\u001b[0;34m(self, query_input, key_input, value_input, past_kv_cache_entry, additive_attention_mask, left_attention_mask)\u001b[0m\n\u001b[1;32m    549\u001b[0m q \u001b[39m=\u001b[39m \u001b[39mself\u001b[39m\u001b[39m.\u001b[39mhook_q(\n\u001b[1;32m    550\u001b[0m     einsum(\n\u001b[1;32m    551\u001b[0m         \u001b[39mf\u001b[39m\u001b[39m\"\u001b[39m\u001b[39m{\u001b[39;00mqkv_einops_string\u001b[39m}\u001b[39;00m\u001b[39m, head_index d_model d_head \u001b[39m\u001b[39m\\\u001b[39;00m\n\u001b[0;32m   (...)\u001b[0m\n\u001b[1;32m    556\u001b[0m     \u001b[39m+\u001b[39m \u001b[39mself\u001b[39m\u001b[39m.\u001b[39mb_Q\n\u001b[1;32m    557\u001b[0m )  \u001b[39m# [batch, pos, head_index, d_head]\u001b[39;00m\n\u001b[1;32m    558\u001b[0m k \u001b[39m=\u001b[39m \u001b[39mself\u001b[39m\u001b[39m.\u001b[39mhook_k(\n\u001b[1;32m    559\u001b[0m     einsum(\n\u001b[1;32m    560\u001b[0m         \u001b[39mf\u001b[39m\u001b[39m\"\u001b[39m\u001b[39m{\u001b[39;00mqkv_einops_string\u001b[39m}\u001b[39;00m\u001b[39m, head_index d_model d_head \u001b[39m\u001b[39m\\\u001b[39;00m\n\u001b[0;32m   (...)\u001b[0m\n\u001b[1;32m    565\u001b[0m     \u001b[39m+\u001b[39m \u001b[39mself\u001b[39m\u001b[39m.\u001b[39mb_K\n\u001b[1;32m    566\u001b[0m )  \u001b[39m# [batch, pos, head_index, d_head]\u001b[39;00m\n\u001b[1;32m    567\u001b[0m v \u001b[39m=\u001b[39m \u001b[39mself\u001b[39m\u001b[39m.\u001b[39mhook_v(\n\u001b[0;32m--> 568\u001b[0m     einsum(\n\u001b[1;32m    569\u001b[0m         \u001b[39mf\u001b[39;49m\u001b[39m\"\u001b[39;49m\u001b[39m{\u001b[39;49;00mqkv_einops_string\u001b[39m}\u001b[39;49;00m\u001b[39m, head_index d_model d_head \u001b[39;49m\u001b[39m\\\u001b[39;49;00m\n\u001b[1;32m    570\u001b[0m \u001b[39m        -> batch pos head_index d_head\u001b[39;49m\u001b[39m\"\u001b[39;49m,\n\u001b[1;32m    571\u001b[0m         value_input,\n\u001b[1;32m    572\u001b[0m         \u001b[39mself\u001b[39;49m\u001b[39m.\u001b[39;49mW_V,\n\u001b[1;32m    573\u001b[0m     )\n\u001b[1;32m    574\u001b[0m     \u001b[39m+\u001b[39m \u001b[39mself\u001b[39m\u001b[39m.\u001b[39mb_V\n\u001b[1;32m    575\u001b[0m )  \u001b[39m# [batch, pos, head_index, d_head]\u001b[39;00m\n\u001b[1;32m    577\u001b[0m \u001b[39mif\u001b[39;00m past_kv_cache_entry \u001b[39mis\u001b[39;00m \u001b[39mnot\u001b[39;00m \u001b[39mNone\u001b[39;00m:\n\u001b[1;32m    578\u001b[0m     \u001b[39m# Appends the new keys and values to the cached values, and automatically updates the cache\u001b[39;00m\n\u001b[1;32m    579\u001b[0m     kv_cache_pos_offset \u001b[39m=\u001b[39m past_kv_cache_entry\u001b[39m.\u001b[39mpast_keys\u001b[39m.\u001b[39msize(\u001b[39m1\u001b[39m)\n",
      "File \u001b[0;32m~/miniconda3/envs/mpi/lib/python3.11/site-packages/fancy_einsum/__init__.py:136\u001b[0m, in \u001b[0;36meinsum\u001b[0;34m(equation, *operands)\u001b[0m\n\u001b[1;32m    134\u001b[0m backend \u001b[39m=\u001b[39m get_backend(operands[\u001b[39m0\u001b[39m])\n\u001b[1;32m    135\u001b[0m new_equation \u001b[39m=\u001b[39m convert_equation(equation)\n\u001b[0;32m--> 136\u001b[0m \u001b[39mreturn\u001b[39;00m backend\u001b[39m.\u001b[39;49meinsum(new_equation, \u001b[39m*\u001b[39;49moperands)\n",
      "File \u001b[0;32m~/miniconda3/envs/mpi/lib/python3.11/site-packages/fancy_einsum/__init__.py:54\u001b[0m, in \u001b[0;36mTorchBackend.einsum\u001b[0;34m(self, equation, *operands)\u001b[0m\n\u001b[1;32m     53\u001b[0m \u001b[39mdef\u001b[39;00m \u001b[39meinsum\u001b[39m(\u001b[39mself\u001b[39m, equation, \u001b[39m*\u001b[39moperands):\n\u001b[0;32m---> 54\u001b[0m     \u001b[39mreturn\u001b[39;00m \u001b[39mself\u001b[39;49m\u001b[39m.\u001b[39;49mtorch\u001b[39m.\u001b[39;49meinsum(equation, \u001b[39m*\u001b[39;49moperands)\n",
      "File \u001b[0;32m~/miniconda3/envs/mpi/lib/python3.11/site-packages/torch/functional.py:378\u001b[0m, in \u001b[0;36meinsum\u001b[0;34m(*args)\u001b[0m\n\u001b[1;32m    373\u001b[0m     \u001b[39mreturn\u001b[39;00m einsum(equation, \u001b[39m*\u001b[39m_operands)\n\u001b[1;32m    375\u001b[0m \u001b[39mif\u001b[39;00m \u001b[39mlen\u001b[39m(operands) \u001b[39m<\u001b[39m\u001b[39m=\u001b[39m \u001b[39m2\u001b[39m \u001b[39mor\u001b[39;00m \u001b[39mnot\u001b[39;00m opt_einsum\u001b[39m.\u001b[39menabled:\n\u001b[1;32m    376\u001b[0m     \u001b[39m# the path for contracting 0 or 1 time(s) is already optimized\u001b[39;00m\n\u001b[1;32m    377\u001b[0m     \u001b[39m# or the user has disabled using opt_einsum\u001b[39;00m\n\u001b[0;32m--> 378\u001b[0m     \u001b[39mreturn\u001b[39;00m _VF\u001b[39m.\u001b[39;49meinsum(equation, operands)  \u001b[39m# type: ignore[attr-defined]\u001b[39;00m\n\u001b[1;32m    380\u001b[0m path \u001b[39m=\u001b[39m \u001b[39mNone\u001b[39;00m\n\u001b[1;32m    381\u001b[0m \u001b[39mif\u001b[39;00m opt_einsum\u001b[39m.\u001b[39mis_available():\n",
      "\u001b[0;31mKeyboardInterrupt\u001b[0m: "
     ]
    }
   ],
   "source": [
    "pos_resid_pre_act_patch_results = patch_resid_pre(model, input_ids, input_ids_corrupted, clean_cache, metric)\n",
    "imshow_reversed(pos_resid_pre_act_patch_results, \n",
    "    yaxis=\"Layer\", \n",
    "    xaxis=\"Position\", \n",
    "    x=[f\"{tok} {i}\" for i, tok in enumerate(model.to_str_tokens(input_ids[0]))],\n",
    "    title=\"resid_pre Activation Patching\")"
   ]
  },
  {
   "cell_type": "code",
   "execution_count": null,
   "metadata": {},
   "outputs": [
    {
     "name": "stderr",
     "output_type": "stream",
     "text": [
      "  0%|          | 0/144 [00:00<?, ?it/s]"
     ]
    },
    {
     "name": "stderr",
     "output_type": "stream",
     "text": [
      "100%|██████████| 144/144 [00:41<00:00,  3.50it/s]\n"
     ]
    },
    {
     "data": {
      "application/vnd.plotly.v1+json": {
       "config": {
        "plotlyServerURL": "https://plot.ly"
       },
       "data": [
        {
         "coloraxis": "coloraxis",
         "hovertemplate": "x: %{x}<br>y: %{y}<br>color: %{z}<extra></extra>",
         "name": "0",
         "type": "heatmap",
         "xaxis": "x",
         "yaxis": "y",
         "z": [
          [
           0.09663834422826767,
           0.10994267463684082,
           0.10457564145326614,
           0.09551283717155457,
           0.10600603371858597,
           0.08943586051464081,
           0.12298789620399475,
           0.08797010779380798,
           0.06469897925853729,
           0.08698071539402008,
           0.04368118569254875,
           0.0904201939702034
          ],
          [
           0.09114808589220047,
           0.08910039812326431,
           0.0943363830447197,
           0.0947703942656517,
           0.09429934620857239,
           0.09417518228292465,
           0.10158626735210419,
           0.06339976191520691,
           0.10723395645618439,
           0.09939917922019958,
           0.09192509204149246,
           0.07233791798353195
          ],
          [
           0.09017405658960342,
           0.1016765683889389,
           0.08315455168485641,
           0.08915597200393677,
           0.0910595953464508,
           0.09089291095733643,
           0.09956559538841248,
           0.10722630470991135,
           0.09753306210041046,
           0.09334030002355576,
           0.09522122889757156,
           0.08863081783056259
          ],
          [
           0.0895109549164772,
           0.09235908091068268,
           0.0863564983010292,
           0.0859699696302414,
           0.08757904917001724,
           0.10612984001636505,
           0.09192895144224167,
           0.10078147798776627,
           0.09490847587585449,
           0.09713800996541977,
           0.10551626235246658,
           0.08765530586242676
          ],
          [
           0.09258926659822464,
           0.0987468808889389,
           0.10354915261268616,
           0.10240191966295242,
           0.1087041050195694,
           0.09638039767742157,
           0.08806433528661728,
           0.0966888889670372,
           0.0893138200044632,
           0.1030278131365776,
           0.09812597930431366,
           0.0895153135061264
          ],
          [
           0.09004157036542892,
           0.10310150682926178,
           0.10268581658601761,
           0.09453758597373962,
           0.09994522482156754,
           0.0928042009472847,
           0.09540998935699463,
           0.09493158757686615,
           0.10522346943616867,
           0.0616048239171505,
           0.09818216413259506,
           0.0942235216498375
          ],
          [
           0.09219151735305786,
           0.09753512591123581,
           0.09995412081480026,
           0.08771654218435287,
           0.08782997727394104,
           0.10214152187108994,
           0.0966954231262207,
           0.0881316140294075,
           0.09475135058164597,
           0.073202945291996,
           0.09407992660999298,
           0.09705536812543869
          ],
          [
           0.09550727158784866,
           0.09217128157615662,
           0.08582986146211624,
           0.09448786824941635,
           0.0988992378115654,
           0.09556183964014053,
           0.0952538549900055,
           0.12342505902051926,
           0.09822814911603928,
           0.07965143024921417,
           0.09526309370994568,
           0.08451788872480392
          ],
          [
           0.08166590332984924,
           0.0880560576915741,
           0.10098522901535034,
           0.08964680135250092,
           0.096932053565979,
           0.09856792539358139,
           0.0841313973069191,
           0.0897989347577095,
           0.09459422528743744,
           0.09523113071918488,
           0.10984452813863754,
           0.09373313188552856
          ],
          [
           0.09481695294380188,
           0.09580813348293304,
           0.0829450860619545,
           0.09854868054389954,
           0.09929230809211731,
           0.10016416758298874,
           0.08725140243768692,
           0.09914760291576385,
           0.08584850281476974,
           0.09524424374103546,
           0.09358292818069458,
           0.09164787828922272
          ],
          [
           0.0433141365647316,
           0.09508689492940903,
           0.08870009332895279,
           0.09210287034511566,
           0.09107205271720886,
           0.0930822417140007,
           0.09076589345932007,
           0.14788660407066345,
           0.095098577439785,
           0.08666129410266876,
           0.09545829147100449,
           0.10031624138355255
          ],
          [
           0.09791525453329086,
           0.09605611860752106,
           0.10001733899116516,
           0.10617576539516449,
           0.09030132740736008,
           0.09282159805297852,
           0.1006852462887764,
           0.0860506221652031,
           0.0975262001156807,
           0.09549093246459961,
           0.11199089884757996,
           0.09063871949911118
          ]
         ]
        }
       ],
       "layout": {
        "coloraxis": {
         "cmid": 0,
         "colorscale": [
          [
           0,
           "rgb(5,48,97)"
          ],
          [
           0.1,
           "rgb(33,102,172)"
          ],
          [
           0.2,
           "rgb(67,147,195)"
          ],
          [
           0.3,
           "rgb(146,197,222)"
          ],
          [
           0.4,
           "rgb(209,229,240)"
          ],
          [
           0.5,
           "rgb(247,247,247)"
          ],
          [
           0.6,
           "rgb(253,219,199)"
          ],
          [
           0.7,
           "rgb(244,165,130)"
          ],
          [
           0.8,
           "rgb(214,96,77)"
          ],
          [
           0.9,
           "rgb(178,24,43)"
          ],
          [
           1,
           "rgb(103,0,31)"
          ]
         ]
        },
        "template": {
         "data": {
          "bar": [
           {
            "error_x": {
             "color": "#2a3f5f"
            },
            "error_y": {
             "color": "#2a3f5f"
            },
            "marker": {
             "line": {
              "color": "#E5ECF6",
              "width": 0.5
             },
             "pattern": {
              "fillmode": "overlay",
              "size": 10,
              "solidity": 0.2
             }
            },
            "type": "bar"
           }
          ],
          "barpolar": [
           {
            "marker": {
             "line": {
              "color": "#E5ECF6",
              "width": 0.5
             },
             "pattern": {
              "fillmode": "overlay",
              "size": 10,
              "solidity": 0.2
             }
            },
            "type": "barpolar"
           }
          ],
          "carpet": [
           {
            "aaxis": {
             "endlinecolor": "#2a3f5f",
             "gridcolor": "white",
             "linecolor": "white",
             "minorgridcolor": "white",
             "startlinecolor": "#2a3f5f"
            },
            "baxis": {
             "endlinecolor": "#2a3f5f",
             "gridcolor": "white",
             "linecolor": "white",
             "minorgridcolor": "white",
             "startlinecolor": "#2a3f5f"
            },
            "type": "carpet"
           }
          ],
          "choropleth": [
           {
            "colorbar": {
             "outlinewidth": 0,
             "ticks": ""
            },
            "type": "choropleth"
           }
          ],
          "contour": [
           {
            "colorbar": {
             "outlinewidth": 0,
             "ticks": ""
            },
            "colorscale": [
             [
              0,
              "#0d0887"
             ],
             [
              0.1111111111111111,
              "#46039f"
             ],
             [
              0.2222222222222222,
              "#7201a8"
             ],
             [
              0.3333333333333333,
              "#9c179e"
             ],
             [
              0.4444444444444444,
              "#bd3786"
             ],
             [
              0.5555555555555556,
              "#d8576b"
             ],
             [
              0.6666666666666666,
              "#ed7953"
             ],
             [
              0.7777777777777778,
              "#fb9f3a"
             ],
             [
              0.8888888888888888,
              "#fdca26"
             ],
             [
              1,
              "#f0f921"
             ]
            ],
            "type": "contour"
           }
          ],
          "contourcarpet": [
           {
            "colorbar": {
             "outlinewidth": 0,
             "ticks": ""
            },
            "type": "contourcarpet"
           }
          ],
          "heatmap": [
           {
            "colorbar": {
             "outlinewidth": 0,
             "ticks": ""
            },
            "colorscale": [
             [
              0,
              "#0d0887"
             ],
             [
              0.1111111111111111,
              "#46039f"
             ],
             [
              0.2222222222222222,
              "#7201a8"
             ],
             [
              0.3333333333333333,
              "#9c179e"
             ],
             [
              0.4444444444444444,
              "#bd3786"
             ],
             [
              0.5555555555555556,
              "#d8576b"
             ],
             [
              0.6666666666666666,
              "#ed7953"
             ],
             [
              0.7777777777777778,
              "#fb9f3a"
             ],
             [
              0.8888888888888888,
              "#fdca26"
             ],
             [
              1,
              "#f0f921"
             ]
            ],
            "type": "heatmap"
           }
          ],
          "heatmapgl": [
           {
            "colorbar": {
             "outlinewidth": 0,
             "ticks": ""
            },
            "colorscale": [
             [
              0,
              "#0d0887"
             ],
             [
              0.1111111111111111,
              "#46039f"
             ],
             [
              0.2222222222222222,
              "#7201a8"
             ],
             [
              0.3333333333333333,
              "#9c179e"
             ],
             [
              0.4444444444444444,
              "#bd3786"
             ],
             [
              0.5555555555555556,
              "#d8576b"
             ],
             [
              0.6666666666666666,
              "#ed7953"
             ],
             [
              0.7777777777777778,
              "#fb9f3a"
             ],
             [
              0.8888888888888888,
              "#fdca26"
             ],
             [
              1,
              "#f0f921"
             ]
            ],
            "type": "heatmapgl"
           }
          ],
          "histogram": [
           {
            "marker": {
             "pattern": {
              "fillmode": "overlay",
              "size": 10,
              "solidity": 0.2
             }
            },
            "type": "histogram"
           }
          ],
          "histogram2d": [
           {
            "colorbar": {
             "outlinewidth": 0,
             "ticks": ""
            },
            "colorscale": [
             [
              0,
              "#0d0887"
             ],
             [
              0.1111111111111111,
              "#46039f"
             ],
             [
              0.2222222222222222,
              "#7201a8"
             ],
             [
              0.3333333333333333,
              "#9c179e"
             ],
             [
              0.4444444444444444,
              "#bd3786"
             ],
             [
              0.5555555555555556,
              "#d8576b"
             ],
             [
              0.6666666666666666,
              "#ed7953"
             ],
             [
              0.7777777777777778,
              "#fb9f3a"
             ],
             [
              0.8888888888888888,
              "#fdca26"
             ],
             [
              1,
              "#f0f921"
             ]
            ],
            "type": "histogram2d"
           }
          ],
          "histogram2dcontour": [
           {
            "colorbar": {
             "outlinewidth": 0,
             "ticks": ""
            },
            "colorscale": [
             [
              0,
              "#0d0887"
             ],
             [
              0.1111111111111111,
              "#46039f"
             ],
             [
              0.2222222222222222,
              "#7201a8"
             ],
             [
              0.3333333333333333,
              "#9c179e"
             ],
             [
              0.4444444444444444,
              "#bd3786"
             ],
             [
              0.5555555555555556,
              "#d8576b"
             ],
             [
              0.6666666666666666,
              "#ed7953"
             ],
             [
              0.7777777777777778,
              "#fb9f3a"
             ],
             [
              0.8888888888888888,
              "#fdca26"
             ],
             [
              1,
              "#f0f921"
             ]
            ],
            "type": "histogram2dcontour"
           }
          ],
          "mesh3d": [
           {
            "colorbar": {
             "outlinewidth": 0,
             "ticks": ""
            },
            "type": "mesh3d"
           }
          ],
          "parcoords": [
           {
            "line": {
             "colorbar": {
              "outlinewidth": 0,
              "ticks": ""
             }
            },
            "type": "parcoords"
           }
          ],
          "pie": [
           {
            "automargin": true,
            "type": "pie"
           }
          ],
          "scatter": [
           {
            "fillpattern": {
             "fillmode": "overlay",
             "size": 10,
             "solidity": 0.2
            },
            "type": "scatter"
           }
          ],
          "scatter3d": [
           {
            "line": {
             "colorbar": {
              "outlinewidth": 0,
              "ticks": ""
             }
            },
            "marker": {
             "colorbar": {
              "outlinewidth": 0,
              "ticks": ""
             }
            },
            "type": "scatter3d"
           }
          ],
          "scattercarpet": [
           {
            "marker": {
             "colorbar": {
              "outlinewidth": 0,
              "ticks": ""
             }
            },
            "type": "scattercarpet"
           }
          ],
          "scattergeo": [
           {
            "marker": {
             "colorbar": {
              "outlinewidth": 0,
              "ticks": ""
             }
            },
            "type": "scattergeo"
           }
          ],
          "scattergl": [
           {
            "marker": {
             "colorbar": {
              "outlinewidth": 0,
              "ticks": ""
             }
            },
            "type": "scattergl"
           }
          ],
          "scattermapbox": [
           {
            "marker": {
             "colorbar": {
              "outlinewidth": 0,
              "ticks": ""
             }
            },
            "type": "scattermapbox"
           }
          ],
          "scatterpolar": [
           {
            "marker": {
             "colorbar": {
              "outlinewidth": 0,
              "ticks": ""
             }
            },
            "type": "scatterpolar"
           }
          ],
          "scatterpolargl": [
           {
            "marker": {
             "colorbar": {
              "outlinewidth": 0,
              "ticks": ""
             }
            },
            "type": "scatterpolargl"
           }
          ],
          "scatterternary": [
           {
            "marker": {
             "colorbar": {
              "outlinewidth": 0,
              "ticks": ""
             }
            },
            "type": "scatterternary"
           }
          ],
          "surface": [
           {
            "colorbar": {
             "outlinewidth": 0,
             "ticks": ""
            },
            "colorscale": [
             [
              0,
              "#0d0887"
             ],
             [
              0.1111111111111111,
              "#46039f"
             ],
             [
              0.2222222222222222,
              "#7201a8"
             ],
             [
              0.3333333333333333,
              "#9c179e"
             ],
             [
              0.4444444444444444,
              "#bd3786"
             ],
             [
              0.5555555555555556,
              "#d8576b"
             ],
             [
              0.6666666666666666,
              "#ed7953"
             ],
             [
              0.7777777777777778,
              "#fb9f3a"
             ],
             [
              0.8888888888888888,
              "#fdca26"
             ],
             [
              1,
              "#f0f921"
             ]
            ],
            "type": "surface"
           }
          ],
          "table": [
           {
            "cells": {
             "fill": {
              "color": "#EBF0F8"
             },
             "line": {
              "color": "white"
             }
            },
            "header": {
             "fill": {
              "color": "#C8D4E3"
             },
             "line": {
              "color": "white"
             }
            },
            "type": "table"
           }
          ]
         },
         "layout": {
          "annotationdefaults": {
           "arrowcolor": "#2a3f5f",
           "arrowhead": 0,
           "arrowwidth": 1
          },
          "autotypenumbers": "strict",
          "coloraxis": {
           "colorbar": {
            "outlinewidth": 0,
            "ticks": ""
           }
          },
          "colorscale": {
           "diverging": [
            [
             0,
             "#8e0152"
            ],
            [
             0.1,
             "#c51b7d"
            ],
            [
             0.2,
             "#de77ae"
            ],
            [
             0.3,
             "#f1b6da"
            ],
            [
             0.4,
             "#fde0ef"
            ],
            [
             0.5,
             "#f7f7f7"
            ],
            [
             0.6,
             "#e6f5d0"
            ],
            [
             0.7,
             "#b8e186"
            ],
            [
             0.8,
             "#7fbc41"
            ],
            [
             0.9,
             "#4d9221"
            ],
            [
             1,
             "#276419"
            ]
           ],
           "sequential": [
            [
             0,
             "#0d0887"
            ],
            [
             0.1111111111111111,
             "#46039f"
            ],
            [
             0.2222222222222222,
             "#7201a8"
            ],
            [
             0.3333333333333333,
             "#9c179e"
            ],
            [
             0.4444444444444444,
             "#bd3786"
            ],
            [
             0.5555555555555556,
             "#d8576b"
            ],
            [
             0.6666666666666666,
             "#ed7953"
            ],
            [
             0.7777777777777778,
             "#fb9f3a"
            ],
            [
             0.8888888888888888,
             "#fdca26"
            ],
            [
             1,
             "#f0f921"
            ]
           ],
           "sequentialminus": [
            [
             0,
             "#0d0887"
            ],
            [
             0.1111111111111111,
             "#46039f"
            ],
            [
             0.2222222222222222,
             "#7201a8"
            ],
            [
             0.3333333333333333,
             "#9c179e"
            ],
            [
             0.4444444444444444,
             "#bd3786"
            ],
            [
             0.5555555555555556,
             "#d8576b"
            ],
            [
             0.6666666666666666,
             "#ed7953"
            ],
            [
             0.7777777777777778,
             "#fb9f3a"
            ],
            [
             0.8888888888888888,
             "#fdca26"
            ],
            [
             1,
             "#f0f921"
            ]
           ]
          },
          "colorway": [
           "#636efa",
           "#EF553B",
           "#00cc96",
           "#ab63fa",
           "#FFA15A",
           "#19d3f3",
           "#FF6692",
           "#B6E880",
           "#FF97FF",
           "#FECB52"
          ],
          "font": {
           "color": "#2a3f5f"
          },
          "geo": {
           "bgcolor": "white",
           "lakecolor": "white",
           "landcolor": "#E5ECF6",
           "showlakes": true,
           "showland": true,
           "subunitcolor": "white"
          },
          "hoverlabel": {
           "align": "left"
          },
          "hovermode": "closest",
          "mapbox": {
           "style": "light"
          },
          "paper_bgcolor": "white",
          "plot_bgcolor": "#E5ECF6",
          "polar": {
           "angularaxis": {
            "gridcolor": "white",
            "linecolor": "white",
            "ticks": ""
           },
           "bgcolor": "#E5ECF6",
           "radialaxis": {
            "gridcolor": "white",
            "linecolor": "white",
            "ticks": ""
           }
          },
          "scene": {
           "xaxis": {
            "backgroundcolor": "#E5ECF6",
            "gridcolor": "white",
            "gridwidth": 2,
            "linecolor": "white",
            "showbackground": true,
            "ticks": "",
            "zerolinecolor": "white"
           },
           "yaxis": {
            "backgroundcolor": "#E5ECF6",
            "gridcolor": "white",
            "gridwidth": 2,
            "linecolor": "white",
            "showbackground": true,
            "ticks": "",
            "zerolinecolor": "white"
           },
           "zaxis": {
            "backgroundcolor": "#E5ECF6",
            "gridcolor": "white",
            "gridwidth": 2,
            "linecolor": "white",
            "showbackground": true,
            "ticks": "",
            "zerolinecolor": "white"
           }
          },
          "shapedefaults": {
           "line": {
            "color": "#2a3f5f"
           }
          },
          "ternary": {
           "aaxis": {
            "gridcolor": "white",
            "linecolor": "white",
            "ticks": ""
           },
           "baxis": {
            "gridcolor": "white",
            "linecolor": "white",
            "ticks": ""
           },
           "bgcolor": "#E5ECF6",
           "caxis": {
            "gridcolor": "white",
            "linecolor": "white",
            "ticks": ""
           }
          },
          "title": {
           "x": 0.05
          },
          "xaxis": {
           "automargin": true,
           "gridcolor": "white",
           "linecolor": "white",
           "ticks": "",
           "title": {
            "standoff": 15
           },
           "zerolinecolor": "white",
           "zerolinewidth": 2
          },
          "yaxis": {
           "automargin": true,
           "gridcolor": "white",
           "linecolor": "white",
           "ticks": "",
           "title": {
            "standoff": 15
           },
           "zerolinecolor": "white",
           "zerolinewidth": 2
          }
         }
        },
        "title": {
         "text": "attn_head_out Activation Patching (All Pos)"
        },
        "xaxis": {
         "anchor": "y",
         "domain": [
          0,
          1
         ],
         "title": {
          "text": "Head"
         }
        },
        "yaxis": {
         "anchor": "x",
         "autorange": "reversed",
         "domain": [
          0,
          1
         ],
         "title": {
          "text": "Layer"
         }
        }
       }
      }
     },
     "metadata": {},
     "output_type": "display_data"
    },
    {
     "name": "stderr",
     "output_type": "stream",
     "text": [
      "100%|██████████| 144/144 [00:42<00:00,  3.35it/s]\n"
     ]
    },
    {
     "data": {
      "application/vnd.plotly.v1+json": {
       "config": {
        "plotlyServerURL": "https://plot.ly"
       },
       "data": [
        {
         "coloraxis": "coloraxis",
         "hovertemplate": "x: %{x}<br>y: %{y}<br>color: %{z}<extra></extra>",
         "name": "0",
         "type": "heatmap",
         "xaxis": "x",
         "yaxis": "y",
         "z": [
          [
           0.026179885491728783,
           0.05102642625570297,
           0.0200547706335783,
           0.0025614381302148104,
           0.015626156702637672,
           0.022514348849654198,
           0.013033812865614891,
           0.015511715784668922,
           0.016661493107676506,
           0.006408662535250187,
           0.0003340316179674119,
           0.016819339245557785
          ],
          [
           0.017805850133299828,
           0.010740255936980247,
           0.016433339565992355,
           0.004243003204464912,
           0.022666247561573982,
           0.01236225850880146,
           0.032989807426929474,
           0.015584093518555164,
           0.01988695003092289,
           0.02163122594356537,
           0.022733626887202263,
           0.03652271628379822
          ],
          [
           0.02246028184890747,
           0.013526828959584236,
           0.013932772912085056,
           0.013785823248326778,
           0.021060442551970482,
           0.016445159912109375,
           0.017655132338404655,
           0.03581599146127701,
           0.013312448747456074,
           0.01125205960124731,
           0.005381544586271048,
           0.02359352447092533
          ],
          [
           0.03124694898724556,
           0.023690473288297653,
           0.02106579951941967,
           0.018894121050834656,
           0.018882282078266144,
           0.0117021594196558,
           0.006538336630910635,
           0.016364168375730515,
           0.018083246424794197,
           0.019470306113362312,
           0.022320469841361046,
           0.020019661635160446
          ],
          [
           0.014566469937562943,
           0.018627729266881943,
           0.016969744116067886,
           0.006197651848196983,
           0.01676194928586483,
           0.021066877990961075,
           0.012307078577578068,
           0.029223987832665443,
           0.02872183732688427,
           0.019903548061847687,
           0.01787036843597889,
           0.016748078167438507
          ],
          [
           0.022387661039829254,
           0.015586700290441513,
           0.02179686538875103,
           0.019432097673416138,
           0.02264309860765934,
           0.02215997502207756,
           0.024415431544184685,
           0.023499809205532074,
           -0.005170237272977829,
           0.017350051552057266,
           0.01362890750169754,
           0.029115870594978333
          ],
          [
           0.009998246096074581,
           0.022727612406015396,
           0.01205983106046915,
           0.009751326404511929,
           0.019457580521702766,
           0.0172372218221426,
           0.050986047834157944,
           0.020230604335665703,
           0.016445539891719818,
           0.023573247715830803,
           -0.00806649960577488,
           0.020137982442975044
          ],
          [
           0.017153264954686165,
           0.022728966549038887,
           0.022820819169282913,
           0.02257845550775528,
           0.020430656149983406,
           0.017895344644784927,
           0.0024258706253021955,
           0.00967741385102272,
           0.022661596536636353,
           0.014149420894682407,
           0.020223211497068405,
           0.01685132272541523
          ],
          [
           0.030256543308496475,
           0.019640028476715088,
           0.018617989495396614,
           0.019475167617201805,
           0.018760710954666138,
           -0.0019719700794667006,
           0.018119946122169495,
           0.02165050432085991,
           0.01946379616856575,
           0.020426660776138306,
           0.021420525386929512,
           0.019451092928647995
          ],
          [
           0.018116679042577744,
           0.01946878992021084,
           0.01911928504705429,
           0.009610447101294994,
           0.02233993634581566,
           0.018499819561839104,
           0.023611916229128838,
           0.01854930818080902,
           0.01843160204589367,
           0.024100689217448235,
           0.01940934732556343,
           0.018841668963432312
          ],
          [
           0.02447679452598095,
           0.01969645358622074,
           0.020230621099472046,
           0.019172798842191696,
           0.019208936020731926,
           0.01914830505847931,
           0.02189265377819538,
           0.015616308897733688,
           0.019583547487854958,
           0.020266231149435043,
           0.021976588293910027,
           0.0186536256223917
          ],
          [
           0.022575844079256058,
           0.01893710531294346,
           0.017595265060663223,
           0.0166031327098608,
           0.019103609025478363,
           0.022563649341464043,
           0.018065452575683594,
           0.02006341516971588,
           0.020336857065558434,
           0.017401056364178658,
           0.01892668940126896,
           0.013012277893722057
          ]
         ]
        }
       ],
       "layout": {
        "coloraxis": {
         "cmid": 0,
         "colorscale": [
          [
           0,
           "rgb(103,0,31)"
          ],
          [
           0.1,
           "rgb(178,24,43)"
          ],
          [
           0.2,
           "rgb(214,96,77)"
          ],
          [
           0.3,
           "rgb(244,165,130)"
          ],
          [
           0.4,
           "rgb(253,219,199)"
          ],
          [
           0.5,
           "rgb(247,247,247)"
          ],
          [
           0.6,
           "rgb(209,229,240)"
          ],
          [
           0.7,
           "rgb(146,197,222)"
          ],
          [
           0.8,
           "rgb(67,147,195)"
          ],
          [
           0.9,
           "rgb(33,102,172)"
          ],
          [
           1,
           "rgb(5,48,97)"
          ]
         ]
        },
        "template": {
         "data": {
          "bar": [
           {
            "error_x": {
             "color": "#2a3f5f"
            },
            "error_y": {
             "color": "#2a3f5f"
            },
            "marker": {
             "line": {
              "color": "#E5ECF6",
              "width": 0.5
             },
             "pattern": {
              "fillmode": "overlay",
              "size": 10,
              "solidity": 0.2
             }
            },
            "type": "bar"
           }
          ],
          "barpolar": [
           {
            "marker": {
             "line": {
              "color": "#E5ECF6",
              "width": 0.5
             },
             "pattern": {
              "fillmode": "overlay",
              "size": 10,
              "solidity": 0.2
             }
            },
            "type": "barpolar"
           }
          ],
          "carpet": [
           {
            "aaxis": {
             "endlinecolor": "#2a3f5f",
             "gridcolor": "white",
             "linecolor": "white",
             "minorgridcolor": "white",
             "startlinecolor": "#2a3f5f"
            },
            "baxis": {
             "endlinecolor": "#2a3f5f",
             "gridcolor": "white",
             "linecolor": "white",
             "minorgridcolor": "white",
             "startlinecolor": "#2a3f5f"
            },
            "type": "carpet"
           }
          ],
          "choropleth": [
           {
            "colorbar": {
             "outlinewidth": 0,
             "ticks": ""
            },
            "type": "choropleth"
           }
          ],
          "contour": [
           {
            "colorbar": {
             "outlinewidth": 0,
             "ticks": ""
            },
            "colorscale": [
             [
              0,
              "#0d0887"
             ],
             [
              0.1111111111111111,
              "#46039f"
             ],
             [
              0.2222222222222222,
              "#7201a8"
             ],
             [
              0.3333333333333333,
              "#9c179e"
             ],
             [
              0.4444444444444444,
              "#bd3786"
             ],
             [
              0.5555555555555556,
              "#d8576b"
             ],
             [
              0.6666666666666666,
              "#ed7953"
             ],
             [
              0.7777777777777778,
              "#fb9f3a"
             ],
             [
              0.8888888888888888,
              "#fdca26"
             ],
             [
              1,
              "#f0f921"
             ]
            ],
            "type": "contour"
           }
          ],
          "contourcarpet": [
           {
            "colorbar": {
             "outlinewidth": 0,
             "ticks": ""
            },
            "type": "contourcarpet"
           }
          ],
          "heatmap": [
           {
            "colorbar": {
             "outlinewidth": 0,
             "ticks": ""
            },
            "colorscale": [
             [
              0,
              "#0d0887"
             ],
             [
              0.1111111111111111,
              "#46039f"
             ],
             [
              0.2222222222222222,
              "#7201a8"
             ],
             [
              0.3333333333333333,
              "#9c179e"
             ],
             [
              0.4444444444444444,
              "#bd3786"
             ],
             [
              0.5555555555555556,
              "#d8576b"
             ],
             [
              0.6666666666666666,
              "#ed7953"
             ],
             [
              0.7777777777777778,
              "#fb9f3a"
             ],
             [
              0.8888888888888888,
              "#fdca26"
             ],
             [
              1,
              "#f0f921"
             ]
            ],
            "type": "heatmap"
           }
          ],
          "heatmapgl": [
           {
            "colorbar": {
             "outlinewidth": 0,
             "ticks": ""
            },
            "colorscale": [
             [
              0,
              "#0d0887"
             ],
             [
              0.1111111111111111,
              "#46039f"
             ],
             [
              0.2222222222222222,
              "#7201a8"
             ],
             [
              0.3333333333333333,
              "#9c179e"
             ],
             [
              0.4444444444444444,
              "#bd3786"
             ],
             [
              0.5555555555555556,
              "#d8576b"
             ],
             [
              0.6666666666666666,
              "#ed7953"
             ],
             [
              0.7777777777777778,
              "#fb9f3a"
             ],
             [
              0.8888888888888888,
              "#fdca26"
             ],
             [
              1,
              "#f0f921"
             ]
            ],
            "type": "heatmapgl"
           }
          ],
          "histogram": [
           {
            "marker": {
             "pattern": {
              "fillmode": "overlay",
              "size": 10,
              "solidity": 0.2
             }
            },
            "type": "histogram"
           }
          ],
          "histogram2d": [
           {
            "colorbar": {
             "outlinewidth": 0,
             "ticks": ""
            },
            "colorscale": [
             [
              0,
              "#0d0887"
             ],
             [
              0.1111111111111111,
              "#46039f"
             ],
             [
              0.2222222222222222,
              "#7201a8"
             ],
             [
              0.3333333333333333,
              "#9c179e"
             ],
             [
              0.4444444444444444,
              "#bd3786"
             ],
             [
              0.5555555555555556,
              "#d8576b"
             ],
             [
              0.6666666666666666,
              "#ed7953"
             ],
             [
              0.7777777777777778,
              "#fb9f3a"
             ],
             [
              0.8888888888888888,
              "#fdca26"
             ],
             [
              1,
              "#f0f921"
             ]
            ],
            "type": "histogram2d"
           }
          ],
          "histogram2dcontour": [
           {
            "colorbar": {
             "outlinewidth": 0,
             "ticks": ""
            },
            "colorscale": [
             [
              0,
              "#0d0887"
             ],
             [
              0.1111111111111111,
              "#46039f"
             ],
             [
              0.2222222222222222,
              "#7201a8"
             ],
             [
              0.3333333333333333,
              "#9c179e"
             ],
             [
              0.4444444444444444,
              "#bd3786"
             ],
             [
              0.5555555555555556,
              "#d8576b"
             ],
             [
              0.6666666666666666,
              "#ed7953"
             ],
             [
              0.7777777777777778,
              "#fb9f3a"
             ],
             [
              0.8888888888888888,
              "#fdca26"
             ],
             [
              1,
              "#f0f921"
             ]
            ],
            "type": "histogram2dcontour"
           }
          ],
          "mesh3d": [
           {
            "colorbar": {
             "outlinewidth": 0,
             "ticks": ""
            },
            "type": "mesh3d"
           }
          ],
          "parcoords": [
           {
            "line": {
             "colorbar": {
              "outlinewidth": 0,
              "ticks": ""
             }
            },
            "type": "parcoords"
           }
          ],
          "pie": [
           {
            "automargin": true,
            "type": "pie"
           }
          ],
          "scatter": [
           {
            "fillpattern": {
             "fillmode": "overlay",
             "size": 10,
             "solidity": 0.2
            },
            "type": "scatter"
           }
          ],
          "scatter3d": [
           {
            "line": {
             "colorbar": {
              "outlinewidth": 0,
              "ticks": ""
             }
            },
            "marker": {
             "colorbar": {
              "outlinewidth": 0,
              "ticks": ""
             }
            },
            "type": "scatter3d"
           }
          ],
          "scattercarpet": [
           {
            "marker": {
             "colorbar": {
              "outlinewidth": 0,
              "ticks": ""
             }
            },
            "type": "scattercarpet"
           }
          ],
          "scattergeo": [
           {
            "marker": {
             "colorbar": {
              "outlinewidth": 0,
              "ticks": ""
             }
            },
            "type": "scattergeo"
           }
          ],
          "scattergl": [
           {
            "marker": {
             "colorbar": {
              "outlinewidth": 0,
              "ticks": ""
             }
            },
            "type": "scattergl"
           }
          ],
          "scattermapbox": [
           {
            "marker": {
             "colorbar": {
              "outlinewidth": 0,
              "ticks": ""
             }
            },
            "type": "scattermapbox"
           }
          ],
          "scatterpolar": [
           {
            "marker": {
             "colorbar": {
              "outlinewidth": 0,
              "ticks": ""
             }
            },
            "type": "scatterpolar"
           }
          ],
          "scatterpolargl": [
           {
            "marker": {
             "colorbar": {
              "outlinewidth": 0,
              "ticks": ""
             }
            },
            "type": "scatterpolargl"
           }
          ],
          "scatterternary": [
           {
            "marker": {
             "colorbar": {
              "outlinewidth": 0,
              "ticks": ""
             }
            },
            "type": "scatterternary"
           }
          ],
          "surface": [
           {
            "colorbar": {
             "outlinewidth": 0,
             "ticks": ""
            },
            "colorscale": [
             [
              0,
              "#0d0887"
             ],
             [
              0.1111111111111111,
              "#46039f"
             ],
             [
              0.2222222222222222,
              "#7201a8"
             ],
             [
              0.3333333333333333,
              "#9c179e"
             ],
             [
              0.4444444444444444,
              "#bd3786"
             ],
             [
              0.5555555555555556,
              "#d8576b"
             ],
             [
              0.6666666666666666,
              "#ed7953"
             ],
             [
              0.7777777777777778,
              "#fb9f3a"
             ],
             [
              0.8888888888888888,
              "#fdca26"
             ],
             [
              1,
              "#f0f921"
             ]
            ],
            "type": "surface"
           }
          ],
          "table": [
           {
            "cells": {
             "fill": {
              "color": "#EBF0F8"
             },
             "line": {
              "color": "white"
             }
            },
            "header": {
             "fill": {
              "color": "#C8D4E3"
             },
             "line": {
              "color": "white"
             }
            },
            "type": "table"
           }
          ]
         },
         "layout": {
          "annotationdefaults": {
           "arrowcolor": "#2a3f5f",
           "arrowhead": 0,
           "arrowwidth": 1
          },
          "autotypenumbers": "strict",
          "coloraxis": {
           "colorbar": {
            "outlinewidth": 0,
            "ticks": ""
           }
          },
          "colorscale": {
           "diverging": [
            [
             0,
             "#8e0152"
            ],
            [
             0.1,
             "#c51b7d"
            ],
            [
             0.2,
             "#de77ae"
            ],
            [
             0.3,
             "#f1b6da"
            ],
            [
             0.4,
             "#fde0ef"
            ],
            [
             0.5,
             "#f7f7f7"
            ],
            [
             0.6,
             "#e6f5d0"
            ],
            [
             0.7,
             "#b8e186"
            ],
            [
             0.8,
             "#7fbc41"
            ],
            [
             0.9,
             "#4d9221"
            ],
            [
             1,
             "#276419"
            ]
           ],
           "sequential": [
            [
             0,
             "#0d0887"
            ],
            [
             0.1111111111111111,
             "#46039f"
            ],
            [
             0.2222222222222222,
             "#7201a8"
            ],
            [
             0.3333333333333333,
             "#9c179e"
            ],
            [
             0.4444444444444444,
             "#bd3786"
            ],
            [
             0.5555555555555556,
             "#d8576b"
            ],
            [
             0.6666666666666666,
             "#ed7953"
            ],
            [
             0.7777777777777778,
             "#fb9f3a"
            ],
            [
             0.8888888888888888,
             "#fdca26"
            ],
            [
             1,
             "#f0f921"
            ]
           ],
           "sequentialminus": [
            [
             0,
             "#0d0887"
            ],
            [
             0.1111111111111111,
             "#46039f"
            ],
            [
             0.2222222222222222,
             "#7201a8"
            ],
            [
             0.3333333333333333,
             "#9c179e"
            ],
            [
             0.4444444444444444,
             "#bd3786"
            ],
            [
             0.5555555555555556,
             "#d8576b"
            ],
            [
             0.6666666666666666,
             "#ed7953"
            ],
            [
             0.7777777777777778,
             "#fb9f3a"
            ],
            [
             0.8888888888888888,
             "#fdca26"
            ],
            [
             1,
             "#f0f921"
            ]
           ]
          },
          "colorway": [
           "#636efa",
           "#EF553B",
           "#00cc96",
           "#ab63fa",
           "#FFA15A",
           "#19d3f3",
           "#FF6692",
           "#B6E880",
           "#FF97FF",
           "#FECB52"
          ],
          "font": {
           "color": "#2a3f5f"
          },
          "geo": {
           "bgcolor": "white",
           "lakecolor": "white",
           "landcolor": "#E5ECF6",
           "showlakes": true,
           "showland": true,
           "subunitcolor": "white"
          },
          "hoverlabel": {
           "align": "left"
          },
          "hovermode": "closest",
          "mapbox": {
           "style": "light"
          },
          "paper_bgcolor": "white",
          "plot_bgcolor": "#E5ECF6",
          "polar": {
           "angularaxis": {
            "gridcolor": "white",
            "linecolor": "white",
            "ticks": ""
           },
           "bgcolor": "#E5ECF6",
           "radialaxis": {
            "gridcolor": "white",
            "linecolor": "white",
            "ticks": ""
           }
          },
          "scene": {
           "xaxis": {
            "backgroundcolor": "#E5ECF6",
            "gridcolor": "white",
            "gridwidth": 2,
            "linecolor": "white",
            "showbackground": true,
            "ticks": "",
            "zerolinecolor": "white"
           },
           "yaxis": {
            "backgroundcolor": "#E5ECF6",
            "gridcolor": "white",
            "gridwidth": 2,
            "linecolor": "white",
            "showbackground": true,
            "ticks": "",
            "zerolinecolor": "white"
           },
           "zaxis": {
            "backgroundcolor": "#E5ECF6",
            "gridcolor": "white",
            "gridwidth": 2,
            "linecolor": "white",
            "showbackground": true,
            "ticks": "",
            "zerolinecolor": "white"
           }
          },
          "shapedefaults": {
           "line": {
            "color": "#2a3f5f"
           }
          },
          "ternary": {
           "aaxis": {
            "gridcolor": "white",
            "linecolor": "white",
            "ticks": ""
           },
           "baxis": {
            "gridcolor": "white",
            "linecolor": "white",
            "ticks": ""
           },
           "bgcolor": "#E5ECF6",
           "caxis": {
            "gridcolor": "white",
            "linecolor": "white",
            "ticks": ""
           }
          },
          "title": {
           "x": 0.05
          },
          "xaxis": {
           "automargin": true,
           "gridcolor": "white",
           "linecolor": "white",
           "ticks": "",
           "title": {
            "standoff": 15
           },
           "zerolinecolor": "white",
           "zerolinewidth": 2
          },
          "yaxis": {
           "automargin": true,
           "gridcolor": "white",
           "linecolor": "white",
           "ticks": "",
           "title": {
            "standoff": 15
           },
           "zerolinecolor": "white",
           "zerolinewidth": 2
          }
         }
        },
        "title": {
         "text": "attn_head_out Activation Patching (All Pos)"
        },
        "xaxis": {
         "anchor": "y",
         "domain": [
          0,
          1
         ],
         "title": {
          "text": "Head"
         }
        },
        "yaxis": {
         "anchor": "x",
         "autorange": "reversed",
         "domain": [
          0,
          1
         ],
         "title": {
          "text": "Layer"
         }
        }
       }
      }
     },
     "metadata": {},
     "output_type": "display_data"
    }
   ],
   "source": [
    "pos_attn_head_out_all_pos_act_patch_results_target = patch_attn_head_out_all_pos(\n",
    "    model,\n",
    "    input_ids,\n",
    "    input_ids_corrupted,\n",
    "    clean_cache,\n",
    "    partial(metric, return_type=\"target\"),\n",
    "    input_embeddings=embs_corrupted,\n",
    ")\n",
    "imshow_reversed(\n",
    "    pos_attn_head_out_all_pos_act_patch_results_target,\n",
    "    yaxis=\"Layer\",\n",
    "    xaxis=\"Head\",\n",
    "    title=\"attn_head_out Activation Patching (All Pos)\",\n",
    ")\n",
    "\n",
    "pos_attn_head_out_allpos_act_patch_results_orthogonal = patch_attn_head_out_all_pos(\n",
    "    model,\n",
    "    input_ids,\n",
    "    input_ids_corrupted,\n",
    "    clean_cache,\n",
    "    partial(metric, return_type=\"orthogonal\"),\n",
    "    input_embeddings=embs_corrupted,\n",
    ")\n",
    "imshow(\n",
    "    pos_attn_head_out_allpos_act_patch_results_orthogonal,\n",
    "    yaxis=\"Layer\",\n",
    "    xaxis=\"Head\",\n",
    "    title=\"attn_head_out Activation Patching (All Pos)\",\n",
    ")"
   ]
  },
  {
   "cell_type": "code",
   "execution_count": null,
   "metadata": {},
   "outputs": [],
   "source": [
    "pos_attn_head_out_act_patch_results = patch_attn_head_by_pos(model, pos_input_ids, pos_input_ids_corrupted, clean_cache, metric)    \n",
    "ALL_HEAD_LABELS = [f\"L{i}H{j}\" for i in range(model.cfg.n_layers) for j in range(model.cfg.n_heads)]\n",
    "imshow_reversed(pos_attn_head_out_act_patch_results, \n",
    "        x=[f\"{tok} {i}\" for i, tok in enumerate(model.to_str_tokens(input_ids[0]))],\n",
    "        y=ALL_HEAD_LABELS,\n",
    "        title=\"attn_head_out Activation Patching By Pos\")"
   ]
  },
  {
   "cell_type": "code",
   "execution_count": 154,
   "metadata": {},
   "outputs": [
    {
     "name": "stderr",
     "output_type": "stream",
     "text": [
      "  0%|          | 0/168 [00:00<?, ?it/s]\n"
     ]
    },
    {
     "ename": "RuntimeError",
     "evalue": "The expanded size of the tensor (10) must match the existing size (20) at non-singleton dimension 0.  Target sizes: [10, 14, 768].  Tensor sizes: [20, 14, 768]",
     "output_type": "error",
     "traceback": [
      "\u001b[0;31m---------------------------------------------------------------------------\u001b[0m",
      "\u001b[0;31mRuntimeError\u001b[0m                              Traceback (most recent call last)",
      "\u001b[1;32m/home/fortu/Competition_of_Mechanisms/notebooks/experiment copy.ipynb Cell 22\u001b[0m line \u001b[0;36m1\n\u001b[0;32m----> <a href='vscode-notebook-cell:/home/fortu/Competition_of_Mechanisms/notebooks/experiment%20copy.ipynb#Y113sZmlsZQ%3D%3D?line=0'>1</a>\u001b[0m pos_every_block_result_target \u001b[39m=\u001b[39m patch_per_block_all_poss(\n\u001b[1;32m      <a href='vscode-notebook-cell:/home/fortu/Competition_of_Mechanisms/notebooks/experiment%20copy.ipynb#Y113sZmlsZQ%3D%3D?line=1'>2</a>\u001b[0m     model,\n\u001b[1;32m      <a href='vscode-notebook-cell:/home/fortu/Competition_of_Mechanisms/notebooks/experiment%20copy.ipynb#Y113sZmlsZQ%3D%3D?line=2'>3</a>\u001b[0m     input_ids_corrupted[delta \u001b[39m>\u001b[39;49m \u001b[39m0\u001b[39;49m],\n\u001b[1;32m      <a href='vscode-notebook-cell:/home/fortu/Competition_of_Mechanisms/notebooks/experiment%20copy.ipynb#Y113sZmlsZQ%3D%3D?line=3'>4</a>\u001b[0m     input_ids,\n\u001b[1;32m      <a href='vscode-notebook-cell:/home/fortu/Competition_of_Mechanisms/notebooks/experiment%20copy.ipynb#Y113sZmlsZQ%3D%3D?line=4'>5</a>\u001b[0m     clean_cache,\n\u001b[1;32m      <a href='vscode-notebook-cell:/home/fortu/Competition_of_Mechanisms/notebooks/experiment%20copy.ipynb#Y113sZmlsZQ%3D%3D?line=5'>6</a>\u001b[0m     partial(metric, return_type\u001b[39m=\u001b[39;49m\u001b[39m\"\u001b[39;49m\u001b[39mtarget\u001b[39;49m\u001b[39m\"\u001b[39;49m),\n\u001b[1;32m      <a href='vscode-notebook-cell:/home/fortu/Competition_of_Mechanisms/notebooks/experiment%20copy.ipynb#Y113sZmlsZQ%3D%3D?line=6'>7</a>\u001b[0m     interval\u001b[39m=\u001b[39;49m\u001b[39m1\u001b[39;49m,\n\u001b[1;32m      <a href='vscode-notebook-cell:/home/fortu/Competition_of_Mechanisms/notebooks/experiment%20copy.ipynb#Y113sZmlsZQ%3D%3D?line=7'>8</a>\u001b[0m     corrupted_embeddings\u001b[39m=\u001b[39;49membs_corrupted,\n\u001b[1;32m      <a href='vscode-notebook-cell:/home/fortu/Competition_of_Mechanisms/notebooks/experiment%20copy.ipynb#Y113sZmlsZQ%3D%3D?line=8'>9</a>\u001b[0m )\n\u001b[1;32m     <a href='vscode-notebook-cell:/home/fortu/Competition_of_Mechanisms/notebooks/experiment%20copy.ipynb#Y113sZmlsZQ%3D%3D?line=9'>10</a>\u001b[0m imshow_reversed(\n\u001b[1;32m     <a href='vscode-notebook-cell:/home/fortu/Competition_of_Mechanisms/notebooks/experiment%20copy.ipynb#Y113sZmlsZQ%3D%3D?line=10'>11</a>\u001b[0m     pos_every_block_result_target,\n\u001b[1;32m     <a href='vscode-notebook-cell:/home/fortu/Competition_of_Mechanisms/notebooks/experiment%20copy.ipynb#Y113sZmlsZQ%3D%3D?line=11'>12</a>\u001b[0m     facet_col\u001b[39m=\u001b[39m\u001b[39m0\u001b[39m,\n\u001b[0;32m   (...)\u001b[0m\n\u001b[1;32m     <a href='vscode-notebook-cell:/home/fortu/Competition_of_Mechanisms/notebooks/experiment%20copy.ipynb#Y113sZmlsZQ%3D%3D?line=18'>19</a>\u001b[0m     x\u001b[39m=\u001b[39m[\u001b[39mf\u001b[39m\u001b[39m\"\u001b[39m\u001b[39m{\u001b[39;00mtok\u001b[39m}\u001b[39;00m\u001b[39m_\u001b[39m\u001b[39m{\u001b[39;00mi\u001b[39m}\u001b[39;00m\u001b[39m\"\u001b[39m \u001b[39mfor\u001b[39;00m i, tok \u001b[39min\u001b[39;00m \u001b[39menumerate\u001b[39m(model\u001b[39m.\u001b[39mto_str_tokens(input_ids[\u001b[39m2\u001b[39m]))],\n\u001b[1;32m     <a href='vscode-notebook-cell:/home/fortu/Competition_of_Mechanisms/notebooks/experiment%20copy.ipynb#Y113sZmlsZQ%3D%3D?line=19'>20</a>\u001b[0m )\n",
      "\u001b[1;32m/home/fortu/Competition_of_Mechanisms/notebooks/experiment copy.ipynb Cell 22\u001b[0m line \u001b[0;36m4\n\u001b[1;32m     <a href='vscode-notebook-cell:/home/fortu/Competition_of_Mechanisms/notebooks/experiment%20copy.ipynb#Y113sZmlsZQ%3D%3D?line=36'>37</a>\u001b[0m \u001b[39mdef\u001b[39;00m \u001b[39mpatch_per_block_all_poss\u001b[39m(\n\u001b[1;32m     <a href='vscode-notebook-cell:/home/fortu/Competition_of_Mechanisms/notebooks/experiment%20copy.ipynb#Y113sZmlsZQ%3D%3D?line=37'>38</a>\u001b[0m     model, input_ids_corrupted, input_ids, clean_cache, metric, interval, corrupted_embeddings\n\u001b[1;32m     <a href='vscode-notebook-cell:/home/fortu/Competition_of_Mechanisms/notebooks/experiment%20copy.ipynb#Y113sZmlsZQ%3D%3D?line=38'>39</a>\u001b[0m ):\n\u001b[0;32m---> <a href='vscode-notebook-cell:/home/fortu/Competition_of_Mechanisms/notebooks/experiment%20copy.ipynb#Y113sZmlsZQ%3D%3D?line=39'>40</a>\u001b[0m     every_block_result \u001b[39m=\u001b[39m get_act_patch_block_every(\n\u001b[1;32m     <a href='vscode-notebook-cell:/home/fortu/Competition_of_Mechanisms/notebooks/experiment%20copy.ipynb#Y113sZmlsZQ%3D%3D?line=40'>41</a>\u001b[0m         model, input_ids_corrupted, clean_cache, metric, patch_interval\u001b[39m=\u001b[39;49minterval, corrupted_embeddings\u001b[39m=\u001b[39;49mcorrupted_embeddings\n\u001b[1;32m     <a href='vscode-notebook-cell:/home/fortu/Competition_of_Mechanisms/notebooks/experiment%20copy.ipynb#Y113sZmlsZQ%3D%3D?line=41'>42</a>\u001b[0m     )\n\u001b[1;32m     <a href='vscode-notebook-cell:/home/fortu/Competition_of_Mechanisms/notebooks/experiment%20copy.ipynb#Y113sZmlsZQ%3D%3D?line=42'>43</a>\u001b[0m     \u001b[39mreturn\u001b[39;00m every_block_result\n",
      "File \u001b[0;32m~/Competition_of_Mechanisms/notebooks/../src/patching.py:251\u001b[0m, in \u001b[0;36mget_act_patch_block_every\u001b[0;34m(model, corrupted_tokens, clean_cache, metric, patch_interval, corrupted_embeddings)\u001b[0m\n\u001b[1;32m    238\u001b[0m \u001b[39m\u001b[39m\u001b[39m\"\"\"Helper function to get activation patching results for the residual stream (at the start of each block), output of each Attention layer and output of each MLP layer. Wrapper around each's patching function, returns a stacked tensor of shape [3, n_layers, pos]\u001b[39;00m\n\u001b[1;32m    239\u001b[0m \n\u001b[1;32m    240\u001b[0m \u001b[39mArgs:\u001b[39;00m\n\u001b[0;32m   (...)\u001b[0m\n\u001b[1;32m    247\u001b[0m \u001b[39m    patched_output (torch.Tensor): The tensor of the patching metric for each patch. Has shape [3, n_layers, pos]\u001b[39;00m\n\u001b[1;32m    248\u001b[0m \u001b[39m\"\"\"\u001b[39;00m\n\u001b[1;32m    249\u001b[0m act_patch_results \u001b[39m=\u001b[39m []\n\u001b[1;32m    250\u001b[0m act_patch_results\u001b[39m.\u001b[39mappend(\n\u001b[0;32m--> 251\u001b[0m     get_act_patch_resid_pre(model, corrupted_tokens, clean_cache, metric, corrupted_embeddings\u001b[39m=\u001b[39;49mcorrupted_embeddings)\n\u001b[1;32m    252\u001b[0m )\n\u001b[1;32m    253\u001b[0m act_patch_results\u001b[39m.\u001b[39mappend(\n\u001b[1;32m    254\u001b[0m     get_act_patch_attn_out(model, corrupted_tokens, clean_cache, metric, patch_interval\u001b[39m=\u001b[39mpatch_interval, corrupted_embeddings\u001b[39m=\u001b[39mcorrupted_embeddings)\n\u001b[1;32m    255\u001b[0m )\n\u001b[1;32m    256\u001b[0m act_patch_results\u001b[39m.\u001b[39mappend(\n\u001b[1;32m    257\u001b[0m     get_act_patch_mlp_out(model, corrupted_tokens, clean_cache, metric, patch_interval\u001b[39m=\u001b[39mpatch_interval, corrupted_embeddings\u001b[39m=\u001b[39mcorrupted_embeddings)\n\u001b[1;32m    258\u001b[0m )\n",
      "File \u001b[0;32m~/Competition_of_Mechanisms/notebooks/../src/patching.py:189\u001b[0m, in \u001b[0;36mgeneric_activation_patch_stacked\u001b[0;34m(model, corrupted_tokens, clean_cache, patching_metric, patch_setter, activation_name, corrupted_embeddings, index_axis_names, index_df, return_index_df, patch_interval)\u001b[0m\n\u001b[1;32m    186\u001b[0m     embeds_hook \u001b[39m=\u001b[39m partial(embed_hook, corrupted_embeddings\u001b[39m=\u001b[39mcorrupted_embeddings)\n\u001b[1;32m    187\u001b[0m     hooks\u001b[39m.\u001b[39mappend((\u001b[39m\"\u001b[39m\u001b[39mhook_embed\u001b[39m\u001b[39m\"\u001b[39m, embeds_hook))\n\u001b[0;32m--> 189\u001b[0m patched_logits \u001b[39m=\u001b[39m model\u001b[39m.\u001b[39;49mrun_with_hooks(\n\u001b[1;32m    190\u001b[0m     corrupted_tokens, fwd_hooks\u001b[39m=\u001b[39;49mhooks\n\u001b[1;32m    191\u001b[0m )\n\u001b[1;32m    193\u001b[0m \u001b[39m# Calculate the patching metric and store\u001b[39;00m\n\u001b[1;32m    194\u001b[0m \u001b[39mif\u001b[39;00m flattened_output:\n",
      "File \u001b[0;32m~/miniconda3/envs/mpi/lib/python3.11/site-packages/transformer_lens/hook_points.py:379\u001b[0m, in \u001b[0;36mHookedRootModule.run_with_hooks\u001b[0;34m(self, fwd_hooks, bwd_hooks, reset_hooks_end, clear_contexts, return_cache, *model_args, **model_kwargs)\u001b[0m\n\u001b[1;32m    374\u001b[0m         \u001b[39mreturn\u001b[39;00m \u001b[39mself\u001b[39m\u001b[39m.\u001b[39mforward(\u001b[39m*\u001b[39mmodel_args, \u001b[39m*\u001b[39m\u001b[39m*\u001b[39mmodel_kwargs), cache_dict\n\u001b[1;32m    376\u001b[0m \u001b[39mwith\u001b[39;00m \u001b[39mself\u001b[39m\u001b[39m.\u001b[39mhooks(\n\u001b[1;32m    377\u001b[0m     fwd_hooks, bwd_hooks, reset_hooks_end, clear_contexts\n\u001b[1;32m    378\u001b[0m ) \u001b[39mas\u001b[39;00m hooked_model:\n\u001b[0;32m--> 379\u001b[0m     \u001b[39mreturn\u001b[39;00m hooked_model\u001b[39m.\u001b[39;49mforward(\u001b[39m*\u001b[39;49mmodel_args, \u001b[39m*\u001b[39;49m\u001b[39m*\u001b[39;49mmodel_kwargs)\n",
      "File \u001b[0;32m~/miniconda3/envs/mpi/lib/python3.11/site-packages/transformer_lens/HookedTransformer.py:451\u001b[0m, in \u001b[0;36mHookedTransformer.forward\u001b[0;34m(self, input, return_type, loss_per_token, prepend_bos, padding_side, start_at_layer, tokens, shortformer_pos_embed, left_attention_mask, stop_at_layer, past_kv_cache, past_left_attention_mask)\u001b[0m\n\u001b[1;32m    442\u001b[0m \u001b[39mwith\u001b[39;00m utils\u001b[39m.\u001b[39mLocallyOverridenDefaults(\n\u001b[1;32m    443\u001b[0m     \u001b[39mself\u001b[39m, prepend_bos\u001b[39m=\u001b[39mprepend_bos, padding_side\u001b[39m=\u001b[39mpadding_side\n\u001b[1;32m    444\u001b[0m ):\n\u001b[1;32m    445\u001b[0m     \u001b[39mif\u001b[39;00m start_at_layer \u001b[39mis\u001b[39;00m \u001b[39mNone\u001b[39;00m:\n\u001b[1;32m    446\u001b[0m         (\n\u001b[1;32m    447\u001b[0m             residual,\n\u001b[1;32m    448\u001b[0m             tokens,\n\u001b[1;32m    449\u001b[0m             shortformer_pos_embed,\n\u001b[1;32m    450\u001b[0m             left_attention_mask,\n\u001b[0;32m--> 451\u001b[0m         ) \u001b[39m=\u001b[39m \u001b[39mself\u001b[39;49m\u001b[39m.\u001b[39;49minput_to_embed(\n\u001b[1;32m    452\u001b[0m             \u001b[39minput\u001b[39;49m,\n\u001b[1;32m    453\u001b[0m             prepend_bos\u001b[39m=\u001b[39;49mprepend_bos,\n\u001b[1;32m    454\u001b[0m             padding_side\u001b[39m=\u001b[39;49mpadding_side,\n\u001b[1;32m    455\u001b[0m             past_kv_cache\u001b[39m=\u001b[39;49mpast_kv_cache,\n\u001b[1;32m    456\u001b[0m             past_left_attention_mask\u001b[39m=\u001b[39;49mpast_left_attention_mask,\n\u001b[1;32m    457\u001b[0m         )\n\u001b[1;32m    458\u001b[0m     \u001b[39melse\u001b[39;00m:\n\u001b[1;32m    459\u001b[0m         \u001b[39massert\u001b[39;00m \u001b[39mtype\u001b[39m(\u001b[39minput\u001b[39m) \u001b[39m==\u001b[39m torch\u001b[39m.\u001b[39mTensor\n",
      "File \u001b[0;32m~/miniconda3/envs/mpi/lib/python3.11/site-packages/transformer_lens/HookedTransformer.py:274\u001b[0m, in \u001b[0;36mHookedTransformer.input_to_embed\u001b[0;34m(self, input, prepend_bos, padding_side, past_kv_cache, past_left_attention_mask)\u001b[0m\n\u001b[1;32m    272\u001b[0m \u001b[39mif\u001b[39;00m \u001b[39mself\u001b[39m\u001b[39m.\u001b[39mcfg\u001b[39m.\u001b[39muse_hook_tokens:\n\u001b[1;32m    273\u001b[0m     tokens \u001b[39m=\u001b[39m \u001b[39mself\u001b[39m\u001b[39m.\u001b[39mhook_tokens(tokens)\n\u001b[0;32m--> 274\u001b[0m embed \u001b[39m=\u001b[39m \u001b[39mself\u001b[39;49m\u001b[39m.\u001b[39;49mhook_embed(\u001b[39mself\u001b[39;49m\u001b[39m.\u001b[39;49membed(tokens))  \u001b[39m# [batch, pos, d_model]\u001b[39;00m\n\u001b[1;32m    275\u001b[0m \u001b[39mif\u001b[39;00m \u001b[39mself\u001b[39m\u001b[39m.\u001b[39mcfg\u001b[39m.\u001b[39mpositional_embedding_type \u001b[39m==\u001b[39m \u001b[39m\"\u001b[39m\u001b[39mstandard\u001b[39m\u001b[39m\"\u001b[39m:\n\u001b[1;32m    276\u001b[0m     pos_embed \u001b[39m=\u001b[39m \u001b[39mself\u001b[39m\u001b[39m.\u001b[39mhook_pos_embed(\n\u001b[1;32m    277\u001b[0m         \u001b[39mself\u001b[39m\u001b[39m.\u001b[39mpos_embed(tokens, pos_offset, left_attention_mask)\n\u001b[1;32m    278\u001b[0m     )  \u001b[39m# [batch, pos, d_model]\u001b[39;00m\n",
      "File \u001b[0;32m~/miniconda3/envs/mpi/lib/python3.11/site-packages/torch/nn/modules/module.py:1547\u001b[0m, in \u001b[0;36mModule._call_impl\u001b[0;34m(self, *args, **kwargs)\u001b[0m\n\u001b[1;32m   1545\u001b[0m     hook_result \u001b[39m=\u001b[39m hook(\u001b[39mself\u001b[39m, args, kwargs, result)\n\u001b[1;32m   1546\u001b[0m \u001b[39melse\u001b[39;00m:\n\u001b[0;32m-> 1547\u001b[0m     hook_result \u001b[39m=\u001b[39m hook(\u001b[39mself\u001b[39;49m, args, result)\n\u001b[1;32m   1549\u001b[0m \u001b[39mif\u001b[39;00m hook_result \u001b[39mis\u001b[39;00m \u001b[39mnot\u001b[39;00m \u001b[39mNone\u001b[39;00m:\n\u001b[1;32m   1550\u001b[0m     result \u001b[39m=\u001b[39m hook_result\n",
      "File \u001b[0;32m~/miniconda3/envs/mpi/lib/python3.11/site-packages/transformer_lens/hook_points.py:67\u001b[0m, in \u001b[0;36mHookPoint.add_hook.<locals>.full_hook\u001b[0;34m(module, module_input, module_output)\u001b[0m\n\u001b[1;32m     66\u001b[0m \u001b[39mdef\u001b[39;00m \u001b[39mfull_hook\u001b[39m(module, module_input, module_output):\n\u001b[0;32m---> 67\u001b[0m     \u001b[39mreturn\u001b[39;00m hook(module_output, hook\u001b[39m=\u001b[39;49m\u001b[39mself\u001b[39;49m)\n",
      "File \u001b[0;32m~/Competition_of_Mechanisms/notebooks/../src/patching.py:184\u001b[0m, in \u001b[0;36mgeneric_activation_patch_stacked.<locals>.embed_hook\u001b[0;34m(cache, hook, corrupted_embeddings)\u001b[0m\n\u001b[1;32m    183\u001b[0m \u001b[39mdef\u001b[39;00m \u001b[39membed_hook\u001b[39m(cache, hook, corrupted_embeddings):\n\u001b[0;32m--> 184\u001b[0m     cache[:,:,:] \u001b[39m=\u001b[39m corrupted_embeddings\n\u001b[1;32m    185\u001b[0m     \u001b[39mreturn\u001b[39;00m cache\n",
      "\u001b[0;31mRuntimeError\u001b[0m: The expanded size of the tensor (10) must match the existing size (20) at non-singleton dimension 0.  Target sizes: [10, 14, 768].  Tensor sizes: [20, 14, 768]"
     ]
    }
   ],
   "source": [
    "pos_every_block_result_target = patch_per_block_all_poss(\n",
    "    model,\n",
    "    input_ids_corrupted[delta > 0],\n",
    "    input_ids,\n",
    "    clean_cache,\n",
    "    partial(metric, return_type=\"target\"),\n",
    "    interval=1,\n",
    "    corrupted_embeddings=embs_corrupted,\n",
    ")\n",
    "imshow_reversed(\n",
    "    pos_every_block_result_target,\n",
    "    facet_col=0,\n",
    "    facet_labels=[\"Residual Stream\", \"Attn Output\", \"MLP Output\"],\n",
    "    title=\"Activation Patching Per Block\",\n",
    "    xaxis=\"Position\",\n",
    "    yaxis=\"Layer\",\n",
    "    zmax=1,\n",
    "    zmin=-1,\n",
    "    x=[f\"{tok}_{i}\" for i, tok in enumerate(model.to_str_tokens(input_ids[2]))],\n",
    ")"
   ]
  },
  {
   "cell_type": "code",
   "execution_count": 153,
   "metadata": {},
   "outputs": [
    {
     "name": "stderr",
     "output_type": "stream",
     "text": [
      "  0%|          | 0/168 [00:00<?, ?it/s]\n"
     ]
    },
    {
     "ename": "RuntimeError",
     "evalue": "The expanded size of the tensor (10) must match the existing size (20) at non-singleton dimension 0.  Target sizes: [10, 14, 768].  Tensor sizes: [20, 14, 768]",
     "output_type": "error",
     "traceback": [
      "\u001b[0;31m---------------------------------------------------------------------------\u001b[0m",
      "\u001b[0;31mRuntimeError\u001b[0m                              Traceback (most recent call last)",
      "\u001b[1;32m/home/fortu/Competition_of_Mechanisms/notebooks/experiment copy.ipynb Cell 22\u001b[0m line \u001b[0;36m1\n\u001b[0;32m----> <a href='vscode-notebook-cell:/home/fortu/Competition_of_Mechanisms/notebooks/experiment%20copy.ipynb#Y114sZmlsZQ%3D%3D?line=0'>1</a>\u001b[0m pos_every_block_result_orthogonal \u001b[39m=\u001b[39m patch_per_block_all_poss(\n\u001b[1;32m      <a href='vscode-notebook-cell:/home/fortu/Competition_of_Mechanisms/notebooks/experiment%20copy.ipynb#Y114sZmlsZQ%3D%3D?line=1'>2</a>\u001b[0m     model,\n\u001b[1;32m      <a href='vscode-notebook-cell:/home/fortu/Competition_of_Mechanisms/notebooks/experiment%20copy.ipynb#Y114sZmlsZQ%3D%3D?line=2'>3</a>\u001b[0m     input_ids_corrupted[:\u001b[39m10\u001b[39;49m],\n\u001b[1;32m      <a href='vscode-notebook-cell:/home/fortu/Competition_of_Mechanisms/notebooks/experiment%20copy.ipynb#Y114sZmlsZQ%3D%3D?line=3'>4</a>\u001b[0m     input_ids,\n\u001b[1;32m      <a href='vscode-notebook-cell:/home/fortu/Competition_of_Mechanisms/notebooks/experiment%20copy.ipynb#Y114sZmlsZQ%3D%3D?line=4'>5</a>\u001b[0m     clean_cache,\n\u001b[1;32m      <a href='vscode-notebook-cell:/home/fortu/Competition_of_Mechanisms/notebooks/experiment%20copy.ipynb#Y114sZmlsZQ%3D%3D?line=5'>6</a>\u001b[0m     partial(metric, return_type\u001b[39m=\u001b[39;49m\u001b[39m\"\u001b[39;49m\u001b[39morthogonal\u001b[39;49m\u001b[39m\"\u001b[39;49m),\n\u001b[1;32m      <a href='vscode-notebook-cell:/home/fortu/Competition_of_Mechanisms/notebooks/experiment%20copy.ipynb#Y114sZmlsZQ%3D%3D?line=6'>7</a>\u001b[0m     interval\u001b[39m=\u001b[39;49m\u001b[39m1\u001b[39;49m,\n\u001b[1;32m      <a href='vscode-notebook-cell:/home/fortu/Competition_of_Mechanisms/notebooks/experiment%20copy.ipynb#Y114sZmlsZQ%3D%3D?line=7'>8</a>\u001b[0m     corrupted_embeddings\u001b[39m=\u001b[39;49membs_corrupted,\n\u001b[1;32m      <a href='vscode-notebook-cell:/home/fortu/Competition_of_Mechanisms/notebooks/experiment%20copy.ipynb#Y114sZmlsZQ%3D%3D?line=8'>9</a>\u001b[0m )\n\u001b[1;32m     <a href='vscode-notebook-cell:/home/fortu/Competition_of_Mechanisms/notebooks/experiment%20copy.ipynb#Y114sZmlsZQ%3D%3D?line=9'>10</a>\u001b[0m imshow(\n\u001b[1;32m     <a href='vscode-notebook-cell:/home/fortu/Competition_of_Mechanisms/notebooks/experiment%20copy.ipynb#Y114sZmlsZQ%3D%3D?line=10'>11</a>\u001b[0m     pos_every_block_result_orthogonal,\n\u001b[1;32m     <a href='vscode-notebook-cell:/home/fortu/Competition_of_Mechanisms/notebooks/experiment%20copy.ipynb#Y114sZmlsZQ%3D%3D?line=11'>12</a>\u001b[0m     facet_col\u001b[39m=\u001b[39m\u001b[39m0\u001b[39m,\n\u001b[0;32m   (...)\u001b[0m\n\u001b[1;32m     <a href='vscode-notebook-cell:/home/fortu/Competition_of_Mechanisms/notebooks/experiment%20copy.ipynb#Y114sZmlsZQ%3D%3D?line=18'>19</a>\u001b[0m     x\u001b[39m=\u001b[39m[\u001b[39mf\u001b[39m\u001b[39m\"\u001b[39m\u001b[39m{\u001b[39;00mtok\u001b[39m}\u001b[39;00m\u001b[39m_\u001b[39m\u001b[39m{\u001b[39;00mi\u001b[39m}\u001b[39;00m\u001b[39m\"\u001b[39m \u001b[39mfor\u001b[39;00m i, tok \u001b[39min\u001b[39;00m \u001b[39menumerate\u001b[39m(model\u001b[39m.\u001b[39mto_str_tokens(input_ids[\u001b[39m2\u001b[39m]))],\n\u001b[1;32m     <a href='vscode-notebook-cell:/home/fortu/Competition_of_Mechanisms/notebooks/experiment%20copy.ipynb#Y114sZmlsZQ%3D%3D?line=19'>20</a>\u001b[0m )\n",
      "\u001b[1;32m/home/fortu/Competition_of_Mechanisms/notebooks/experiment copy.ipynb Cell 22\u001b[0m line \u001b[0;36m4\n\u001b[1;32m     <a href='vscode-notebook-cell:/home/fortu/Competition_of_Mechanisms/notebooks/experiment%20copy.ipynb#Y114sZmlsZQ%3D%3D?line=36'>37</a>\u001b[0m \u001b[39mdef\u001b[39;00m \u001b[39mpatch_per_block_all_poss\u001b[39m(\n\u001b[1;32m     <a href='vscode-notebook-cell:/home/fortu/Competition_of_Mechanisms/notebooks/experiment%20copy.ipynb#Y114sZmlsZQ%3D%3D?line=37'>38</a>\u001b[0m     model, input_ids_corrupted, input_ids, clean_cache, metric, interval, corrupted_embeddings\n\u001b[1;32m     <a href='vscode-notebook-cell:/home/fortu/Competition_of_Mechanisms/notebooks/experiment%20copy.ipynb#Y114sZmlsZQ%3D%3D?line=38'>39</a>\u001b[0m ):\n\u001b[0;32m---> <a href='vscode-notebook-cell:/home/fortu/Competition_of_Mechanisms/notebooks/experiment%20copy.ipynb#Y114sZmlsZQ%3D%3D?line=39'>40</a>\u001b[0m     every_block_result \u001b[39m=\u001b[39m get_act_patch_block_every(\n\u001b[1;32m     <a href='vscode-notebook-cell:/home/fortu/Competition_of_Mechanisms/notebooks/experiment%20copy.ipynb#Y114sZmlsZQ%3D%3D?line=40'>41</a>\u001b[0m         model, input_ids_corrupted, clean_cache, metric, patch_interval\u001b[39m=\u001b[39;49minterval, corrupted_embeddings\u001b[39m=\u001b[39;49mcorrupted_embeddings\n\u001b[1;32m     <a href='vscode-notebook-cell:/home/fortu/Competition_of_Mechanisms/notebooks/experiment%20copy.ipynb#Y114sZmlsZQ%3D%3D?line=41'>42</a>\u001b[0m     )\n\u001b[1;32m     <a href='vscode-notebook-cell:/home/fortu/Competition_of_Mechanisms/notebooks/experiment%20copy.ipynb#Y114sZmlsZQ%3D%3D?line=42'>43</a>\u001b[0m     \u001b[39mreturn\u001b[39;00m every_block_result\n",
      "File \u001b[0;32m~/Competition_of_Mechanisms/notebooks/../src/patching.py:251\u001b[0m, in \u001b[0;36mget_act_patch_block_every\u001b[0;34m(model, corrupted_tokens, clean_cache, metric, patch_interval, corrupted_embeddings)\u001b[0m\n\u001b[1;32m    238\u001b[0m \u001b[39m\u001b[39m\u001b[39m\"\"\"Helper function to get activation patching results for the residual stream (at the start of each block), output of each Attention layer and output of each MLP layer. Wrapper around each's patching function, returns a stacked tensor of shape [3, n_layers, pos]\u001b[39;00m\n\u001b[1;32m    239\u001b[0m \n\u001b[1;32m    240\u001b[0m \u001b[39mArgs:\u001b[39;00m\n\u001b[0;32m   (...)\u001b[0m\n\u001b[1;32m    247\u001b[0m \u001b[39m    patched_output (torch.Tensor): The tensor of the patching metric for each patch. Has shape [3, n_layers, pos]\u001b[39;00m\n\u001b[1;32m    248\u001b[0m \u001b[39m\"\"\"\u001b[39;00m\n\u001b[1;32m    249\u001b[0m act_patch_results \u001b[39m=\u001b[39m []\n\u001b[1;32m    250\u001b[0m act_patch_results\u001b[39m.\u001b[39mappend(\n\u001b[0;32m--> 251\u001b[0m     get_act_patch_resid_pre(model, corrupted_tokens, clean_cache, metric, corrupted_embeddings\u001b[39m=\u001b[39;49mcorrupted_embeddings)\n\u001b[1;32m    252\u001b[0m )\n\u001b[1;32m    253\u001b[0m act_patch_results\u001b[39m.\u001b[39mappend(\n\u001b[1;32m    254\u001b[0m     get_act_patch_attn_out(model, corrupted_tokens, clean_cache, metric, patch_interval\u001b[39m=\u001b[39mpatch_interval, corrupted_embeddings\u001b[39m=\u001b[39mcorrupted_embeddings)\n\u001b[1;32m    255\u001b[0m )\n\u001b[1;32m    256\u001b[0m act_patch_results\u001b[39m.\u001b[39mappend(\n\u001b[1;32m    257\u001b[0m     get_act_patch_mlp_out(model, corrupted_tokens, clean_cache, metric, patch_interval\u001b[39m=\u001b[39mpatch_interval, corrupted_embeddings\u001b[39m=\u001b[39mcorrupted_embeddings)\n\u001b[1;32m    258\u001b[0m )\n",
      "File \u001b[0;32m~/Competition_of_Mechanisms/notebooks/../src/patching.py:189\u001b[0m, in \u001b[0;36mgeneric_activation_patch_stacked\u001b[0;34m(model, corrupted_tokens, clean_cache, patching_metric, patch_setter, activation_name, corrupted_embeddings, index_axis_names, index_df, return_index_df, patch_interval)\u001b[0m\n\u001b[1;32m    186\u001b[0m     embeds_hook \u001b[39m=\u001b[39m partial(embed_hook, corrupted_embeddings\u001b[39m=\u001b[39mcorrupted_embeddings)\n\u001b[1;32m    187\u001b[0m     hooks\u001b[39m.\u001b[39mappend((\u001b[39m\"\u001b[39m\u001b[39mhook_embed\u001b[39m\u001b[39m\"\u001b[39m, embeds_hook))\n\u001b[0;32m--> 189\u001b[0m patched_logits \u001b[39m=\u001b[39m model\u001b[39m.\u001b[39;49mrun_with_hooks(\n\u001b[1;32m    190\u001b[0m     corrupted_tokens, fwd_hooks\u001b[39m=\u001b[39;49mhooks\n\u001b[1;32m    191\u001b[0m )\n\u001b[1;32m    193\u001b[0m \u001b[39m# Calculate the patching metric and store\u001b[39;00m\n\u001b[1;32m    194\u001b[0m \u001b[39mif\u001b[39;00m flattened_output:\n",
      "File \u001b[0;32m~/miniconda3/envs/mpi/lib/python3.11/site-packages/transformer_lens/hook_points.py:379\u001b[0m, in \u001b[0;36mHookedRootModule.run_with_hooks\u001b[0;34m(self, fwd_hooks, bwd_hooks, reset_hooks_end, clear_contexts, return_cache, *model_args, **model_kwargs)\u001b[0m\n\u001b[1;32m    374\u001b[0m         \u001b[39mreturn\u001b[39;00m \u001b[39mself\u001b[39m\u001b[39m.\u001b[39mforward(\u001b[39m*\u001b[39mmodel_args, \u001b[39m*\u001b[39m\u001b[39m*\u001b[39mmodel_kwargs), cache_dict\n\u001b[1;32m    376\u001b[0m \u001b[39mwith\u001b[39;00m \u001b[39mself\u001b[39m\u001b[39m.\u001b[39mhooks(\n\u001b[1;32m    377\u001b[0m     fwd_hooks, bwd_hooks, reset_hooks_end, clear_contexts\n\u001b[1;32m    378\u001b[0m ) \u001b[39mas\u001b[39;00m hooked_model:\n\u001b[0;32m--> 379\u001b[0m     \u001b[39mreturn\u001b[39;00m hooked_model\u001b[39m.\u001b[39;49mforward(\u001b[39m*\u001b[39;49mmodel_args, \u001b[39m*\u001b[39;49m\u001b[39m*\u001b[39;49mmodel_kwargs)\n",
      "File \u001b[0;32m~/miniconda3/envs/mpi/lib/python3.11/site-packages/transformer_lens/HookedTransformer.py:451\u001b[0m, in \u001b[0;36mHookedTransformer.forward\u001b[0;34m(self, input, return_type, loss_per_token, prepend_bos, padding_side, start_at_layer, tokens, shortformer_pos_embed, left_attention_mask, stop_at_layer, past_kv_cache, past_left_attention_mask)\u001b[0m\n\u001b[1;32m    442\u001b[0m \u001b[39mwith\u001b[39;00m utils\u001b[39m.\u001b[39mLocallyOverridenDefaults(\n\u001b[1;32m    443\u001b[0m     \u001b[39mself\u001b[39m, prepend_bos\u001b[39m=\u001b[39mprepend_bos, padding_side\u001b[39m=\u001b[39mpadding_side\n\u001b[1;32m    444\u001b[0m ):\n\u001b[1;32m    445\u001b[0m     \u001b[39mif\u001b[39;00m start_at_layer \u001b[39mis\u001b[39;00m \u001b[39mNone\u001b[39;00m:\n\u001b[1;32m    446\u001b[0m         (\n\u001b[1;32m    447\u001b[0m             residual,\n\u001b[1;32m    448\u001b[0m             tokens,\n\u001b[1;32m    449\u001b[0m             shortformer_pos_embed,\n\u001b[1;32m    450\u001b[0m             left_attention_mask,\n\u001b[0;32m--> 451\u001b[0m         ) \u001b[39m=\u001b[39m \u001b[39mself\u001b[39;49m\u001b[39m.\u001b[39;49minput_to_embed(\n\u001b[1;32m    452\u001b[0m             \u001b[39minput\u001b[39;49m,\n\u001b[1;32m    453\u001b[0m             prepend_bos\u001b[39m=\u001b[39;49mprepend_bos,\n\u001b[1;32m    454\u001b[0m             padding_side\u001b[39m=\u001b[39;49mpadding_side,\n\u001b[1;32m    455\u001b[0m             past_kv_cache\u001b[39m=\u001b[39;49mpast_kv_cache,\n\u001b[1;32m    456\u001b[0m             past_left_attention_mask\u001b[39m=\u001b[39;49mpast_left_attention_mask,\n\u001b[1;32m    457\u001b[0m         )\n\u001b[1;32m    458\u001b[0m     \u001b[39melse\u001b[39;00m:\n\u001b[1;32m    459\u001b[0m         \u001b[39massert\u001b[39;00m \u001b[39mtype\u001b[39m(\u001b[39minput\u001b[39m) \u001b[39m==\u001b[39m torch\u001b[39m.\u001b[39mTensor\n",
      "File \u001b[0;32m~/miniconda3/envs/mpi/lib/python3.11/site-packages/transformer_lens/HookedTransformer.py:274\u001b[0m, in \u001b[0;36mHookedTransformer.input_to_embed\u001b[0;34m(self, input, prepend_bos, padding_side, past_kv_cache, past_left_attention_mask)\u001b[0m\n\u001b[1;32m    272\u001b[0m \u001b[39mif\u001b[39;00m \u001b[39mself\u001b[39m\u001b[39m.\u001b[39mcfg\u001b[39m.\u001b[39muse_hook_tokens:\n\u001b[1;32m    273\u001b[0m     tokens \u001b[39m=\u001b[39m \u001b[39mself\u001b[39m\u001b[39m.\u001b[39mhook_tokens(tokens)\n\u001b[0;32m--> 274\u001b[0m embed \u001b[39m=\u001b[39m \u001b[39mself\u001b[39;49m\u001b[39m.\u001b[39;49mhook_embed(\u001b[39mself\u001b[39;49m\u001b[39m.\u001b[39;49membed(tokens))  \u001b[39m# [batch, pos, d_model]\u001b[39;00m\n\u001b[1;32m    275\u001b[0m \u001b[39mif\u001b[39;00m \u001b[39mself\u001b[39m\u001b[39m.\u001b[39mcfg\u001b[39m.\u001b[39mpositional_embedding_type \u001b[39m==\u001b[39m \u001b[39m\"\u001b[39m\u001b[39mstandard\u001b[39m\u001b[39m\"\u001b[39m:\n\u001b[1;32m    276\u001b[0m     pos_embed \u001b[39m=\u001b[39m \u001b[39mself\u001b[39m\u001b[39m.\u001b[39mhook_pos_embed(\n\u001b[1;32m    277\u001b[0m         \u001b[39mself\u001b[39m\u001b[39m.\u001b[39mpos_embed(tokens, pos_offset, left_attention_mask)\n\u001b[1;32m    278\u001b[0m     )  \u001b[39m# [batch, pos, d_model]\u001b[39;00m\n",
      "File \u001b[0;32m~/miniconda3/envs/mpi/lib/python3.11/site-packages/torch/nn/modules/module.py:1547\u001b[0m, in \u001b[0;36mModule._call_impl\u001b[0;34m(self, *args, **kwargs)\u001b[0m\n\u001b[1;32m   1545\u001b[0m     hook_result \u001b[39m=\u001b[39m hook(\u001b[39mself\u001b[39m, args, kwargs, result)\n\u001b[1;32m   1546\u001b[0m \u001b[39melse\u001b[39;00m:\n\u001b[0;32m-> 1547\u001b[0m     hook_result \u001b[39m=\u001b[39m hook(\u001b[39mself\u001b[39;49m, args, result)\n\u001b[1;32m   1549\u001b[0m \u001b[39mif\u001b[39;00m hook_result \u001b[39mis\u001b[39;00m \u001b[39mnot\u001b[39;00m \u001b[39mNone\u001b[39;00m:\n\u001b[1;32m   1550\u001b[0m     result \u001b[39m=\u001b[39m hook_result\n",
      "File \u001b[0;32m~/miniconda3/envs/mpi/lib/python3.11/site-packages/transformer_lens/hook_points.py:67\u001b[0m, in \u001b[0;36mHookPoint.add_hook.<locals>.full_hook\u001b[0;34m(module, module_input, module_output)\u001b[0m\n\u001b[1;32m     66\u001b[0m \u001b[39mdef\u001b[39;00m \u001b[39mfull_hook\u001b[39m(module, module_input, module_output):\n\u001b[0;32m---> 67\u001b[0m     \u001b[39mreturn\u001b[39;00m hook(module_output, hook\u001b[39m=\u001b[39;49m\u001b[39mself\u001b[39;49m)\n",
      "File \u001b[0;32m~/Competition_of_Mechanisms/notebooks/../src/patching.py:184\u001b[0m, in \u001b[0;36mgeneric_activation_patch_stacked.<locals>.embed_hook\u001b[0;34m(cache, hook, corrupted_embeddings)\u001b[0m\n\u001b[1;32m    183\u001b[0m \u001b[39mdef\u001b[39;00m \u001b[39membed_hook\u001b[39m(cache, hook, corrupted_embeddings):\n\u001b[0;32m--> 184\u001b[0m     cache[:,:,:] \u001b[39m=\u001b[39m corrupted_embeddings\n\u001b[1;32m    185\u001b[0m     \u001b[39mreturn\u001b[39;00m cache\n",
      "\u001b[0;31mRuntimeError\u001b[0m: The expanded size of the tensor (10) must match the existing size (20) at non-singleton dimension 0.  Target sizes: [10, 14, 768].  Tensor sizes: [20, 14, 768]"
     ]
    }
   ],
   "source": [
    "pos_every_block_result_orthogonal = patch_per_block_all_poss(\n",
    "    model,\n",
    "    input_ids_corrupted[:10],\n",
    "    input_ids,\n",
    "    clean_cache,\n",
    "    partial(metric, return_type=\"orthogonal\"),\n",
    "    interval=1,\n",
    "    corrupted_embeddings=embs_corrupted,\n",
    ")\n",
    "imshow(\n",
    "    pos_every_block_result_orthogonal,\n",
    "    facet_col=0,\n",
    "    facet_labels=[\"Residual Stream\", \"Attn Output\", \"MLP Output\"],\n",
    "    title=\"Activation Patching Per Block\",\n",
    "    xaxis=\"Position\",\n",
    "    yaxis=\"Layer\",\n",
    "    zmax=1,\n",
    "    zmin=-1,\n",
    "    x=[f\"{tok}_{i}\" for i, tok in enumerate(model.to_str_tokens(input_ids[2]))],\n",
    ")"
   ]
  },
  {
   "cell_type": "code",
   "execution_count": 109,
   "metadata": {},
   "outputs": [
    {
     "data": {
      "text/plain": [
       "torch.Size([3, 12, 14])"
      ]
     },
     "execution_count": 109,
     "metadata": {},
     "output_type": "execute_result"
    }
   ],
   "source": [
    "pos_every_block_result_orthogonal.shape"
   ]
  },
  {
   "cell_type": "code",
   "execution_count": 75,
   "metadata": {},
   "outputs": [
    {
     "name": "stdout",
     "output_type": "stream",
     "text": [
      "tensor([0.1093, 0.0143, 0.0228]) tensor([0.2524, 0.0883, 0.1115]) tensor([0.3618, 0.1026, 0.1343])\n",
      "tensor([ 0.0158,  0.0403, -0.0137]) tensor([0.5027, 0.2020, 0.3611]) tensor([0.5185, 0.2422, 0.3474])\n"
     ]
    }
   ],
   "source": [
    "# compute the avg restored target (mean over the last two dimensions)\n",
    "avg_restored_target = pos_every_block_result_target.mean(dim=(-1, -2))\n",
    "std_restored_target = pos_every_block_result_target.std(dim=(-1, -2))\n",
    "print(avg_restored_target, std_restored_target, avg_restored_target + std_restored_target)\n",
    "avg_restored_orthogonal = pos_every_block_result_orthogonal.mean(dim=(-1, -2))\n",
    "std_restored_orthogonal = pos_every_block_result_orthogonal.std(dim=(-1, -2))\n",
    "print(avg_restored_orthogonal, std_restored_orthogonal, avg_restored_orthogonal + std_restored_orthogonal)\n",
    "# check what component are both important for the two mechanism\n",
    "print(\"Component, Layer, Position\")\n",
    "for component in range(3):\n",
    "    target_threshold = avg_restored_target[component] + std_restored_target[component]\n",
    "    orthogonal_threshold = avg_restored_orthogonal[component] + std_restored_orthogonal[component]\n",
    "    for layer in range(12):\n",
    "        for pos in range(14):\n",
    "            if pos_every_block_result_orthogonal[component, layer, pos] > orthogonal_threshold and pos_every_block_result_target[component, layer, pos] > target_threshold:\n",
    "                print(component,layer, pos)"
   ]
  },
  {
   "cell_type": "code",
   "execution_count": 76,
   "metadata": {},
   "outputs": [
    {
     "name": "stdout",
     "output_type": "stream",
     "text": [
      "Component, Layer, Position\n",
      "0 0 8\n",
      "0 1 8\n",
      "0 2 8\n",
      "0 3 8\n",
      "0 9 13\n",
      "0 10 13\n",
      "0 11 13\n",
      "1 0 8\n",
      "1 2 8\n",
      "1 6 13\n",
      "2 0 8\n",
      "2 2 10\n",
      "2 4 4\n",
      "2 10 13\n"
     ]
    }
   ],
   "source": [
    "# check what component are both important for the two mechanism\n",
    "print(\"Component, Layer, Position\")\n",
    "for component in range(3):\n",
    "    target_threshold = avg_restored_target[component] + std_restored_target[component]\n",
    "    orthogonal_threshold = avg_restored_orthogonal[component] + std_restored_orthogonal[component]\n",
    "    for layer in range(12):\n",
    "        for pos in range(14):\n",
    "            if pos_every_block_result_orthogonal[component, layer, pos] > orthogonal_threshold and pos_every_block_result_target[component, layer, pos] > target_threshold:\n",
    "                print(component,layer, pos)"
   ]
  },
  {
   "cell_type": "code",
   "execution_count": 113,
   "metadata": {},
   "outputs": [
    {
     "data": {
      "text/plain": [
       "torch.Size([12, 12])"
      ]
     },
     "execution_count": 113,
     "metadata": {},
     "output_type": "execute_result"
    }
   ],
   "source": [
    "pos_attn_head_out_all_pos_act_patch_results_target.shape"
   ]
  },
  {
   "cell_type": "code",
   "execution_count": 81,
   "metadata": {},
   "outputs": [
    {
     "name": "stdout",
     "output_type": "stream",
     "text": [
      "tensor(-0.0047) tensor(0.0816) tensor(0.0769)\n",
      "tensor(0.0157) tensor(0.0437) tensor(0.0594)\n",
      "2\n"
     ]
    }
   ],
   "source": [
    "avg_restored_target = pos_attn_head_out_all_pos_act_patch_results_target.mean(dim=(-1,-2))\n",
    "avg_restored_orthogonal = pos_attn_head_out_allpos_act_patch_results_orthogonal.mean(dim=(-1,-2))\n",
    "std_restored_target = pos_attn_head_out_all_pos_act_patch_results_target.std(dim=(-1,-2))\n",
    "std_restored_orthogonal = pos_attn_head_out_allpos_act_patch_results_orthogonal.std(dim=(-1,-2))\n",
    "print(avg_restored_target, std_restored_target, avg_restored_target + std_restored_target)\n",
    "print(avg_restored_orthogonal, std_restored_orthogonal, avg_restored_orthogonal + std_restored_orthogonal)\n",
    "\n",
    "\n",
    "LAYER = 2\n",
    "for head in range(12):\n",
    "    target_threshold = avg_restored_target + std_restored_target\n",
    "    orthogonal_threshold = avg_restored_orthogonal + std_restored_orthogonal\n",
    "    if pos_attn_head_out_all_pos_act_patch_results_target[LAYER, head] > target_threshold and pos_attn_head_out_allpos_act_patch_results_orthogonal[LAYER, head] > orthogonal_threshold:\n",
    "        print(head)"
   ]
  },
  {
   "cell_type": "code",
   "execution_count": 92,
   "metadata": {},
   "outputs": [
    {
     "data": {
      "text/html": [
       "<div id=\"circuits-vis-10bd8511-b4df\" style=\"margin: 15px 0;\"/>\n",
       "    <script crossorigin type=\"module\">\n",
       "    import { render, AttentionPatterns } from \"https://unpkg.com/circuitsvis@1.41.0/dist/cdn/esm.js\";\n",
       "    render(\n",
       "      \"circuits-vis-10bd8511-b4df\",\n",
       "      AttentionPatterns,\n",
       "      {\"tokens\": [\"<|endoftext|>\", \"Virtual\", \" Boy\", \" is\", \" a\", \" product\", \" of\", \" pine\", \" Virtual\", \" Boy\", \" is\", \" a\", \" product\", \" of\"], \"attention\": [[[1.0, 0.0, 0.0, 0.0, 0.0, 0.0, 0.0, 0.0, 0.0, 0.0, 0.0, 0.0, 0.0, 0.0], [0.9931285381317139, 0.0068715414963662624, 0.0, 0.0, 0.0, 0.0, 0.0, 0.0, 0.0, 0.0, 0.0, 0.0, 0.0, 0.0], [0.9748048186302185, 0.009789574891328812, 0.015405628830194473, 0.0, 0.0, 0.0, 0.0, 0.0, 0.0, 0.0, 0.0, 0.0, 0.0, 0.0], [0.9948668479919434, 0.0037188823334872723, 0.00010835850844159722, 0.0013058320619165897, 0.0, 0.0, 0.0, 0.0, 0.0, 0.0, 0.0, 0.0, 0.0, 0.0], [0.9891049265861511, 0.002643090905621648, 0.00039383271359838545, 0.001978593645617366, 0.005879492498934269, 0.0, 0.0, 0.0, 0.0, 0.0, 0.0, 0.0, 0.0, 0.0], [0.9866198301315308, 0.0037553184665739536, 0.0004750317020807415, 0.00016061021597124636, 0.0007205742876976728, 0.008268593810498714, 0.0, 0.0, 0.0, 0.0, 0.0, 0.0, 0.0, 0.0], [0.9856376051902771, 0.0016493372386321425, 0.0006555721629410982, 0.0022633823100477457, 0.002300749532878399, 0.004579000174999237, 0.002914335345849395, 0.0, 0.0, 0.0, 0.0, 0.0, 0.0, 0.0], [0.9764942526817322, 0.0013367391657084227, 0.0005477690719999373, 0.0033290921710431576, 0.0016776470001786947, 0.002182269934564829, 0.0008757348987273872, 0.013556471094489098, 0.0, 0.0, 0.0, 0.0, 0.0, 0.0], [0.9624976515769958, 0.00030769710429012775, 0.006427978165447712, 0.021016962826251984, 0.007812262512743473, 0.0010233682114630938, 8.765060192672536e-05, 0.0005688380915671587, 0.00025762879522517323, 0.0, 0.0, 0.0, 0.0, 0.0], [0.6330227851867676, 0.0019782441668212414, 0.000505284930113703, 0.3103635907173157, 0.035447314381599426, 0.002827863208949566, 0.0004515319596976042, 0.0041008880361914635, 0.0019533787854015827, 0.009349074214696884, 0.0, 0.0, 0.0, 0.0], [0.8427721858024597, 0.0005601571756415069, 1.561873432365246e-05, 0.0002566771290730685, 0.07253438234329224, 0.03237425535917282, 0.0129798399284482, 0.017925141379237175, 0.003889781655743718, 0.0004418931494001299, 0.01625017262995243, 0.0, 0.0, 0.0], [0.7116028070449829, 0.0005456242361105978, 0.00010737576667452231, 0.0006137585151009262, 0.00131510803475976, 0.055741820484399796, 0.14631301164627075, 0.046759653836488724, 0.010515944100916386, 0.000825588998850435, 0.010760550387203693, 0.014898774214088917, 0.0, 0.0], [0.557033896446228, 0.0010975965997204185, 0.0001280532160308212, 8.124372834572569e-05, 0.00029482407262548804, 0.00392859848216176, 0.3545455038547516, 0.06192874163389206, 0.0038103966508060694, 0.0001390005782013759, 0.0010246060555800796, 0.0049364445731043816, 0.011051186360418797, 0.0], [0.413941890001297, 0.00060624023899436, 0.00019322239677421749, 0.0013727815821766853, 0.001217708457261324, 0.0035856016911566257, 0.0024067736230790615, 0.5340572595596313, 0.002238669665530324, 0.00044272554805502295, 0.024111218750476837, 0.006041212473064661, 0.006260495632886887, 0.0035242484882473946]], [[1.0, 0.0, 0.0, 0.0, 0.0, 0.0, 0.0, 0.0, 0.0, 0.0, 0.0, 0.0, 0.0, 0.0], [0.9999494552612305, 5.0553713663248345e-05, 0.0, 0.0, 0.0, 0.0, 0.0, 0.0, 0.0, 0.0, 0.0, 0.0, 0.0, 0.0], [0.9995724558830261, 0.0003013341629412025, 0.00012622987560462207, 0.0, 0.0, 0.0, 0.0, 0.0, 0.0, 0.0, 0.0, 0.0, 0.0, 0.0], [0.9991945624351501, 0.00022733482182957232, 6.426773069279079e-08, 0.0005779768107458949, 0.0, 0.0, 0.0, 0.0, 0.0, 0.0, 0.0, 0.0, 0.0, 0.0], [0.9977930784225464, 0.0004988536238670349, 1.0323892638552934e-06, 1.468562004447449e-05, 0.0016923401271924376, 0.0, 0.0, 0.0, 0.0, 0.0, 0.0, 0.0, 0.0, 0.0], [0.9962994456291199, 0.0007644281140528619, 2.8701435894618044e-07, 2.3677705030422658e-05, 0.00010282624862156808, 0.002809368772432208, 0.0, 0.0, 0.0, 0.0, 0.0, 0.0, 0.0, 0.0], [0.99775630235672, 0.0010219346731901169, 1.2451426556481238e-08, 1.7263206473216997e-06, 0.00012013288505841047, 0.0003380735870450735, 0.0007617737865075469, 0.0, 0.0, 0.0, 0.0, 0.0, 0.0, 0.0], [0.9998236298561096, 2.0103623683098704e-05, 2.1728101273765787e-07, 1.2934476217196789e-05, 4.479154540604213e-06, 2.065798980765976e-06, 1.0099977743038835e-07, 0.00013635685900226235, 0.0, 0.0, 0.0, 0.0, 0.0, 0.0], [0.7502302527427673, 3.361677590874024e-05, 0.2487155944108963, 0.0007891837740316987, 3.6943577015335904e-06, 5.984687732052407e-07, 5.740726560787834e-09, 1.6648122027618228e-06, 0.00022545606771018356, 0.0, 0.0, 0.0, 0.0, 0.0], [0.6176216006278992, 0.0003626802354119718, 4.701772195403464e-05, 0.3775738775730133, 0.0028981619980186224, 3.519638266880065e-05, 1.515860731160501e-05, 7.33242995920591e-05, 0.0004205272998660803, 0.0009524831548333168, 0.0, 0.0, 0.0, 0.0], [0.30004531145095825, 0.0001861300552263856, 9.729125594049037e-08, 0.000333278818288818, 0.6754705309867859, 0.01276003010571003, 0.0001243747101398185, 0.0019147758139297366, 8.132954826578498e-05, 2.534375880713924e-06, 0.009081533178687096, 0.0, 0.0, 0.0], [0.3901081383228302, 0.0005389734287746251, 7.16240947440383e-07, 3.2314574127667584e-06, 0.0007816258585080504, 0.6061998009681702, 0.000763105635996908, 0.0010348536306992173, 6.42676604911685e-06, 3.7329073165892623e-07, 2.4129210487444652e-06, 0.0005604287725873291, 0.0, 0.0], [0.04947224631905556, 0.00016637268709018826, 1.91185005604666e-08, 1.572349674461293e-06, 7.4505551310721785e-06, 0.00022742901637684554, 0.9495338201522827, 0.0005103886360302567, 2.775346104044729e-07, 1.0587898335856494e-09, 4.2569655533952755e-07, 6.933550594112603e-06, 7.313584501389414e-05, 0.0], [0.10482457280158997, 0.0004560326924547553, 1.7229918602978955e-09, 2.760239681265375e-07, 2.668535671546124e-05, 9.297057113144547e-05, 0.0003099367895629257, 0.8940032124519348, 2.40278950514039e-07, 1.456124776311185e-09, 2.135419890691992e-06, 7.053098670439795e-05, 5.7253964769188315e-05, 0.00015623201034031808]], [[1.0, 0.0, 0.0, 0.0, 0.0, 0.0, 0.0, 0.0, 0.0, 0.0, 0.0, 0.0, 0.0, 0.0], [0.9958474040031433, 0.004152671433985233, 0.0, 0.0, 0.0, 0.0, 0.0, 0.0, 0.0, 0.0, 0.0, 0.0, 0.0, 0.0], [0.7368190288543701, 0.25593528151512146, 0.007245766930282116, 0.0, 0.0, 0.0, 0.0, 0.0, 0.0, 0.0, 0.0, 0.0, 0.0, 0.0], [0.6614596247673035, 0.14718285202980042, 0.13142038881778717, 0.05993708223104477, 0.0, 0.0, 0.0, 0.0, 0.0, 0.0, 0.0, 0.0, 0.0, 0.0], [0.5482803583145142, 0.10163632780313492, 0.12310092151165009, 0.20989790558815002, 0.017084522172808647, 0.0, 0.0, 0.0, 0.0, 0.0, 0.0, 0.0, 0.0, 0.0], [0.5176172256469727, 0.016135025769472122, 0.019158529117703438, 0.25173723697662354, 0.17288465797901154, 0.022467322647571564, 0.0, 0.0, 0.0, 0.0, 0.0, 0.0, 0.0, 0.0], [0.45339345932006836, 0.009265855886042118, 0.017627540975809097, 0.2100069522857666, 0.19710391759872437, 0.08867550641298294, 0.02392667718231678, 0.0, 0.0, 0.0, 0.0, 0.0, 0.0, 0.0], [0.9439916610717773, 0.0029358358588069677, 0.0014587568584829569, 0.02093655988574028, 0.006567198783159256, 0.0035854028537869453, 0.011231087148189545, 0.009293515235185623, 0.0, 0.0, 0.0, 0.0, 0.0, 0.0], [0.7099353671073914, 0.014923511072993279, 0.02579193376004696, 0.007738126441836357, 0.01706131361424923, 0.028374748304486275, 0.022276559844613075, 0.13694562017917633, 0.036952752619981766, 0.0, 0.0, 0.0, 0.0, 0.0], [0.2443038672208786, 0.028347346931695938, 0.0011701486073434353, 0.005036152899265289, 0.010563969612121582, 0.007414648309350014, 0.005379580892622471, 0.04693404957652092, 0.6395826935768127, 0.011267551220953465, 0.0, 0.0, 0.0, 0.0], [0.3884147107601166, 0.007751887198537588, 0.015802424401044846, 0.011691826395690441, 0.005815944634377956, 0.016002513468265533, 0.05551614984869957, 0.032679639756679535, 0.3101781904697418, 0.08417019248008728, 0.07197652757167816, 0.0, 0.0, 0.0], [0.2508153021335602, 0.008923377841711044, 0.01272057369351387, 0.032585542649030685, 0.0017883412074297667, 0.006842480041086674, 0.027524158358573914, 0.026572445407509804, 0.3493620753288269, 0.05674386024475098, 0.21318849921226501, 0.012933431193232536, 0.0, 0.0], [0.4016649127006531, 0.0017245523631572723, 0.0032272201497107744, 0.04157739132642746, 0.02109796740114689, 0.0032963070552796125, 0.021360201761126518, 0.0035667079500854015, 0.0650462657213211, 0.012342730537056923, 0.26818281412124634, 0.1408720463514328, 0.016040794551372528, 0.0], [0.4380907118320465, 0.0009627462713979185, 0.002174829365685582, 0.03404912352561951, 0.022799545899033546, 0.009857961907982826, 0.0027434055227786303, 0.002214940497651696, 0.01718771643936634, 0.005556140560656786, 0.257088840007782, 0.14028368890285492, 0.05583970248699188, 0.011150688864290714]], [[1.0, 0.0, 0.0, 0.0, 0.0, 0.0, 0.0, 0.0, 0.0, 0.0, 0.0, 0.0, 0.0, 0.0], [0.9397608637809753, 0.060239117592573166, 0.0, 0.0, 0.0, 0.0, 0.0, 0.0, 0.0, 0.0, 0.0, 0.0, 0.0, 0.0], [0.8813151717185974, 0.09284614026546478, 0.025838717818260193, 0.0, 0.0, 0.0, 0.0, 0.0, 0.0, 0.0, 0.0, 0.0, 0.0, 0.0], [0.6078616976737976, 0.16958695650100708, 0.10349471122026443, 0.11905666440725327, 0.0, 0.0, 0.0, 0.0, 0.0, 0.0, 0.0, 0.0, 0.0, 0.0], [0.6144358515739441, 0.0963282585144043, 0.05855892598628998, 0.1673601120710373, 0.06331684440374374, 0.0, 0.0, 0.0, 0.0, 0.0, 0.0, 0.0, 0.0, 0.0], [0.5051635503768921, 0.08623845875263214, 0.05621063709259033, 0.20795810222625732, 0.10295824706554413, 0.04147108271718025, 0.0, 0.0, 0.0, 0.0, 0.0, 0.0, 0.0, 0.0], [0.47504404187202454, 0.05466286838054657, 0.03820919990539551, 0.2786293625831604, 0.09906124323606491, 0.049308549612760544, 0.005084719974547625, 0.0, 0.0, 0.0, 0.0, 0.0, 0.0, 0.0], [0.6002192497253418, 0.027387937530875206, 0.008428207598626614, 0.07039348781108856, 0.1323627084493637, 0.08549579977989197, 0.05507075786590576, 0.020641807466745377, 0.0, 0.0, 0.0, 0.0, 0.0, 0.0], [0.46683600544929504, 0.04371897503733635, 0.034741178154945374, 0.08002631366252899, 0.0659027174115181, 0.08935800194740295, 0.10900790989398956, 0.07693539559841156, 0.03347349539399147, 0.0, 0.0, 0.0, 0.0, 0.0], [0.3651174008846283, 0.02861657366156578, 0.006073369644582272, 0.040137048810720444, 0.05994471162557602, 0.09855245053768158, 0.1433965563774109, 0.07917942106723785, 0.1603834629058838, 0.018599018454551697, 0.0, 0.0, 0.0, 0.0], [0.28395986557006836, 0.0395149290561676, 0.020677249878644943, 0.010343329049646854, 0.04171115905046463, 0.07113678753376007, 0.023804737254977226, 0.04113905876874924, 0.38432881236076355, 0.04763602465391159, 0.035748064517974854, 0.0, 0.0, 0.0], [0.2251625657081604, 0.046168096363544464, 0.017018048092722893, 0.032551590353250504, 0.022189414128661156, 0.039144452661275864, 0.013101527467370033, 0.030694512650370598, 0.21429969370365143, 0.02168682962656021, 0.16697120666503906, 0.17101207375526428, 0.0, 0.0], [0.32583004236221313, 0.04682544991374016, 0.01906026341021061, 0.056144606322050095, 0.027309110388159752, 0.018864529207348824, 0.007651354186236858, 0.016924340277910233, 0.10743097960948944, 0.018171828240156174, 0.1903209090232849, 0.1334814876317978, 0.0319850854575634, 0.0], [0.3508821427822113, 0.02264859527349472, 0.012090696953237057, 0.07359195500612259, 0.024896565824747086, 0.018752314150333405, 0.0023047199938446283, 0.014375058002769947, 0.06123709678649902, 0.015060207806527615, 0.2663332223892212, 0.09694579988718033, 0.037284690886735916, 0.0035969787277281284]], [[1.0, 0.0, 0.0, 0.0, 0.0, 0.0, 0.0, 0.0, 0.0, 0.0, 0.0, 0.0, 0.0, 0.0], [0.9749967455863953, 0.025003215298056602, 0.0, 0.0, 0.0, 0.0, 0.0, 0.0, 0.0, 0.0, 0.0, 0.0, 0.0, 0.0], [0.8385563492774963, 0.11579955369234085, 0.04564414545893669, 0.0, 0.0, 0.0, 0.0, 0.0, 0.0, 0.0, 0.0, 0.0, 0.0, 0.0], [0.8125172853469849, 0.0684206485748291, 0.09090197086334229, 0.028160082176327705, 0.0, 0.0, 0.0, 0.0, 0.0, 0.0, 0.0, 0.0, 0.0, 0.0], [0.8717904090881348, 0.02406049519777298, 0.0352553091943264, 0.05492710322141647, 0.013966687954962254, 0.0, 0.0, 0.0, 0.0, 0.0, 0.0, 0.0, 0.0, 0.0], [0.7713900804519653, 0.008580630645155907, 0.020916227251291275, 0.07838145643472672, 0.04261692613363266, 0.07811468094587326, 0.0, 0.0, 0.0, 0.0, 0.0, 0.0, 0.0, 0.0], [0.2750263214111328, 0.024676194414496422, 0.015471460297703743, 0.015123331919312477, 0.03466729074716568, 0.37897443771362305, 0.25606104731559753, 0.0, 0.0, 0.0, 0.0, 0.0, 0.0, 0.0], [0.6226915717124939, 0.006586138624697924, 0.007258725818246603, 0.019336843863129616, 0.03337368369102478, 0.051458749920129776, 0.23210030794143677, 0.027193918824195862, 0.0, 0.0, 0.0, 0.0, 0.0, 0.0], [0.19681046903133392, 0.0014909723540768027, 0.004561735782772303, 0.01881132461130619, 0.03899575397372246, 0.12641370296478271, 0.2957695424556732, 0.3028148412704468, 0.01433167140930891, 0.0, 0.0, 0.0, 0.0, 0.0], [0.3436594605445862, 0.0075968480668962, 0.0024314015172421932, 0.037471819669008255, 0.04361758008599281, 0.05671810731291771, 0.3205007016658783, 0.11230795085430145, 0.054216042160987854, 0.021480118855834007, 0.0, 0.0, 0.0, 0.0], [0.3138429522514343, 0.0023611027281731367, 0.004076761193573475, 0.005657844711095095, 0.008977329358458519, 0.06509345024824142, 0.32362306118011475, 0.11067064106464386, 0.04201037809252739, 0.02283315546810627, 0.10085337609052658, 0.0, 0.0, 0.0], [0.4364648461341858, 0.0015740749659016728, 0.001824788167141378, 0.009638840332627296, 0.00150497374124825, 0.10039084404706955, 0.17868314683437347, 0.09113210439682007, 0.028683174401521683, 0.009062862023711205, 0.1268220841884613, 0.014218206517398357, 0.0, 0.0], [0.5554300546646118, 0.0006651967414654791, 0.0012784035643562675, 0.01017230935394764, 0.004132956266403198, 0.014405209571123123, 0.1512763500213623, 0.022496422752738, 0.00895941723138094, 0.002543498296290636, 0.13696646690368652, 0.03651808574795723, 0.05515562742948532, 0.0], [0.30192264914512634, 0.00237557222135365, 0.001239537145011127, 0.0018810163019225001, 0.004054189659655094, 0.05926351249217987, 0.04155962914228439, 0.03350389376282692, 0.01207512617111206, 0.0028858440928161144, 0.033430349081754684, 0.039129387587308884, 0.2392778992652893, 0.22740137577056885]], [[1.0, 0.0, 0.0, 0.0, 0.0, 0.0, 0.0, 0.0, 0.0, 0.0, 0.0, 0.0, 0.0, 0.0], [0.9955450296401978, 0.0044549135491251945, 0.0, 0.0, 0.0, 0.0, 0.0, 0.0, 0.0, 0.0, 0.0, 0.0, 0.0, 0.0], [0.9905627965927124, 0.009251640178263187, 0.00018547668878454715, 0.0, 0.0, 0.0, 0.0, 0.0, 0.0, 0.0, 0.0, 0.0, 0.0, 0.0], [0.9461835622787476, 0.009510388597846031, 0.0010993063915520906, 0.04320678114891052, 0.0, 0.0, 0.0, 0.0, 0.0, 0.0, 0.0, 0.0, 0.0, 0.0], [0.9232248067855835, 0.023387907072901726, 0.0021459590643644333, 0.023410582914948463, 0.02783067896962166, 0.0, 0.0, 0.0, 0.0, 0.0, 0.0, 0.0, 0.0, 0.0], [0.8840952515602112, 0.04841943457722664, 5.447692456073128e-05, 0.0038231888320297003, 0.048912689089775085, 0.014694925397634506, 0.0, 0.0, 0.0, 0.0, 0.0, 0.0, 0.0, 0.0], [0.9442342519760132, 0.031384050846099854, 3.561179983080365e-05, 0.005584751255810261, 0.009705287404358387, 0.006217238958925009, 0.0028388306964188814, 0.0, 0.0, 0.0, 0.0, 0.0, 0.0, 0.0], [0.9734703302383423, 0.016483517363667488, 0.00010031978308688849, 0.0074144103564321995, 0.0019207230070605874, 0.00026215403340756893, 4.571389126795111e-06, 0.0003440456057433039, 0.0, 0.0, 0.0, 0.0, 0.0, 0.0], [0.33159399032592773, 0.0026027269195765257, 0.6473861336708069, 0.012573093175888062, 0.003968589939177036, 0.0006187651306390762, 4.0060090213955846e-06, 0.0006055975682102144, 0.0006470870575867593, 0.0, 0.0, 0.0, 0.0, 0.0], [0.1026763767004013, 0.0023884049151092768, 1.3057470823696349e-05, 0.7584112882614136, 0.12855157256126404, 0.00416426220908761, 8.22458096081391e-05, 0.001274138456210494, 0.002409704029560089, 2.9009739591856487e-05, 0.0, 0.0, 0.0, 0.0], [0.38354364037513733, 0.010147273540496826, 0.004168330691754818, 0.047156624495983124, 0.45787450671195984, 0.025084588676691055, 0.0021054954268038273, 0.008606853894889355, 0.015359031036496162, 0.002850026125088334, 0.0431036576628685, 0.0, 0.0, 0.0], [0.6834842562675476, 0.03856483846902847, 0.0032010439317673445, 0.019365016371011734, 0.021989356726408005, 0.16709986329078674, 0.0027566764038056135, 0.01850041002035141, 0.01424040924757719, 0.0029345338698476553, 0.018088774755597115, 0.009774808771908283, 0.0, 0.0], [0.23710787296295166, 0.032100461423397064, 4.0583308873465285e-06, 0.0006885648472234607, 0.02094552293419838, 0.008878698572516441, 0.6357495188713074, 0.048206813633441925, 6.766898150090128e-05, 3.1570159535476705e-06, 0.00039719793130643666, 0.011463441886007786, 0.004387024790048599, 0.0], [0.4778274595737457, 0.04366970434784889, 1.6615353160887025e-05, 0.004111825488507748, 0.014917034655809402, 0.013488749042153358, 0.004353153984993696, 0.4081251919269562, 0.0003333268396090716, 1.751339550537523e-05, 0.004024994093924761, 0.011886896565556526, 0.011883928440511227, 0.0053436667658388615]], [[1.0, 0.0, 0.0, 0.0, 0.0, 0.0, 0.0, 0.0, 0.0, 0.0, 0.0, 0.0, 0.0, 0.0], [0.9898965358734131, 0.010103436186909676, 0.0, 0.0, 0.0, 0.0, 0.0, 0.0, 0.0, 0.0, 0.0, 0.0, 0.0, 0.0], [0.7118979096412659, 0.20419453084468842, 0.0839075967669487, 0.0, 0.0, 0.0, 0.0, 0.0, 0.0, 0.0, 0.0, 0.0, 0.0, 0.0], [0.5001661777496338, 0.0355885848402977, 0.4525914192199707, 0.011653830297291279, 0.0, 0.0, 0.0, 0.0, 0.0, 0.0, 0.0, 0.0, 0.0, 0.0], [0.5554097294807434, 0.02059224061667919, 0.21134275197982788, 0.18276946246623993, 0.02988586202263832, 0.0, 0.0, 0.0, 0.0, 0.0, 0.0, 0.0, 0.0, 0.0], [0.6465215682983398, 0.0024721347726881504, 0.0015742419054731727, 0.034329261630773544, 0.2685001790523529, 0.0466025173664093, 0.0, 0.0, 0.0, 0.0, 0.0, 0.0, 0.0, 0.0], [0.8591060042381287, 0.00025480796466581523, 0.002163223223760724, 0.0018586699152365327, 0.001964427763596177, 0.11719167232513428, 0.01746121421456337, 0.0, 0.0, 0.0, 0.0, 0.0, 0.0, 0.0], [0.9266868829727173, 0.0001698337000561878, 0.00021228908735793084, 0.001224289764650166, 0.0009211099240928888, 0.010697334073483944, 0.04512928053736687, 0.014958912506699562, 0.0, 0.0, 0.0, 0.0, 0.0, 0.0], [0.3605198562145233, 7.466189708793536e-05, 0.000616221223026514, 0.0006651052390225232, 4.602141780196689e-05, 0.0002406034618616104, 0.00013414798013400286, 0.6326655149459839, 0.005037839990109205, 0.0, 0.0, 0.0, 0.0, 0.0], [0.7115300893783569, 0.002688887994736433, 0.006346444599330425, 0.00010856626613531262, 6.474378460552543e-05, 4.1588518797652796e-05, 9.488844807492569e-05, 0.0036722994409501553, 0.23357638716697693, 0.041876163333654404, 0.0, 0.0, 0.0, 0.0], [0.3382871448993683, 0.0003056707791984081, 0.014061703346669674, 0.001784581458196044, 2.797978049784433e-05, 0.00048268528189510107, 0.00016180572856683284, 0.009319196455180645, 0.03210523724555969, 0.5702168345451355, 0.03324716538190842, 0.0, 0.0, 0.0], [0.43499401211738586, 0.0008564351010136306, 0.007865756750106812, 0.0203371811658144, 0.0014130660565569997, 0.024247728288173676, 0.00714019313454628, 0.014138245955109596, 0.004680215381085873, 0.06515971571207047, 0.41018620133399963, 0.008981243707239628, 0.0, 0.0], [0.5562446117401123, 0.00019635203352663666, 0.00011352323781466112, 0.007279271725565195, 0.04913646727800369, 0.008340852335095406, 0.00857352465391159, 0.004019901622086763, 0.00032685650512576103, 0.0004024911322630942, 0.06422507762908936, 0.27959948778152466, 0.021541602909564972, 0.0], [0.8278490304946899, 2.2538413759320974e-05, 0.0002188041398767382, 0.00036388880107551813, 0.00035660475259646773, 0.023585224524140358, 0.0021584746427834034, 0.0007901627686806023, 1.975870327441953e-05, 0.0006587063544429839, 0.01344314031302929, 0.003462181193754077, 0.11695364862680435, 0.010117821395397186]], [[1.0, 0.0, 0.0, 0.0, 0.0, 0.0, 0.0, 0.0, 0.0, 0.0, 0.0, 0.0, 0.0, 0.0], [0.979774534702301, 0.020225493237376213, 0.0, 0.0, 0.0, 0.0, 0.0, 0.0, 0.0, 0.0, 0.0, 0.0, 0.0, 0.0], [0.8318608403205872, 0.13126084208488464, 0.03687824308872223, 0.0, 0.0, 0.0, 0.0, 0.0, 0.0, 0.0, 0.0, 0.0, 0.0, 0.0], [0.9581094980239868, 0.015335365198552608, 0.023502927273511887, 0.0030521538574248552, 0.0, 0.0, 0.0, 0.0, 0.0, 0.0, 0.0, 0.0, 0.0, 0.0], [0.9380372166633606, 0.018678942695260048, 0.022525282576680183, 0.009418279863893986, 0.01134025864303112, 0.0, 0.0, 0.0, 0.0, 0.0, 0.0, 0.0, 0.0, 0.0], [0.9087597131729126, 0.020553642883896828, 0.004568071104586124, 0.007932274602353573, 0.038550473749637604, 0.019635874778032303, 0.0, 0.0, 0.0, 0.0, 0.0, 0.0, 0.0, 0.0], [0.47237351536750793, 0.028971169143915176, 0.013974383473396301, 0.014245574362576008, 0.017703374847769737, 0.31679898500442505, 0.1359330266714096, 0.0, 0.0, 0.0, 0.0, 0.0, 0.0, 0.0], [0.9263231158256531, 0.006236304063349962, 0.00546353729441762, 0.0019587185233831406, 0.0019212794722989202, 0.017260707914829254, 0.032865993678569794, 0.007970347069203854, 0.0, 0.0, 0.0, 0.0, 0.0, 0.0], [0.9031335711479187, 0.004194551147520542, 0.005214503966271877, 0.0030407244339585304, 0.0007619233219884336, 0.01578710414469242, 0.01144580077379942, 0.039805635809898376, 0.016616160050034523, 0.0, 0.0, 0.0, 0.0, 0.0], [0.767223596572876, 0.017341431230306625, 0.00559498555958271, 0.004279219079762697, 0.002717135939747095, 0.014399826526641846, 0.041063472628593445, 0.020778821781277657, 0.0851036086678505, 0.04149787127971649, 0.0, 0.0, 0.0, 0.0], [0.908388078212738, 0.002266683615744114, 0.002824279246851802, 0.001709686708636582, 0.001713181147351861, 0.02063140459358692, 0.03569481521844864, 0.0019591068848967552, 0.00264105130918324, 0.011789381504058838, 0.010382251814007759, 0.0, 0.0, 0.0], [0.7300884127616882, 0.004963855259120464, 0.004238693509250879, 0.00556482607498765, 0.0020509017631411552, 0.14712856709957123, 0.05948809161782265, 0.0034397493582218885, 0.00343177723698318, 0.013667888008058071, 0.01578405313193798, 0.01015308778733015, 0.0, 0.0], [0.8795772194862366, 0.005148442927747965, 0.0010274461237713695, 0.002726872218772769, 0.008380578830838203, 0.006718147080391645, 0.03271462023258209, 0.0031079817563295364, 0.005532213486731052, 0.003513264236971736, 0.004726513288915157, 0.025670677423477173, 0.02115609124302864, 0.0], [0.46866533160209656, 0.007201974280178547, 0.0036063294392079115, 0.0040174825116992, 0.0033691036514937878, 0.06484779715538025, 0.024013284593820572, 0.022285694256424904, 0.012855017557740211, 0.017767250537872314, 0.02190401963889599, 0.01712995395064354, 0.2556113600730896, 0.07672545313835144]], [[1.0, 0.0, 0.0, 0.0, 0.0, 0.0, 0.0, 0.0, 0.0, 0.0, 0.0, 0.0, 0.0, 0.0], [0.9692877531051636, 0.030712271109223366, 0.0, 0.0, 0.0, 0.0, 0.0, 0.0, 0.0, 0.0, 0.0, 0.0, 0.0, 0.0], [0.9420514106750488, 0.052608173340559006, 0.005340421572327614, 0.0, 0.0, 0.0, 0.0, 0.0, 0.0, 0.0, 0.0, 0.0, 0.0, 0.0], [0.927953839302063, 0.030841657891869545, 0.006505172234028578, 0.034699395298957825, 0.0, 0.0, 0.0, 0.0, 0.0, 0.0, 0.0, 0.0, 0.0, 0.0], [0.8686088919639587, 0.03111431747674942, 0.018188253045082092, 0.05153753235936165, 0.030551007017493248, 0.0, 0.0, 0.0, 0.0, 0.0, 0.0, 0.0, 0.0, 0.0], [0.7656596899032593, 0.03722154721617699, 0.002588089322671294, 0.05324610322713852, 0.08709126710891724, 0.05419328436255455, 0.0, 0.0, 0.0, 0.0, 0.0, 0.0, 0.0, 0.0], [0.6596884727478027, 0.028735974803566933, 0.0028558119665831327, 0.19815845787525177, 0.054199982434511185, 0.04365817829966545, 0.012703082524240017, 0.0, 0.0, 0.0, 0.0, 0.0, 0.0, 0.0], [0.8812704682350159, 0.013602335937321186, 0.014968806877732277, 0.04481752961874008, 0.02304939739406109, 0.009503825567662716, 0.0007502419175580144, 0.012037361972033978, 0.0, 0.0, 0.0, 0.0, 0.0, 0.0], [0.3075546622276306, 0.0024396032094955444, 0.5770010352134705, 0.074576236307621, 0.020558729767799377, 0.004206648096442223, 0.0008177579729817808, 0.003742660628631711, 0.009102731011807919, 0.0, 0.0, 0.0, 0.0, 0.0], [0.2742469906806946, 0.00393679877743125, 0.00011958533286815509, 0.48281148076057434, 0.16497795283794403, 0.007683946751058102, 0.005202420521527529, 0.008276492357254028, 0.05165059491991997, 0.0010937058832496405, 0.0, 0.0, 0.0, 0.0], [0.4683205783367157, 0.003705644514411688, 0.0006070042145438492, 0.004628926515579224, 0.3652852475643158, 0.04677214473485947, 0.01506193820387125, 0.0245340708643198, 0.04388594627380371, 0.0042960019782185555, 0.02290250174701214, 0.0, 0.0, 0.0], [0.5539806485176086, 0.004950487054884434, 0.003188310656696558, 0.009285945445299149, 0.0028734023217111826, 0.20975226163864136, 0.04379323869943619, 0.046832505613565445, 0.0885283425450325, 0.00582616962492466, 0.02436099573969841, 0.006627731956541538, 0.0, 0.0], [0.30089282989501953, 0.00428799306973815, 8.79635990713723e-05, 0.004961173515766859, 0.00610131211578846, 0.002805836731567979, 0.6305118799209595, 0.01779027283191681, 0.003175479592755437, 0.00013066339306533337, 0.01015779934823513, 0.01470594946295023, 0.00439083157107234, 0.0], [0.4099043905735016, 0.0069180200807750225, 0.00026573013747110963, 0.03348378837108612, 0.010840757749974728, 0.007259370293468237, 0.0027153720147907734, 0.27410101890563965, 0.027529237791895866, 0.0007864460931159556, 0.17231115698814392, 0.03352968394756317, 0.012967824935913086, 0.007387153804302216]], [[1.0, 0.0, 0.0, 0.0, 0.0, 0.0, 0.0, 0.0, 0.0, 0.0, 0.0, 0.0, 0.0, 0.0], [0.9840579628944397, 0.01594206504523754, 0.0, 0.0, 0.0, 0.0, 0.0, 0.0, 0.0, 0.0, 0.0, 0.0, 0.0, 0.0], [0.9346501231193542, 0.029110772535204887, 0.03623911738395691, 0.0, 0.0, 0.0, 0.0, 0.0, 0.0, 0.0, 0.0, 0.0, 0.0, 0.0], [0.8158729076385498, 0.03104226477444172, 0.07533152401447296, 0.07775330543518066, 0.0, 0.0, 0.0, 0.0, 0.0, 0.0, 0.0, 0.0, 0.0, 0.0], [0.7982280254364014, 0.029968248680233955, 0.07416915148496628, 0.06188448145985603, 0.03575010225176811, 0.0, 0.0, 0.0, 0.0, 0.0, 0.0, 0.0, 0.0, 0.0], [0.8520488739013672, 0.033247727900743484, 0.0471489354968071, 0.03720992058515549, 0.029085315763950348, 0.0012592212297022343, 0.0, 0.0, 0.0, 0.0, 0.0, 0.0, 0.0, 0.0], [0.9170616865158081, 0.02085365355014801, 0.02288302406668663, 0.015740329399704933, 0.013896959833800793, 0.0032150442712008953, 0.006349338684231043, 0.0, 0.0, 0.0, 0.0, 0.0, 0.0, 0.0], [0.7476114630699158, 0.0877080038189888, 0.12416157126426697, 0.01758543960750103, 0.008901347406208515, 0.006360295694321394, 0.0069751436822116375, 0.0006967670633457601, 0.0, 0.0, 0.0, 0.0, 0.0, 0.0], [0.6669886708259583, 0.018442368134856224, 0.09169809520244598, 0.044314779341220856, 0.02512850984930992, 0.0048362757079303265, 0.015079029835760593, 0.12372691184282303, 0.009785275906324387, 0.0, 0.0, 0.0, 0.0, 0.0], [0.6150939464569092, 0.048381391912698746, 0.04897649213671684, 0.13592423498630524, 0.042681895196437836, 0.009898972697556019, 0.008553393185138702, 0.04549993947148323, 0.01881297118961811, 0.02617667242884636, 0.0, 0.0, 0.0, 0.0], [0.6383123993873596, 0.033041756600141525, 0.0330037958920002, 0.0701470673084259, 0.06946557015180588, 0.019188418984413147, 0.021253442391753197, 0.022426070645451546, 0.016858555376529694, 0.023527923971414566, 0.05277503654360771, 0.0, 0.0, 0.0], [0.681304395198822, 0.02581566572189331, 0.03180341422557831, 0.04258372634649277, 0.04699748381972313, 0.02151196449995041, 0.03196804225444794, 0.020670348778367043, 0.014483371749520302, 0.021169429644942284, 0.03613492101430893, 0.0255572609603405, 0.0, 0.0], [0.6140540242195129, 0.051752325147390366, 0.029465878382325172, 0.04949904605746269, 0.057636808604002, 0.0030310715083032846, 0.03481671214103699, 0.03927357494831085, 0.01374904252588749, 0.016996053978800774, 0.04590670391917229, 0.04071471095085144, 0.0031040136236697435, 0.0], [0.6781937479972839, 0.036995574831962585, 0.020878609269857407, 0.02593926340341568, 0.03400924801826477, 0.0062829977832734585, 0.01942364126443863, 0.07460732758045197, 0.013344528153538704, 0.013568994589149952, 0.029854971915483475, 0.026954535394906998, 0.006155779119580984, 0.01379081979393959]], [[1.0, 0.0, 0.0, 0.0, 0.0, 0.0, 0.0, 0.0, 0.0, 0.0, 0.0, 0.0, 0.0, 0.0], [0.8032504320144653, 0.19674955308437347, 0.0, 0.0, 0.0, 0.0, 0.0, 0.0, 0.0, 0.0, 0.0, 0.0, 0.0, 0.0], [0.6341555714607239, 0.10876550525426865, 0.2570789158344269, 0.0, 0.0, 0.0, 0.0, 0.0, 0.0, 0.0, 0.0, 0.0, 0.0, 0.0], [0.1250024437904358, 0.04921591654419899, 0.800299346446991, 0.0254822950810194, 0.0, 0.0, 0.0, 0.0, 0.0, 0.0, 0.0, 0.0, 0.0, 0.0], [0.21631376445293427, 0.04075139760971069, 0.6326232552528381, 0.08551880717277527, 0.024792730808258057, 0.0, 0.0, 0.0, 0.0, 0.0, 0.0, 0.0, 0.0, 0.0], [0.32704928517341614, 0.08540815860033035, 0.26874029636383057, 0.23373951017856598, 0.06657610833644867, 0.018486669287085533, 0.0, 0.0, 0.0, 0.0, 0.0, 0.0, 0.0, 0.0], [0.4785318076610565, 0.033034488558769226, 0.1440124213695526, 0.21262520551681519, 0.03611469641327858, 0.041036054491996765, 0.0546453557908535, 0.0, 0.0, 0.0, 0.0, 0.0, 0.0, 0.0], [0.8265067338943481, 0.018833203241229057, 0.020720865577459335, 0.026788875460624695, 0.009735964238643646, 0.005122215487062931, 0.028661616146564484, 0.06363047659397125, 0.0, 0.0, 0.0, 0.0, 0.0, 0.0], [0.5999908447265625, 0.08090681582689285, 0.2048068642616272, 0.04279462248086929, 0.014968710951507092, 0.0033684629015624523, 0.013959256932139397, 0.012319033965468407, 0.02688540890812874, 0.0, 0.0, 0.0, 0.0, 0.0], [0.4585934579372406, 0.08747576922178268, 0.1977296769618988, 0.01580735668540001, 0.006267457734793425, 0.026457222178578377, 0.045638229697942734, 0.0075757671147584915, 0.053210508078336716, 0.10124456137418747, 0.0, 0.0, 0.0, 0.0], [0.3459695279598236, 0.038849201053380966, 0.2219669669866562, 0.046229757368564606, 0.017529696226119995, 0.036117859184741974, 0.11372417956590652, 0.003952769562602043, 0.02721235156059265, 0.12375212460756302, 0.02469555102288723, 0.0, 0.0, 0.0], [0.29170677065849304, 0.03794010356068611, 0.15788206458091736, 0.08827705681324005, 0.02270321175456047, 0.029909465461969376, 0.053135182708501816, 0.012264440767467022, 0.03641209006309509, 0.1733418107032776, 0.07993637770414352, 0.016491439193487167, 0.0, 0.0], [0.2645927965641022, 0.04953673481941223, 0.06580056250095367, 0.15887847542762756, 0.04558665305376053, 0.01996522583067417, 0.05823531374335289, 0.007433807943016291, 0.040744081139564514, 0.08365143090486526, 0.15918995440006256, 0.027282841503620148, 0.019102133810520172, 0.0], [0.33266857266426086, 0.026095794513821602, 0.06135215237736702, 0.18538030982017517, 0.039135802537202835, 0.0282113179564476, 0.06521185487508774, 0.009909906424582005, 0.011594141833484173, 0.029434479773044586, 0.10525862127542496, 0.022161228582262993, 0.025114109739661217, 0.058471713215112686]], [[1.0, 0.0, 0.0, 0.0, 0.0, 0.0, 0.0, 0.0, 0.0, 0.0, 0.0, 0.0, 0.0, 0.0], [0.9713351726531982, 0.02866482175886631, 0.0, 0.0, 0.0, 0.0, 0.0, 0.0, 0.0, 0.0, 0.0, 0.0, 0.0, 0.0], [0.7520660161972046, 0.20327916741371155, 0.04465485364198685, 0.0, 0.0, 0.0, 0.0, 0.0, 0.0, 0.0, 0.0, 0.0, 0.0, 0.0], [0.6829642057418823, 0.06007096543908119, 0.11008284240961075, 0.14688199758529663, 0.0, 0.0, 0.0, 0.0, 0.0, 0.0, 0.0, 0.0, 0.0, 0.0], [0.619343638420105, 0.0564572848379612, 0.06728803366422653, 0.035060908645391464, 0.22185003757476807, 0.0, 0.0, 0.0, 0.0, 0.0, 0.0, 0.0, 0.0, 0.0], [0.6671414375305176, 0.07807759195566177, 0.11154000461101532, 0.026205671951174736, 0.09386233240365982, 0.02317291870713234, 0.0, 0.0, 0.0, 0.0, 0.0, 0.0, 0.0, 0.0], [0.707330048084259, 0.012114233337342739, 0.027635306119918823, 0.013850285671651363, 0.023176711052656174, 0.019262980669736862, 0.19663052260875702, 0.0, 0.0, 0.0, 0.0, 0.0, 0.0, 0.0], [0.9216280579566956, 0.012759808450937271, 0.015098237432539463, 0.00768101355060935, 0.008340587839484215, 0.0028033764101564884, 0.01765238493680954, 0.014036526903510094, 0.0, 0.0, 0.0, 0.0, 0.0, 0.0], [0.8212841749191284, 0.025214560329914093, 0.016487544402480125, 0.016831010580062866, 0.05154978856444359, 0.009384427219629288, 0.021891983225941658, 0.011711303144693375, 0.025645244866609573, 0.0, 0.0, 0.0, 0.0, 0.0], [0.5358262658119202, 0.1270611435174942, 0.05737800523638725, 0.02844659611582756, 0.06365549564361572, 0.008974770084023476, 0.018665334209799767, 0.0340285561978817, 0.06158239021897316, 0.06438140571117401, 0.0, 0.0, 0.0, 0.0], [0.3146613836288452, 0.014933256432414055, 0.04599874094128609, 0.15240073204040527, 0.19569630920886993, 0.057513970881700516, 0.09731113165616989, 0.00876554474234581, 0.009838158264756203, 0.03154326230287552, 0.07133759558200836, 0.0, 0.0, 0.0], [0.48839300870895386, 0.01676556095480919, 0.023526547476649284, 0.0275362990796566, 0.17667922377586365, 0.01767762005329132, 0.030820075422525406, 0.011960403993725777, 0.012583243660628796, 0.028540432453155518, 0.01762237213551998, 0.1478952169418335, 0.0, 0.0], [0.5817582011222839, 0.03241072967648506, 0.06408889591693878, 0.024656767025589943, 0.08878485858440399, 0.018783817067742348, 0.05901340767741203, 0.005916929338127375, 0.01720169372856617, 0.02918846160173416, 0.011375556699931622, 0.04545261338353157, 0.021368036046624184, 0.0], [0.5538173913955688, 0.005557413678616285, 0.01421378180384636, 0.010681101121008396, 0.01704227924346924, 0.009944318793714046, 0.1399153620004654, 0.004874971229583025, 0.005884266924113035, 0.008432670496404171, 0.008032786659896374, 0.01180467288941145, 0.011438153684139252, 0.19836083054542542]]]}\n",
       "    )\n",
       "    </script>"
      ],
      "text/plain": [
       "<circuitsvis.utils.render.RenderedHTML at 0x7fd63ec9c310>"
      ]
     },
     "execution_count": 92,
     "metadata": {},
     "output_type": "execute_result"
    }
   ],
   "source": [
    "import circuitsvis as cv\n",
    "\n",
    "cv.attention.attention_patterns(tokens=model.to_str_tokens(input_ids[3]), attention=clean_cache[\"pattern\", 6, \"attn\"][3])"
   ]
  }
 ],
 "metadata": {
  "kernelspec": {
   "display_name": "torch",
   "language": "python",
   "name": "python3"
  },
  "language_info": {
   "codemirror_mode": {
    "name": "ipython",
    "version": 3
   },
   "file_extension": ".py",
   "mimetype": "text/x-python",
   "name": "python",
   "nbconvert_exporter": "python",
   "pygments_lexer": "ipython3",
   "version": "3.11.4"
  },
  "orig_nbformat": 4
 },
 "nbformat": 4,
 "nbformat_minor": 2
}
