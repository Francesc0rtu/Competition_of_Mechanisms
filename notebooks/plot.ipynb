{
 "cells": [
  {
   "cell_type": "code",
   "execution_count": 159,
   "metadata": {},
   "outputs": [],
   "source": [
    "import sys\n",
    "sys.path.append('..')\n",
    "sys.path.append('../src')\n",
    "sys.path.append('../data')\n",
    "\n",
    "import torch\n",
    "import plotly.express as px\n",
    "import src.nanda_plot\n",
    "from src.nanda_plot import imshow_reversed, imshow\n",
    "import pandas as pd\n",
    "import numpy as np\n",
    "\n",
    "from src.result_analyzer import ResultAnalyzer"
   ]
  },
  {
   "cell_type": "markdown",
   "metadata": {},
   "source": [
    "## Generate the CSV file"
   ]
  },
  {
   "cell_type": "code",
   "execution_count": 204,
   "metadata": {},
   "outputs": [],
   "source": [
    "result = ResultAnalyzer(\"gpt2_full_result.pt\")"
   ]
  },
  {
   "cell_type": "code",
   "execution_count": 205,
   "metadata": {},
   "outputs": [
    {
     "data": {
      "text/html": [
       "<div>\n",
       "<style scoped>\n",
       "    .dataframe tbody tr th:only-of-type {\n",
       "        vertical-align: middle;\n",
       "    }\n",
       "\n",
       "    .dataframe tbody tr th {\n",
       "        vertical-align: top;\n",
       "    }\n",
       "\n",
       "    .dataframe thead th {\n",
       "        text-align: right;\n",
       "    }\n",
       "</style>\n",
       "<table border=\"1\" class=\"dataframe\">\n",
       "  <thead>\n",
       "    <tr style=\"text-align: right;\">\n",
       "      <th></th>\n",
       "      <th>id</th>\n",
       "      <th>mean</th>\n",
       "      <th>std</th>\n",
       "      <th>t-test</th>\n",
       "      <th>p-value</th>\n",
       "    </tr>\n",
       "  </thead>\n",
       "  <tbody>\n",
       "    <tr>\n",
       "      <th>0</th>\n",
       "      <td>L0H0</td>\n",
       "      <td>0.002512</td>\n",
       "      <td>0.007592</td>\n",
       "      <td>0.320331</td>\n",
       "      <td>0.753449</td>\n",
       "    </tr>\n",
       "    <tr>\n",
       "      <th>1</th>\n",
       "      <td>L0H1</td>\n",
       "      <td>0.004450</td>\n",
       "      <td>0.012541</td>\n",
       "      <td>0.343595</td>\n",
       "      <td>0.736257</td>\n",
       "    </tr>\n",
       "    <tr>\n",
       "      <th>2</th>\n",
       "      <td>L0H2</td>\n",
       "      <td>-0.000952</td>\n",
       "      <td>0.003635</td>\n",
       "      <td>-0.253613</td>\n",
       "      <td>0.803481</td>\n",
       "    </tr>\n",
       "    <tr>\n",
       "      <th>3</th>\n",
       "      <td>L0H3</td>\n",
       "      <td>-0.000060</td>\n",
       "      <td>0.007064</td>\n",
       "      <td>-0.008252</td>\n",
       "      <td>0.993532</td>\n",
       "    </tr>\n",
       "    <tr>\n",
       "      <th>4</th>\n",
       "      <td>L0H4</td>\n",
       "      <td>0.003325</td>\n",
       "      <td>0.012502</td>\n",
       "      <td>0.257492</td>\n",
       "      <td>0.800545</td>\n",
       "    </tr>\n",
       "    <tr>\n",
       "      <th>...</th>\n",
       "      <td>...</td>\n",
       "      <td>...</td>\n",
       "      <td>...</td>\n",
       "      <td>...</td>\n",
       "      <td>...</td>\n",
       "    </tr>\n",
       "    <tr>\n",
       "      <th>139</th>\n",
       "      <td>L11H7</td>\n",
       "      <td>0.002666</td>\n",
       "      <td>0.002683</td>\n",
       "      <td>0.962039</td>\n",
       "      <td>0.352353</td>\n",
       "    </tr>\n",
       "    <tr>\n",
       "      <th>140</th>\n",
       "      <td>L11H8</td>\n",
       "      <td>0.002068</td>\n",
       "      <td>0.002280</td>\n",
       "      <td>0.877898</td>\n",
       "      <td>0.394816</td>\n",
       "    </tr>\n",
       "    <tr>\n",
       "      <th>141</th>\n",
       "      <td>L11H9</td>\n",
       "      <td>0.001654</td>\n",
       "      <td>0.008557</td>\n",
       "      <td>0.187151</td>\n",
       "      <td>0.854227</td>\n",
       "    </tr>\n",
       "    <tr>\n",
       "      <th>142</th>\n",
       "      <td>L11H10</td>\n",
       "      <td>-0.013669</td>\n",
       "      <td>0.011912</td>\n",
       "      <td>-1.111054</td>\n",
       "      <td>0.285263</td>\n",
       "    </tr>\n",
       "    <tr>\n",
       "      <th>143</th>\n",
       "      <td>L11H11</td>\n",
       "      <td>0.003399</td>\n",
       "      <td>0.003740</td>\n",
       "      <td>0.879890</td>\n",
       "      <td>0.393772</td>\n",
       "    </tr>\n",
       "  </tbody>\n",
       "</table>\n",
       "<p>144 rows × 5 columns</p>\n",
       "</div>"
      ],
      "text/plain": [
       "         id      mean       std    t-test   p-value\n",
       "0      L0H0  0.002512  0.007592  0.320331  0.753449\n",
       "1      L0H1  0.004450  0.012541  0.343595  0.736257\n",
       "2      L0H2 -0.000952  0.003635 -0.253613  0.803481\n",
       "3      L0H3 -0.000060  0.007064 -0.008252  0.993532\n",
       "4      L0H4  0.003325  0.012502  0.257492  0.800545\n",
       "..      ...       ...       ...       ...       ...\n",
       "139   L11H7  0.002666  0.002683  0.962039  0.352353\n",
       "140   L11H8  0.002068  0.002280  0.877898  0.394816\n",
       "141   L11H9  0.001654  0.008557  0.187151  0.854227\n",
       "142  L11H10 -0.013669  0.011912 -1.111054  0.285263\n",
       "143  L11H11  0.003399  0.003740  0.879890  0.393772\n",
       "\n",
       "[144 rows x 5 columns]"
      ]
     },
     "execution_count": 205,
     "metadata": {},
     "output_type": "execute_result"
    }
   ],
   "source": [
    "result.process_pos_attn_head_out()"
   ]
  },
  {
   "cell_type": "code",
   "execution_count": 185,
   "metadata": {},
   "outputs": [
    {
     "data": {
      "text/html": [
       "<div>\n",
       "<style scoped>\n",
       "    .dataframe tbody tr th:only-of-type {\n",
       "        vertical-align: middle;\n",
       "    }\n",
       "\n",
       "    .dataframe tbody tr th {\n",
       "        vertical-align: top;\n",
       "    }\n",
       "\n",
       "    .dataframe thead th {\n",
       "        text-align: right;\n",
       "    }\n",
       "</style>\n",
       "<table border=\"1\" class=\"dataframe\">\n",
       "  <thead>\n",
       "    <tr style=\"text-align: right;\">\n",
       "      <th></th>\n",
       "      <th>id</th>\n",
       "      <th>mean</th>\n",
       "      <th>std</th>\n",
       "      <th>t-test</th>\n",
       "      <th>p-value</th>\n",
       "    </tr>\n",
       "  </thead>\n",
       "  <tbody>\n",
       "    <tr>\n",
       "      <th>0</th>\n",
       "      <td>L0H0</td>\n",
       "      <td>0.002512</td>\n",
       "      <td>0.007592</td>\n",
       "      <td>0.320331</td>\n",
       "      <td>0.753449</td>\n",
       "    </tr>\n",
       "    <tr>\n",
       "      <th>1</th>\n",
       "      <td>L0H1</td>\n",
       "      <td>0.004450</td>\n",
       "      <td>0.012541</td>\n",
       "      <td>0.343595</td>\n",
       "      <td>0.736257</td>\n",
       "    </tr>\n",
       "    <tr>\n",
       "      <th>2</th>\n",
       "      <td>L0H2</td>\n",
       "      <td>-0.000952</td>\n",
       "      <td>0.003635</td>\n",
       "      <td>-0.253613</td>\n",
       "      <td>0.803481</td>\n",
       "    </tr>\n",
       "    <tr>\n",
       "      <th>3</th>\n",
       "      <td>L0H3</td>\n",
       "      <td>-0.000060</td>\n",
       "      <td>0.007064</td>\n",
       "      <td>-0.008252</td>\n",
       "      <td>0.993532</td>\n",
       "    </tr>\n",
       "    <tr>\n",
       "      <th>4</th>\n",
       "      <td>L0H4</td>\n",
       "      <td>0.003325</td>\n",
       "      <td>0.012502</td>\n",
       "      <td>0.257492</td>\n",
       "      <td>0.800545</td>\n",
       "    </tr>\n",
       "    <tr>\n",
       "      <th>...</th>\n",
       "      <td>...</td>\n",
       "      <td>...</td>\n",
       "      <td>...</td>\n",
       "      <td>...</td>\n",
       "      <td>...</td>\n",
       "    </tr>\n",
       "    <tr>\n",
       "      <th>139</th>\n",
       "      <td>L11H7</td>\n",
       "      <td>0.002666</td>\n",
       "      <td>0.002683</td>\n",
       "      <td>0.962039</td>\n",
       "      <td>0.352353</td>\n",
       "    </tr>\n",
       "    <tr>\n",
       "      <th>140</th>\n",
       "      <td>L11H8</td>\n",
       "      <td>0.002068</td>\n",
       "      <td>0.002280</td>\n",
       "      <td>0.877898</td>\n",
       "      <td>0.394816</td>\n",
       "    </tr>\n",
       "    <tr>\n",
       "      <th>141</th>\n",
       "      <td>L11H9</td>\n",
       "      <td>0.001654</td>\n",
       "      <td>0.008557</td>\n",
       "      <td>0.187151</td>\n",
       "      <td>0.854227</td>\n",
       "    </tr>\n",
       "    <tr>\n",
       "      <th>142</th>\n",
       "      <td>L11H10</td>\n",
       "      <td>-0.013669</td>\n",
       "      <td>0.011912</td>\n",
       "      <td>-1.111054</td>\n",
       "      <td>0.285263</td>\n",
       "    </tr>\n",
       "    <tr>\n",
       "      <th>143</th>\n",
       "      <td>L11H11</td>\n",
       "      <td>0.003399</td>\n",
       "      <td>0.003740</td>\n",
       "      <td>0.879890</td>\n",
       "      <td>0.393772</td>\n",
       "    </tr>\n",
       "  </tbody>\n",
       "</table>\n",
       "<p>144 rows × 5 columns</p>\n",
       "</div>"
      ],
      "text/plain": [
       "         id      mean       std    t-test   p-value\n",
       "0      L0H0  0.002512  0.007592  0.320331  0.753449\n",
       "1      L0H1  0.004450  0.012541  0.343595  0.736257\n",
       "2      L0H2 -0.000952  0.003635 -0.253613  0.803481\n",
       "3      L0H3 -0.000060  0.007064 -0.008252  0.993532\n",
       "4      L0H4  0.003325  0.012502  0.257492  0.800545\n",
       "..      ...       ...       ...       ...       ...\n",
       "139   L11H7  0.002666  0.002683  0.962039  0.352353\n",
       "140   L11H8  0.002068  0.002280  0.877898  0.394816\n",
       "141   L11H9  0.001654  0.008557  0.187151  0.854227\n",
       "142  L11H10 -0.013669  0.011912 -1.111054  0.285263\n",
       "143  L11H11  0.003399  0.003740  0.879890  0.393772\n",
       "\n",
       "[144 rows x 5 columns]"
      ]
     },
     "execution_count": 185,
     "metadata": {},
     "output_type": "execute_result"
    }
   ],
   "source": [
    "result.process_pos_attn_head_out()"
   ]
  },
  {
   "cell_type": "markdown",
   "metadata": {},
   "source": [
    "## Make plot"
   ]
  },
  {
   "cell_type": "code",
   "execution_count": 20,
   "metadata": {},
   "outputs": [
    {
     "data": {
      "text/plain": [
       "dict_keys(['attn_head_out', 'mlp_out', 'attn_out_by_pos', 'example_str_tokens'])"
      ]
     },
     "execution_count": 20,
     "metadata": {},
     "output_type": "execute_result"
    }
   ],
   "source": [
    "data[\"pos\"].keys()"
   ]
  },
  {
   "cell_type": "code",
   "execution_count": 31,
   "metadata": {},
   "outputs": [
    {
     "data": {
      "text/plain": [
       "'Honda NS500 is produced byhel Honda NS500 is produced by'"
      ]
     },
     "execution_count": 31,
     "metadata": {},
     "output_type": "execute_result"
    }
   ],
   "source": [
    "data[\"pos\"][\"attn_head_out\"][0].keys()"
   ]
  },
  {
   "cell_type": "markdown",
   "metadata": {},
   "source": [
    "## Positive examples"
   ]
  },
  {
   "cell_type": "code",
   "execution_count": 27,
   "metadata": {},
   "outputs": [
    {
     "data": {
      "application/vnd.plotly.v1+json": {
       "config": {
        "plotlyServerURL": "https://plot.ly"
       },
       "data": [
        {
         "coloraxis": "coloraxis",
         "hovertemplate": "x: %{x}<br>y: %{y}<br>color: %{z}<extra></extra>",
         "name": "0",
         "type": "heatmap",
         "xaxis": "x",
         "yaxis": "y",
         "z": [
          [
           0.0018703002715483308,
           -0.0003825395542662591,
           0.0013933780137449503,
           -0.004218557849526405,
           0.0063417041674256325,
           0.003436862723901868,
           -0.0038377719465643167,
           0.005891968961805105,
           0.0082716578617692,
           -0.0023099856916815042,
           0.006010445300489664,
           0.004298011772334576
          ],
          [
           0.0061554317362606525,
           0.000911703216843307,
           -0.0001796711585484445,
           0.0013217430096119642,
           -0.001067869714461267,
           -0.0018766060238704085,
           0.009578675031661987,
           0.005881407298147678,
           -0.0007437218446284533,
           -0.000488116464111954,
           0.0007300303550437093,
           -0.011637904681265354
          ],
          [
           -0.0002640976454131305,
           0.009100302122533321,
           0.0023227178025990725,
           0.00029793501016683877,
           0.0032529623713344336,
           -0.0005806955741718411,
           0.0003499314479995519,
           -0.002478711772710085,
           0.0011501244734972715,
           0.0007985022384673357,
           -0.0013463267823681235,
           -0.001521687489002943
          ],
          [
           -0.012910599820315838,
           0.0008976690005511045,
           0.0012636269675567746,
           -0.0004226671007927507,
           -0.004506517667323351,
           0.0019231734331697226,
           0.0019808360375463963,
           0.002167534315958619,
           0.0009884105529636145,
           0.0006922192987985909,
           -0.0012302437098696828,
           0.0003376765234861523
          ],
          [
           0.0003603080695029348,
           -0.00018756467034108937,
           0.0010636666556820273,
           0.0003845871251542121,
           -0.00546554708853364,
           0.00025420315796509385,
           -0.002828963566571474,
           0.0023381193168461323,
           0.0009697216446511447,
           0.00046936189755797386,
           -0.003636595793068409,
           -0.0011611556401476264
          ],
          [
           -0.000038109326851554215,
           -0.007234093267470598,
           0.0006240687798708677,
           0.0012918353313580155,
           0.0011689545353874564,
           -0.006795295514166355,
           0.0024727003183215857,
           0.00020109186880290508,
           -0.0033167479559779167,
           0.0037935690488666296,
           0.011642632074654102,
           -0.010940558277070522
          ],
          [
           -0.0018676378531381488,
           0.00003316020593047142,
           -0.0016846057260408998,
           0.0007256310782395303,
           0.013467478565871716,
           -0.003342151641845703,
           -0.005761147476732731,
           0.002632991410791874,
           -0.0015424187295138836,
           0.0005132630467414856,
           0.000613034178968519,
           -0.00006067353024263866
          ],
          [
           0.001090478035621345,
           0.006693833973258734,
           0.002138207433745265,
           -0.012914609163999557,
           -0.000012615252671821509,
           0.0045410520397126675,
           -0.006063541863113642,
           -0.0012460650177672505,
           -0.000021183006538194604,
           -0.007192798890173435,
           -0.0004502720257733017,
           0.00039537399425171316
          ],
          [
           0.004382882732897997,
           0.0019094536546617746,
           0.0026508807204663754,
           -0.0002387304703006521,
           0.00025992991868406534,
           0.0024376793298870325,
           0.0063393134623765945,
           0.0006602026405744255,
           0.0026383246295154095,
           -0.0037540581542998552,
           -0.009290048852562904,
           0.003097622422501445
          ],
          [
           0.011132531799376011,
           -0.00014883457333780825,
           0.004584291949868202,
           0.0010699434205889702,
           -0.003817089134827256,
           -0.00722888670861721,
           0.006464190315455198,
           0.0008169615175575018,
           0.02238103747367859,
           0.00014241322060115635,
           0.0005127667100168765,
           0.001210977672599256
          ],
          [
           0.06593302637338638,
           0.005162622779607773,
           0.004719995893537998,
           0.0016959481872618198,
           0.0016030255937948823,
           -0.00008347382390638813,
           0.005757658276706934,
           -0.026073185727000237,
           0.001663896138779819,
           -0.0009351820917800069,
           0.007126029580831528,
           0.0034223669208586216
          ],
          [
           -0.0026377332396805286,
           0.0012230895226821303,
           0.004890497773885727,
           0.02072969451546669,
           -0.00154224899597466,
           0.0004169709573034197,
           -0.0019740022253245115,
           0.0013525360263884068,
           0.0023490670137107372,
           0.0044123209081590176,
           -0.02054048888385296,
           0.005878638941794634
          ]
         ]
        }
       ],
       "layout": {
        "coloraxis": {
         "cmid": 0,
         "colorscale": [
          [
           0,
           "rgb(103,0,31)"
          ],
          [
           0.1,
           "rgb(178,24,43)"
          ],
          [
           0.2,
           "rgb(214,96,77)"
          ],
          [
           0.3,
           "rgb(244,165,130)"
          ],
          [
           0.4,
           "rgb(253,219,199)"
          ],
          [
           0.5,
           "rgb(247,247,247)"
          ],
          [
           0.6,
           "rgb(209,229,240)"
          ],
          [
           0.7,
           "rgb(146,197,222)"
          ],
          [
           0.8,
           "rgb(67,147,195)"
          ],
          [
           0.9,
           "rgb(33,102,172)"
          ],
          [
           1,
           "rgb(5,48,97)"
          ]
         ]
        },
        "template": {
         "data": {
          "bar": [
           {
            "error_x": {
             "color": "#2a3f5f"
            },
            "error_y": {
             "color": "#2a3f5f"
            },
            "marker": {
             "line": {
              "color": "#E5ECF6",
              "width": 0.5
             },
             "pattern": {
              "fillmode": "overlay",
              "size": 10,
              "solidity": 0.2
             }
            },
            "type": "bar"
           }
          ],
          "barpolar": [
           {
            "marker": {
             "line": {
              "color": "#E5ECF6",
              "width": 0.5
             },
             "pattern": {
              "fillmode": "overlay",
              "size": 10,
              "solidity": 0.2
             }
            },
            "type": "barpolar"
           }
          ],
          "carpet": [
           {
            "aaxis": {
             "endlinecolor": "#2a3f5f",
             "gridcolor": "white",
             "linecolor": "white",
             "minorgridcolor": "white",
             "startlinecolor": "#2a3f5f"
            },
            "baxis": {
             "endlinecolor": "#2a3f5f",
             "gridcolor": "white",
             "linecolor": "white",
             "minorgridcolor": "white",
             "startlinecolor": "#2a3f5f"
            },
            "type": "carpet"
           }
          ],
          "choropleth": [
           {
            "colorbar": {
             "outlinewidth": 0,
             "ticks": ""
            },
            "type": "choropleth"
           }
          ],
          "contour": [
           {
            "colorbar": {
             "outlinewidth": 0,
             "ticks": ""
            },
            "colorscale": [
             [
              0,
              "#0d0887"
             ],
             [
              0.1111111111111111,
              "#46039f"
             ],
             [
              0.2222222222222222,
              "#7201a8"
             ],
             [
              0.3333333333333333,
              "#9c179e"
             ],
             [
              0.4444444444444444,
              "#bd3786"
             ],
             [
              0.5555555555555556,
              "#d8576b"
             ],
             [
              0.6666666666666666,
              "#ed7953"
             ],
             [
              0.7777777777777778,
              "#fb9f3a"
             ],
             [
              0.8888888888888888,
              "#fdca26"
             ],
             [
              1,
              "#f0f921"
             ]
            ],
            "type": "contour"
           }
          ],
          "contourcarpet": [
           {
            "colorbar": {
             "outlinewidth": 0,
             "ticks": ""
            },
            "type": "contourcarpet"
           }
          ],
          "heatmap": [
           {
            "colorbar": {
             "outlinewidth": 0,
             "ticks": ""
            },
            "colorscale": [
             [
              0,
              "#0d0887"
             ],
             [
              0.1111111111111111,
              "#46039f"
             ],
             [
              0.2222222222222222,
              "#7201a8"
             ],
             [
              0.3333333333333333,
              "#9c179e"
             ],
             [
              0.4444444444444444,
              "#bd3786"
             ],
             [
              0.5555555555555556,
              "#d8576b"
             ],
             [
              0.6666666666666666,
              "#ed7953"
             ],
             [
              0.7777777777777778,
              "#fb9f3a"
             ],
             [
              0.8888888888888888,
              "#fdca26"
             ],
             [
              1,
              "#f0f921"
             ]
            ],
            "type": "heatmap"
           }
          ],
          "heatmapgl": [
           {
            "colorbar": {
             "outlinewidth": 0,
             "ticks": ""
            },
            "colorscale": [
             [
              0,
              "#0d0887"
             ],
             [
              0.1111111111111111,
              "#46039f"
             ],
             [
              0.2222222222222222,
              "#7201a8"
             ],
             [
              0.3333333333333333,
              "#9c179e"
             ],
             [
              0.4444444444444444,
              "#bd3786"
             ],
             [
              0.5555555555555556,
              "#d8576b"
             ],
             [
              0.6666666666666666,
              "#ed7953"
             ],
             [
              0.7777777777777778,
              "#fb9f3a"
             ],
             [
              0.8888888888888888,
              "#fdca26"
             ],
             [
              1,
              "#f0f921"
             ]
            ],
            "type": "heatmapgl"
           }
          ],
          "histogram": [
           {
            "marker": {
             "pattern": {
              "fillmode": "overlay",
              "size": 10,
              "solidity": 0.2
             }
            },
            "type": "histogram"
           }
          ],
          "histogram2d": [
           {
            "colorbar": {
             "outlinewidth": 0,
             "ticks": ""
            },
            "colorscale": [
             [
              0,
              "#0d0887"
             ],
             [
              0.1111111111111111,
              "#46039f"
             ],
             [
              0.2222222222222222,
              "#7201a8"
             ],
             [
              0.3333333333333333,
              "#9c179e"
             ],
             [
              0.4444444444444444,
              "#bd3786"
             ],
             [
              0.5555555555555556,
              "#d8576b"
             ],
             [
              0.6666666666666666,
              "#ed7953"
             ],
             [
              0.7777777777777778,
              "#fb9f3a"
             ],
             [
              0.8888888888888888,
              "#fdca26"
             ],
             [
              1,
              "#f0f921"
             ]
            ],
            "type": "histogram2d"
           }
          ],
          "histogram2dcontour": [
           {
            "colorbar": {
             "outlinewidth": 0,
             "ticks": ""
            },
            "colorscale": [
             [
              0,
              "#0d0887"
             ],
             [
              0.1111111111111111,
              "#46039f"
             ],
             [
              0.2222222222222222,
              "#7201a8"
             ],
             [
              0.3333333333333333,
              "#9c179e"
             ],
             [
              0.4444444444444444,
              "#bd3786"
             ],
             [
              0.5555555555555556,
              "#d8576b"
             ],
             [
              0.6666666666666666,
              "#ed7953"
             ],
             [
              0.7777777777777778,
              "#fb9f3a"
             ],
             [
              0.8888888888888888,
              "#fdca26"
             ],
             [
              1,
              "#f0f921"
             ]
            ],
            "type": "histogram2dcontour"
           }
          ],
          "mesh3d": [
           {
            "colorbar": {
             "outlinewidth": 0,
             "ticks": ""
            },
            "type": "mesh3d"
           }
          ],
          "parcoords": [
           {
            "line": {
             "colorbar": {
              "outlinewidth": 0,
              "ticks": ""
             }
            },
            "type": "parcoords"
           }
          ],
          "pie": [
           {
            "automargin": true,
            "type": "pie"
           }
          ],
          "scatter": [
           {
            "fillpattern": {
             "fillmode": "overlay",
             "size": 10,
             "solidity": 0.2
            },
            "type": "scatter"
           }
          ],
          "scatter3d": [
           {
            "line": {
             "colorbar": {
              "outlinewidth": 0,
              "ticks": ""
             }
            },
            "marker": {
             "colorbar": {
              "outlinewidth": 0,
              "ticks": ""
             }
            },
            "type": "scatter3d"
           }
          ],
          "scattercarpet": [
           {
            "marker": {
             "colorbar": {
              "outlinewidth": 0,
              "ticks": ""
             }
            },
            "type": "scattercarpet"
           }
          ],
          "scattergeo": [
           {
            "marker": {
             "colorbar": {
              "outlinewidth": 0,
              "ticks": ""
             }
            },
            "type": "scattergeo"
           }
          ],
          "scattergl": [
           {
            "marker": {
             "colorbar": {
              "outlinewidth": 0,
              "ticks": ""
             }
            },
            "type": "scattergl"
           }
          ],
          "scattermapbox": [
           {
            "marker": {
             "colorbar": {
              "outlinewidth": 0,
              "ticks": ""
             }
            },
            "type": "scattermapbox"
           }
          ],
          "scatterpolar": [
           {
            "marker": {
             "colorbar": {
              "outlinewidth": 0,
              "ticks": ""
             }
            },
            "type": "scatterpolar"
           }
          ],
          "scatterpolargl": [
           {
            "marker": {
             "colorbar": {
              "outlinewidth": 0,
              "ticks": ""
             }
            },
            "type": "scatterpolargl"
           }
          ],
          "scatterternary": [
           {
            "marker": {
             "colorbar": {
              "outlinewidth": 0,
              "ticks": ""
             }
            },
            "type": "scatterternary"
           }
          ],
          "surface": [
           {
            "colorbar": {
             "outlinewidth": 0,
             "ticks": ""
            },
            "colorscale": [
             [
              0,
              "#0d0887"
             ],
             [
              0.1111111111111111,
              "#46039f"
             ],
             [
              0.2222222222222222,
              "#7201a8"
             ],
             [
              0.3333333333333333,
              "#9c179e"
             ],
             [
              0.4444444444444444,
              "#bd3786"
             ],
             [
              0.5555555555555556,
              "#d8576b"
             ],
             [
              0.6666666666666666,
              "#ed7953"
             ],
             [
              0.7777777777777778,
              "#fb9f3a"
             ],
             [
              0.8888888888888888,
              "#fdca26"
             ],
             [
              1,
              "#f0f921"
             ]
            ],
            "type": "surface"
           }
          ],
          "table": [
           {
            "cells": {
             "fill": {
              "color": "#EBF0F8"
             },
             "line": {
              "color": "white"
             }
            },
            "header": {
             "fill": {
              "color": "#C8D4E3"
             },
             "line": {
              "color": "white"
             }
            },
            "type": "table"
           }
          ]
         },
         "layout": {
          "annotationdefaults": {
           "arrowcolor": "#2a3f5f",
           "arrowhead": 0,
           "arrowwidth": 1
          },
          "autotypenumbers": "strict",
          "coloraxis": {
           "colorbar": {
            "outlinewidth": 0,
            "ticks": ""
           }
          },
          "colorscale": {
           "diverging": [
            [
             0,
             "#8e0152"
            ],
            [
             0.1,
             "#c51b7d"
            ],
            [
             0.2,
             "#de77ae"
            ],
            [
             0.3,
             "#f1b6da"
            ],
            [
             0.4,
             "#fde0ef"
            ],
            [
             0.5,
             "#f7f7f7"
            ],
            [
             0.6,
             "#e6f5d0"
            ],
            [
             0.7,
             "#b8e186"
            ],
            [
             0.8,
             "#7fbc41"
            ],
            [
             0.9,
             "#4d9221"
            ],
            [
             1,
             "#276419"
            ]
           ],
           "sequential": [
            [
             0,
             "#0d0887"
            ],
            [
             0.1111111111111111,
             "#46039f"
            ],
            [
             0.2222222222222222,
             "#7201a8"
            ],
            [
             0.3333333333333333,
             "#9c179e"
            ],
            [
             0.4444444444444444,
             "#bd3786"
            ],
            [
             0.5555555555555556,
             "#d8576b"
            ],
            [
             0.6666666666666666,
             "#ed7953"
            ],
            [
             0.7777777777777778,
             "#fb9f3a"
            ],
            [
             0.8888888888888888,
             "#fdca26"
            ],
            [
             1,
             "#f0f921"
            ]
           ],
           "sequentialminus": [
            [
             0,
             "#0d0887"
            ],
            [
             0.1111111111111111,
             "#46039f"
            ],
            [
             0.2222222222222222,
             "#7201a8"
            ],
            [
             0.3333333333333333,
             "#9c179e"
            ],
            [
             0.4444444444444444,
             "#bd3786"
            ],
            [
             0.5555555555555556,
             "#d8576b"
            ],
            [
             0.6666666666666666,
             "#ed7953"
            ],
            [
             0.7777777777777778,
             "#fb9f3a"
            ],
            [
             0.8888888888888888,
             "#fdca26"
            ],
            [
             1,
             "#f0f921"
            ]
           ]
          },
          "colorway": [
           "#636efa",
           "#EF553B",
           "#00cc96",
           "#ab63fa",
           "#FFA15A",
           "#19d3f3",
           "#FF6692",
           "#B6E880",
           "#FF97FF",
           "#FECB52"
          ],
          "font": {
           "color": "#2a3f5f"
          },
          "geo": {
           "bgcolor": "white",
           "lakecolor": "white",
           "landcolor": "#E5ECF6",
           "showlakes": true,
           "showland": true,
           "subunitcolor": "white"
          },
          "hoverlabel": {
           "align": "left"
          },
          "hovermode": "closest",
          "mapbox": {
           "style": "light"
          },
          "paper_bgcolor": "white",
          "plot_bgcolor": "#E5ECF6",
          "polar": {
           "angularaxis": {
            "gridcolor": "white",
            "linecolor": "white",
            "ticks": ""
           },
           "bgcolor": "#E5ECF6",
           "radialaxis": {
            "gridcolor": "white",
            "linecolor": "white",
            "ticks": ""
           }
          },
          "scene": {
           "xaxis": {
            "backgroundcolor": "#E5ECF6",
            "gridcolor": "white",
            "gridwidth": 2,
            "linecolor": "white",
            "showbackground": true,
            "ticks": "",
            "zerolinecolor": "white"
           },
           "yaxis": {
            "backgroundcolor": "#E5ECF6",
            "gridcolor": "white",
            "gridwidth": 2,
            "linecolor": "white",
            "showbackground": true,
            "ticks": "",
            "zerolinecolor": "white"
           },
           "zaxis": {
            "backgroundcolor": "#E5ECF6",
            "gridcolor": "white",
            "gridwidth": 2,
            "linecolor": "white",
            "showbackground": true,
            "ticks": "",
            "zerolinecolor": "white"
           }
          },
          "shapedefaults": {
           "line": {
            "color": "#2a3f5f"
           }
          },
          "ternary": {
           "aaxis": {
            "gridcolor": "white",
            "linecolor": "white",
            "ticks": ""
           },
           "baxis": {
            "gridcolor": "white",
            "linecolor": "white",
            "ticks": ""
           },
           "bgcolor": "#E5ECF6",
           "caxis": {
            "gridcolor": "white",
            "linecolor": "white",
            "ticks": ""
           }
          },
          "title": {
           "x": 0.05
          },
          "xaxis": {
           "automargin": true,
           "gridcolor": "white",
           "linecolor": "white",
           "ticks": "",
           "title": {
            "standoff": 15
           },
           "zerolinecolor": "white",
           "zerolinewidth": 2
          },
          "yaxis": {
           "automargin": true,
           "gridcolor": "white",
           "linecolor": "white",
           "ticks": "",
           "title": {
            "standoff": 15
           },
           "zerolinecolor": "white",
           "zerolinewidth": 2
          }
         }
        },
        "title": {
         "text": "attn_head_out MEAN"
        },
        "xaxis": {
         "anchor": "y",
         "domain": [
          0,
          1
         ],
         "title": {
          "text": "head"
         }
        },
        "yaxis": {
         "anchor": "x",
         "autorange": "reversed",
         "domain": [
          0,
          1
         ],
         "title": {
          "text": "layer"
         }
        }
       }
      }
     },
     "metadata": {},
     "output_type": "display_data"
    },
    {
     "data": {
      "application/vnd.plotly.v1+json": {
       "config": {
        "plotlyServerURL": "https://plot.ly"
       },
       "data": [
        {
         "coloraxis": "coloraxis",
         "hovertemplate": "x: %{x}<br>y: %{y}<br>color: %{z}<extra></extra>",
         "name": "0",
         "type": "heatmap",
         "xaxis": "x",
         "yaxis": "y",
         "z": [
          [
           0.008128625340759754,
           0.03144089877605438,
           0.009038078598678112,
           0.02784547209739685,
           0.01166903879493475,
           0.013444842770695686,
           0.01809263974428177,
           0.024281438440084457,
           0.022333573549985886,
           0.02245706506073475,
           0.03503256291151047,
           0.010473918169736862
          ],
          [
           0.019891364499926567,
           0.0038127186708152294,
           0.0035432400181889534,
           0.014961526729166508,
           0.006760966964066029,
           0.014351321384310722,
           0.021328706294298172,
           0.012043002061545849,
           0.00648107985034585,
           0.0037507268134504557,
           0.004494986031204462,
           0.018309369683265686
          ],
          [
           0.004601708613336086,
           0.011549786664545536,
           0.00949643924832344,
           0.004039214923977852,
           0.009559460915625095,
           0.0034978671465069056,
           0.004536333028227091,
           0.0058297463692724705,
           0.0035495120100677013,
           0.008463338948786259,
           0.004798702895641327,
           0.004553981125354767
          ],
          [
           0.04170403257012367,
           0.003110478399321437,
           0.0044462108053267,
           0.009033209644258022,
           0.008350252173841,
           0.004542502574622631,
           0.006889785174280405,
           0.009433971717953682,
           0.004440419841557741,
           0.0033498576376587152,
           0.008691764436662197,
           0.0033829554449766874
          ],
          [
           0.0032359890174120665,
           0.0022892954293638468,
           0.0038190723862499,
           0.013311897404491901,
           0.01219109632074833,
           0.0041594370268285275,
           0.01932409219443798,
           0.012474126182496548,
           0.0027671456336975098,
           0.004783827345818281,
           0.00698000006377697,
           0.02920958399772644
          ],
          [
           0.010870855301618576,
           0.022007422521710396,
           0.00621329341083765,
           0.011126670986413956,
           0.004235411528497934,
           0.026738572865724564,
           0.005007806234061718,
           0.002529543126001954,
           0.01487782783806324,
           0.008902308531105518,
           0.018467985093593597,
           0.017245197668671608
          ],
          [
           0.0060330955311656,
           0.0016501382924616337,
           0.013237344101071358,
           0.007139304187148809,
           0.020392732694745064,
           0.012873376719653606,
           0.012880049645900726,
           0.010104265064001083,
           0.010162346065044403,
           0.005731932818889618,
           0.017569459974765778,
           0.0036124354228377342
          ],
          [
           0.003736421698704362,
           0.01184901688247919,
           0.010586457327008247,
           0.033559173345565796,
           0.003164463909342885,
           0.00503469817340374,
           0.016914954409003258,
           0.016673045232892036,
           0.004646691028028727,
           0.015025428496301174,
           0.00798074807971716,
           0.004807686433196068
          ],
          [
           0.01624373346567154,
           0.006610054988414049,
           0.004245236981660128,
           0.0074373697862029076,
           0.0014800430508330464,
           0.016670653596520424,
           0.009808164089918137,
           0.006547154858708382,
           0.004593258257955313,
           0.03700407221913338,
           0.013065786100924015,
           0.007660304196178913
          ],
          [
           0.014573213644325733,
           0.003059051465243101,
           0.006676085758954287,
           0.01228898111730814,
           0.007645012810826302,
           0.009553628042340279,
           0.0097952364012599,
           0.0039360118098556995,
           0.018803389742970467,
           0.011835012584924698,
           0.0016268632607534528,
           0.0025718153920024633
          ],
          [
           0.04729047417640686,
           0.010170767083764076,
           0.010779294185340405,
           0.003919998649507761,
           0.004082649480551481,
           0.0014297073939815164,
           0.008420784957706928,
           0.0371355265378952,
           0.003604646772146225,
           0.0028725508600473404,
           0.014620214700698853,
           0.006876255385577679
          ],
          [
           0.0067881993018090725,
           0.004576411563903093,
           0.024994587525725365,
           0.021128099411725998,
           0.004932932555675507,
           0.002890428528189659,
           0.00623600697144866,
           0.00651842076331377,
           0.0035334713757038116,
           0.008485632948577404,
           0.024828743189573288,
           0.005417030770331621
          ]
         ]
        }
       ],
       "layout": {
        "coloraxis": {
         "cmid": 0,
         "colorscale": [
          [
           0,
           "rgb(103,0,31)"
          ],
          [
           0.1,
           "rgb(178,24,43)"
          ],
          [
           0.2,
           "rgb(214,96,77)"
          ],
          [
           0.3,
           "rgb(244,165,130)"
          ],
          [
           0.4,
           "rgb(253,219,199)"
          ],
          [
           0.5,
           "rgb(247,247,247)"
          ],
          [
           0.6,
           "rgb(209,229,240)"
          ],
          [
           0.7,
           "rgb(146,197,222)"
          ],
          [
           0.8,
           "rgb(67,147,195)"
          ],
          [
           0.9,
           "rgb(33,102,172)"
          ],
          [
           1,
           "rgb(5,48,97)"
          ]
         ]
        },
        "template": {
         "data": {
          "bar": [
           {
            "error_x": {
             "color": "#2a3f5f"
            },
            "error_y": {
             "color": "#2a3f5f"
            },
            "marker": {
             "line": {
              "color": "#E5ECF6",
              "width": 0.5
             },
             "pattern": {
              "fillmode": "overlay",
              "size": 10,
              "solidity": 0.2
             }
            },
            "type": "bar"
           }
          ],
          "barpolar": [
           {
            "marker": {
             "line": {
              "color": "#E5ECF6",
              "width": 0.5
             },
             "pattern": {
              "fillmode": "overlay",
              "size": 10,
              "solidity": 0.2
             }
            },
            "type": "barpolar"
           }
          ],
          "carpet": [
           {
            "aaxis": {
             "endlinecolor": "#2a3f5f",
             "gridcolor": "white",
             "linecolor": "white",
             "minorgridcolor": "white",
             "startlinecolor": "#2a3f5f"
            },
            "baxis": {
             "endlinecolor": "#2a3f5f",
             "gridcolor": "white",
             "linecolor": "white",
             "minorgridcolor": "white",
             "startlinecolor": "#2a3f5f"
            },
            "type": "carpet"
           }
          ],
          "choropleth": [
           {
            "colorbar": {
             "outlinewidth": 0,
             "ticks": ""
            },
            "type": "choropleth"
           }
          ],
          "contour": [
           {
            "colorbar": {
             "outlinewidth": 0,
             "ticks": ""
            },
            "colorscale": [
             [
              0,
              "#0d0887"
             ],
             [
              0.1111111111111111,
              "#46039f"
             ],
             [
              0.2222222222222222,
              "#7201a8"
             ],
             [
              0.3333333333333333,
              "#9c179e"
             ],
             [
              0.4444444444444444,
              "#bd3786"
             ],
             [
              0.5555555555555556,
              "#d8576b"
             ],
             [
              0.6666666666666666,
              "#ed7953"
             ],
             [
              0.7777777777777778,
              "#fb9f3a"
             ],
             [
              0.8888888888888888,
              "#fdca26"
             ],
             [
              1,
              "#f0f921"
             ]
            ],
            "type": "contour"
           }
          ],
          "contourcarpet": [
           {
            "colorbar": {
             "outlinewidth": 0,
             "ticks": ""
            },
            "type": "contourcarpet"
           }
          ],
          "heatmap": [
           {
            "colorbar": {
             "outlinewidth": 0,
             "ticks": ""
            },
            "colorscale": [
             [
              0,
              "#0d0887"
             ],
             [
              0.1111111111111111,
              "#46039f"
             ],
             [
              0.2222222222222222,
              "#7201a8"
             ],
             [
              0.3333333333333333,
              "#9c179e"
             ],
             [
              0.4444444444444444,
              "#bd3786"
             ],
             [
              0.5555555555555556,
              "#d8576b"
             ],
             [
              0.6666666666666666,
              "#ed7953"
             ],
             [
              0.7777777777777778,
              "#fb9f3a"
             ],
             [
              0.8888888888888888,
              "#fdca26"
             ],
             [
              1,
              "#f0f921"
             ]
            ],
            "type": "heatmap"
           }
          ],
          "heatmapgl": [
           {
            "colorbar": {
             "outlinewidth": 0,
             "ticks": ""
            },
            "colorscale": [
             [
              0,
              "#0d0887"
             ],
             [
              0.1111111111111111,
              "#46039f"
             ],
             [
              0.2222222222222222,
              "#7201a8"
             ],
             [
              0.3333333333333333,
              "#9c179e"
             ],
             [
              0.4444444444444444,
              "#bd3786"
             ],
             [
              0.5555555555555556,
              "#d8576b"
             ],
             [
              0.6666666666666666,
              "#ed7953"
             ],
             [
              0.7777777777777778,
              "#fb9f3a"
             ],
             [
              0.8888888888888888,
              "#fdca26"
             ],
             [
              1,
              "#f0f921"
             ]
            ],
            "type": "heatmapgl"
           }
          ],
          "histogram": [
           {
            "marker": {
             "pattern": {
              "fillmode": "overlay",
              "size": 10,
              "solidity": 0.2
             }
            },
            "type": "histogram"
           }
          ],
          "histogram2d": [
           {
            "colorbar": {
             "outlinewidth": 0,
             "ticks": ""
            },
            "colorscale": [
             [
              0,
              "#0d0887"
             ],
             [
              0.1111111111111111,
              "#46039f"
             ],
             [
              0.2222222222222222,
              "#7201a8"
             ],
             [
              0.3333333333333333,
              "#9c179e"
             ],
             [
              0.4444444444444444,
              "#bd3786"
             ],
             [
              0.5555555555555556,
              "#d8576b"
             ],
             [
              0.6666666666666666,
              "#ed7953"
             ],
             [
              0.7777777777777778,
              "#fb9f3a"
             ],
             [
              0.8888888888888888,
              "#fdca26"
             ],
             [
              1,
              "#f0f921"
             ]
            ],
            "type": "histogram2d"
           }
          ],
          "histogram2dcontour": [
           {
            "colorbar": {
             "outlinewidth": 0,
             "ticks": ""
            },
            "colorscale": [
             [
              0,
              "#0d0887"
             ],
             [
              0.1111111111111111,
              "#46039f"
             ],
             [
              0.2222222222222222,
              "#7201a8"
             ],
             [
              0.3333333333333333,
              "#9c179e"
             ],
             [
              0.4444444444444444,
              "#bd3786"
             ],
             [
              0.5555555555555556,
              "#d8576b"
             ],
             [
              0.6666666666666666,
              "#ed7953"
             ],
             [
              0.7777777777777778,
              "#fb9f3a"
             ],
             [
              0.8888888888888888,
              "#fdca26"
             ],
             [
              1,
              "#f0f921"
             ]
            ],
            "type": "histogram2dcontour"
           }
          ],
          "mesh3d": [
           {
            "colorbar": {
             "outlinewidth": 0,
             "ticks": ""
            },
            "type": "mesh3d"
           }
          ],
          "parcoords": [
           {
            "line": {
             "colorbar": {
              "outlinewidth": 0,
              "ticks": ""
             }
            },
            "type": "parcoords"
           }
          ],
          "pie": [
           {
            "automargin": true,
            "type": "pie"
           }
          ],
          "scatter": [
           {
            "fillpattern": {
             "fillmode": "overlay",
             "size": 10,
             "solidity": 0.2
            },
            "type": "scatter"
           }
          ],
          "scatter3d": [
           {
            "line": {
             "colorbar": {
              "outlinewidth": 0,
              "ticks": ""
             }
            },
            "marker": {
             "colorbar": {
              "outlinewidth": 0,
              "ticks": ""
             }
            },
            "type": "scatter3d"
           }
          ],
          "scattercarpet": [
           {
            "marker": {
             "colorbar": {
              "outlinewidth": 0,
              "ticks": ""
             }
            },
            "type": "scattercarpet"
           }
          ],
          "scattergeo": [
           {
            "marker": {
             "colorbar": {
              "outlinewidth": 0,
              "ticks": ""
             }
            },
            "type": "scattergeo"
           }
          ],
          "scattergl": [
           {
            "marker": {
             "colorbar": {
              "outlinewidth": 0,
              "ticks": ""
             }
            },
            "type": "scattergl"
           }
          ],
          "scattermapbox": [
           {
            "marker": {
             "colorbar": {
              "outlinewidth": 0,
              "ticks": ""
             }
            },
            "type": "scattermapbox"
           }
          ],
          "scatterpolar": [
           {
            "marker": {
             "colorbar": {
              "outlinewidth": 0,
              "ticks": ""
             }
            },
            "type": "scatterpolar"
           }
          ],
          "scatterpolargl": [
           {
            "marker": {
             "colorbar": {
              "outlinewidth": 0,
              "ticks": ""
             }
            },
            "type": "scatterpolargl"
           }
          ],
          "scatterternary": [
           {
            "marker": {
             "colorbar": {
              "outlinewidth": 0,
              "ticks": ""
             }
            },
            "type": "scatterternary"
           }
          ],
          "surface": [
           {
            "colorbar": {
             "outlinewidth": 0,
             "ticks": ""
            },
            "colorscale": [
             [
              0,
              "#0d0887"
             ],
             [
              0.1111111111111111,
              "#46039f"
             ],
             [
              0.2222222222222222,
              "#7201a8"
             ],
             [
              0.3333333333333333,
              "#9c179e"
             ],
             [
              0.4444444444444444,
              "#bd3786"
             ],
             [
              0.5555555555555556,
              "#d8576b"
             ],
             [
              0.6666666666666666,
              "#ed7953"
             ],
             [
              0.7777777777777778,
              "#fb9f3a"
             ],
             [
              0.8888888888888888,
              "#fdca26"
             ],
             [
              1,
              "#f0f921"
             ]
            ],
            "type": "surface"
           }
          ],
          "table": [
           {
            "cells": {
             "fill": {
              "color": "#EBF0F8"
             },
             "line": {
              "color": "white"
             }
            },
            "header": {
             "fill": {
              "color": "#C8D4E3"
             },
             "line": {
              "color": "white"
             }
            },
            "type": "table"
           }
          ]
         },
         "layout": {
          "annotationdefaults": {
           "arrowcolor": "#2a3f5f",
           "arrowhead": 0,
           "arrowwidth": 1
          },
          "autotypenumbers": "strict",
          "coloraxis": {
           "colorbar": {
            "outlinewidth": 0,
            "ticks": ""
           }
          },
          "colorscale": {
           "diverging": [
            [
             0,
             "#8e0152"
            ],
            [
             0.1,
             "#c51b7d"
            ],
            [
             0.2,
             "#de77ae"
            ],
            [
             0.3,
             "#f1b6da"
            ],
            [
             0.4,
             "#fde0ef"
            ],
            [
             0.5,
             "#f7f7f7"
            ],
            [
             0.6,
             "#e6f5d0"
            ],
            [
             0.7,
             "#b8e186"
            ],
            [
             0.8,
             "#7fbc41"
            ],
            [
             0.9,
             "#4d9221"
            ],
            [
             1,
             "#276419"
            ]
           ],
           "sequential": [
            [
             0,
             "#0d0887"
            ],
            [
             0.1111111111111111,
             "#46039f"
            ],
            [
             0.2222222222222222,
             "#7201a8"
            ],
            [
             0.3333333333333333,
             "#9c179e"
            ],
            [
             0.4444444444444444,
             "#bd3786"
            ],
            [
             0.5555555555555556,
             "#d8576b"
            ],
            [
             0.6666666666666666,
             "#ed7953"
            ],
            [
             0.7777777777777778,
             "#fb9f3a"
            ],
            [
             0.8888888888888888,
             "#fdca26"
            ],
            [
             1,
             "#f0f921"
            ]
           ],
           "sequentialminus": [
            [
             0,
             "#0d0887"
            ],
            [
             0.1111111111111111,
             "#46039f"
            ],
            [
             0.2222222222222222,
             "#7201a8"
            ],
            [
             0.3333333333333333,
             "#9c179e"
            ],
            [
             0.4444444444444444,
             "#bd3786"
            ],
            [
             0.5555555555555556,
             "#d8576b"
            ],
            [
             0.6666666666666666,
             "#ed7953"
            ],
            [
             0.7777777777777778,
             "#fb9f3a"
            ],
            [
             0.8888888888888888,
             "#fdca26"
            ],
            [
             1,
             "#f0f921"
            ]
           ]
          },
          "colorway": [
           "#636efa",
           "#EF553B",
           "#00cc96",
           "#ab63fa",
           "#FFA15A",
           "#19d3f3",
           "#FF6692",
           "#B6E880",
           "#FF97FF",
           "#FECB52"
          ],
          "font": {
           "color": "#2a3f5f"
          },
          "geo": {
           "bgcolor": "white",
           "lakecolor": "white",
           "landcolor": "#E5ECF6",
           "showlakes": true,
           "showland": true,
           "subunitcolor": "white"
          },
          "hoverlabel": {
           "align": "left"
          },
          "hovermode": "closest",
          "mapbox": {
           "style": "light"
          },
          "paper_bgcolor": "white",
          "plot_bgcolor": "#E5ECF6",
          "polar": {
           "angularaxis": {
            "gridcolor": "white",
            "linecolor": "white",
            "ticks": ""
           },
           "bgcolor": "#E5ECF6",
           "radialaxis": {
            "gridcolor": "white",
            "linecolor": "white",
            "ticks": ""
           }
          },
          "scene": {
           "xaxis": {
            "backgroundcolor": "#E5ECF6",
            "gridcolor": "white",
            "gridwidth": 2,
            "linecolor": "white",
            "showbackground": true,
            "ticks": "",
            "zerolinecolor": "white"
           },
           "yaxis": {
            "backgroundcolor": "#E5ECF6",
            "gridcolor": "white",
            "gridwidth": 2,
            "linecolor": "white",
            "showbackground": true,
            "ticks": "",
            "zerolinecolor": "white"
           },
           "zaxis": {
            "backgroundcolor": "#E5ECF6",
            "gridcolor": "white",
            "gridwidth": 2,
            "linecolor": "white",
            "showbackground": true,
            "ticks": "",
            "zerolinecolor": "white"
           }
          },
          "shapedefaults": {
           "line": {
            "color": "#2a3f5f"
           }
          },
          "ternary": {
           "aaxis": {
            "gridcolor": "white",
            "linecolor": "white",
            "ticks": ""
           },
           "baxis": {
            "gridcolor": "white",
            "linecolor": "white",
            "ticks": ""
           },
           "bgcolor": "#E5ECF6",
           "caxis": {
            "gridcolor": "white",
            "linecolor": "white",
            "ticks": ""
           }
          },
          "title": {
           "x": 0.05
          },
          "xaxis": {
           "automargin": true,
           "gridcolor": "white",
           "linecolor": "white",
           "ticks": "",
           "title": {
            "standoff": 15
           },
           "zerolinecolor": "white",
           "zerolinewidth": 2
          },
          "yaxis": {
           "automargin": true,
           "gridcolor": "white",
           "linecolor": "white",
           "ticks": "",
           "title": {
            "standoff": 15
           },
           "zerolinecolor": "white",
           "zerolinewidth": 2
          }
         }
        },
        "title": {
         "text": "attn_head_out STD"
        },
        "xaxis": {
         "anchor": "y",
         "domain": [
          0,
          1
         ],
         "title": {
          "text": "head"
         }
        },
        "yaxis": {
         "anchor": "x",
         "autorange": "reversed",
         "domain": [
          0,
          1
         ],
         "title": {
          "text": "layer"
         }
        }
       }
      }
     },
     "metadata": {},
     "output_type": "display_data"
    },
    {
     "data": {
      "application/vnd.plotly.v1+json": {
       "config": {
        "plotlyServerURL": "https://plot.ly"
       },
       "data": [
        {
         "coloraxis": "coloraxis",
         "hovertemplate": "x: %{x}<br>y: %{y}<br>color: %{z}<extra></extra>",
         "name": "0",
         "type": "heatmap",
         "xaxis": "x",
         "yaxis": "y",
         "z": [
          [
           0.110158272087574,
           0.9317904710769653,
           0.2809883654117584,
           0.2893013060092926,
           0.000350396177964285,
           0.07681643962860107,
           0.14005647599697113,
           0.09251285344362259,
           0.011706729419529438,
           0.47047480940818787,
           0.2308828979730606,
           0.005547218024730682
          ],
          [
           0.03345580771565437,
           0.09721875935792923,
           0.7214639782905579,
           0.53508061170578,
           0.2695055305957794,
           0.35969164967536926,
           0.0025861968751996756,
           0.0011512023629620671,
           0.42104610800743103,
           0.3619646430015564,
           0.25637418031692505,
           0.00004269163400749676
          ],
          [
           0.686643660068512,
           0.0000010627102255966747,
           0.09001529961824417,
           0.6043218970298767,
           0.019936546683311462,
           0.24611026048660278,
           0.5879115462303162,
           0.0041603390127420425,
           0.02629135176539421,
           0.5078100562095642,
           0.05288795009255409,
           0.022153520956635475
          ],
          [
           0.03338804468512535,
           0.04668980464339256,
           0.049995165318250656,
           0.7421625852584839,
           0.00038086820859462023,
           0.0043103331699967384,
           0.04749331250786781,
           0.11065583676099777,
           0.12192817777395248,
           0.15035073459148407,
           0.3218172788619995,
           0.48364681005477905
          ],
          [
           0.43488574028015137,
           0.5650132894515991,
           0.05457537621259689,
           0.8389756679534912,
           0.0026269112713634968,
           0.6675304770469666,
           0.3056696057319641,
           0.19119073450565338,
           0.01670643873512745,
           0.49110057950019836,
           0.0005730988341383636,
           0.779822587966919
          ],
          [
           0.9803242683410645,
           0.024295851588249207,
           0.48093172907829285,
           0.4156401753425598,
           0.05671602487564087,
           0.07849559932947159,
           0.0010272065410390496,
           0.5765895247459412,
           0.12137576937675476,
           0.00408362178131938,
           0.0000482346658827737,
           0.000043926240323344246
          ],
          [
           0.0333942286670208,
           0.887586772441864,
           0.37258782982826233,
           0.47574177384376526,
           0.000023762711862218566,
           0.07246340066194534,
           0.002681989688426256,
           0.07144265621900558,
           0.2884244918823242,
           0.5295634865760803,
           0.8061525821685791,
           0.9059479832649231
          ],
          [
           0.04436355084180832,
           0.00021714993636123836,
           0.15958216786384583,
           0.00898031983524561,
           0.977625846862793,
           6.106914440806577e-8,
           0.01449560560286045,
           0.5995667576789856,
           0.9744156002998352,
           0.0014092223718762398,
           0.6916648149490356,
           0.5635626912117004
          ],
          [
           0.062271032482385635,
           0.04648862034082413,
           0.00005548370609176345,
           0.8213893175125122,
           0.2202056497335434,
           0.3062252998352051,
           0.0000331752271449659,
           0.47920751571655273,
           0.000175419743754901,
           0.4765586853027344,
           0.000007034979716991074,
           0.0062197064980864525
          ],
          [
           0.0000019259089185652556,
           0.7322923541069031,
           0.000012674338904616889,
           0.5409784317016602,
           0.0009136730805039406,
           0.0000023023742414807202,
           0.000024032011424424127,
           0.14858222007751465,
           4.4405427251925644e-11,
           0.9325383901596069,
           0.030452415347099304,
           0.0016582731623202562
          ],
          [
           3.22316419431104e-13,
           0.0007652501226402819,
           0.0032381219789385796,
           0.0035925188567489386,
           0.0077634151093661785,
           0.6815204620361328,
           0.000013599596968560945,
           0.000008732118658372201,
           0.002006327034905553,
           0.025622546672821045,
           0.0011746272211894393,
           0.0009449396166019142
          ],
          [
           0.008376541547477245,
           0.06470666825771332,
           0.1727699637413025,
           8.28352852977332e-9,
           0.03175390511751175,
           0.31270691752433777,
           0.029775327071547508,
           0.14870917797088623,
           0.000021399806428235024,
           0.0005860040546394885,
           3.984171144111315e-7,
           6.04758465527766e-10
          ]
         ]
        }
       ],
       "layout": {
        "coloraxis": {
         "cmid": 0,
         "colorscale": [
          [
           0,
           "rgb(103,0,31)"
          ],
          [
           0.1,
           "rgb(178,24,43)"
          ],
          [
           0.2,
           "rgb(214,96,77)"
          ],
          [
           0.3,
           "rgb(244,165,130)"
          ],
          [
           0.4,
           "rgb(253,219,199)"
          ],
          [
           0.5,
           "rgb(247,247,247)"
          ],
          [
           0.6,
           "rgb(209,229,240)"
          ],
          [
           0.7,
           "rgb(146,197,222)"
          ],
          [
           0.8,
           "rgb(67,147,195)"
          ],
          [
           0.9,
           "rgb(33,102,172)"
          ],
          [
           1,
           "rgb(5,48,97)"
          ]
         ]
        },
        "template": {
         "data": {
          "bar": [
           {
            "error_x": {
             "color": "#2a3f5f"
            },
            "error_y": {
             "color": "#2a3f5f"
            },
            "marker": {
             "line": {
              "color": "#E5ECF6",
              "width": 0.5
             },
             "pattern": {
              "fillmode": "overlay",
              "size": 10,
              "solidity": 0.2
             }
            },
            "type": "bar"
           }
          ],
          "barpolar": [
           {
            "marker": {
             "line": {
              "color": "#E5ECF6",
              "width": 0.5
             },
             "pattern": {
              "fillmode": "overlay",
              "size": 10,
              "solidity": 0.2
             }
            },
            "type": "barpolar"
           }
          ],
          "carpet": [
           {
            "aaxis": {
             "endlinecolor": "#2a3f5f",
             "gridcolor": "white",
             "linecolor": "white",
             "minorgridcolor": "white",
             "startlinecolor": "#2a3f5f"
            },
            "baxis": {
             "endlinecolor": "#2a3f5f",
             "gridcolor": "white",
             "linecolor": "white",
             "minorgridcolor": "white",
             "startlinecolor": "#2a3f5f"
            },
            "type": "carpet"
           }
          ],
          "choropleth": [
           {
            "colorbar": {
             "outlinewidth": 0,
             "ticks": ""
            },
            "type": "choropleth"
           }
          ],
          "contour": [
           {
            "colorbar": {
             "outlinewidth": 0,
             "ticks": ""
            },
            "colorscale": [
             [
              0,
              "#0d0887"
             ],
             [
              0.1111111111111111,
              "#46039f"
             ],
             [
              0.2222222222222222,
              "#7201a8"
             ],
             [
              0.3333333333333333,
              "#9c179e"
             ],
             [
              0.4444444444444444,
              "#bd3786"
             ],
             [
              0.5555555555555556,
              "#d8576b"
             ],
             [
              0.6666666666666666,
              "#ed7953"
             ],
             [
              0.7777777777777778,
              "#fb9f3a"
             ],
             [
              0.8888888888888888,
              "#fdca26"
             ],
             [
              1,
              "#f0f921"
             ]
            ],
            "type": "contour"
           }
          ],
          "contourcarpet": [
           {
            "colorbar": {
             "outlinewidth": 0,
             "ticks": ""
            },
            "type": "contourcarpet"
           }
          ],
          "heatmap": [
           {
            "colorbar": {
             "outlinewidth": 0,
             "ticks": ""
            },
            "colorscale": [
             [
              0,
              "#0d0887"
             ],
             [
              0.1111111111111111,
              "#46039f"
             ],
             [
              0.2222222222222222,
              "#7201a8"
             ],
             [
              0.3333333333333333,
              "#9c179e"
             ],
             [
              0.4444444444444444,
              "#bd3786"
             ],
             [
              0.5555555555555556,
              "#d8576b"
             ],
             [
              0.6666666666666666,
              "#ed7953"
             ],
             [
              0.7777777777777778,
              "#fb9f3a"
             ],
             [
              0.8888888888888888,
              "#fdca26"
             ],
             [
              1,
              "#f0f921"
             ]
            ],
            "type": "heatmap"
           }
          ],
          "heatmapgl": [
           {
            "colorbar": {
             "outlinewidth": 0,
             "ticks": ""
            },
            "colorscale": [
             [
              0,
              "#0d0887"
             ],
             [
              0.1111111111111111,
              "#46039f"
             ],
             [
              0.2222222222222222,
              "#7201a8"
             ],
             [
              0.3333333333333333,
              "#9c179e"
             ],
             [
              0.4444444444444444,
              "#bd3786"
             ],
             [
              0.5555555555555556,
              "#d8576b"
             ],
             [
              0.6666666666666666,
              "#ed7953"
             ],
             [
              0.7777777777777778,
              "#fb9f3a"
             ],
             [
              0.8888888888888888,
              "#fdca26"
             ],
             [
              1,
              "#f0f921"
             ]
            ],
            "type": "heatmapgl"
           }
          ],
          "histogram": [
           {
            "marker": {
             "pattern": {
              "fillmode": "overlay",
              "size": 10,
              "solidity": 0.2
             }
            },
            "type": "histogram"
           }
          ],
          "histogram2d": [
           {
            "colorbar": {
             "outlinewidth": 0,
             "ticks": ""
            },
            "colorscale": [
             [
              0,
              "#0d0887"
             ],
             [
              0.1111111111111111,
              "#46039f"
             ],
             [
              0.2222222222222222,
              "#7201a8"
             ],
             [
              0.3333333333333333,
              "#9c179e"
             ],
             [
              0.4444444444444444,
              "#bd3786"
             ],
             [
              0.5555555555555556,
              "#d8576b"
             ],
             [
              0.6666666666666666,
              "#ed7953"
             ],
             [
              0.7777777777777778,
              "#fb9f3a"
             ],
             [
              0.8888888888888888,
              "#fdca26"
             ],
             [
              1,
              "#f0f921"
             ]
            ],
            "type": "histogram2d"
           }
          ],
          "histogram2dcontour": [
           {
            "colorbar": {
             "outlinewidth": 0,
             "ticks": ""
            },
            "colorscale": [
             [
              0,
              "#0d0887"
             ],
             [
              0.1111111111111111,
              "#46039f"
             ],
             [
              0.2222222222222222,
              "#7201a8"
             ],
             [
              0.3333333333333333,
              "#9c179e"
             ],
             [
              0.4444444444444444,
              "#bd3786"
             ],
             [
              0.5555555555555556,
              "#d8576b"
             ],
             [
              0.6666666666666666,
              "#ed7953"
             ],
             [
              0.7777777777777778,
              "#fb9f3a"
             ],
             [
              0.8888888888888888,
              "#fdca26"
             ],
             [
              1,
              "#f0f921"
             ]
            ],
            "type": "histogram2dcontour"
           }
          ],
          "mesh3d": [
           {
            "colorbar": {
             "outlinewidth": 0,
             "ticks": ""
            },
            "type": "mesh3d"
           }
          ],
          "parcoords": [
           {
            "line": {
             "colorbar": {
              "outlinewidth": 0,
              "ticks": ""
             }
            },
            "type": "parcoords"
           }
          ],
          "pie": [
           {
            "automargin": true,
            "type": "pie"
           }
          ],
          "scatter": [
           {
            "fillpattern": {
             "fillmode": "overlay",
             "size": 10,
             "solidity": 0.2
            },
            "type": "scatter"
           }
          ],
          "scatter3d": [
           {
            "line": {
             "colorbar": {
              "outlinewidth": 0,
              "ticks": ""
             }
            },
            "marker": {
             "colorbar": {
              "outlinewidth": 0,
              "ticks": ""
             }
            },
            "type": "scatter3d"
           }
          ],
          "scattercarpet": [
           {
            "marker": {
             "colorbar": {
              "outlinewidth": 0,
              "ticks": ""
             }
            },
            "type": "scattercarpet"
           }
          ],
          "scattergeo": [
           {
            "marker": {
             "colorbar": {
              "outlinewidth": 0,
              "ticks": ""
             }
            },
            "type": "scattergeo"
           }
          ],
          "scattergl": [
           {
            "marker": {
             "colorbar": {
              "outlinewidth": 0,
              "ticks": ""
             }
            },
            "type": "scattergl"
           }
          ],
          "scattermapbox": [
           {
            "marker": {
             "colorbar": {
              "outlinewidth": 0,
              "ticks": ""
             }
            },
            "type": "scattermapbox"
           }
          ],
          "scatterpolar": [
           {
            "marker": {
             "colorbar": {
              "outlinewidth": 0,
              "ticks": ""
             }
            },
            "type": "scatterpolar"
           }
          ],
          "scatterpolargl": [
           {
            "marker": {
             "colorbar": {
              "outlinewidth": 0,
              "ticks": ""
             }
            },
            "type": "scatterpolargl"
           }
          ],
          "scatterternary": [
           {
            "marker": {
             "colorbar": {
              "outlinewidth": 0,
              "ticks": ""
             }
            },
            "type": "scatterternary"
           }
          ],
          "surface": [
           {
            "colorbar": {
             "outlinewidth": 0,
             "ticks": ""
            },
            "colorscale": [
             [
              0,
              "#0d0887"
             ],
             [
              0.1111111111111111,
              "#46039f"
             ],
             [
              0.2222222222222222,
              "#7201a8"
             ],
             [
              0.3333333333333333,
              "#9c179e"
             ],
             [
              0.4444444444444444,
              "#bd3786"
             ],
             [
              0.5555555555555556,
              "#d8576b"
             ],
             [
              0.6666666666666666,
              "#ed7953"
             ],
             [
              0.7777777777777778,
              "#fb9f3a"
             ],
             [
              0.8888888888888888,
              "#fdca26"
             ],
             [
              1,
              "#f0f921"
             ]
            ],
            "type": "surface"
           }
          ],
          "table": [
           {
            "cells": {
             "fill": {
              "color": "#EBF0F8"
             },
             "line": {
              "color": "white"
             }
            },
            "header": {
             "fill": {
              "color": "#C8D4E3"
             },
             "line": {
              "color": "white"
             }
            },
            "type": "table"
           }
          ]
         },
         "layout": {
          "annotationdefaults": {
           "arrowcolor": "#2a3f5f",
           "arrowhead": 0,
           "arrowwidth": 1
          },
          "autotypenumbers": "strict",
          "coloraxis": {
           "colorbar": {
            "outlinewidth": 0,
            "ticks": ""
           }
          },
          "colorscale": {
           "diverging": [
            [
             0,
             "#8e0152"
            ],
            [
             0.1,
             "#c51b7d"
            ],
            [
             0.2,
             "#de77ae"
            ],
            [
             0.3,
             "#f1b6da"
            ],
            [
             0.4,
             "#fde0ef"
            ],
            [
             0.5,
             "#f7f7f7"
            ],
            [
             0.6,
             "#e6f5d0"
            ],
            [
             0.7,
             "#b8e186"
            ],
            [
             0.8,
             "#7fbc41"
            ],
            [
             0.9,
             "#4d9221"
            ],
            [
             1,
             "#276419"
            ]
           ],
           "sequential": [
            [
             0,
             "#0d0887"
            ],
            [
             0.1111111111111111,
             "#46039f"
            ],
            [
             0.2222222222222222,
             "#7201a8"
            ],
            [
             0.3333333333333333,
             "#9c179e"
            ],
            [
             0.4444444444444444,
             "#bd3786"
            ],
            [
             0.5555555555555556,
             "#d8576b"
            ],
            [
             0.6666666666666666,
             "#ed7953"
            ],
            [
             0.7777777777777778,
             "#fb9f3a"
            ],
            [
             0.8888888888888888,
             "#fdca26"
            ],
            [
             1,
             "#f0f921"
            ]
           ],
           "sequentialminus": [
            [
             0,
             "#0d0887"
            ],
            [
             0.1111111111111111,
             "#46039f"
            ],
            [
             0.2222222222222222,
             "#7201a8"
            ],
            [
             0.3333333333333333,
             "#9c179e"
            ],
            [
             0.4444444444444444,
             "#bd3786"
            ],
            [
             0.5555555555555556,
             "#d8576b"
            ],
            [
             0.6666666666666666,
             "#ed7953"
            ],
            [
             0.7777777777777778,
             "#fb9f3a"
            ],
            [
             0.8888888888888888,
             "#fdca26"
            ],
            [
             1,
             "#f0f921"
            ]
           ]
          },
          "colorway": [
           "#636efa",
           "#EF553B",
           "#00cc96",
           "#ab63fa",
           "#FFA15A",
           "#19d3f3",
           "#FF6692",
           "#B6E880",
           "#FF97FF",
           "#FECB52"
          ],
          "font": {
           "color": "#2a3f5f"
          },
          "geo": {
           "bgcolor": "white",
           "lakecolor": "white",
           "landcolor": "#E5ECF6",
           "showlakes": true,
           "showland": true,
           "subunitcolor": "white"
          },
          "hoverlabel": {
           "align": "left"
          },
          "hovermode": "closest",
          "mapbox": {
           "style": "light"
          },
          "paper_bgcolor": "white",
          "plot_bgcolor": "#E5ECF6",
          "polar": {
           "angularaxis": {
            "gridcolor": "white",
            "linecolor": "white",
            "ticks": ""
           },
           "bgcolor": "#E5ECF6",
           "radialaxis": {
            "gridcolor": "white",
            "linecolor": "white",
            "ticks": ""
           }
          },
          "scene": {
           "xaxis": {
            "backgroundcolor": "#E5ECF6",
            "gridcolor": "white",
            "gridwidth": 2,
            "linecolor": "white",
            "showbackground": true,
            "ticks": "",
            "zerolinecolor": "white"
           },
           "yaxis": {
            "backgroundcolor": "#E5ECF6",
            "gridcolor": "white",
            "gridwidth": 2,
            "linecolor": "white",
            "showbackground": true,
            "ticks": "",
            "zerolinecolor": "white"
           },
           "zaxis": {
            "backgroundcolor": "#E5ECF6",
            "gridcolor": "white",
            "gridwidth": 2,
            "linecolor": "white",
            "showbackground": true,
            "ticks": "",
            "zerolinecolor": "white"
           }
          },
          "shapedefaults": {
           "line": {
            "color": "#2a3f5f"
           }
          },
          "ternary": {
           "aaxis": {
            "gridcolor": "white",
            "linecolor": "white",
            "ticks": ""
           },
           "baxis": {
            "gridcolor": "white",
            "linecolor": "white",
            "ticks": ""
           },
           "bgcolor": "#E5ECF6",
           "caxis": {
            "gridcolor": "white",
            "linecolor": "white",
            "ticks": ""
           }
          },
          "title": {
           "x": 0.05
          },
          "xaxis": {
           "automargin": true,
           "gridcolor": "white",
           "linecolor": "white",
           "ticks": "",
           "title": {
            "standoff": 15
           },
           "zerolinecolor": "white",
           "zerolinewidth": 2
          },
          "yaxis": {
           "automargin": true,
           "gridcolor": "white",
           "linecolor": "white",
           "ticks": "",
           "title": {
            "standoff": 15
           },
           "zerolinecolor": "white",
           "zerolinewidth": 2
          }
         }
        },
        "title": {
         "text": "attn_head_out p-value"
        },
        "xaxis": {
         "anchor": "y",
         "domain": [
          0,
          1
         ],
         "title": {
          "text": "head"
         }
        },
        "yaxis": {
         "anchor": "x",
         "autorange": "reversed",
         "domain": [
          0,
          1
         ],
         "title": {
          "text": "layer"
         }
        }
       }
      }
     },
     "metadata": {},
     "output_type": "display_data"
    }
   ],
   "source": [
    "imshow(\n",
    "    data[\"pos\"][\"attn_head_out\"][0][\"mean\"],\n",
    "    yaxis=\"layer\",\n",
    "    xaxis=\"head\",\n",
    "    title=\"attn_head_out MEAN\",\n",
    ")\n",
    "imshow(\n",
    "    data[\"pos\"][\"attn_head_out\"][0][\"std\"],\n",
    "    yaxis=\"layer\",\n",
    "    xaxis=\"head\",\n",
    "    title=\"attn_head_out STD\",\n",
    ")\n",
    "imshow(\n",
    "    data[\"pos\"][\"attn_head_out\"][0][\"p-value\"],\n",
    "    yaxis=\"layer\",\n",
    "    xaxis=\"head\",\n",
    "    title=\"attn_head_out p-value\",\n",
    ")"
   ]
  },
  {
   "cell_type": "code",
   "execution_count": 36,
   "metadata": {},
   "outputs": [
    {
     "name": "stderr",
     "output_type": "stream",
     "text": [
      "Using pad_token, but it is not set yet.\n"
     ]
    },
    {
     "name": "stdout",
     "output_type": "stream",
     "text": [
      "Loaded pretrained model gpt2 into HookedTransformer\n"
     ]
    }
   ],
   "source": [
    "from src.model import WrapHookedTransformer\n",
    "model = WrapHookedTransformer.from_pretrained(\"gpt2\")\n",
    "\n",
    "pos_example = model.to_str_tokens(data[\"pos\"][\"example_str_tokens\"][0])"
   ]
  },
  {
   "cell_type": "code",
   "execution_count": 39,
   "metadata": {},
   "outputs": [
    {
     "data": {
      "application/vnd.plotly.v1+json": {
       "config": {
        "plotlyServerURL": "https://plot.ly"
       },
       "data": [
        {
         "coloraxis": "coloraxis",
         "hovertemplate": "x: %{x}<br>y: %{y}<br>color: %{z}<extra></extra>",
         "name": "0",
         "type": "heatmap",
         "x": [
          "<|endoftext|>_0",
          "H_1",
          "onda_2",
          " NS_3",
          "500_4",
          " is_5",
          " produced_6",
          " by_7",
          "hel_8",
          " Honda_9",
          " NS_10",
          "500_11",
          " is_12",
          " produced_13",
          " by_14"
         ],
         "xaxis": "x",
         "yaxis": "y",
         "z": [
          [
           0,
           0.025121940299868584,
           0.07136628776788712,
           0.006210355553776026,
           -0.00033014483051374555,
           0.0014709505485370755,
           -0.0009787441231310368,
           0.0027528705541044474,
           -0.0011480448301881552,
           0.05474478751420975,
           0.0036989974323660135,
           -0.006555391475558281,
           0.0002452053886372596,
           0.0008026063442230225,
           0.0007265734602697194
          ],
          [
           0,
           -0.0012167558306828141,
           0.010164439678192139,
           -0.0009950348176062107,
           -0.00039242461207322776,
           0.0009265161934308708,
           0.0008412717143073678,
           -0.00015083685866557062,
           -0.0012511981185525656,
           -0.0014218685682862997,
           -0.002167066326364875,
           -0.003707995405420661,
           -0.0006029187352396548,
           -0.0005102724535390735,
           0.0014008722500875592
          ],
          [
           0,
           0.0003442968300078064,
           0.014499504119157791,
           0.001706493552774191,
           0.0005446404684334993,
           0.0005691323895007372,
           0.0017070388421416283,
           0.0008823900716379285,
           -0.0012979077873751521,
           0.003122373716905713,
           0.0007885943632572889,
           -0.0014470668975263834,
           -0.0012086371425539255,
           -0.0005738501204177737,
           -0.00036288052797317505
          ],
          [
           0,
           0.00083981390343979,
           0.013388008810579777,
           0.0007471238495782018,
           -0.000024776440113782883,
           0.000048495596274733543,
           -0.0008059423416852951,
           0.0004667617322411388,
           -0.0006206877296790481,
           -0.005055334884673357,
           0.0008471145993098617,
           -0.0019574130419641733,
           0.0006291624158620834,
           -0.0005681086331605911,
           0.0001524116232758388
          ],
          [
           0,
           0.00011630551307462156,
           0.010852073319256306,
           0.002172032603994012,
           -0.0011537233367562294,
           0.0006039894069544971,
           -0.0009645075770094991,
           -0.0005833929171785712,
           0.000292701181024313,
           -0.0021958546712994576,
           0.0002859627129510045,
           -0.0002611856907606125,
           -0.0009601950296200812,
           -0.0010538147762417793,
           -0.00012145418440923095
          ],
          [
           0,
           0.0003185410751029849,
           0.002653685165569186,
           -0.00005229641465120949,
           -0.00003815216768998653,
           -0.000034919929021270946,
           0.0003626183606684208,
           0.00003261908932472579,
           -0.0006965343491174281,
           -0.006468377076089382,
           -0.001367211458273232,
           0.00017555041995365173,
           -0.001032966305501759,
           0.0007643304415978491,
           -0.0011108774924650788
          ],
          [
           0,
           -0.00012083172623533756,
           0.002199804177507758,
           0.00010861753980861977,
           0.00022044814249966294,
           0.0002931691997218877,
           0.0002698297903407365,
           0.001050100545398891,
           -0.0000819964479887858,
           0.003450438380241394,
           0.0008427320863120258,
           0.0014647479401901364,
           0.0024343845434486866,
           0.0003066712524741888,
           -0.0017359243938699365
          ],
          [
           0,
           0.0009174196165986359,
           0.00709141930565238,
           -0.00006388124893419445,
           0.0005861616227775812,
           0.00018543053010944277,
           0.00029972498305141926,
           0.000534552033059299,
           0.000795780390035361,
           -0.0002192415267927572,
           0.00046905118506401777,
           0.0007386086508631706,
           -0.0004119523800909519,
           -0.001483051455579698,
           -0.006298504304140806
          ],
          [
           0,
           -0.000053293460950953886,
           -0.0021727641578763723,
           -0.0006548912497237325,
           -0.0000014014309499543742,
           -0.0003028995415661484,
           -0.00016402227629441768,
           -0.0008638023864477873,
           -0.0006888477364555001,
           0.0003828383923973888,
           -0.00024974546977318823,
           -0.00007665353041375056,
           0.0006028281641192734,
           0.000573390512727201,
           0.011264162138104439
          ],
          [
           0,
           -0.00008478570816805586,
           0.00010953381570288911,
           0.0003780931874644011,
           0.0001737889542710036,
           0.00013838571612723172,
           0.00022374533000402153,
           0.0008293183636851609,
           -0.00005217394573264755,
           0.0016961967339739203,
           0.000010923798981821164,
           0.00021637506142724305,
           -0.0000029334401006053668,
           -0.0001786434295354411,
           0.012461798265576363
          ],
          [
           0,
           -0.0001496054173912853,
           -0.0014168072957545519,
           0.000014462302715401165,
           0.0003915221896022558,
           0.0005553198279812932,
           0.00017809598648454994,
           0.0007051208522170782,
           -0.0004502496449276805,
           -0.0003802752762567252,
           -0.000007135283340176102,
           -0.00020031067833770066,
           -0.0002262597845401615,
           -0.00012764167331624776,
           0.012659854255616665
          ],
          [
           0,
           0,
           0,
           0,
           0,
           0,
           0,
           0,
           0,
           0,
           0,
           0,
           0,
           0,
           -0.03528030961751938
          ]
         ]
        }
       ],
       "layout": {
        "coloraxis": {
         "cmid": 0,
         "colorscale": [
          [
           0,
           "rgb(103,0,31)"
          ],
          [
           0.1,
           "rgb(178,24,43)"
          ],
          [
           0.2,
           "rgb(214,96,77)"
          ],
          [
           0.3,
           "rgb(244,165,130)"
          ],
          [
           0.4,
           "rgb(253,219,199)"
          ],
          [
           0.5,
           "rgb(247,247,247)"
          ],
          [
           0.6,
           "rgb(209,229,240)"
          ],
          [
           0.7,
           "rgb(146,197,222)"
          ],
          [
           0.8,
           "rgb(67,147,195)"
          ],
          [
           0.9,
           "rgb(33,102,172)"
          ],
          [
           1,
           "rgb(5,48,97)"
          ]
         ]
        },
        "template": {
         "data": {
          "bar": [
           {
            "error_x": {
             "color": "#2a3f5f"
            },
            "error_y": {
             "color": "#2a3f5f"
            },
            "marker": {
             "line": {
              "color": "#E5ECF6",
              "width": 0.5
             },
             "pattern": {
              "fillmode": "overlay",
              "size": 10,
              "solidity": 0.2
             }
            },
            "type": "bar"
           }
          ],
          "barpolar": [
           {
            "marker": {
             "line": {
              "color": "#E5ECF6",
              "width": 0.5
             },
             "pattern": {
              "fillmode": "overlay",
              "size": 10,
              "solidity": 0.2
             }
            },
            "type": "barpolar"
           }
          ],
          "carpet": [
           {
            "aaxis": {
             "endlinecolor": "#2a3f5f",
             "gridcolor": "white",
             "linecolor": "white",
             "minorgridcolor": "white",
             "startlinecolor": "#2a3f5f"
            },
            "baxis": {
             "endlinecolor": "#2a3f5f",
             "gridcolor": "white",
             "linecolor": "white",
             "minorgridcolor": "white",
             "startlinecolor": "#2a3f5f"
            },
            "type": "carpet"
           }
          ],
          "choropleth": [
           {
            "colorbar": {
             "outlinewidth": 0,
             "ticks": ""
            },
            "type": "choropleth"
           }
          ],
          "contour": [
           {
            "colorbar": {
             "outlinewidth": 0,
             "ticks": ""
            },
            "colorscale": [
             [
              0,
              "#0d0887"
             ],
             [
              0.1111111111111111,
              "#46039f"
             ],
             [
              0.2222222222222222,
              "#7201a8"
             ],
             [
              0.3333333333333333,
              "#9c179e"
             ],
             [
              0.4444444444444444,
              "#bd3786"
             ],
             [
              0.5555555555555556,
              "#d8576b"
             ],
             [
              0.6666666666666666,
              "#ed7953"
             ],
             [
              0.7777777777777778,
              "#fb9f3a"
             ],
             [
              0.8888888888888888,
              "#fdca26"
             ],
             [
              1,
              "#f0f921"
             ]
            ],
            "type": "contour"
           }
          ],
          "contourcarpet": [
           {
            "colorbar": {
             "outlinewidth": 0,
             "ticks": ""
            },
            "type": "contourcarpet"
           }
          ],
          "heatmap": [
           {
            "colorbar": {
             "outlinewidth": 0,
             "ticks": ""
            },
            "colorscale": [
             [
              0,
              "#0d0887"
             ],
             [
              0.1111111111111111,
              "#46039f"
             ],
             [
              0.2222222222222222,
              "#7201a8"
             ],
             [
              0.3333333333333333,
              "#9c179e"
             ],
             [
              0.4444444444444444,
              "#bd3786"
             ],
             [
              0.5555555555555556,
              "#d8576b"
             ],
             [
              0.6666666666666666,
              "#ed7953"
             ],
             [
              0.7777777777777778,
              "#fb9f3a"
             ],
             [
              0.8888888888888888,
              "#fdca26"
             ],
             [
              1,
              "#f0f921"
             ]
            ],
            "type": "heatmap"
           }
          ],
          "heatmapgl": [
           {
            "colorbar": {
             "outlinewidth": 0,
             "ticks": ""
            },
            "colorscale": [
             [
              0,
              "#0d0887"
             ],
             [
              0.1111111111111111,
              "#46039f"
             ],
             [
              0.2222222222222222,
              "#7201a8"
             ],
             [
              0.3333333333333333,
              "#9c179e"
             ],
             [
              0.4444444444444444,
              "#bd3786"
             ],
             [
              0.5555555555555556,
              "#d8576b"
             ],
             [
              0.6666666666666666,
              "#ed7953"
             ],
             [
              0.7777777777777778,
              "#fb9f3a"
             ],
             [
              0.8888888888888888,
              "#fdca26"
             ],
             [
              1,
              "#f0f921"
             ]
            ],
            "type": "heatmapgl"
           }
          ],
          "histogram": [
           {
            "marker": {
             "pattern": {
              "fillmode": "overlay",
              "size": 10,
              "solidity": 0.2
             }
            },
            "type": "histogram"
           }
          ],
          "histogram2d": [
           {
            "colorbar": {
             "outlinewidth": 0,
             "ticks": ""
            },
            "colorscale": [
             [
              0,
              "#0d0887"
             ],
             [
              0.1111111111111111,
              "#46039f"
             ],
             [
              0.2222222222222222,
              "#7201a8"
             ],
             [
              0.3333333333333333,
              "#9c179e"
             ],
             [
              0.4444444444444444,
              "#bd3786"
             ],
             [
              0.5555555555555556,
              "#d8576b"
             ],
             [
              0.6666666666666666,
              "#ed7953"
             ],
             [
              0.7777777777777778,
              "#fb9f3a"
             ],
             [
              0.8888888888888888,
              "#fdca26"
             ],
             [
              1,
              "#f0f921"
             ]
            ],
            "type": "histogram2d"
           }
          ],
          "histogram2dcontour": [
           {
            "colorbar": {
             "outlinewidth": 0,
             "ticks": ""
            },
            "colorscale": [
             [
              0,
              "#0d0887"
             ],
             [
              0.1111111111111111,
              "#46039f"
             ],
             [
              0.2222222222222222,
              "#7201a8"
             ],
             [
              0.3333333333333333,
              "#9c179e"
             ],
             [
              0.4444444444444444,
              "#bd3786"
             ],
             [
              0.5555555555555556,
              "#d8576b"
             ],
             [
              0.6666666666666666,
              "#ed7953"
             ],
             [
              0.7777777777777778,
              "#fb9f3a"
             ],
             [
              0.8888888888888888,
              "#fdca26"
             ],
             [
              1,
              "#f0f921"
             ]
            ],
            "type": "histogram2dcontour"
           }
          ],
          "mesh3d": [
           {
            "colorbar": {
             "outlinewidth": 0,
             "ticks": ""
            },
            "type": "mesh3d"
           }
          ],
          "parcoords": [
           {
            "line": {
             "colorbar": {
              "outlinewidth": 0,
              "ticks": ""
             }
            },
            "type": "parcoords"
           }
          ],
          "pie": [
           {
            "automargin": true,
            "type": "pie"
           }
          ],
          "scatter": [
           {
            "fillpattern": {
             "fillmode": "overlay",
             "size": 10,
             "solidity": 0.2
            },
            "type": "scatter"
           }
          ],
          "scatter3d": [
           {
            "line": {
             "colorbar": {
              "outlinewidth": 0,
              "ticks": ""
             }
            },
            "marker": {
             "colorbar": {
              "outlinewidth": 0,
              "ticks": ""
             }
            },
            "type": "scatter3d"
           }
          ],
          "scattercarpet": [
           {
            "marker": {
             "colorbar": {
              "outlinewidth": 0,
              "ticks": ""
             }
            },
            "type": "scattercarpet"
           }
          ],
          "scattergeo": [
           {
            "marker": {
             "colorbar": {
              "outlinewidth": 0,
              "ticks": ""
             }
            },
            "type": "scattergeo"
           }
          ],
          "scattergl": [
           {
            "marker": {
             "colorbar": {
              "outlinewidth": 0,
              "ticks": ""
             }
            },
            "type": "scattergl"
           }
          ],
          "scattermapbox": [
           {
            "marker": {
             "colorbar": {
              "outlinewidth": 0,
              "ticks": ""
             }
            },
            "type": "scattermapbox"
           }
          ],
          "scatterpolar": [
           {
            "marker": {
             "colorbar": {
              "outlinewidth": 0,
              "ticks": ""
             }
            },
            "type": "scatterpolar"
           }
          ],
          "scatterpolargl": [
           {
            "marker": {
             "colorbar": {
              "outlinewidth": 0,
              "ticks": ""
             }
            },
            "type": "scatterpolargl"
           }
          ],
          "scatterternary": [
           {
            "marker": {
             "colorbar": {
              "outlinewidth": 0,
              "ticks": ""
             }
            },
            "type": "scatterternary"
           }
          ],
          "surface": [
           {
            "colorbar": {
             "outlinewidth": 0,
             "ticks": ""
            },
            "colorscale": [
             [
              0,
              "#0d0887"
             ],
             [
              0.1111111111111111,
              "#46039f"
             ],
             [
              0.2222222222222222,
              "#7201a8"
             ],
             [
              0.3333333333333333,
              "#9c179e"
             ],
             [
              0.4444444444444444,
              "#bd3786"
             ],
             [
              0.5555555555555556,
              "#d8576b"
             ],
             [
              0.6666666666666666,
              "#ed7953"
             ],
             [
              0.7777777777777778,
              "#fb9f3a"
             ],
             [
              0.8888888888888888,
              "#fdca26"
             ],
             [
              1,
              "#f0f921"
             ]
            ],
            "type": "surface"
           }
          ],
          "table": [
           {
            "cells": {
             "fill": {
              "color": "#EBF0F8"
             },
             "line": {
              "color": "white"
             }
            },
            "header": {
             "fill": {
              "color": "#C8D4E3"
             },
             "line": {
              "color": "white"
             }
            },
            "type": "table"
           }
          ]
         },
         "layout": {
          "annotationdefaults": {
           "arrowcolor": "#2a3f5f",
           "arrowhead": 0,
           "arrowwidth": 1
          },
          "autotypenumbers": "strict",
          "coloraxis": {
           "colorbar": {
            "outlinewidth": 0,
            "ticks": ""
           }
          },
          "colorscale": {
           "diverging": [
            [
             0,
             "#8e0152"
            ],
            [
             0.1,
             "#c51b7d"
            ],
            [
             0.2,
             "#de77ae"
            ],
            [
             0.3,
             "#f1b6da"
            ],
            [
             0.4,
             "#fde0ef"
            ],
            [
             0.5,
             "#f7f7f7"
            ],
            [
             0.6,
             "#e6f5d0"
            ],
            [
             0.7,
             "#b8e186"
            ],
            [
             0.8,
             "#7fbc41"
            ],
            [
             0.9,
             "#4d9221"
            ],
            [
             1,
             "#276419"
            ]
           ],
           "sequential": [
            [
             0,
             "#0d0887"
            ],
            [
             0.1111111111111111,
             "#46039f"
            ],
            [
             0.2222222222222222,
             "#7201a8"
            ],
            [
             0.3333333333333333,
             "#9c179e"
            ],
            [
             0.4444444444444444,
             "#bd3786"
            ],
            [
             0.5555555555555556,
             "#d8576b"
            ],
            [
             0.6666666666666666,
             "#ed7953"
            ],
            [
             0.7777777777777778,
             "#fb9f3a"
            ],
            [
             0.8888888888888888,
             "#fdca26"
            ],
            [
             1,
             "#f0f921"
            ]
           ],
           "sequentialminus": [
            [
             0,
             "#0d0887"
            ],
            [
             0.1111111111111111,
             "#46039f"
            ],
            [
             0.2222222222222222,
             "#7201a8"
            ],
            [
             0.3333333333333333,
             "#9c179e"
            ],
            [
             0.4444444444444444,
             "#bd3786"
            ],
            [
             0.5555555555555556,
             "#d8576b"
            ],
            [
             0.6666666666666666,
             "#ed7953"
            ],
            [
             0.7777777777777778,
             "#fb9f3a"
            ],
            [
             0.8888888888888888,
             "#fdca26"
            ],
            [
             1,
             "#f0f921"
            ]
           ]
          },
          "colorway": [
           "#636efa",
           "#EF553B",
           "#00cc96",
           "#ab63fa",
           "#FFA15A",
           "#19d3f3",
           "#FF6692",
           "#B6E880",
           "#FF97FF",
           "#FECB52"
          ],
          "font": {
           "color": "#2a3f5f"
          },
          "geo": {
           "bgcolor": "white",
           "lakecolor": "white",
           "landcolor": "#E5ECF6",
           "showlakes": true,
           "showland": true,
           "subunitcolor": "white"
          },
          "hoverlabel": {
           "align": "left"
          },
          "hovermode": "closest",
          "mapbox": {
           "style": "light"
          },
          "paper_bgcolor": "white",
          "plot_bgcolor": "#E5ECF6",
          "polar": {
           "angularaxis": {
            "gridcolor": "white",
            "linecolor": "white",
            "ticks": ""
           },
           "bgcolor": "#E5ECF6",
           "radialaxis": {
            "gridcolor": "white",
            "linecolor": "white",
            "ticks": ""
           }
          },
          "scene": {
           "xaxis": {
            "backgroundcolor": "#E5ECF6",
            "gridcolor": "white",
            "gridwidth": 2,
            "linecolor": "white",
            "showbackground": true,
            "ticks": "",
            "zerolinecolor": "white"
           },
           "yaxis": {
            "backgroundcolor": "#E5ECF6",
            "gridcolor": "white",
            "gridwidth": 2,
            "linecolor": "white",
            "showbackground": true,
            "ticks": "",
            "zerolinecolor": "white"
           },
           "zaxis": {
            "backgroundcolor": "#E5ECF6",
            "gridcolor": "white",
            "gridwidth": 2,
            "linecolor": "white",
            "showbackground": true,
            "ticks": "",
            "zerolinecolor": "white"
           }
          },
          "shapedefaults": {
           "line": {
            "color": "#2a3f5f"
           }
          },
          "ternary": {
           "aaxis": {
            "gridcolor": "white",
            "linecolor": "white",
            "ticks": ""
           },
           "baxis": {
            "gridcolor": "white",
            "linecolor": "white",
            "ticks": ""
           },
           "bgcolor": "#E5ECF6",
           "caxis": {
            "gridcolor": "white",
            "linecolor": "white",
            "ticks": ""
           }
          },
          "title": {
           "x": 0.05
          },
          "xaxis": {
           "automargin": true,
           "gridcolor": "white",
           "linecolor": "white",
           "ticks": "",
           "title": {
            "standoff": 15
           },
           "zerolinecolor": "white",
           "zerolinewidth": 2
          },
          "yaxis": {
           "automargin": true,
           "gridcolor": "white",
           "linecolor": "white",
           "ticks": "",
           "title": {
            "standoff": 15
           },
           "zerolinecolor": "white",
           "zerolinewidth": 2
          }
         }
        },
        "title": {
         "text": "Activation Patching Per Block"
        },
        "xaxis": {
         "anchor": "y",
         "domain": [
          0,
          1
         ],
         "title": {
          "text": "Position"
         }
        },
        "yaxis": {
         "anchor": "x",
         "autorange": "reversed",
         "domain": [
          0,
          1
         ],
         "title": {
          "text": "Layer"
         }
        }
       }
      }
     },
     "metadata": {},
     "output_type": "display_data"
    },
    {
     "data": {
      "application/vnd.plotly.v1+json": {
       "config": {
        "plotlyServerURL": "https://plot.ly"
       },
       "data": [
        {
         "coloraxis": "coloraxis",
         "hovertemplate": "x: %{x}<br>y: %{y}<br>color: %{z}<extra></extra>",
         "name": "0",
         "type": "heatmap",
         "x": [
          "<|endoftext|>_0",
          "H_1",
          "onda_2",
          " NS_3",
          "500_4",
          " is_5",
          " produced_6",
          " by_7",
          "hel_8",
          " Honda_9",
          " NS_10",
          "500_11",
          " is_12",
          " produced_13",
          " by_14"
         ],
         "xaxis": "x",
         "yaxis": "y",
         "z": [
          [
           0,
           0.04614769294857979,
           0.06316293030977249,
           0.017484182491898537,
           0.0061182198114693165,
           0.002876672428101301,
           0.006564934737980366,
           0.004024222958832979,
           0.010922805406153202,
           0.06570576131343842,
           0.013966288417577744,
           0.032904092222452164,
           0.0034925714135169983,
           0.006320630665868521,
           0.004702338483184576
          ],
          [
           0,
           0.009971225634217262,
           0.028566325083374977,
           0.00617768382653594,
           0.003809558227658272,
           0.003135714679956436,
           0.005012557376176119,
           0.003239760175347328,
           0.011579335667192936,
           0.02227606251835823,
           0.0072645400650799274,
           0.009031236171722412,
           0.002940739504992962,
           0.0036011524498462677,
           0.006156895309686661
          ],
          [
           0,
           0.007090082857757807,
           0.028008753433823586,
           0.005985152907669544,
           0.003767214482650161,
           0.003053894732147455,
           0.005364486947655678,
           0.003967356868088245,
           0.008901068940758705,
           0.010995483957231045,
           0.00652162404730916,
           0.009627528488636017,
           0.0057508978061378,
           0.0037746208254247904,
           0.0047170910984277725
          ],
          [
           0,
           0.0027508337516337633,
           0.018968619406223297,
           0.006650267634540796,
           0.0025862385518848896,
           0.002329779788851738,
           0.0025229298043996096,
           0.002838855143636465,
           0.009297785349190235,
           0.0259657371789217,
           0.006008075550198555,
           0.014697441831231117,
           0.005602588411420584,
           0.0028686649166047573,
           0.004144710022956133
          ],
          [
           0,
           0.002514137653633952,
           0.019076723605394363,
           0.006273810286074877,
           0.003986772615462542,
           0.0023275434505194426,
           0.004072321113198996,
           0.0020361021161079407,
           0.009396975859999657,
           0.015424865297973156,
           0.006944155320525169,
           0.005055012181401253,
           0.007487818133085966,
           0.005715877283364534,
           0.008974390104413033
          ],
          [
           0,
           0.0023672638926655054,
           0.012522514909505844,
           0.0019498810870572925,
           0.0013262289576232433,
           0.0014466919237747788,
           0.0026446429546922445,
           0.002274895552545786,
           0.006510511506348848,
           0.018184654414653778,
           0.005789168644696474,
           0.0069604492746293545,
           0.014069384895265102,
           0.003536386415362358,
           0.00899695884436369
          ],
          [
           0,
           0.002554411068558693,
           0.007196552120149136,
           0.0023382457438856363,
           0.0011720109032467008,
           0.00110812287312001,
           0.0009530651732347906,
           0.00307294400408864,
           0.004521140828728676,
           0.018602829426527023,
           0.005545685533434153,
           0.006408690009266138,
           0.012195087969303131,
           0.00772593030706048,
           0.016500458121299744
          ],
          [
           0,
           0.003299859818071127,
           0.013552631251513958,
           0.0015400887932628393,
           0.0013867372181266546,
           0.0005731885903514922,
           0.000862597837112844,
           0.0016196805518120527,
           0.003542263526469469,
           0.009398301132023335,
           0.0024304811377078295,
           0.004512063227593899,
           0.0029453157912939787,
           0.00512924836948514,
           0.03037617914378643
          ],
          [
           0,
           0.0023760017938911915,
           0.008316009305417538,
           0.001620662515051663,
           0.0009475623955950141,
           0.0005932091153226793,
           0.0005602551973424852,
           0.002617486286908388,
           0.0037291236221790314,
           0.009459076449275017,
           0.001798242679797113,
           0.001438446226529777,
           0.002793368650600314,
           0.001766594941727817,
           0.025878367945551872
          ],
          [
           0,
           0.0015347552252933383,
           0.009258444420993328,
           0.0013877333840355277,
           0.0006559766479767859,
           0.0006590404664166272,
           0.0005154690588824451,
           0.001207650755532086,
           0.003953420557081699,
           0.006282087415456772,
           0.0009974666172638535,
           0.0008521981653757393,
           0.0005079428665339947,
           0.00034235973726026714,
           0.023878473788499832
          ],
          [
           0,
           0.0006692532915621996,
           0.004027834627777338,
           0.001236569369211793,
           0.001137283630669117,
           0.00096618797397241,
           0.00044537795474752784,
           0.0017651024973019958,
           0.0026893424801528454,
           0.004766356665641069,
           0.0006686452543362975,
           0.0010263909352943301,
           0.0006750494358129799,
           0.00031695200596004725,
           0.021015925332903862
          ],
          [
           0,
           0,
           0,
           0,
           0,
           0,
           0,
           0,
           0,
           0,
           0,
           0,
           0,
           0,
           0.06269469857215881
          ]
         ]
        }
       ],
       "layout": {
        "coloraxis": {
         "cmid": 0,
         "colorscale": [
          [
           0,
           "rgb(103,0,31)"
          ],
          [
           0.1,
           "rgb(178,24,43)"
          ],
          [
           0.2,
           "rgb(214,96,77)"
          ],
          [
           0.3,
           "rgb(244,165,130)"
          ],
          [
           0.4,
           "rgb(253,219,199)"
          ],
          [
           0.5,
           "rgb(247,247,247)"
          ],
          [
           0.6,
           "rgb(209,229,240)"
          ],
          [
           0.7,
           "rgb(146,197,222)"
          ],
          [
           0.8,
           "rgb(67,147,195)"
          ],
          [
           0.9,
           "rgb(33,102,172)"
          ],
          [
           1,
           "rgb(5,48,97)"
          ]
         ]
        },
        "template": {
         "data": {
          "bar": [
           {
            "error_x": {
             "color": "#2a3f5f"
            },
            "error_y": {
             "color": "#2a3f5f"
            },
            "marker": {
             "line": {
              "color": "#E5ECF6",
              "width": 0.5
             },
             "pattern": {
              "fillmode": "overlay",
              "size": 10,
              "solidity": 0.2
             }
            },
            "type": "bar"
           }
          ],
          "barpolar": [
           {
            "marker": {
             "line": {
              "color": "#E5ECF6",
              "width": 0.5
             },
             "pattern": {
              "fillmode": "overlay",
              "size": 10,
              "solidity": 0.2
             }
            },
            "type": "barpolar"
           }
          ],
          "carpet": [
           {
            "aaxis": {
             "endlinecolor": "#2a3f5f",
             "gridcolor": "white",
             "linecolor": "white",
             "minorgridcolor": "white",
             "startlinecolor": "#2a3f5f"
            },
            "baxis": {
             "endlinecolor": "#2a3f5f",
             "gridcolor": "white",
             "linecolor": "white",
             "minorgridcolor": "white",
             "startlinecolor": "#2a3f5f"
            },
            "type": "carpet"
           }
          ],
          "choropleth": [
           {
            "colorbar": {
             "outlinewidth": 0,
             "ticks": ""
            },
            "type": "choropleth"
           }
          ],
          "contour": [
           {
            "colorbar": {
             "outlinewidth": 0,
             "ticks": ""
            },
            "colorscale": [
             [
              0,
              "#0d0887"
             ],
             [
              0.1111111111111111,
              "#46039f"
             ],
             [
              0.2222222222222222,
              "#7201a8"
             ],
             [
              0.3333333333333333,
              "#9c179e"
             ],
             [
              0.4444444444444444,
              "#bd3786"
             ],
             [
              0.5555555555555556,
              "#d8576b"
             ],
             [
              0.6666666666666666,
              "#ed7953"
             ],
             [
              0.7777777777777778,
              "#fb9f3a"
             ],
             [
              0.8888888888888888,
              "#fdca26"
             ],
             [
              1,
              "#f0f921"
             ]
            ],
            "type": "contour"
           }
          ],
          "contourcarpet": [
           {
            "colorbar": {
             "outlinewidth": 0,
             "ticks": ""
            },
            "type": "contourcarpet"
           }
          ],
          "heatmap": [
           {
            "colorbar": {
             "outlinewidth": 0,
             "ticks": ""
            },
            "colorscale": [
             [
              0,
              "#0d0887"
             ],
             [
              0.1111111111111111,
              "#46039f"
             ],
             [
              0.2222222222222222,
              "#7201a8"
             ],
             [
              0.3333333333333333,
              "#9c179e"
             ],
             [
              0.4444444444444444,
              "#bd3786"
             ],
             [
              0.5555555555555556,
              "#d8576b"
             ],
             [
              0.6666666666666666,
              "#ed7953"
             ],
             [
              0.7777777777777778,
              "#fb9f3a"
             ],
             [
              0.8888888888888888,
              "#fdca26"
             ],
             [
              1,
              "#f0f921"
             ]
            ],
            "type": "heatmap"
           }
          ],
          "heatmapgl": [
           {
            "colorbar": {
             "outlinewidth": 0,
             "ticks": ""
            },
            "colorscale": [
             [
              0,
              "#0d0887"
             ],
             [
              0.1111111111111111,
              "#46039f"
             ],
             [
              0.2222222222222222,
              "#7201a8"
             ],
             [
              0.3333333333333333,
              "#9c179e"
             ],
             [
              0.4444444444444444,
              "#bd3786"
             ],
             [
              0.5555555555555556,
              "#d8576b"
             ],
             [
              0.6666666666666666,
              "#ed7953"
             ],
             [
              0.7777777777777778,
              "#fb9f3a"
             ],
             [
              0.8888888888888888,
              "#fdca26"
             ],
             [
              1,
              "#f0f921"
             ]
            ],
            "type": "heatmapgl"
           }
          ],
          "histogram": [
           {
            "marker": {
             "pattern": {
              "fillmode": "overlay",
              "size": 10,
              "solidity": 0.2
             }
            },
            "type": "histogram"
           }
          ],
          "histogram2d": [
           {
            "colorbar": {
             "outlinewidth": 0,
             "ticks": ""
            },
            "colorscale": [
             [
              0,
              "#0d0887"
             ],
             [
              0.1111111111111111,
              "#46039f"
             ],
             [
              0.2222222222222222,
              "#7201a8"
             ],
             [
              0.3333333333333333,
              "#9c179e"
             ],
             [
              0.4444444444444444,
              "#bd3786"
             ],
             [
              0.5555555555555556,
              "#d8576b"
             ],
             [
              0.6666666666666666,
              "#ed7953"
             ],
             [
              0.7777777777777778,
              "#fb9f3a"
             ],
             [
              0.8888888888888888,
              "#fdca26"
             ],
             [
              1,
              "#f0f921"
             ]
            ],
            "type": "histogram2d"
           }
          ],
          "histogram2dcontour": [
           {
            "colorbar": {
             "outlinewidth": 0,
             "ticks": ""
            },
            "colorscale": [
             [
              0,
              "#0d0887"
             ],
             [
              0.1111111111111111,
              "#46039f"
             ],
             [
              0.2222222222222222,
              "#7201a8"
             ],
             [
              0.3333333333333333,
              "#9c179e"
             ],
             [
              0.4444444444444444,
              "#bd3786"
             ],
             [
              0.5555555555555556,
              "#d8576b"
             ],
             [
              0.6666666666666666,
              "#ed7953"
             ],
             [
              0.7777777777777778,
              "#fb9f3a"
             ],
             [
              0.8888888888888888,
              "#fdca26"
             ],
             [
              1,
              "#f0f921"
             ]
            ],
            "type": "histogram2dcontour"
           }
          ],
          "mesh3d": [
           {
            "colorbar": {
             "outlinewidth": 0,
             "ticks": ""
            },
            "type": "mesh3d"
           }
          ],
          "parcoords": [
           {
            "line": {
             "colorbar": {
              "outlinewidth": 0,
              "ticks": ""
             }
            },
            "type": "parcoords"
           }
          ],
          "pie": [
           {
            "automargin": true,
            "type": "pie"
           }
          ],
          "scatter": [
           {
            "fillpattern": {
             "fillmode": "overlay",
             "size": 10,
             "solidity": 0.2
            },
            "type": "scatter"
           }
          ],
          "scatter3d": [
           {
            "line": {
             "colorbar": {
              "outlinewidth": 0,
              "ticks": ""
             }
            },
            "marker": {
             "colorbar": {
              "outlinewidth": 0,
              "ticks": ""
             }
            },
            "type": "scatter3d"
           }
          ],
          "scattercarpet": [
           {
            "marker": {
             "colorbar": {
              "outlinewidth": 0,
              "ticks": ""
             }
            },
            "type": "scattercarpet"
           }
          ],
          "scattergeo": [
           {
            "marker": {
             "colorbar": {
              "outlinewidth": 0,
              "ticks": ""
             }
            },
            "type": "scattergeo"
           }
          ],
          "scattergl": [
           {
            "marker": {
             "colorbar": {
              "outlinewidth": 0,
              "ticks": ""
             }
            },
            "type": "scattergl"
           }
          ],
          "scattermapbox": [
           {
            "marker": {
             "colorbar": {
              "outlinewidth": 0,
              "ticks": ""
             }
            },
            "type": "scattermapbox"
           }
          ],
          "scatterpolar": [
           {
            "marker": {
             "colorbar": {
              "outlinewidth": 0,
              "ticks": ""
             }
            },
            "type": "scatterpolar"
           }
          ],
          "scatterpolargl": [
           {
            "marker": {
             "colorbar": {
              "outlinewidth": 0,
              "ticks": ""
             }
            },
            "type": "scatterpolargl"
           }
          ],
          "scatterternary": [
           {
            "marker": {
             "colorbar": {
              "outlinewidth": 0,
              "ticks": ""
             }
            },
            "type": "scatterternary"
           }
          ],
          "surface": [
           {
            "colorbar": {
             "outlinewidth": 0,
             "ticks": ""
            },
            "colorscale": [
             [
              0,
              "#0d0887"
             ],
             [
              0.1111111111111111,
              "#46039f"
             ],
             [
              0.2222222222222222,
              "#7201a8"
             ],
             [
              0.3333333333333333,
              "#9c179e"
             ],
             [
              0.4444444444444444,
              "#bd3786"
             ],
             [
              0.5555555555555556,
              "#d8576b"
             ],
             [
              0.6666666666666666,
              "#ed7953"
             ],
             [
              0.7777777777777778,
              "#fb9f3a"
             ],
             [
              0.8888888888888888,
              "#fdca26"
             ],
             [
              1,
              "#f0f921"
             ]
            ],
            "type": "surface"
           }
          ],
          "table": [
           {
            "cells": {
             "fill": {
              "color": "#EBF0F8"
             },
             "line": {
              "color": "white"
             }
            },
            "header": {
             "fill": {
              "color": "#C8D4E3"
             },
             "line": {
              "color": "white"
             }
            },
            "type": "table"
           }
          ]
         },
         "layout": {
          "annotationdefaults": {
           "arrowcolor": "#2a3f5f",
           "arrowhead": 0,
           "arrowwidth": 1
          },
          "autotypenumbers": "strict",
          "coloraxis": {
           "colorbar": {
            "outlinewidth": 0,
            "ticks": ""
           }
          },
          "colorscale": {
           "diverging": [
            [
             0,
             "#8e0152"
            ],
            [
             0.1,
             "#c51b7d"
            ],
            [
             0.2,
             "#de77ae"
            ],
            [
             0.3,
             "#f1b6da"
            ],
            [
             0.4,
             "#fde0ef"
            ],
            [
             0.5,
             "#f7f7f7"
            ],
            [
             0.6,
             "#e6f5d0"
            ],
            [
             0.7,
             "#b8e186"
            ],
            [
             0.8,
             "#7fbc41"
            ],
            [
             0.9,
             "#4d9221"
            ],
            [
             1,
             "#276419"
            ]
           ],
           "sequential": [
            [
             0,
             "#0d0887"
            ],
            [
             0.1111111111111111,
             "#46039f"
            ],
            [
             0.2222222222222222,
             "#7201a8"
            ],
            [
             0.3333333333333333,
             "#9c179e"
            ],
            [
             0.4444444444444444,
             "#bd3786"
            ],
            [
             0.5555555555555556,
             "#d8576b"
            ],
            [
             0.6666666666666666,
             "#ed7953"
            ],
            [
             0.7777777777777778,
             "#fb9f3a"
            ],
            [
             0.8888888888888888,
             "#fdca26"
            ],
            [
             1,
             "#f0f921"
            ]
           ],
           "sequentialminus": [
            [
             0,
             "#0d0887"
            ],
            [
             0.1111111111111111,
             "#46039f"
            ],
            [
             0.2222222222222222,
             "#7201a8"
            ],
            [
             0.3333333333333333,
             "#9c179e"
            ],
            [
             0.4444444444444444,
             "#bd3786"
            ],
            [
             0.5555555555555556,
             "#d8576b"
            ],
            [
             0.6666666666666666,
             "#ed7953"
            ],
            [
             0.7777777777777778,
             "#fb9f3a"
            ],
            [
             0.8888888888888888,
             "#fdca26"
            ],
            [
             1,
             "#f0f921"
            ]
           ]
          },
          "colorway": [
           "#636efa",
           "#EF553B",
           "#00cc96",
           "#ab63fa",
           "#FFA15A",
           "#19d3f3",
           "#FF6692",
           "#B6E880",
           "#FF97FF",
           "#FECB52"
          ],
          "font": {
           "color": "#2a3f5f"
          },
          "geo": {
           "bgcolor": "white",
           "lakecolor": "white",
           "landcolor": "#E5ECF6",
           "showlakes": true,
           "showland": true,
           "subunitcolor": "white"
          },
          "hoverlabel": {
           "align": "left"
          },
          "hovermode": "closest",
          "mapbox": {
           "style": "light"
          },
          "paper_bgcolor": "white",
          "plot_bgcolor": "#E5ECF6",
          "polar": {
           "angularaxis": {
            "gridcolor": "white",
            "linecolor": "white",
            "ticks": ""
           },
           "bgcolor": "#E5ECF6",
           "radialaxis": {
            "gridcolor": "white",
            "linecolor": "white",
            "ticks": ""
           }
          },
          "scene": {
           "xaxis": {
            "backgroundcolor": "#E5ECF6",
            "gridcolor": "white",
            "gridwidth": 2,
            "linecolor": "white",
            "showbackground": true,
            "ticks": "",
            "zerolinecolor": "white"
           },
           "yaxis": {
            "backgroundcolor": "#E5ECF6",
            "gridcolor": "white",
            "gridwidth": 2,
            "linecolor": "white",
            "showbackground": true,
            "ticks": "",
            "zerolinecolor": "white"
           },
           "zaxis": {
            "backgroundcolor": "#E5ECF6",
            "gridcolor": "white",
            "gridwidth": 2,
            "linecolor": "white",
            "showbackground": true,
            "ticks": "",
            "zerolinecolor": "white"
           }
          },
          "shapedefaults": {
           "line": {
            "color": "#2a3f5f"
           }
          },
          "ternary": {
           "aaxis": {
            "gridcolor": "white",
            "linecolor": "white",
            "ticks": ""
           },
           "baxis": {
            "gridcolor": "white",
            "linecolor": "white",
            "ticks": ""
           },
           "bgcolor": "#E5ECF6",
           "caxis": {
            "gridcolor": "white",
            "linecolor": "white",
            "ticks": ""
           }
          },
          "title": {
           "x": 0.05
          },
          "xaxis": {
           "automargin": true,
           "gridcolor": "white",
           "linecolor": "white",
           "ticks": "",
           "title": {
            "standoff": 15
           },
           "zerolinecolor": "white",
           "zerolinewidth": 2
          },
          "yaxis": {
           "automargin": true,
           "gridcolor": "white",
           "linecolor": "white",
           "ticks": "",
           "title": {
            "standoff": 15
           },
           "zerolinecolor": "white",
           "zerolinewidth": 2
          }
         }
        },
        "title": {
         "text": "Activation Patching Per Block"
        },
        "xaxis": {
         "anchor": "y",
         "domain": [
          0,
          1
         ],
         "title": {
          "text": "Position"
         }
        },
        "yaxis": {
         "anchor": "x",
         "autorange": "reversed",
         "domain": [
          0,
          1
         ],
         "title": {
          "text": "Layer"
         }
        }
       }
      }
     },
     "metadata": {},
     "output_type": "display_data"
    },
    {
     "data": {
      "application/vnd.plotly.v1+json": {
       "config": {
        "plotlyServerURL": "https://plot.ly"
       },
       "data": [
        {
         "coloraxis": "coloraxis",
         "hovertemplate": "x: %{x}<br>y: %{y}<br>color: %{z}<extra></extra>",
         "name": "0",
         "type": "heatmap",
         "x": [
          "<|endoftext|>_0",
          "H_1",
          "onda_2",
          " NS_3",
          "500_4",
          " is_5",
          " produced_6",
          " by_7",
          "hel_8",
          " Honda_9",
          " NS_10",
          "500_11",
          " is_12",
          " produced_13",
          " by_14"
         ],
         "xaxis": "x",
         "yaxis": "y",
         "z": [
          [
           null,
           0.0003433606179896742,
           1.9829617114996978e-10,
           0.015362594276666641,
           0.7044364213943481,
           0.0007061541546136141,
           0.29696109890937805,
           0.000013491725439962465,
           0.4609050750732422,
           3.437928626226494e-7,
           0.06707048416137695,
           0.1652236431837082,
           0.621801495552063,
           0.373630553483963,
           0.27992382645606995
          ],
          [
           null,
           0.39241862297058105,
           0.015194759704172611,
           0.26026931405067444,
           0.4698389768600464,
           0.04189524054527283,
           0.2410452961921692,
           0.7433962821960449,
           0.44849520921707153,
           0.6537342071533203,
           0.04004703834652901,
           0.005523741245269775,
           0.15350446105003357,
           0.3212907016277313,
           0.1140688881278038
          ],
          [
           null,
           0.7327864170074463,
           0.000615898403339088,
           0.04928802326321602,
           0.311663955450058,
           0.1937040537595749,
           0.028967076912522316,
           0.12222512811422348,
           0.3075720965862274,
           0.050177089869976044,
           0.39669424295425415,
           0.2930745780467987,
           0.14366137981414795,
           0.2876378893852234,
           0.5889293551445007
          ],
          [
           null,
           0.0357939787209034,
           0.000007985619049577508,
           0.43079423904418945,
           0.9462670683860779,
           0.8835875988006592,
           0.02837863191962242,
           0.2506157159805298,
           0.6389937996864319,
           0.17486798763275146,
           0.32366645336151123,
           0.35095155239105225,
           0.43098336458206177,
           0.1677091270685196,
           0.7959368228912354
          ],
          [
           null,
           0.7449766397476196,
           0.00019873518613167107,
           0.017991235479712486,
           0.04611392319202423,
           0.07259206473827362,
           0.10035599023103714,
           0.0482238307595253,
           0.8265894651412964,
           0.3190608322620392,
           0.772135853767395,
           0.7164206504821777,
           0.3689749240875244,
           0.1984393149614334,
           0.9241525530815125
          ],
          [
           null,
           0.3460261821746826,
           0.14043103158473969,
           0.8503682017326355,
           0.8396520614624023,
           0.8651783466339111,
           0.33703526854515076,
           0.9196546077728271,
           0.4529678225517273,
           0.015225392766296864,
           0.1013055294752121,
           0.8591909408569336,
           0.6059906482696533,
           0.13287019729614258,
           0.38687649369239807
          ],
          [
           null,
           0.7394419312477112,
           0.035574257373809814,
           0.743956446647644,
           0.18966791033744812,
           0.06735815107822418,
           0.05084235593676567,
           0.019447484984993935,
           0.8984819650650024,
           0.19578908383846283,
           0.2878473401069641,
           0.1124853864312172,
           0.1644079089164734,
           0.7801395654678345,
           0.46048402786254883
          ],
          [
           null,
           0.054991886019706726,
           0.000545793620403856,
           0.7705312371253967,
           0.004368129186332226,
           0.026519767940044403,
           0.01759948953986168,
           0.02375740557909012,
           0.11859741806983948,
           0.8696601390838623,
           0.17860552668571472,
           0.2526759207248688,
           0.3275175988674164,
           0.04629605636000633,
           0.1489858776330948
          ],
          [
           null,
           0.874633252620697,
           0.07071741670370102,
           0.006253530271351337,
           0.9916983246803284,
           0.0007172591867856681,
           0.043729837983846664,
           0.02376677468419075,
           0.19759133458137512,
           0.7759405374526978,
           0.3308986723423004,
           0.7079409956932068,
           0.1334429830312729,
           0.02604966051876545,
           0.003409980796277523
          ],
          [
           null,
           0.6977619528770447,
           0.9336709976196289,
           0.059847503900527954,
           0.06699098646640778,
           0.1440054476261139,
           0.003492866875603795,
           0.000012660075299208984,
           0.9260314106941223,
           0.06209772825241089,
           0.9385895729064941,
           0.07876463979482651,
           0.9675922989845276,
           0.0005632594111375511,
           0.0005622340249828994
          ],
          [
           null,
           0.12038733065128326,
           0.01632530800998211,
           0.9344272613525391,
           0.018610872328281403,
           0.00017398504132870585,
           0.006774421315640211,
           0.006825575605034828,
           0.2421884685754776,
           0.5752236247062683,
           0.9401582479476929,
           0.17385375499725342,
           0.021766778081655502,
           0.00641902070492506,
           0.00009253106691176072
          ],
          [
           null,
           null,
           null,
           null,
           null,
           null,
           null,
           null,
           null,
           null,
           null,
           null,
           null,
           null,
           0.00022812352108303457
          ]
         ]
        }
       ],
       "layout": {
        "coloraxis": {
         "cmid": 0,
         "colorscale": [
          [
           0,
           "rgb(103,0,31)"
          ],
          [
           0.1,
           "rgb(178,24,43)"
          ],
          [
           0.2,
           "rgb(214,96,77)"
          ],
          [
           0.3,
           "rgb(244,165,130)"
          ],
          [
           0.4,
           "rgb(253,219,199)"
          ],
          [
           0.5,
           "rgb(247,247,247)"
          ],
          [
           0.6,
           "rgb(209,229,240)"
          ],
          [
           0.7,
           "rgb(146,197,222)"
          ],
          [
           0.8,
           "rgb(67,147,195)"
          ],
          [
           0.9,
           "rgb(33,102,172)"
          ],
          [
           1,
           "rgb(5,48,97)"
          ]
         ]
        },
        "template": {
         "data": {
          "bar": [
           {
            "error_x": {
             "color": "#2a3f5f"
            },
            "error_y": {
             "color": "#2a3f5f"
            },
            "marker": {
             "line": {
              "color": "#E5ECF6",
              "width": 0.5
             },
             "pattern": {
              "fillmode": "overlay",
              "size": 10,
              "solidity": 0.2
             }
            },
            "type": "bar"
           }
          ],
          "barpolar": [
           {
            "marker": {
             "line": {
              "color": "#E5ECF6",
              "width": 0.5
             },
             "pattern": {
              "fillmode": "overlay",
              "size": 10,
              "solidity": 0.2
             }
            },
            "type": "barpolar"
           }
          ],
          "carpet": [
           {
            "aaxis": {
             "endlinecolor": "#2a3f5f",
             "gridcolor": "white",
             "linecolor": "white",
             "minorgridcolor": "white",
             "startlinecolor": "#2a3f5f"
            },
            "baxis": {
             "endlinecolor": "#2a3f5f",
             "gridcolor": "white",
             "linecolor": "white",
             "minorgridcolor": "white",
             "startlinecolor": "#2a3f5f"
            },
            "type": "carpet"
           }
          ],
          "choropleth": [
           {
            "colorbar": {
             "outlinewidth": 0,
             "ticks": ""
            },
            "type": "choropleth"
           }
          ],
          "contour": [
           {
            "colorbar": {
             "outlinewidth": 0,
             "ticks": ""
            },
            "colorscale": [
             [
              0,
              "#0d0887"
             ],
             [
              0.1111111111111111,
              "#46039f"
             ],
             [
              0.2222222222222222,
              "#7201a8"
             ],
             [
              0.3333333333333333,
              "#9c179e"
             ],
             [
              0.4444444444444444,
              "#bd3786"
             ],
             [
              0.5555555555555556,
              "#d8576b"
             ],
             [
              0.6666666666666666,
              "#ed7953"
             ],
             [
              0.7777777777777778,
              "#fb9f3a"
             ],
             [
              0.8888888888888888,
              "#fdca26"
             ],
             [
              1,
              "#f0f921"
             ]
            ],
            "type": "contour"
           }
          ],
          "contourcarpet": [
           {
            "colorbar": {
             "outlinewidth": 0,
             "ticks": ""
            },
            "type": "contourcarpet"
           }
          ],
          "heatmap": [
           {
            "colorbar": {
             "outlinewidth": 0,
             "ticks": ""
            },
            "colorscale": [
             [
              0,
              "#0d0887"
             ],
             [
              0.1111111111111111,
              "#46039f"
             ],
             [
              0.2222222222222222,
              "#7201a8"
             ],
             [
              0.3333333333333333,
              "#9c179e"
             ],
             [
              0.4444444444444444,
              "#bd3786"
             ],
             [
              0.5555555555555556,
              "#d8576b"
             ],
             [
              0.6666666666666666,
              "#ed7953"
             ],
             [
              0.7777777777777778,
              "#fb9f3a"
             ],
             [
              0.8888888888888888,
              "#fdca26"
             ],
             [
              1,
              "#f0f921"
             ]
            ],
            "type": "heatmap"
           }
          ],
          "heatmapgl": [
           {
            "colorbar": {
             "outlinewidth": 0,
             "ticks": ""
            },
            "colorscale": [
             [
              0,
              "#0d0887"
             ],
             [
              0.1111111111111111,
              "#46039f"
             ],
             [
              0.2222222222222222,
              "#7201a8"
             ],
             [
              0.3333333333333333,
              "#9c179e"
             ],
             [
              0.4444444444444444,
              "#bd3786"
             ],
             [
              0.5555555555555556,
              "#d8576b"
             ],
             [
              0.6666666666666666,
              "#ed7953"
             ],
             [
              0.7777777777777778,
              "#fb9f3a"
             ],
             [
              0.8888888888888888,
              "#fdca26"
             ],
             [
              1,
              "#f0f921"
             ]
            ],
            "type": "heatmapgl"
           }
          ],
          "histogram": [
           {
            "marker": {
             "pattern": {
              "fillmode": "overlay",
              "size": 10,
              "solidity": 0.2
             }
            },
            "type": "histogram"
           }
          ],
          "histogram2d": [
           {
            "colorbar": {
             "outlinewidth": 0,
             "ticks": ""
            },
            "colorscale": [
             [
              0,
              "#0d0887"
             ],
             [
              0.1111111111111111,
              "#46039f"
             ],
             [
              0.2222222222222222,
              "#7201a8"
             ],
             [
              0.3333333333333333,
              "#9c179e"
             ],
             [
              0.4444444444444444,
              "#bd3786"
             ],
             [
              0.5555555555555556,
              "#d8576b"
             ],
             [
              0.6666666666666666,
              "#ed7953"
             ],
             [
              0.7777777777777778,
              "#fb9f3a"
             ],
             [
              0.8888888888888888,
              "#fdca26"
             ],
             [
              1,
              "#f0f921"
             ]
            ],
            "type": "histogram2d"
           }
          ],
          "histogram2dcontour": [
           {
            "colorbar": {
             "outlinewidth": 0,
             "ticks": ""
            },
            "colorscale": [
             [
              0,
              "#0d0887"
             ],
             [
              0.1111111111111111,
              "#46039f"
             ],
             [
              0.2222222222222222,
              "#7201a8"
             ],
             [
              0.3333333333333333,
              "#9c179e"
             ],
             [
              0.4444444444444444,
              "#bd3786"
             ],
             [
              0.5555555555555556,
              "#d8576b"
             ],
             [
              0.6666666666666666,
              "#ed7953"
             ],
             [
              0.7777777777777778,
              "#fb9f3a"
             ],
             [
              0.8888888888888888,
              "#fdca26"
             ],
             [
              1,
              "#f0f921"
             ]
            ],
            "type": "histogram2dcontour"
           }
          ],
          "mesh3d": [
           {
            "colorbar": {
             "outlinewidth": 0,
             "ticks": ""
            },
            "type": "mesh3d"
           }
          ],
          "parcoords": [
           {
            "line": {
             "colorbar": {
              "outlinewidth": 0,
              "ticks": ""
             }
            },
            "type": "parcoords"
           }
          ],
          "pie": [
           {
            "automargin": true,
            "type": "pie"
           }
          ],
          "scatter": [
           {
            "fillpattern": {
             "fillmode": "overlay",
             "size": 10,
             "solidity": 0.2
            },
            "type": "scatter"
           }
          ],
          "scatter3d": [
           {
            "line": {
             "colorbar": {
              "outlinewidth": 0,
              "ticks": ""
             }
            },
            "marker": {
             "colorbar": {
              "outlinewidth": 0,
              "ticks": ""
             }
            },
            "type": "scatter3d"
           }
          ],
          "scattercarpet": [
           {
            "marker": {
             "colorbar": {
              "outlinewidth": 0,
              "ticks": ""
             }
            },
            "type": "scattercarpet"
           }
          ],
          "scattergeo": [
           {
            "marker": {
             "colorbar": {
              "outlinewidth": 0,
              "ticks": ""
             }
            },
            "type": "scattergeo"
           }
          ],
          "scattergl": [
           {
            "marker": {
             "colorbar": {
              "outlinewidth": 0,
              "ticks": ""
             }
            },
            "type": "scattergl"
           }
          ],
          "scattermapbox": [
           {
            "marker": {
             "colorbar": {
              "outlinewidth": 0,
              "ticks": ""
             }
            },
            "type": "scattermapbox"
           }
          ],
          "scatterpolar": [
           {
            "marker": {
             "colorbar": {
              "outlinewidth": 0,
              "ticks": ""
             }
            },
            "type": "scatterpolar"
           }
          ],
          "scatterpolargl": [
           {
            "marker": {
             "colorbar": {
              "outlinewidth": 0,
              "ticks": ""
             }
            },
            "type": "scatterpolargl"
           }
          ],
          "scatterternary": [
           {
            "marker": {
             "colorbar": {
              "outlinewidth": 0,
              "ticks": ""
             }
            },
            "type": "scatterternary"
           }
          ],
          "surface": [
           {
            "colorbar": {
             "outlinewidth": 0,
             "ticks": ""
            },
            "colorscale": [
             [
              0,
              "#0d0887"
             ],
             [
              0.1111111111111111,
              "#46039f"
             ],
             [
              0.2222222222222222,
              "#7201a8"
             ],
             [
              0.3333333333333333,
              "#9c179e"
             ],
             [
              0.4444444444444444,
              "#bd3786"
             ],
             [
              0.5555555555555556,
              "#d8576b"
             ],
             [
              0.6666666666666666,
              "#ed7953"
             ],
             [
              0.7777777777777778,
              "#fb9f3a"
             ],
             [
              0.8888888888888888,
              "#fdca26"
             ],
             [
              1,
              "#f0f921"
             ]
            ],
            "type": "surface"
           }
          ],
          "table": [
           {
            "cells": {
             "fill": {
              "color": "#EBF0F8"
             },
             "line": {
              "color": "white"
             }
            },
            "header": {
             "fill": {
              "color": "#C8D4E3"
             },
             "line": {
              "color": "white"
             }
            },
            "type": "table"
           }
          ]
         },
         "layout": {
          "annotationdefaults": {
           "arrowcolor": "#2a3f5f",
           "arrowhead": 0,
           "arrowwidth": 1
          },
          "autotypenumbers": "strict",
          "coloraxis": {
           "colorbar": {
            "outlinewidth": 0,
            "ticks": ""
           }
          },
          "colorscale": {
           "diverging": [
            [
             0,
             "#8e0152"
            ],
            [
             0.1,
             "#c51b7d"
            ],
            [
             0.2,
             "#de77ae"
            ],
            [
             0.3,
             "#f1b6da"
            ],
            [
             0.4,
             "#fde0ef"
            ],
            [
             0.5,
             "#f7f7f7"
            ],
            [
             0.6,
             "#e6f5d0"
            ],
            [
             0.7,
             "#b8e186"
            ],
            [
             0.8,
             "#7fbc41"
            ],
            [
             0.9,
             "#4d9221"
            ],
            [
             1,
             "#276419"
            ]
           ],
           "sequential": [
            [
             0,
             "#0d0887"
            ],
            [
             0.1111111111111111,
             "#46039f"
            ],
            [
             0.2222222222222222,
             "#7201a8"
            ],
            [
             0.3333333333333333,
             "#9c179e"
            ],
            [
             0.4444444444444444,
             "#bd3786"
            ],
            [
             0.5555555555555556,
             "#d8576b"
            ],
            [
             0.6666666666666666,
             "#ed7953"
            ],
            [
             0.7777777777777778,
             "#fb9f3a"
            ],
            [
             0.8888888888888888,
             "#fdca26"
            ],
            [
             1,
             "#f0f921"
            ]
           ],
           "sequentialminus": [
            [
             0,
             "#0d0887"
            ],
            [
             0.1111111111111111,
             "#46039f"
            ],
            [
             0.2222222222222222,
             "#7201a8"
            ],
            [
             0.3333333333333333,
             "#9c179e"
            ],
            [
             0.4444444444444444,
             "#bd3786"
            ],
            [
             0.5555555555555556,
             "#d8576b"
            ],
            [
             0.6666666666666666,
             "#ed7953"
            ],
            [
             0.7777777777777778,
             "#fb9f3a"
            ],
            [
             0.8888888888888888,
             "#fdca26"
            ],
            [
             1,
             "#f0f921"
            ]
           ]
          },
          "colorway": [
           "#636efa",
           "#EF553B",
           "#00cc96",
           "#ab63fa",
           "#FFA15A",
           "#19d3f3",
           "#FF6692",
           "#B6E880",
           "#FF97FF",
           "#FECB52"
          ],
          "font": {
           "color": "#2a3f5f"
          },
          "geo": {
           "bgcolor": "white",
           "lakecolor": "white",
           "landcolor": "#E5ECF6",
           "showlakes": true,
           "showland": true,
           "subunitcolor": "white"
          },
          "hoverlabel": {
           "align": "left"
          },
          "hovermode": "closest",
          "mapbox": {
           "style": "light"
          },
          "paper_bgcolor": "white",
          "plot_bgcolor": "#E5ECF6",
          "polar": {
           "angularaxis": {
            "gridcolor": "white",
            "linecolor": "white",
            "ticks": ""
           },
           "bgcolor": "#E5ECF6",
           "radialaxis": {
            "gridcolor": "white",
            "linecolor": "white",
            "ticks": ""
           }
          },
          "scene": {
           "xaxis": {
            "backgroundcolor": "#E5ECF6",
            "gridcolor": "white",
            "gridwidth": 2,
            "linecolor": "white",
            "showbackground": true,
            "ticks": "",
            "zerolinecolor": "white"
           },
           "yaxis": {
            "backgroundcolor": "#E5ECF6",
            "gridcolor": "white",
            "gridwidth": 2,
            "linecolor": "white",
            "showbackground": true,
            "ticks": "",
            "zerolinecolor": "white"
           },
           "zaxis": {
            "backgroundcolor": "#E5ECF6",
            "gridcolor": "white",
            "gridwidth": 2,
            "linecolor": "white",
            "showbackground": true,
            "ticks": "",
            "zerolinecolor": "white"
           }
          },
          "shapedefaults": {
           "line": {
            "color": "#2a3f5f"
           }
          },
          "ternary": {
           "aaxis": {
            "gridcolor": "white",
            "linecolor": "white",
            "ticks": ""
           },
           "baxis": {
            "gridcolor": "white",
            "linecolor": "white",
            "ticks": ""
           },
           "bgcolor": "#E5ECF6",
           "caxis": {
            "gridcolor": "white",
            "linecolor": "white",
            "ticks": ""
           }
          },
          "title": {
           "x": 0.05
          },
          "xaxis": {
           "automargin": true,
           "gridcolor": "white",
           "linecolor": "white",
           "ticks": "",
           "title": {
            "standoff": 15
           },
           "zerolinecolor": "white",
           "zerolinewidth": 2
          },
          "yaxis": {
           "automargin": true,
           "gridcolor": "white",
           "linecolor": "white",
           "ticks": "",
           "title": {
            "standoff": 15
           },
           "zerolinecolor": "white",
           "zerolinewidth": 2
          }
         }
        },
        "title": {
         "text": "Activation Patching Per Block"
        },
        "xaxis": {
         "anchor": "y",
         "domain": [
          0,
          1
         ],
         "title": {
          "text": "Position"
         }
        },
        "yaxis": {
         "anchor": "x",
         "autorange": "reversed",
         "domain": [
          0,
          1
         ],
         "title": {
          "text": "Layer"
         }
        }
       }
      }
     },
     "metadata": {},
     "output_type": "display_data"
    }
   ],
   "source": [
    "imshow(\n",
    "    data[\"pos\"][\"mlp_out\"][0][\"mean\"],\n",
    "   \n",
    "    title=\"Activation Patching Per Block\",\n",
    "    xaxis=\"Position\",\n",
    "    yaxis=\"Layer\",\n",
    "    # zmax=1,\n",
    "    # zmin=-1,\n",
    "    x=[f\"{tok}_{i}\" for i, tok in enumerate(pos_example)],\n",
    ")\n",
    "imshow(\n",
    "    data[\"pos\"][\"mlp_out\"][0][\"std\"],\n",
    "   \n",
    "    title=\"Activation Patching Per Block\",\n",
    "    xaxis=\"Position\",\n",
    "    yaxis=\"Layer\",\n",
    "    # zmax=1,\n",
    "    # zmin=-1,\n",
    "    x=[f\"{tok}_{i}\" for i, tok in enumerate(pos_example)],\n",
    ")\n",
    "imshow(\n",
    "    data[\"pos\"][\"mlp_out\"][0][\"p-value\"],\n",
    "   \n",
    "    title=\"Activation Patching Per Block\",\n",
    "    xaxis=\"Position\",\n",
    "    yaxis=\"Layer\",\n",
    "    # zmax=1,\n",
    "    # zmin=-1,\n",
    "    x=[f\"{tok}_{i}\" for i, tok in enumerate(pos_example)],\n",
    ")"
   ]
  },
  {
   "cell_type": "code",
   "execution_count": 299,
   "metadata": {},
   "outputs": [
    {
     "data": {
      "application/vnd.plotly.v1+json": {
       "config": {
        "plotlyServerURL": "https://plot.ly"
       },
       "data": [
        {
         "coloraxis": "coloraxis",
         "hovertemplate": "x: %{x}<br>y: %{y}<br>color: %{z}<extra></extra>",
         "name": "0",
         "type": "heatmap",
         "xaxis": "x",
         "yaxis": "y",
         "z": [
          [
           0.024498675018548965,
           0.6606712937355042,
           0.21477705240249634,
           0.35023757815361023,
           0.16060127317905426,
           0.2332625389099121,
           -0.47136205434799194,
           0.42311346530914307,
           0.3461204767227173,
           0.38478171825408936,
           -0.3562956154346466,
           -0.3654116094112396
          ],
          [
           0.12459942698478699,
           -0.06961484253406525,
           -0.03199588879942894,
           -0.17043477296829224,
           -0.14881987869739532,
           -0.0028572797309607267,
           0.017441147938370705,
           0.08932876586914062,
           -0.13825450837612152,
           -0.04881603270769119,
           -0.009332639165222645,
           -0.3530457317829132
          ],
          [
           -0.04061872884631157,
           0.04634861275553703,
           0.17725592851638794,
           0.05821334570646286,
           -0.015103927813470364,
           0.07095539569854736,
           -0.0002081745769828558,
           -0.22826950252056122,
           0.0300900898873806,
           0.06784515827894211,
           0.10745629668235779,
           -0.15190614759922028
          ],
          [
           0.12804241478443146,
           0.007701082155108452,
           0.10888364911079407,
           0.000385985360480845,
           -0.022829856723546982,
           0.059679508209228516,
           -0.003556752111762762,
           0.17146548628807068,
           0.04463539645075798,
           0.011207075789570808,
           -0.1250801831483841,
           0.030982961878180504
          ],
          [
           0.019194602966308594,
           0.060965050011873245,
           0.014726870693266392,
           0.02403540350496769,
           0.03030102141201496,
           0.027300884947180748,
           0.07011669129133224,
           -0.20807334780693054,
           -0.05253871902823448,
           0.028959015384316444,
           0.008619580417871475,
           0.3836621046066284
          ],
          [
           0.3347955644130707,
           0.8687636256217957,
           0.1253959834575653,
           0.11752115190029144,
           0.07587633281946182,
           0.29887327551841736,
           0.014932012185454369,
           0.037486083805561066,
           0.01409159880131483,
           -0.1656271517276764,
           0.010039710439741611,
           -0.044832371175289154
          ],
          [
           0.11722571402788162,
           0.07552984356880188,
           0.08447457104921341,
           0.025953147560358047,
           0.040155600756406784,
           0.007759544067084789,
           -0.2508399784564972,
           0.05208216607570648,
           0.04222786799073219,
           0.5215034484863281,
           0.26103660464286804,
           0.05635758861899376
          ],
          [
           0.11841005086898804,
           -0.14817926287651062,
           0.8650478720664978,
           -0.10369111597537994,
           0.00001262307159777265,
           0.026708757504820824,
           0.05994735285639763,
           0.22106875479221344,
           0.11939727514982224,
           0.05790991336107254,
           0.9247578382492065,
           0.3273458778858185
          ],
          [
           -0.2584812343120575,
           0.21446740627288818,
           0.08400733768939972,
           -0.0010552977910265326,
           0.005646588280797005,
           0.22456271946430206,
           0.3623509109020233,
           0.0017857003258541226,
           0.12755829095840454,
           -0.82076096534729,
           -0.4251951575279236,
           0.09956802427768707
          ],
          [
           0.1599203646183014,
           0.09014890342950821,
           0.15235650539398193,
           0.019867999479174614,
           -0.07156463712453842,
           -0.0636807307600975,
           0.4693116545677185,
           -0.020629441365599632,
           0.1912630796432495,
           0.30453139543533325,
           0.009993827901780605,
           0.13630101084709167
          ],
          [
           0.705452024936676,
           0.39879366755485535,
           0.14832472801208496,
           0.10854915529489517,
           0.12201079726219177,
           0.027812108397483826,
           0.33496323227882385,
           -0.6409326195716858,
           0.022310895845294,
           0.034876927733421326,
           0.40415358543395996,
           0.2052019238471985
          ],
          [
           0.029881853610277176,
           0.09449699521064758,
           0.17455673217773438,
           0.08389463275671005,
           0.03435072675347328,
           0.029813308268785477,
           0.20224851369857788,
           0.06712508946657181,
           0.08198301494121552,
           0.3108974099159241,
           -0.35755741596221924,
           0.11034907400608063
          ]
         ]
        }
       ],
       "layout": {
        "coloraxis": {
         "cmid": 0,
         "colorscale": [
          [
           0,
           "rgb(103,0,31)"
          ],
          [
           0.1,
           "rgb(178,24,43)"
          ],
          [
           0.2,
           "rgb(214,96,77)"
          ],
          [
           0.3,
           "rgb(244,165,130)"
          ],
          [
           0.4,
           "rgb(253,219,199)"
          ],
          [
           0.5,
           "rgb(247,247,247)"
          ],
          [
           0.6,
           "rgb(209,229,240)"
          ],
          [
           0.7,
           "rgb(146,197,222)"
          ],
          [
           0.8,
           "rgb(67,147,195)"
          ],
          [
           0.9,
           "rgb(33,102,172)"
          ],
          [
           1,
           "rgb(5,48,97)"
          ]
         ]
        },
        "template": {
         "data": {
          "bar": [
           {
            "error_x": {
             "color": "#2a3f5f"
            },
            "error_y": {
             "color": "#2a3f5f"
            },
            "marker": {
             "line": {
              "color": "#E5ECF6",
              "width": 0.5
             },
             "pattern": {
              "fillmode": "overlay",
              "size": 10,
              "solidity": 0.2
             }
            },
            "type": "bar"
           }
          ],
          "barpolar": [
           {
            "marker": {
             "line": {
              "color": "#E5ECF6",
              "width": 0.5
             },
             "pattern": {
              "fillmode": "overlay",
              "size": 10,
              "solidity": 0.2
             }
            },
            "type": "barpolar"
           }
          ],
          "carpet": [
           {
            "aaxis": {
             "endlinecolor": "#2a3f5f",
             "gridcolor": "white",
             "linecolor": "white",
             "minorgridcolor": "white",
             "startlinecolor": "#2a3f5f"
            },
            "baxis": {
             "endlinecolor": "#2a3f5f",
             "gridcolor": "white",
             "linecolor": "white",
             "minorgridcolor": "white",
             "startlinecolor": "#2a3f5f"
            },
            "type": "carpet"
           }
          ],
          "choropleth": [
           {
            "colorbar": {
             "outlinewidth": 0,
             "ticks": ""
            },
            "type": "choropleth"
           }
          ],
          "contour": [
           {
            "colorbar": {
             "outlinewidth": 0,
             "ticks": ""
            },
            "colorscale": [
             [
              0,
              "#0d0887"
             ],
             [
              0.1111111111111111,
              "#46039f"
             ],
             [
              0.2222222222222222,
              "#7201a8"
             ],
             [
              0.3333333333333333,
              "#9c179e"
             ],
             [
              0.4444444444444444,
              "#bd3786"
             ],
             [
              0.5555555555555556,
              "#d8576b"
             ],
             [
              0.6666666666666666,
              "#ed7953"
             ],
             [
              0.7777777777777778,
              "#fb9f3a"
             ],
             [
              0.8888888888888888,
              "#fdca26"
             ],
             [
              1,
              "#f0f921"
             ]
            ],
            "type": "contour"
           }
          ],
          "contourcarpet": [
           {
            "colorbar": {
             "outlinewidth": 0,
             "ticks": ""
            },
            "type": "contourcarpet"
           }
          ],
          "heatmap": [
           {
            "colorbar": {
             "outlinewidth": 0,
             "ticks": ""
            },
            "colorscale": [
             [
              0,
              "#0d0887"
             ],
             [
              0.1111111111111111,
              "#46039f"
             ],
             [
              0.2222222222222222,
              "#7201a8"
             ],
             [
              0.3333333333333333,
              "#9c179e"
             ],
             [
              0.4444444444444444,
              "#bd3786"
             ],
             [
              0.5555555555555556,
              "#d8576b"
             ],
             [
              0.6666666666666666,
              "#ed7953"
             ],
             [
              0.7777777777777778,
              "#fb9f3a"
             ],
             [
              0.8888888888888888,
              "#fdca26"
             ],
             [
              1,
              "#f0f921"
             ]
            ],
            "type": "heatmap"
           }
          ],
          "heatmapgl": [
           {
            "colorbar": {
             "outlinewidth": 0,
             "ticks": ""
            },
            "colorscale": [
             [
              0,
              "#0d0887"
             ],
             [
              0.1111111111111111,
              "#46039f"
             ],
             [
              0.2222222222222222,
              "#7201a8"
             ],
             [
              0.3333333333333333,
              "#9c179e"
             ],
             [
              0.4444444444444444,
              "#bd3786"
             ],
             [
              0.5555555555555556,
              "#d8576b"
             ],
             [
              0.6666666666666666,
              "#ed7953"
             ],
             [
              0.7777777777777778,
              "#fb9f3a"
             ],
             [
              0.8888888888888888,
              "#fdca26"
             ],
             [
              1,
              "#f0f921"
             ]
            ],
            "type": "heatmapgl"
           }
          ],
          "histogram": [
           {
            "marker": {
             "pattern": {
              "fillmode": "overlay",
              "size": 10,
              "solidity": 0.2
             }
            },
            "type": "histogram"
           }
          ],
          "histogram2d": [
           {
            "colorbar": {
             "outlinewidth": 0,
             "ticks": ""
            },
            "colorscale": [
             [
              0,
              "#0d0887"
             ],
             [
              0.1111111111111111,
              "#46039f"
             ],
             [
              0.2222222222222222,
              "#7201a8"
             ],
             [
              0.3333333333333333,
              "#9c179e"
             ],
             [
              0.4444444444444444,
              "#bd3786"
             ],
             [
              0.5555555555555556,
              "#d8576b"
             ],
             [
              0.6666666666666666,
              "#ed7953"
             ],
             [
              0.7777777777777778,
              "#fb9f3a"
             ],
             [
              0.8888888888888888,
              "#fdca26"
             ],
             [
              1,
              "#f0f921"
             ]
            ],
            "type": "histogram2d"
           }
          ],
          "histogram2dcontour": [
           {
            "colorbar": {
             "outlinewidth": 0,
             "ticks": ""
            },
            "colorscale": [
             [
              0,
              "#0d0887"
             ],
             [
              0.1111111111111111,
              "#46039f"
             ],
             [
              0.2222222222222222,
              "#7201a8"
             ],
             [
              0.3333333333333333,
              "#9c179e"
             ],
             [
              0.4444444444444444,
              "#bd3786"
             ],
             [
              0.5555555555555556,
              "#d8576b"
             ],
             [
              0.6666666666666666,
              "#ed7953"
             ],
             [
              0.7777777777777778,
              "#fb9f3a"
             ],
             [
              0.8888888888888888,
              "#fdca26"
             ],
             [
              1,
              "#f0f921"
             ]
            ],
            "type": "histogram2dcontour"
           }
          ],
          "mesh3d": [
           {
            "colorbar": {
             "outlinewidth": 0,
             "ticks": ""
            },
            "type": "mesh3d"
           }
          ],
          "parcoords": [
           {
            "line": {
             "colorbar": {
              "outlinewidth": 0,
              "ticks": ""
             }
            },
            "type": "parcoords"
           }
          ],
          "pie": [
           {
            "automargin": true,
            "type": "pie"
           }
          ],
          "scatter": [
           {
            "fillpattern": {
             "fillmode": "overlay",
             "size": 10,
             "solidity": 0.2
            },
            "type": "scatter"
           }
          ],
          "scatter3d": [
           {
            "line": {
             "colorbar": {
              "outlinewidth": 0,
              "ticks": ""
             }
            },
            "marker": {
             "colorbar": {
              "outlinewidth": 0,
              "ticks": ""
             }
            },
            "type": "scatter3d"
           }
          ],
          "scattercarpet": [
           {
            "marker": {
             "colorbar": {
              "outlinewidth": 0,
              "ticks": ""
             }
            },
            "type": "scattercarpet"
           }
          ],
          "scattergeo": [
           {
            "marker": {
             "colorbar": {
              "outlinewidth": 0,
              "ticks": ""
             }
            },
            "type": "scattergeo"
           }
          ],
          "scattergl": [
           {
            "marker": {
             "colorbar": {
              "outlinewidth": 0,
              "ticks": ""
             }
            },
            "type": "scattergl"
           }
          ],
          "scattermapbox": [
           {
            "marker": {
             "colorbar": {
              "outlinewidth": 0,
              "ticks": ""
             }
            },
            "type": "scattermapbox"
           }
          ],
          "scatterpolar": [
           {
            "marker": {
             "colorbar": {
              "outlinewidth": 0,
              "ticks": ""
             }
            },
            "type": "scatterpolar"
           }
          ],
          "scatterpolargl": [
           {
            "marker": {
             "colorbar": {
              "outlinewidth": 0,
              "ticks": ""
             }
            },
            "type": "scatterpolargl"
           }
          ],
          "scatterternary": [
           {
            "marker": {
             "colorbar": {
              "outlinewidth": 0,
              "ticks": ""
             }
            },
            "type": "scatterternary"
           }
          ],
          "surface": [
           {
            "colorbar": {
             "outlinewidth": 0,
             "ticks": ""
            },
            "colorscale": [
             [
              0,
              "#0d0887"
             ],
             [
              0.1111111111111111,
              "#46039f"
             ],
             [
              0.2222222222222222,
              "#7201a8"
             ],
             [
              0.3333333333333333,
              "#9c179e"
             ],
             [
              0.4444444444444444,
              "#bd3786"
             ],
             [
              0.5555555555555556,
              "#d8576b"
             ],
             [
              0.6666666666666666,
              "#ed7953"
             ],
             [
              0.7777777777777778,
              "#fb9f3a"
             ],
             [
              0.8888888888888888,
              "#fdca26"
             ],
             [
              1,
              "#f0f921"
             ]
            ],
            "type": "surface"
           }
          ],
          "table": [
           {
            "cells": {
             "fill": {
              "color": "#EBF0F8"
             },
             "line": {
              "color": "white"
             }
            },
            "header": {
             "fill": {
              "color": "#C8D4E3"
             },
             "line": {
              "color": "white"
             }
            },
            "type": "table"
           }
          ]
         },
         "layout": {
          "annotationdefaults": {
           "arrowcolor": "#2a3f5f",
           "arrowhead": 0,
           "arrowwidth": 1
          },
          "autotypenumbers": "strict",
          "coloraxis": {
           "colorbar": {
            "outlinewidth": 0,
            "ticks": ""
           }
          },
          "colorscale": {
           "diverging": [
            [
             0,
             "#8e0152"
            ],
            [
             0.1,
             "#c51b7d"
            ],
            [
             0.2,
             "#de77ae"
            ],
            [
             0.3,
             "#f1b6da"
            ],
            [
             0.4,
             "#fde0ef"
            ],
            [
             0.5,
             "#f7f7f7"
            ],
            [
             0.6,
             "#e6f5d0"
            ],
            [
             0.7,
             "#b8e186"
            ],
            [
             0.8,
             "#7fbc41"
            ],
            [
             0.9,
             "#4d9221"
            ],
            [
             1,
             "#276419"
            ]
           ],
           "sequential": [
            [
             0,
             "#0d0887"
            ],
            [
             0.1111111111111111,
             "#46039f"
            ],
            [
             0.2222222222222222,
             "#7201a8"
            ],
            [
             0.3333333333333333,
             "#9c179e"
            ],
            [
             0.4444444444444444,
             "#bd3786"
            ],
            [
             0.5555555555555556,
             "#d8576b"
            ],
            [
             0.6666666666666666,
             "#ed7953"
            ],
            [
             0.7777777777777778,
             "#fb9f3a"
            ],
            [
             0.8888888888888888,
             "#fdca26"
            ],
            [
             1,
             "#f0f921"
            ]
           ],
           "sequentialminus": [
            [
             0,
             "#0d0887"
            ],
            [
             0.1111111111111111,
             "#46039f"
            ],
            [
             0.2222222222222222,
             "#7201a8"
            ],
            [
             0.3333333333333333,
             "#9c179e"
            ],
            [
             0.4444444444444444,
             "#bd3786"
            ],
            [
             0.5555555555555556,
             "#d8576b"
            ],
            [
             0.6666666666666666,
             "#ed7953"
            ],
            [
             0.7777777777777778,
             "#fb9f3a"
            ],
            [
             0.8888888888888888,
             "#fdca26"
            ],
            [
             1,
             "#f0f921"
            ]
           ]
          },
          "colorway": [
           "#636efa",
           "#EF553B",
           "#00cc96",
           "#ab63fa",
           "#FFA15A",
           "#19d3f3",
           "#FF6692",
           "#B6E880",
           "#FF97FF",
           "#FECB52"
          ],
          "font": {
           "color": "#2a3f5f"
          },
          "geo": {
           "bgcolor": "white",
           "lakecolor": "white",
           "landcolor": "#E5ECF6",
           "showlakes": true,
           "showland": true,
           "subunitcolor": "white"
          },
          "hoverlabel": {
           "align": "left"
          },
          "hovermode": "closest",
          "mapbox": {
           "style": "light"
          },
          "paper_bgcolor": "white",
          "plot_bgcolor": "#E5ECF6",
          "polar": {
           "angularaxis": {
            "gridcolor": "white",
            "linecolor": "white",
            "ticks": ""
           },
           "bgcolor": "#E5ECF6",
           "radialaxis": {
            "gridcolor": "white",
            "linecolor": "white",
            "ticks": ""
           }
          },
          "scene": {
           "xaxis": {
            "backgroundcolor": "#E5ECF6",
            "gridcolor": "white",
            "gridwidth": 2,
            "linecolor": "white",
            "showbackground": true,
            "ticks": "",
            "zerolinecolor": "white"
           },
           "yaxis": {
            "backgroundcolor": "#E5ECF6",
            "gridcolor": "white",
            "gridwidth": 2,
            "linecolor": "white",
            "showbackground": true,
            "ticks": "",
            "zerolinecolor": "white"
           },
           "zaxis": {
            "backgroundcolor": "#E5ECF6",
            "gridcolor": "white",
            "gridwidth": 2,
            "linecolor": "white",
            "showbackground": true,
            "ticks": "",
            "zerolinecolor": "white"
           }
          },
          "shapedefaults": {
           "line": {
            "color": "#2a3f5f"
           }
          },
          "ternary": {
           "aaxis": {
            "gridcolor": "white",
            "linecolor": "white",
            "ticks": ""
           },
           "baxis": {
            "gridcolor": "white",
            "linecolor": "white",
            "ticks": ""
           },
           "bgcolor": "#E5ECF6",
           "caxis": {
            "gridcolor": "white",
            "linecolor": "white",
            "ticks": ""
           }
          },
          "title": {
           "x": 0.05
          },
          "xaxis": {
           "automargin": true,
           "gridcolor": "white",
           "linecolor": "white",
           "ticks": "",
           "title": {
            "standoff": 15
           },
           "zerolinecolor": "white",
           "zerolinewidth": 2
          },
          "yaxis": {
           "automargin": true,
           "gridcolor": "white",
           "linecolor": "white",
           "ticks": "",
           "title": {
            "standoff": 15
           },
           "zerolinecolor": "white",
           "zerolinewidth": 2
          }
         }
        },
        "title": {
         "text": "Attention heads"
        },
        "xaxis": {
         "anchor": "y",
         "domain": [
          0,
          1
         ],
         "title": {
          "text": "Head"
         }
        },
        "yaxis": {
         "anchor": "x",
         "autorange": "reversed",
         "domain": [
          0,
          1
         ],
         "title": {
          "text": "Layer"
         }
        }
       }
      }
     },
     "metadata": {},
     "output_type": "display_data"
    },
    {
     "data": {
      "application/vnd.plotly.v1+json": {
       "config": {
        "plotlyServerURL": "https://plot.ly"
       },
       "data": [
        {
         "coloraxis": "coloraxis",
         "hovertemplate": "x: %{x}<br>y: %{y}<br>color: %{z}<extra></extra>",
         "name": "0",
         "type": "heatmap",
         "xaxis": "x",
         "yaxis": "y",
         "z": [
          [
           0.18758654594421387,
           0.6524515151977539,
           0.26132631301879883,
           0.44317448139190674,
           0.3607194423675537,
           0.3452119827270508,
           0.7764396667480469,
           0.47048521041870117,
           0.4996461868286133,
           0.7941951751708984,
           0.5312485694885254,
           0.5987606048583984
          ],
          [
           0.19169902801513672,
           0.19250202178955078,
           0.10327845811843872,
           0.29682159423828125,
           0.13977766036987305,
           0.11173820495605469,
           0.06510496139526367,
           0.141387939453125,
           0.19039058685302734,
           0.157501220703125,
           0.14729881286621094,
           0.49468994140625
          ],
          [
           0.09463644027709961,
           0.12171745300292969,
           0.12220430374145508,
           0.08037471771240234,
           0.0931696891784668,
           0.09916651248931885,
           0.09365987777709961,
           0.16939878463745117,
           0.07970285415649414,
           0.15266942977905273,
           0.1596207618713379,
           0.17628943920135498
          ],
          [
           0.18708086013793945,
           0.06687259674072266,
           0.13244390487670898,
           0.1334996223449707,
           0.06649971008300781,
           0.07008934020996094,
           0.13889122009277344,
           0.15503501892089844,
           0.10700416564941406,
           0.055103302001953125,
           0.1457810401916504,
           0.07544708251953125
          ],
          [
           0.08411598205566406,
           0.053925514221191406,
           0.08189058303833008,
           0.10956573486328125,
           0.10297012329101562,
           0.07097411155700684,
           0.20720195770263672,
           0.25685977935791016,
           0.10112237930297852,
           0.0680398941040039,
           0.06856918334960938,
           0.2562685012817383
          ],
          [
           0.2236309051513672,
           0.5203115940093994,
           0.11364984512329102,
           0.19550514221191406,
           0.09300994873046875,
           0.2646641731262207,
           0.08993005752563477,
           0.057679176330566406,
           0.20373988151550293,
           0.29198408126831055,
           0.14562225341796875,
           0.16371536254882812
          ],
          [
           0.12697124481201172,
           0.048938751220703125,
           0.1931929588317871,
           0.12078571319580078,
           0.10607719421386719,
           0.2157888412475586,
           0.26220083236694336,
           0.11374568939208984,
           0.10323905944824219,
           0.2480449676513672,
           0.21991586685180664,
           0.07992935180664062
          ],
          [
           0.08883142471313477,
           0.2402210235595703,
           0.4227108955383301,
           0.17090225219726562,
           0.049605369567871094,
           0.06551074981689453,
           0.37389707565307617,
           0.18852519989013672,
           0.10260772705078125,
           0.10302352905273438,
           0.3350381851196289,
           0.12482643127441406
          ],
          [
           0.21722197532653809,
           0.1431884765625,
           0.11694812774658203,
           0.06564521789550781,
           0.034264564514160156,
           0.2989654541015625,
           0.19574785232543945,
           0.07662367820739746,
           0.06326580047607422,
           0.5722241401672363,
           0.24317312240600586,
           0.08545207977294922
          ],
          [
           0.09521961212158203,
           0.04558825492858887,
           0.10628747940063477,
           0.10060310363769531,
           0.06053876876831055,
           0.0869302749633789,
           0.188629150390625,
           0.06585168838500977,
           0.14432144165039062,
           0.1250152587890625,
           0.03502511978149414,
           0.06844329833984375
          ],
          [
           0.44258975982666016,
           0.17867255210876465,
           0.09313821792602539,
           0.058524131774902344,
           0.07329940795898438,
           0.03218984603881836,
           0.15113258361816406,
           0.36498069763183594,
           0.04396629333496094,
           0.03939008712768555,
           0.22149133682250977,
           0.12596511840820312
          ],
          [
           0.0810384750366211,
           0.06781196594238281,
           0.15446901321411133,
           0.11920642852783203,
           0.03997206687927246,
           0.047762393951416016,
           0.1380993127822876,
           0.03969097137451172,
           0.05348777770996094,
           0.21448969841003418,
           0.2738943099975586,
           0.07367753982543945
          ]
         ]
        }
       ],
       "layout": {
        "coloraxis": {
         "cmid": 0,
         "colorscale": [
          [
           0,
           "rgb(103,0,31)"
          ],
          [
           0.1,
           "rgb(178,24,43)"
          ],
          [
           0.2,
           "rgb(214,96,77)"
          ],
          [
           0.3,
           "rgb(244,165,130)"
          ],
          [
           0.4,
           "rgb(253,219,199)"
          ],
          [
           0.5,
           "rgb(247,247,247)"
          ],
          [
           0.6,
           "rgb(209,229,240)"
          ],
          [
           0.7,
           "rgb(146,197,222)"
          ],
          [
           0.8,
           "rgb(67,147,195)"
          ],
          [
           0.9,
           "rgb(33,102,172)"
          ],
          [
           1,
           "rgb(5,48,97)"
          ]
         ]
        },
        "template": {
         "data": {
          "bar": [
           {
            "error_x": {
             "color": "#2a3f5f"
            },
            "error_y": {
             "color": "#2a3f5f"
            },
            "marker": {
             "line": {
              "color": "#E5ECF6",
              "width": 0.5
             },
             "pattern": {
              "fillmode": "overlay",
              "size": 10,
              "solidity": 0.2
             }
            },
            "type": "bar"
           }
          ],
          "barpolar": [
           {
            "marker": {
             "line": {
              "color": "#E5ECF6",
              "width": 0.5
             },
             "pattern": {
              "fillmode": "overlay",
              "size": 10,
              "solidity": 0.2
             }
            },
            "type": "barpolar"
           }
          ],
          "carpet": [
           {
            "aaxis": {
             "endlinecolor": "#2a3f5f",
             "gridcolor": "white",
             "linecolor": "white",
             "minorgridcolor": "white",
             "startlinecolor": "#2a3f5f"
            },
            "baxis": {
             "endlinecolor": "#2a3f5f",
             "gridcolor": "white",
             "linecolor": "white",
             "minorgridcolor": "white",
             "startlinecolor": "#2a3f5f"
            },
            "type": "carpet"
           }
          ],
          "choropleth": [
           {
            "colorbar": {
             "outlinewidth": 0,
             "ticks": ""
            },
            "type": "choropleth"
           }
          ],
          "contour": [
           {
            "colorbar": {
             "outlinewidth": 0,
             "ticks": ""
            },
            "colorscale": [
             [
              0,
              "#0d0887"
             ],
             [
              0.1111111111111111,
              "#46039f"
             ],
             [
              0.2222222222222222,
              "#7201a8"
             ],
             [
              0.3333333333333333,
              "#9c179e"
             ],
             [
              0.4444444444444444,
              "#bd3786"
             ],
             [
              0.5555555555555556,
              "#d8576b"
             ],
             [
              0.6666666666666666,
              "#ed7953"
             ],
             [
              0.7777777777777778,
              "#fb9f3a"
             ],
             [
              0.8888888888888888,
              "#fdca26"
             ],
             [
              1,
              "#f0f921"
             ]
            ],
            "type": "contour"
           }
          ],
          "contourcarpet": [
           {
            "colorbar": {
             "outlinewidth": 0,
             "ticks": ""
            },
            "type": "contourcarpet"
           }
          ],
          "heatmap": [
           {
            "colorbar": {
             "outlinewidth": 0,
             "ticks": ""
            },
            "colorscale": [
             [
              0,
              "#0d0887"
             ],
             [
              0.1111111111111111,
              "#46039f"
             ],
             [
              0.2222222222222222,
              "#7201a8"
             ],
             [
              0.3333333333333333,
              "#9c179e"
             ],
             [
              0.4444444444444444,
              "#bd3786"
             ],
             [
              0.5555555555555556,
              "#d8576b"
             ],
             [
              0.6666666666666666,
              "#ed7953"
             ],
             [
              0.7777777777777778,
              "#fb9f3a"
             ],
             [
              0.8888888888888888,
              "#fdca26"
             ],
             [
              1,
              "#f0f921"
             ]
            ],
            "type": "heatmap"
           }
          ],
          "heatmapgl": [
           {
            "colorbar": {
             "outlinewidth": 0,
             "ticks": ""
            },
            "colorscale": [
             [
              0,
              "#0d0887"
             ],
             [
              0.1111111111111111,
              "#46039f"
             ],
             [
              0.2222222222222222,
              "#7201a8"
             ],
             [
              0.3333333333333333,
              "#9c179e"
             ],
             [
              0.4444444444444444,
              "#bd3786"
             ],
             [
              0.5555555555555556,
              "#d8576b"
             ],
             [
              0.6666666666666666,
              "#ed7953"
             ],
             [
              0.7777777777777778,
              "#fb9f3a"
             ],
             [
              0.8888888888888888,
              "#fdca26"
             ],
             [
              1,
              "#f0f921"
             ]
            ],
            "type": "heatmapgl"
           }
          ],
          "histogram": [
           {
            "marker": {
             "pattern": {
              "fillmode": "overlay",
              "size": 10,
              "solidity": 0.2
             }
            },
            "type": "histogram"
           }
          ],
          "histogram2d": [
           {
            "colorbar": {
             "outlinewidth": 0,
             "ticks": ""
            },
            "colorscale": [
             [
              0,
              "#0d0887"
             ],
             [
              0.1111111111111111,
              "#46039f"
             ],
             [
              0.2222222222222222,
              "#7201a8"
             ],
             [
              0.3333333333333333,
              "#9c179e"
             ],
             [
              0.4444444444444444,
              "#bd3786"
             ],
             [
              0.5555555555555556,
              "#d8576b"
             ],
             [
              0.6666666666666666,
              "#ed7953"
             ],
             [
              0.7777777777777778,
              "#fb9f3a"
             ],
             [
              0.8888888888888888,
              "#fdca26"
             ],
             [
              1,
              "#f0f921"
             ]
            ],
            "type": "histogram2d"
           }
          ],
          "histogram2dcontour": [
           {
            "colorbar": {
             "outlinewidth": 0,
             "ticks": ""
            },
            "colorscale": [
             [
              0,
              "#0d0887"
             ],
             [
              0.1111111111111111,
              "#46039f"
             ],
             [
              0.2222222222222222,
              "#7201a8"
             ],
             [
              0.3333333333333333,
              "#9c179e"
             ],
             [
              0.4444444444444444,
              "#bd3786"
             ],
             [
              0.5555555555555556,
              "#d8576b"
             ],
             [
              0.6666666666666666,
              "#ed7953"
             ],
             [
              0.7777777777777778,
              "#fb9f3a"
             ],
             [
              0.8888888888888888,
              "#fdca26"
             ],
             [
              1,
              "#f0f921"
             ]
            ],
            "type": "histogram2dcontour"
           }
          ],
          "mesh3d": [
           {
            "colorbar": {
             "outlinewidth": 0,
             "ticks": ""
            },
            "type": "mesh3d"
           }
          ],
          "parcoords": [
           {
            "line": {
             "colorbar": {
              "outlinewidth": 0,
              "ticks": ""
             }
            },
            "type": "parcoords"
           }
          ],
          "pie": [
           {
            "automargin": true,
            "type": "pie"
           }
          ],
          "scatter": [
           {
            "fillpattern": {
             "fillmode": "overlay",
             "size": 10,
             "solidity": 0.2
            },
            "type": "scatter"
           }
          ],
          "scatter3d": [
           {
            "line": {
             "colorbar": {
              "outlinewidth": 0,
              "ticks": ""
             }
            },
            "marker": {
             "colorbar": {
              "outlinewidth": 0,
              "ticks": ""
             }
            },
            "type": "scatter3d"
           }
          ],
          "scattercarpet": [
           {
            "marker": {
             "colorbar": {
              "outlinewidth": 0,
              "ticks": ""
             }
            },
            "type": "scattercarpet"
           }
          ],
          "scattergeo": [
           {
            "marker": {
             "colorbar": {
              "outlinewidth": 0,
              "ticks": ""
             }
            },
            "type": "scattergeo"
           }
          ],
          "scattergl": [
           {
            "marker": {
             "colorbar": {
              "outlinewidth": 0,
              "ticks": ""
             }
            },
            "type": "scattergl"
           }
          ],
          "scattermapbox": [
           {
            "marker": {
             "colorbar": {
              "outlinewidth": 0,
              "ticks": ""
             }
            },
            "type": "scattermapbox"
           }
          ],
          "scatterpolar": [
           {
            "marker": {
             "colorbar": {
              "outlinewidth": 0,
              "ticks": ""
             }
            },
            "type": "scatterpolar"
           }
          ],
          "scatterpolargl": [
           {
            "marker": {
             "colorbar": {
              "outlinewidth": 0,
              "ticks": ""
             }
            },
            "type": "scatterpolargl"
           }
          ],
          "scatterternary": [
           {
            "marker": {
             "colorbar": {
              "outlinewidth": 0,
              "ticks": ""
             }
            },
            "type": "scatterternary"
           }
          ],
          "surface": [
           {
            "colorbar": {
             "outlinewidth": 0,
             "ticks": ""
            },
            "colorscale": [
             [
              0,
              "#0d0887"
             ],
             [
              0.1111111111111111,
              "#46039f"
             ],
             [
              0.2222222222222222,
              "#7201a8"
             ],
             [
              0.3333333333333333,
              "#9c179e"
             ],
             [
              0.4444444444444444,
              "#bd3786"
             ],
             [
              0.5555555555555556,
              "#d8576b"
             ],
             [
              0.6666666666666666,
              "#ed7953"
             ],
             [
              0.7777777777777778,
              "#fb9f3a"
             ],
             [
              0.8888888888888888,
              "#fdca26"
             ],
             [
              1,
              "#f0f921"
             ]
            ],
            "type": "surface"
           }
          ],
          "table": [
           {
            "cells": {
             "fill": {
              "color": "#EBF0F8"
             },
             "line": {
              "color": "white"
             }
            },
            "header": {
             "fill": {
              "color": "#C8D4E3"
             },
             "line": {
              "color": "white"
             }
            },
            "type": "table"
           }
          ]
         },
         "layout": {
          "annotationdefaults": {
           "arrowcolor": "#2a3f5f",
           "arrowhead": 0,
           "arrowwidth": 1
          },
          "autotypenumbers": "strict",
          "coloraxis": {
           "colorbar": {
            "outlinewidth": 0,
            "ticks": ""
           }
          },
          "colorscale": {
           "diverging": [
            [
             0,
             "#8e0152"
            ],
            [
             0.1,
             "#c51b7d"
            ],
            [
             0.2,
             "#de77ae"
            ],
            [
             0.3,
             "#f1b6da"
            ],
            [
             0.4,
             "#fde0ef"
            ],
            [
             0.5,
             "#f7f7f7"
            ],
            [
             0.6,
             "#e6f5d0"
            ],
            [
             0.7,
             "#b8e186"
            ],
            [
             0.8,
             "#7fbc41"
            ],
            [
             0.9,
             "#4d9221"
            ],
            [
             1,
             "#276419"
            ]
           ],
           "sequential": [
            [
             0,
             "#0d0887"
            ],
            [
             0.1111111111111111,
             "#46039f"
            ],
            [
             0.2222222222222222,
             "#7201a8"
            ],
            [
             0.3333333333333333,
             "#9c179e"
            ],
            [
             0.4444444444444444,
             "#bd3786"
            ],
            [
             0.5555555555555556,
             "#d8576b"
            ],
            [
             0.6666666666666666,
             "#ed7953"
            ],
            [
             0.7777777777777778,
             "#fb9f3a"
            ],
            [
             0.8888888888888888,
             "#fdca26"
            ],
            [
             1,
             "#f0f921"
            ]
           ],
           "sequentialminus": [
            [
             0,
             "#0d0887"
            ],
            [
             0.1111111111111111,
             "#46039f"
            ],
            [
             0.2222222222222222,
             "#7201a8"
            ],
            [
             0.3333333333333333,
             "#9c179e"
            ],
            [
             0.4444444444444444,
             "#bd3786"
            ],
            [
             0.5555555555555556,
             "#d8576b"
            ],
            [
             0.6666666666666666,
             "#ed7953"
            ],
            [
             0.7777777777777778,
             "#fb9f3a"
            ],
            [
             0.8888888888888888,
             "#fdca26"
            ],
            [
             1,
             "#f0f921"
            ]
           ]
          },
          "colorway": [
           "#636efa",
           "#EF553B",
           "#00cc96",
           "#ab63fa",
           "#FFA15A",
           "#19d3f3",
           "#FF6692",
           "#B6E880",
           "#FF97FF",
           "#FECB52"
          ],
          "font": {
           "color": "#2a3f5f"
          },
          "geo": {
           "bgcolor": "white",
           "lakecolor": "white",
           "landcolor": "#E5ECF6",
           "showlakes": true,
           "showland": true,
           "subunitcolor": "white"
          },
          "hoverlabel": {
           "align": "left"
          },
          "hovermode": "closest",
          "mapbox": {
           "style": "light"
          },
          "paper_bgcolor": "white",
          "plot_bgcolor": "#E5ECF6",
          "polar": {
           "angularaxis": {
            "gridcolor": "white",
            "linecolor": "white",
            "ticks": ""
           },
           "bgcolor": "#E5ECF6",
           "radialaxis": {
            "gridcolor": "white",
            "linecolor": "white",
            "ticks": ""
           }
          },
          "scene": {
           "xaxis": {
            "backgroundcolor": "#E5ECF6",
            "gridcolor": "white",
            "gridwidth": 2,
            "linecolor": "white",
            "showbackground": true,
            "ticks": "",
            "zerolinecolor": "white"
           },
           "yaxis": {
            "backgroundcolor": "#E5ECF6",
            "gridcolor": "white",
            "gridwidth": 2,
            "linecolor": "white",
            "showbackground": true,
            "ticks": "",
            "zerolinecolor": "white"
           },
           "zaxis": {
            "backgroundcolor": "#E5ECF6",
            "gridcolor": "white",
            "gridwidth": 2,
            "linecolor": "white",
            "showbackground": true,
            "ticks": "",
            "zerolinecolor": "white"
           }
          },
          "shapedefaults": {
           "line": {
            "color": "#2a3f5f"
           }
          },
          "ternary": {
           "aaxis": {
            "gridcolor": "white",
            "linecolor": "white",
            "ticks": ""
           },
           "baxis": {
            "gridcolor": "white",
            "linecolor": "white",
            "ticks": ""
           },
           "bgcolor": "#E5ECF6",
           "caxis": {
            "gridcolor": "white",
            "linecolor": "white",
            "ticks": ""
           }
          },
          "title": {
           "x": 0.05
          },
          "xaxis": {
           "automargin": true,
           "gridcolor": "white",
           "linecolor": "white",
           "ticks": "",
           "title": {
            "standoff": 15
           },
           "zerolinecolor": "white",
           "zerolinewidth": 2
          },
          "yaxis": {
           "automargin": true,
           "gridcolor": "white",
           "linecolor": "white",
           "ticks": "",
           "title": {
            "standoff": 15
           },
           "zerolinecolor": "white",
           "zerolinewidth": 2
          }
         }
        },
        "title": {
         "text": "Attention heads (MAD)"
        },
        "xaxis": {
         "anchor": "y",
         "domain": [
          0,
          1
         ],
         "title": {
          "text": "Head"
         }
        },
        "yaxis": {
         "anchor": "x",
         "autorange": "reversed",
         "domain": [
          0,
          1
         ],
         "title": {
          "text": "Layer"
         }
        }
       }
      }
     },
     "metadata": {},
     "output_type": "display_data"
    },
    {
     "data": {
      "application/vnd.plotly.v1+json": {
       "config": {
        "plotlyServerURL": "https://plot.ly"
       },
       "data": [
        {
         "coloraxis": "coloraxis",
         "hovertemplate": "x: %{x}<br>y: %{y}<br>color: %{z}<extra></extra>",
         "name": "0",
         "type": "heatmap",
         "x": [
          "<|endoftext|>_0",
          "Windows_1",
          " Emb_2",
          "edded_3",
          " Compact_4",
          " is_5",
          " created_6",
          " by_7",
          " maternal_8",
          " Windows_9",
          " Emb_10",
          "edded_11",
          " Compact_12",
          " is_13",
          " created_14",
          " by_15"
         ],
         "xaxis": "x",
         "yaxis": "y",
         "z": [
          [
           0,
           0.4576241075992584,
           0.17221732437610626,
           0.26544660329818726,
           0,
           0,
           0,
           0,
           5.107463359832764,
           0.28614649176597595,
           -0.08716458827257156,
           0.14562688767910004,
           0,
           0,
           0,
           0
          ],
          [
           0,
           0.23220965266227722,
           0.33037078380584717,
           0.1740523725748062,
           -0.0017898499500006437,
           -0.031409814953804016,
           -0.040797241032123566,
           -0.09498739242553711,
           4.959846019744873,
           0.39342406392097473,
           -0.06468763202428818,
           0.1413281261920929,
           0.02073497883975506,
           0.0013935267925262451,
           -0.01027871947735548,
           0.09712158143520355
          ],
          [
           0,
           0.17047862708568573,
           0.27066242694854736,
           0.1248091459274292,
           0.026858912780880928,
           0.015836302191019058,
           -0.01888446696102619,
           -0.057163532823324203,
           4.7698445320129395,
           0.4818325936794281,
           -0.05481255054473877,
           0.13116079568862915,
           0.03514903783798218,
           -0.019216081127524376,
           -0.006874446757137775,
           0.11641022562980652
          ],
          [
           0,
           0.18883094191551208,
           0.2868538200855255,
           0.11521615833044052,
           0.019304681569337845,
           0.016854438930749893,
           0.027356013655662537,
           -0.1594218760728836,
           4.615640640258789,
           0.6426853537559509,
           -0.0005829405854456127,
           0.14941592514514923,
           0.015934159979224205,
           -0.0263679139316082,
           -0.045828331261873245,
           0.10931462794542313
          ],
          [
           0,
           0.12926040589809418,
           0.2256232649087906,
           0.11235762387514114,
           0.03662523254752159,
           0.037293560802936554,
           0.04192771762609482,
           -0.09413889050483704,
           4.501358509063721,
           0.8293817639350891,
           0.06608577817678452,
           0.16333924233913422,
           -0.0032596252858638763,
           -0.002712399233132601,
           -0.055981073528528214,
           0.08904073387384415
          ],
          [
           0,
           0.05613324046134949,
           0.17541362345218658,
           0.08402501791715622,
           0.07419929653406143,
           0.02835889346897602,
           0.03604797646403313,
           -0.0009807526366785169,
           4.330207824707031,
           0.8406524658203125,
           0.08192196488380432,
           0.168040469288826,
           0.015576967969536781,
           0.02021903730928898,
           -0.03251216188073158,
           0.1517804116010666
          ],
          [
           0,
           0.0550595186650753,
           0.1266317367553711,
           0.08559764921665192,
           0.02152816206216812,
           0.025410784408450127,
           0.04056167975068092,
           0.014276164583861828,
           4.069432735443115,
           0.6882040500640869,
           0.10128792375326157,
           0.14598266780376434,
           0.017889438197016716,
           0.036474380642175674,
           0.019370583817362785,
           1.3232983350753784
          ],
          [
           0,
           0.052237365394830704,
           0.1060165986418724,
           0.0860205888748169,
           0.024272801354527473,
           0.03551199659705162,
           0.03980575129389763,
           0.03705412521958351,
           3.501385450363159,
           0.5862925052642822,
           0.0940953716635704,
           0.10928332805633545,
           0.01801510713994503,
           0.02061597816646099,
           0.06022094562649727,
           1.9303643703460693
          ],
          [
           0,
           0.04704440012574196,
           0.10001421719789505,
           0.08925855159759521,
           0.043253980576992035,
           0.038531601428985596,
           0.027757884934544563,
           0.049541082233190536,
           2.6408298015594482,
           0.45266643166542053,
           0.06567501276731491,
           0.06990301609039307,
           0.010302446782588959,
           -0.03310011327266693,
           0.021390169858932495,
           3.2108311653137207
          ],
          [
           0,
           0.03844938799738884,
           0.08161421865224838,
           0.08832761645317078,
           0.046685848385095596,
           0.046906810253858566,
           0.026153787970542908,
           0.051753632724285126,
           2.028139352798462,
           0.33680278062820435,
           0.053812749683856964,
           0.06370735168457031,
           0.028699105605483055,
           0.01930491253733635,
           0.04526242986321449,
           2.925208568572998
          ],
          [
           0,
           0.025791563093662262,
           0.058046843856573105,
           0.06315858662128448,
           0.041954267770051956,
           0.041655272245407104,
           0.02783147059381008,
           0.05508333444595337,
           1.5882067680358887,
           0.2578950524330139,
           0.0499214343726635,
           0.05596693977713585,
           0.02654501423239708,
           0.014887864701449871,
           0.00992664135992527,
           3.9857418537139893
          ],
          [
           0,
           0.012686047703027725,
           0.011862176470458508,
           0.024585146456956863,
           0.02410832606256008,
           0.01966722495853901,
           0.017800020053982735,
           0.03791332617402077,
           0.7837696075439453,
           0.08496251702308655,
           0.016247496008872986,
           0.029088519513607025,
           0.02309023030102253,
           0.01464217621833086,
           0.008867230266332626,
           5.239831924438477
          ]
         ]
        },
        {
         "coloraxis": "coloraxis",
         "hovertemplate": "x: %{x}<br>y: %{y}<br>color: %{z}<extra></extra>",
         "name": "1",
         "type": "heatmap",
         "x": [
          "<|endoftext|>_0",
          "Windows_1",
          " Emb_2",
          "edded_3",
          " Compact_4",
          " is_5",
          " created_6",
          " by_7",
          " maternal_8",
          " Windows_9",
          " Emb_10",
          "edded_11",
          " Compact_12",
          " is_13",
          " created_14",
          " by_15"
         ],
         "xaxis": "x2",
         "yaxis": "y2",
         "z": [
          [
           0,
           0.06157578155398369,
           0.17823922634124756,
           0.08915853500366211,
           -0.0017898499500006437,
           -0.031409814953804016,
           -0.040797241032123566,
           -0.09498739242553711,
           1.546042799949646,
           0.11727358400821686,
           0.0015807222807779908,
           0.10706125944852829,
           0.02073497883975506,
           0.0013935267925262451,
           -0.01027871947735548,
           0.09712158143520355
          ],
          [
           0,
           -0.005964578129351139,
           -0.021872414276003838,
           -0.052492301911115646,
           -0.006931398995220661,
           0.0038518391083925962,
           0.0008489096071571112,
           0.07848774641752243,
           -0.49782493710517883,
           -0.08521228283643723,
           -0.0516749769449234,
           -0.044107917696237564,
           0.01673630066215992,
           -0.018356703221797943,
           -0.011024434119462967,
           -0.0036376703064888716
          ],
          [
           0,
           -0.024109870195388794,
           -0.022184157744050026,
           -0.03195962309837341,
           -0.014092660509049892,
           -0.002120252698659897,
           0.021544983610510826,
           -0.12120568752288818,
           0.10560499876737595,
           0.13148190081119537,
           0.03566213324666023,
           -0.0002593314566183835,
           0.011914755217730999,
           -0.005822254344820976,
           0.0035549479071050882,
           0.011469617486000061
          ],
          [
           0,
           -0.0003741395485121757,
           0.004250783938914537,
           0.0044937049970030785,
           0.002580316038802266,
           0.006977337412536144,
           0.014067822135984898,
           -0.053396597504615784,
           0.2315768003463745,
           0.23761962354183197,
           0.05963560566306114,
           0.0011932288762181997,
           0.016156550496816635,
           0.006612333003431559,
           0.004700712859630585,
           -0.012862934730947018
          ],
          [
           0,
           0.002181901829317212,
           -0.0015890109352767467,
           -0.0025560439098626375,
           0.016240891069173813,
           -0.0035311568062752485,
           0.000977729563601315,
           0.0023318456951528788,
           -0.014858782291412354,
           0.09812052547931671,
           0.02104523405432701,
           0.011896760202944279,
           0.022493017837405205,
           0.026245493441820145,
           0.027517259120941162,
           0.07114127278327942
          ],
          [
           0,
           -0.003955792170017958,
           -0.0002036511868936941,
           0.0007372951367869973,
           -0.0026980708353221416,
           -0.00014341353380586952,
           0.00522589311003685,
           -0.007002839352935553,
           0.030008668079972267,
           0.0817960649728775,
           0.0570516437292099,
           0.041217222809791565,
           0.009919208474457264,
           0.046842172741889954,
           0.06816442310810089,
           1.3063547611236572
          ],
          [
           0,
           0.0008400761871598661,
           -0.0015593880088999867,
           -0.004053333308547735,
           -0.0009784364374354482,
           0.0010972844902426004,
           0.005498296115547419,
           0.003601434174925089,
           0.006444276310503483,
           0.05214894562959671,
           0.030085109174251556,
           0.03345484659075737,
           0.02703312411904335,
           0.018027978017926216,
           0.07552401721477509,
           0.824259340763092
          ],
          [
           0,
           0.000030754803447052836,
           0.0016061007045209408,
           -0.00011218666622880846,
           0.0019447975791990757,
           0.000442907796241343,
           0.0010731195798143744,
           0.002516119508072734,
           -0.0035755299031734467,
           0.03736797347664833,
           0.004233981482684612,
           0.02502448484301567,
           0.009815986268222332,
           -0.012148797512054443,
           0.03594454377889633,
           2.325085401535034
          ],
          [
           0,
           0.00022321820142678916,
           0.0010960077634081244,
           0.000586631300393492,
           0.0021403490100055933,
           0.0038192151114344597,
           0.002904553897678852,
           0.006154364440590143,
           0.025190843269228935,
           0.022998306900262833,
           0.005606829188764095,
           0.013754814863204956,
           0.008694943971931934,
           0.0046819415874779224,
           0.014300397597253323,
           -0.4800366759300232
          ],
          [
           0,
           0.0005130278877913952,
           0.0010461484780535102,
           0.001559457741677761,
           0.0013650422915816307,
           0.0012552606640383601,
           0.0018504743929952383,
           0.004211686085909605,
           0.016339918598532677,
           0.026026301085948944,
           0.0058998772874474525,
           0.017830099910497665,
           0.007869107648730278,
           0.005552563350647688,
           0.008758882991969585,
           1.3455041646957397
          ],
          [
           0,
           -0.00013238072278909385,
           -0.0001714110403554514,
           -0.000632773619145155,
           -0.0001591408217791468,
           0.0006375139928422868,
           0.0010094183962792158,
           0.0005005145212635398,
           0.02603793516755104,
           0.009698735550045967,
           0.007785257417708635,
           0.021818673238158226,
           0.009889406152069569,
           0.007321017328649759,
           0.012267529964447021,
           1.8318216800689697
          ],
          [
           0,
           0,
           0,
           0,
           0,
           0,
           0,
           0,
           0,
           0,
           0,
           0,
           0,
           0,
           0,
           0.8818193078041077
          ]
         ]
        },
        {
         "coloraxis": "coloraxis",
         "hovertemplate": "x: %{x}<br>y: %{y}<br>color: %{z}<extra></extra>",
         "name": "2",
         "type": "heatmap",
         "x": [
          "<|endoftext|>_0",
          "Windows_1",
          " Emb_2",
          "edded_3",
          " Compact_4",
          " is_5",
          " created_6",
          " by_7",
          " maternal_8",
          " Windows_9",
          " Emb_10",
          "edded_11",
          " Compact_12",
          " is_13",
          " created_14",
          " by_15"
         ],
         "xaxis": "x3",
         "yaxis": "y3",
         "z": [
          [
           0,
           0.3315950632095337,
           0.3413579761981964,
           0.08846914023160934,
           -0.06218824163079262,
           -0.10090553760528564,
           -0.1346505582332611,
           -0.0741715058684349,
           4.651558876037598,
           0.2985574007034302,
           -0.05122876912355423,
           0.1283986121416092,
           -0.024898456409573555,
           0.027588557451963425,
           -0.029865687713027,
           -0.08265673369169235
          ],
          [
           0,
           0.06916457414627075,
           0.04036068171262741,
           0.028375763446092606,
           0.0008122890722006559,
           0.0008006924181245267,
           -0.026820195838809013,
           0.06413052976131439,
           -0.3502506911754608,
           0.04988182336091995,
           0.1350356489419937,
           0.11048774421215057,
           0.0257406085729599,
           0.01022595725953579,
           0.029088905081152916,
           0.004921451676636934
          ],
          [
           0,
           -0.02342095784842968,
           -0.12003650516271591,
           -0.05400041490793228,
           -0.0016134578036144376,
           0.009519712068140507,
           -0.001787905697710812,
           0.03188153728842735,
           0.16682331264019012,
           0.07048331201076508,
           0.09397608786821365,
           0.05874671787023544,
           0.03354112058877945,
           0.010811083018779755,
           0.0386640839278698,
           0.12536320090293884
          ],
          [
           0,
           0.016341563314199448,
           0.04290130361914635,
           0.018286632373929024,
           -0.016155561432242393,
           0.010168173350393772,
           0.003183058463037014,
           0.009744697250425816,
           0.44701796770095825,
           0.04243212565779686,
           0.005633886903524399,
           -0.028640899807214737,
           0.01293307263404131,
           0.002271822653710842,
           0.009574527852237225,
           0.04007813334465027
          ],
          [
           0,
           0.0013612591428682208,
           0.0492415614426136,
           0.015160090290009975,
           0.034662093967199326,
           0.01336059533059597,
           0.019278712570667267,
           0.008384470827877522,
           0.26182571053504944,
           0.015691982582211494,
           0.017846327275037766,
           0.08055468648672104,
           0.017028726637363434,
           0.026562949642539024,
           0.009865939617156982,
           0.027720460668206215
          ],
          [
           0,
           0.006561579182744026,
           -0.001542988931760192,
           0.007249156013131142,
           0.003724220907315612,
           0.009366069920361042,
           0.01077138539403677,
           0.003418254666030407,
           0.31173595786094666,
           -0.004198351874947548,
           0.010967893525958061,
           0.03183646500110626,
           0.007072151638567448,
           0.021287627518177032,
           0.012250998988747597,
           0.047120511531829834
          ],
          [
           0,
           0.00434300908818841,
           -0.005189070478081703,
           -0.01134651992470026,
           0.002658630022779107,
           -0.005139208864420652,
           0.002215536078438163,
           -0.019205225631594658,
           0.21568988263607025,
           -0.0030558013822883368,
           -0.03523324802517891,
           -0.009356549009680748,
           0.019397033378481865,
           -0.006612882483750582,
           -0.016687581315636635,
           -0.12511548399925232
          ],
          [
           0,
           0.0032726656645536423,
           0.001389424200169742,
           0.0020604573655873537,
           0.0016292118234559894,
           -0.0005161893204785883,
           0.0013349478831514716,
           0.0005645984201692045,
           0.2019573301076889,
           0.01098946388810873,
           0.013874211348593235,
           0.002013757126405835,
           0.0072571528144180775,
           -0.0002929162874352187,
           -0.004373522941023111,
           0.037944428622722626
          ],
          [
           0,
           0.001759034930728376,
           -0.004159096162766218,
           -0.007123259361833334,
           0.000386131985578686,
           -0.004558535758405924,
           -0.0010824167402461171,
           0.0011783509980887175,
           0.1185280904173851,
           -0.01602974534034729,
           0.005516108125448227,
           -0.00417956942692399,
           0.0029606043826788664,
           0.004908866714686155,
           0.02699057012796402,
           -0.13945265114307404
          ],
          [
           0,
           -0.0007311093504540622,
           -0.0032703892793506384,
           -0.0046965884976089,
           -0.0013653319329023361,
           0.002721276832744479,
           0.0004226267337799072,
           0.0026806138921529055,
           -0.008173936046659946,
           -0.002254888880997896,
           0.0023182653822004795,
           0.0026445554103702307,
           0.0013332307571545243,
           -0.0013093417510390282,
           0.0032215851824730635,
           0.08203116059303284
          ],
          [
           0,
           0.00020359396876301616,
           -0.0025154638569802046,
           0.0034587907139211893,
           -0.0011621654266491532,
           -0.0015666758408769965,
           0.00014630139048676938,
           0.0005548059707507491,
           0.003247270593419671,
           -0.008847804740071297,
           -0.0014111667405813932,
           0.0034458355512470007,
           -0.0005487513262778521,
           -0.0013838040176779032,
           -0.0017827426781877875,
           0.41192197799682617
          ],
          [
           0,
           0,
           0,
           0,
           0,
           0,
           0,
           0,
           0,
           0,
           0,
           0,
           0,
           0,
           0,
           0.16199104487895966
          ]
         ]
        }
       ],
       "layout": {
        "annotations": [
         {
          "font": {},
          "showarrow": false,
          "text": "Residual Stream",
          "x": 0.15999999999999998,
          "xanchor": "center",
          "xref": "paper",
          "y": 1,
          "yanchor": "bottom",
          "yref": "paper"
         },
         {
          "font": {},
          "showarrow": false,
          "text": "Attn Output",
          "x": 0.49999999999999994,
          "xanchor": "center",
          "xref": "paper",
          "y": 1,
          "yanchor": "bottom",
          "yref": "paper"
         },
         {
          "font": {},
          "showarrow": false,
          "text": "MLP Output",
          "x": 0.8399999999999999,
          "xanchor": "center",
          "xref": "paper",
          "y": 1,
          "yanchor": "bottom",
          "yref": "paper"
         }
        ],
        "coloraxis": {
         "cmid": 0,
         "colorscale": [
          [
           0,
           "rgb(103,0,31)"
          ],
          [
           0.1,
           "rgb(178,24,43)"
          ],
          [
           0.2,
           "rgb(214,96,77)"
          ],
          [
           0.3,
           "rgb(244,165,130)"
          ],
          [
           0.4,
           "rgb(253,219,199)"
          ],
          [
           0.5,
           "rgb(247,247,247)"
          ],
          [
           0.6,
           "rgb(209,229,240)"
          ],
          [
           0.7,
           "rgb(146,197,222)"
          ],
          [
           0.8,
           "rgb(67,147,195)"
          ],
          [
           0.9,
           "rgb(33,102,172)"
          ],
          [
           1,
           "rgb(5,48,97)"
          ]
         ]
        },
        "template": {
         "data": {
          "bar": [
           {
            "error_x": {
             "color": "#2a3f5f"
            },
            "error_y": {
             "color": "#2a3f5f"
            },
            "marker": {
             "line": {
              "color": "#E5ECF6",
              "width": 0.5
             },
             "pattern": {
              "fillmode": "overlay",
              "size": 10,
              "solidity": 0.2
             }
            },
            "type": "bar"
           }
          ],
          "barpolar": [
           {
            "marker": {
             "line": {
              "color": "#E5ECF6",
              "width": 0.5
             },
             "pattern": {
              "fillmode": "overlay",
              "size": 10,
              "solidity": 0.2
             }
            },
            "type": "barpolar"
           }
          ],
          "carpet": [
           {
            "aaxis": {
             "endlinecolor": "#2a3f5f",
             "gridcolor": "white",
             "linecolor": "white",
             "minorgridcolor": "white",
             "startlinecolor": "#2a3f5f"
            },
            "baxis": {
             "endlinecolor": "#2a3f5f",
             "gridcolor": "white",
             "linecolor": "white",
             "minorgridcolor": "white",
             "startlinecolor": "#2a3f5f"
            },
            "type": "carpet"
           }
          ],
          "choropleth": [
           {
            "colorbar": {
             "outlinewidth": 0,
             "ticks": ""
            },
            "type": "choropleth"
           }
          ],
          "contour": [
           {
            "colorbar": {
             "outlinewidth": 0,
             "ticks": ""
            },
            "colorscale": [
             [
              0,
              "#0d0887"
             ],
             [
              0.1111111111111111,
              "#46039f"
             ],
             [
              0.2222222222222222,
              "#7201a8"
             ],
             [
              0.3333333333333333,
              "#9c179e"
             ],
             [
              0.4444444444444444,
              "#bd3786"
             ],
             [
              0.5555555555555556,
              "#d8576b"
             ],
             [
              0.6666666666666666,
              "#ed7953"
             ],
             [
              0.7777777777777778,
              "#fb9f3a"
             ],
             [
              0.8888888888888888,
              "#fdca26"
             ],
             [
              1,
              "#f0f921"
             ]
            ],
            "type": "contour"
           }
          ],
          "contourcarpet": [
           {
            "colorbar": {
             "outlinewidth": 0,
             "ticks": ""
            },
            "type": "contourcarpet"
           }
          ],
          "heatmap": [
           {
            "colorbar": {
             "outlinewidth": 0,
             "ticks": ""
            },
            "colorscale": [
             [
              0,
              "#0d0887"
             ],
             [
              0.1111111111111111,
              "#46039f"
             ],
             [
              0.2222222222222222,
              "#7201a8"
             ],
             [
              0.3333333333333333,
              "#9c179e"
             ],
             [
              0.4444444444444444,
              "#bd3786"
             ],
             [
              0.5555555555555556,
              "#d8576b"
             ],
             [
              0.6666666666666666,
              "#ed7953"
             ],
             [
              0.7777777777777778,
              "#fb9f3a"
             ],
             [
              0.8888888888888888,
              "#fdca26"
             ],
             [
              1,
              "#f0f921"
             ]
            ],
            "type": "heatmap"
           }
          ],
          "heatmapgl": [
           {
            "colorbar": {
             "outlinewidth": 0,
             "ticks": ""
            },
            "colorscale": [
             [
              0,
              "#0d0887"
             ],
             [
              0.1111111111111111,
              "#46039f"
             ],
             [
              0.2222222222222222,
              "#7201a8"
             ],
             [
              0.3333333333333333,
              "#9c179e"
             ],
             [
              0.4444444444444444,
              "#bd3786"
             ],
             [
              0.5555555555555556,
              "#d8576b"
             ],
             [
              0.6666666666666666,
              "#ed7953"
             ],
             [
              0.7777777777777778,
              "#fb9f3a"
             ],
             [
              0.8888888888888888,
              "#fdca26"
             ],
             [
              1,
              "#f0f921"
             ]
            ],
            "type": "heatmapgl"
           }
          ],
          "histogram": [
           {
            "marker": {
             "pattern": {
              "fillmode": "overlay",
              "size": 10,
              "solidity": 0.2
             }
            },
            "type": "histogram"
           }
          ],
          "histogram2d": [
           {
            "colorbar": {
             "outlinewidth": 0,
             "ticks": ""
            },
            "colorscale": [
             [
              0,
              "#0d0887"
             ],
             [
              0.1111111111111111,
              "#46039f"
             ],
             [
              0.2222222222222222,
              "#7201a8"
             ],
             [
              0.3333333333333333,
              "#9c179e"
             ],
             [
              0.4444444444444444,
              "#bd3786"
             ],
             [
              0.5555555555555556,
              "#d8576b"
             ],
             [
              0.6666666666666666,
              "#ed7953"
             ],
             [
              0.7777777777777778,
              "#fb9f3a"
             ],
             [
              0.8888888888888888,
              "#fdca26"
             ],
             [
              1,
              "#f0f921"
             ]
            ],
            "type": "histogram2d"
           }
          ],
          "histogram2dcontour": [
           {
            "colorbar": {
             "outlinewidth": 0,
             "ticks": ""
            },
            "colorscale": [
             [
              0,
              "#0d0887"
             ],
             [
              0.1111111111111111,
              "#46039f"
             ],
             [
              0.2222222222222222,
              "#7201a8"
             ],
             [
              0.3333333333333333,
              "#9c179e"
             ],
             [
              0.4444444444444444,
              "#bd3786"
             ],
             [
              0.5555555555555556,
              "#d8576b"
             ],
             [
              0.6666666666666666,
              "#ed7953"
             ],
             [
              0.7777777777777778,
              "#fb9f3a"
             ],
             [
              0.8888888888888888,
              "#fdca26"
             ],
             [
              1,
              "#f0f921"
             ]
            ],
            "type": "histogram2dcontour"
           }
          ],
          "mesh3d": [
           {
            "colorbar": {
             "outlinewidth": 0,
             "ticks": ""
            },
            "type": "mesh3d"
           }
          ],
          "parcoords": [
           {
            "line": {
             "colorbar": {
              "outlinewidth": 0,
              "ticks": ""
             }
            },
            "type": "parcoords"
           }
          ],
          "pie": [
           {
            "automargin": true,
            "type": "pie"
           }
          ],
          "scatter": [
           {
            "fillpattern": {
             "fillmode": "overlay",
             "size": 10,
             "solidity": 0.2
            },
            "type": "scatter"
           }
          ],
          "scatter3d": [
           {
            "line": {
             "colorbar": {
              "outlinewidth": 0,
              "ticks": ""
             }
            },
            "marker": {
             "colorbar": {
              "outlinewidth": 0,
              "ticks": ""
             }
            },
            "type": "scatter3d"
           }
          ],
          "scattercarpet": [
           {
            "marker": {
             "colorbar": {
              "outlinewidth": 0,
              "ticks": ""
             }
            },
            "type": "scattercarpet"
           }
          ],
          "scattergeo": [
           {
            "marker": {
             "colorbar": {
              "outlinewidth": 0,
              "ticks": ""
             }
            },
            "type": "scattergeo"
           }
          ],
          "scattergl": [
           {
            "marker": {
             "colorbar": {
              "outlinewidth": 0,
              "ticks": ""
             }
            },
            "type": "scattergl"
           }
          ],
          "scattermapbox": [
           {
            "marker": {
             "colorbar": {
              "outlinewidth": 0,
              "ticks": ""
             }
            },
            "type": "scattermapbox"
           }
          ],
          "scatterpolar": [
           {
            "marker": {
             "colorbar": {
              "outlinewidth": 0,
              "ticks": ""
             }
            },
            "type": "scatterpolar"
           }
          ],
          "scatterpolargl": [
           {
            "marker": {
             "colorbar": {
              "outlinewidth": 0,
              "ticks": ""
             }
            },
            "type": "scatterpolargl"
           }
          ],
          "scatterternary": [
           {
            "marker": {
             "colorbar": {
              "outlinewidth": 0,
              "ticks": ""
             }
            },
            "type": "scatterternary"
           }
          ],
          "surface": [
           {
            "colorbar": {
             "outlinewidth": 0,
             "ticks": ""
            },
            "colorscale": [
             [
              0,
              "#0d0887"
             ],
             [
              0.1111111111111111,
              "#46039f"
             ],
             [
              0.2222222222222222,
              "#7201a8"
             ],
             [
              0.3333333333333333,
              "#9c179e"
             ],
             [
              0.4444444444444444,
              "#bd3786"
             ],
             [
              0.5555555555555556,
              "#d8576b"
             ],
             [
              0.6666666666666666,
              "#ed7953"
             ],
             [
              0.7777777777777778,
              "#fb9f3a"
             ],
             [
              0.8888888888888888,
              "#fdca26"
             ],
             [
              1,
              "#f0f921"
             ]
            ],
            "type": "surface"
           }
          ],
          "table": [
           {
            "cells": {
             "fill": {
              "color": "#EBF0F8"
             },
             "line": {
              "color": "white"
             }
            },
            "header": {
             "fill": {
              "color": "#C8D4E3"
             },
             "line": {
              "color": "white"
             }
            },
            "type": "table"
           }
          ]
         },
         "layout": {
          "annotationdefaults": {
           "arrowcolor": "#2a3f5f",
           "arrowhead": 0,
           "arrowwidth": 1
          },
          "autotypenumbers": "strict",
          "coloraxis": {
           "colorbar": {
            "outlinewidth": 0,
            "ticks": ""
           }
          },
          "colorscale": {
           "diverging": [
            [
             0,
             "#8e0152"
            ],
            [
             0.1,
             "#c51b7d"
            ],
            [
             0.2,
             "#de77ae"
            ],
            [
             0.3,
             "#f1b6da"
            ],
            [
             0.4,
             "#fde0ef"
            ],
            [
             0.5,
             "#f7f7f7"
            ],
            [
             0.6,
             "#e6f5d0"
            ],
            [
             0.7,
             "#b8e186"
            ],
            [
             0.8,
             "#7fbc41"
            ],
            [
             0.9,
             "#4d9221"
            ],
            [
             1,
             "#276419"
            ]
           ],
           "sequential": [
            [
             0,
             "#0d0887"
            ],
            [
             0.1111111111111111,
             "#46039f"
            ],
            [
             0.2222222222222222,
             "#7201a8"
            ],
            [
             0.3333333333333333,
             "#9c179e"
            ],
            [
             0.4444444444444444,
             "#bd3786"
            ],
            [
             0.5555555555555556,
             "#d8576b"
            ],
            [
             0.6666666666666666,
             "#ed7953"
            ],
            [
             0.7777777777777778,
             "#fb9f3a"
            ],
            [
             0.8888888888888888,
             "#fdca26"
            ],
            [
             1,
             "#f0f921"
            ]
           ],
           "sequentialminus": [
            [
             0,
             "#0d0887"
            ],
            [
             0.1111111111111111,
             "#46039f"
            ],
            [
             0.2222222222222222,
             "#7201a8"
            ],
            [
             0.3333333333333333,
             "#9c179e"
            ],
            [
             0.4444444444444444,
             "#bd3786"
            ],
            [
             0.5555555555555556,
             "#d8576b"
            ],
            [
             0.6666666666666666,
             "#ed7953"
            ],
            [
             0.7777777777777778,
             "#fb9f3a"
            ],
            [
             0.8888888888888888,
             "#fdca26"
            ],
            [
             1,
             "#f0f921"
            ]
           ]
          },
          "colorway": [
           "#636efa",
           "#EF553B",
           "#00cc96",
           "#ab63fa",
           "#FFA15A",
           "#19d3f3",
           "#FF6692",
           "#B6E880",
           "#FF97FF",
           "#FECB52"
          ],
          "font": {
           "color": "#2a3f5f"
          },
          "geo": {
           "bgcolor": "white",
           "lakecolor": "white",
           "landcolor": "#E5ECF6",
           "showlakes": true,
           "showland": true,
           "subunitcolor": "white"
          },
          "hoverlabel": {
           "align": "left"
          },
          "hovermode": "closest",
          "mapbox": {
           "style": "light"
          },
          "paper_bgcolor": "white",
          "plot_bgcolor": "#E5ECF6",
          "polar": {
           "angularaxis": {
            "gridcolor": "white",
            "linecolor": "white",
            "ticks": ""
           },
           "bgcolor": "#E5ECF6",
           "radialaxis": {
            "gridcolor": "white",
            "linecolor": "white",
            "ticks": ""
           }
          },
          "scene": {
           "xaxis": {
            "backgroundcolor": "#E5ECF6",
            "gridcolor": "white",
            "gridwidth": 2,
            "linecolor": "white",
            "showbackground": true,
            "ticks": "",
            "zerolinecolor": "white"
           },
           "yaxis": {
            "backgroundcolor": "#E5ECF6",
            "gridcolor": "white",
            "gridwidth": 2,
            "linecolor": "white",
            "showbackground": true,
            "ticks": "",
            "zerolinecolor": "white"
           },
           "zaxis": {
            "backgroundcolor": "#E5ECF6",
            "gridcolor": "white",
            "gridwidth": 2,
            "linecolor": "white",
            "showbackground": true,
            "ticks": "",
            "zerolinecolor": "white"
           }
          },
          "shapedefaults": {
           "line": {
            "color": "#2a3f5f"
           }
          },
          "ternary": {
           "aaxis": {
            "gridcolor": "white",
            "linecolor": "white",
            "ticks": ""
           },
           "baxis": {
            "gridcolor": "white",
            "linecolor": "white",
            "ticks": ""
           },
           "bgcolor": "#E5ECF6",
           "caxis": {
            "gridcolor": "white",
            "linecolor": "white",
            "ticks": ""
           }
          },
          "title": {
           "x": 0.05
          },
          "xaxis": {
           "automargin": true,
           "gridcolor": "white",
           "linecolor": "white",
           "ticks": "",
           "title": {
            "standoff": 15
           },
           "zerolinecolor": "white",
           "zerolinewidth": 2
          },
          "yaxis": {
           "automargin": true,
           "gridcolor": "white",
           "linecolor": "white",
           "ticks": "",
           "title": {
            "standoff": 15
           },
           "zerolinecolor": "white",
           "zerolinewidth": 2
          }
         }
        },
        "title": {
         "text": "Activation Patching Per Block"
        },
        "xaxis": {
         "anchor": "y",
         "domain": [
          0,
          0.31999999999999995
         ],
         "title": {
          "text": "Position"
         }
        },
        "xaxis2": {
         "anchor": "y2",
         "domain": [
          0.33999999999999997,
          0.6599999999999999
         ],
         "matches": "x",
         "title": {
          "text": "Position"
         }
        },
        "xaxis3": {
         "anchor": "y3",
         "domain": [
          0.6799999999999999,
          0.9999999999999999
         ],
         "matches": "x",
         "title": {
          "text": "Position"
         }
        },
        "yaxis": {
         "anchor": "x",
         "autorange": "reversed",
         "domain": [
          0,
          1
         ],
         "title": {
          "text": "Layer"
         }
        },
        "yaxis2": {
         "anchor": "x2",
         "domain": [
          0,
          1
         ],
         "matches": "y",
         "showticklabels": false
        },
        "yaxis3": {
         "anchor": "x3",
         "domain": [
          0,
          1
         ],
         "matches": "y",
         "showticklabels": false
        }
       }
      }
     },
     "metadata": {},
     "output_type": "display_data"
    },
    {
     "data": {
      "application/vnd.plotly.v1+json": {
       "config": {
        "plotlyServerURL": "https://plot.ly"
       },
       "data": [
        {
         "coloraxis": "coloraxis",
         "hovertemplate": "x: %{x}<br>y: %{y}<br>color: %{z}<extra></extra>",
         "name": "0",
         "type": "heatmap",
         "x": [
          "<|endoftext|>_0",
          "Susan_1",
          " Land_2",
          "au_3",
          ",_4",
          " who_5",
          " works_6",
          " for_7",
          " X_8",
          " Susan_9",
          " Land_10",
          "au_11",
          ",_12",
          " who_13",
          " works_14",
          " for_15"
         ],
         "xaxis": "x",
         "yaxis": "y",
         "z": [
          [
           0,
           0.5932836532592773,
           0.5458416938781738,
           0.5877909660339355,
           0,
           0,
           0,
           0,
           2.1112470626831055,
           0.47795701026916504,
           0.36897945404052734,
           0.25748252868652344,
           0,
           0,
           0,
           0
          ],
          [
           0,
           0.2855706214904785,
           0.3209257125854492,
           0.35042285919189453,
           0.10206079483032227,
           0.06690740585327148,
           0.08186125755310059,
           0.08639907836914062,
           1.8018579483032227,
           0.47337865829467773,
           0.22233057022094727,
           0.17571735382080078,
           0.05980062484741211,
           0.056522369384765625,
           0.07582950592041016,
           0.13081026077270508
          ],
          [
           0,
           0.16940879821777344,
           0.24061203002929688,
           0.2183072566986084,
           0.07104778289794922,
           0.037534236907958984,
           0.07044696807861328,
           0.07988262176513672,
           1.8106040954589844,
           0.443939208984375,
           0.2113344669342041,
           0.19395065307617188,
           0.07664346694946289,
           0.06671857833862305,
           0.07827568054199219,
           0.14686012268066406
          ],
          [
           0,
           0.13970470428466797,
           0.20353221893310547,
           0.17536687850952148,
           0.10880756378173828,
           0.06575298309326172,
           0.07118415832519531,
           0.11152839660644531,
           2.0788440704345703,
           0.4520282745361328,
           0.22141742706298828,
           0.1965787410736084,
           0.07849884033203125,
           0.08305621147155762,
           0.12124109268188477,
           0.22037506103515625
          ],
          [
           0,
           0.1037139892578125,
           0.2115316390991211,
           0.19901466369628906,
           0.1254110336303711,
           0.06341361999511719,
           0.06878089904785156,
           0.09341907501220703,
           2.177199363708496,
           0.4140005111694336,
           0.18163824081420898,
           0.1975412368774414,
           0.09650182723999023,
           0.0680856704711914,
           0.09261226654052734,
           0.23044204711914062
          ],
          [
           0,
           0.07184910774230957,
           0.1799020767211914,
           0.17558622360229492,
           0.1193242073059082,
           0.09022045135498047,
           0.06400585174560547,
           0.07821178436279297,
           2.1516218185424805,
           0.3818626403808594,
           0.14040136337280273,
           0.21832036972045898,
           0.13316679000854492,
           0.07614755630493164,
           0.08748626708984375,
           0.29016733169555664
          ],
          [
           0,
           0.05284619331359863,
           0.11843490600585938,
           0.13265132904052734,
           0.09283828735351562,
           0.04364967346191406,
           0.050360679626464844,
           0.06008744239807129,
           1.922104835510254,
           0.29644346237182617,
           0.14459872245788574,
           0.14943766593933105,
           0.1157221794128418,
           0.0828099250793457,
           0.13258647918701172,
           0.7064952850341797
          ],
          [
           0,
           0.050599098205566406,
           0.09666919708251953,
           0.10181903839111328,
           0.06013154983520508,
           0.034560203552246094,
           0.04036003351211548,
           0.05898785591125488,
           1.7296462059020996,
           0.21068859100341797,
           0.1180572509765625,
           0.12624263763427734,
           0.08907938003540039,
           0.0626516342163086,
           0.09646439552307129,
           1.0707697868347168
          ],
          [
           0,
           0.048412322998046875,
           0.08820295333862305,
           0.10506963729858398,
           0.04455089569091797,
           0.031937599182128906,
           0.03752470016479492,
           0.04640483856201172,
           1.5986173152923584,
           0.1342158317565918,
           0.07118511199951172,
           0.07507896423339844,
           0.0704641342163086,
           0.05283784866333008,
           0.14148926734924316,
           1.614565134048462
          ],
          [
           0,
           0.043631792068481445,
           0.0727834701538086,
           0.07827472686767578,
           0.0335465669631958,
           0.02834463119506836,
           0.02854442596435547,
           0.0362015962600708,
           1.2683978080749512,
           0.11591339111328125,
           0.04580831527709961,
           0.04794740676879883,
           0.024559974670410156,
           0.020628929138183594,
           0.03857707977294922,
           1.6001136302947998
          ],
          [
           0,
           0.041903018951416016,
           0.049986839294433594,
           0.058911800384521484,
           0.030788421630859375,
           0.026807069778442383,
           0.022573471069335938,
           0.025638818740844727,
           1.098769187927246,
           0.06579160690307617,
           0.03558492660522461,
           0.03792238235473633,
           0.018700122833251953,
           0.012366294860839844,
           0.01583576202392578,
           1.8597455024719238
          ],
          [
           0,
           0.027299880981445312,
           0.028089046478271484,
           0.035616397857666016,
           0.016225814819335938,
           0.017650604248046875,
           0.013818740844726562,
           0.019463539123535156,
           0.46811771392822266,
           0.047266483306884766,
           0.022665977478027344,
           0.027739286422729492,
           0.013360023498535156,
           0.010890960693359375,
           0.014171123504638672,
           2.2137393951416016
          ]
         ]
        },
        {
         "coloraxis": "coloraxis",
         "hovertemplate": "x: %{x}<br>y: %{y}<br>color: %{z}<extra></extra>",
         "name": "1",
         "type": "heatmap",
         "x": [
          "<|endoftext|>_0",
          "Susan_1",
          " Land_2",
          "au_3",
          ",_4",
          " who_5",
          " works_6",
          " for_7",
          " X_8",
          " Susan_9",
          " Land_10",
          "au_11",
          ",_12",
          " who_13",
          " works_14",
          " for_15"
         ],
         "xaxis": "x2",
         "yaxis": "y2",
         "z": [
          [
           0,
           0.08660268783569336,
           0.18437433242797852,
           0.15263080596923828,
           0.10206079483032227,
           0.06690740585327148,
           0.08186125755310059,
           0.08639907836914062,
           0.9281299114227295,
           0.22770023345947266,
           0.17822265625,
           0.1497802734375,
           0.05980062484741211,
           0.056522369384765625,
           0.07582950592041016,
           0.13081026077270508
          ],
          [
           0,
           0.06455707550048828,
           0.08244609832763672,
           0.08490371704101562,
           0.03970789909362793,
           0.027977943420410156,
           0.03753185272216797,
           0.05467414855957031,
           0.44147491455078125,
           0.15134382247924805,
           0.11033010482788086,
           0.11445260047912598,
           0.033339500427246094,
           0.03984665870666504,
           0.0671083927154541,
           0.07183265686035156
          ],
          [
           0,
           0.02521371841430664,
           0.06664788722991943,
           0.06003904342651367,
           0.04919862747192383,
           0.03703427314758301,
           0.03301382064819336,
           0.04700517654418945,
           0.18827533721923828,
           0.11095350980758667,
           0.06443119049072266,
           0.06109619140625,
           0.04345130920410156,
           0.035933494567871094,
           0.04965639114379883,
           0.08308839797973633
          ],
          [
           0,
           0.009294271469116211,
           0.034340858459472656,
           0.037285804748535156,
           0.04864072799682617,
           0.027573108673095703,
           0.02135789394378662,
           0.039112091064453125,
           0.1603369116783142,
           0.1274247169494629,
           0.08166265487670898,
           0.061289310455322266,
           0.04385042190551758,
           0.03647756576538086,
           0.040164947509765625,
           0.09484153985977173
          ],
          [
           0,
           0.005130767822265625,
           0.029120922088623047,
           0.04208803176879883,
           0.044950008392333984,
           0.029419422149658203,
           0.025847196578979492,
           0.03500223159790039,
           0.22433090209960938,
           0.08678758144378662,
           0.042346954345703125,
           0.051728248596191406,
           0.06273269653320312,
           0.03400564193725586,
           0.045134544372558594,
           0.09831595420837402
          ],
          [
           0,
           0.002437591552734375,
           0.017403364181518555,
           0.023017406463623047,
           0.01946878433227539,
           0.018837928771972656,
           0.014425277709960938,
           0.02632427215576172,
           0.1193532943725586,
           0.11531448364257812,
           0.08021259307861328,
           0.08609771728515625,
           0.06862688064575195,
           0.04966115951538086,
           0.09883928298950195,
           0.6899738311767578
          ],
          [
           0,
           0.0021185874938964844,
           0.009034156799316406,
           0.015779495239257812,
           0.014574050903320312,
           0.014468669891357422,
           0.011271953582763672,
           0.01935863494873047,
           0.10131025314331055,
           0.05773162841796875,
           0.054775238037109375,
           0.04420208930969238,
           0.051156044006347656,
           0.051224708557128906,
           0.0660090446472168,
           0.3888695240020752
          ],
          [
           0,
           0.0012066364288330078,
           0.004286646842956543,
           0.008607864379882812,
           0.0070343017578125,
           0.006662607192993164,
           0.007981300354003906,
           0.009706974029541016,
           0.06257247924804688,
           0.021797657012939453,
           0.02198052406311035,
           0.025753021240234375,
           0.025157928466796875,
           0.023832321166992188,
           0.07152605056762695,
           1.1459565162658691
          ],
          [
           0,
           0.0011591911315917969,
           0.0027756690979003906,
           0.006117820739746094,
           0.003971099853515625,
           0.005413055419921875,
           0.006617546081542969,
           0.008697986602783203,
           0.047139644622802734,
           0.016164779663085938,
           0.00927877426147461,
           0.011210441589355469,
           0.0093231201171875,
           0.007391929626464844,
           0.01495981216430664,
           0.8842244148254395
          ],
          [
           0,
           0.0005996227264404297,
           0.0025091171264648438,
           0.004981517791748047,
           0.004229068756103516,
           0.0032415390014648438,
           0.0035562515258789062,
           0.007230281829833984,
           0.03818035125732422,
           0.01595449447631836,
           0.008246421813964844,
           0.009646415710449219,
           0.004452943801879883,
           0.0037441253662109375,
           0.005871772766113281,
           0.6243042945861816
          ],
          [
           0,
           0.0004916191101074219,
           0.0016202926635742188,
           0.0028429031372070312,
           0.003067493438720703,
           0.0030088424682617188,
           0.0030641555786132812,
           0.0036363601684570312,
           0.018908023834228516,
           0.012724637985229492,
           0.007937431335449219,
           0.00896310806274414,
           0.0064144134521484375,
           0.004412651062011719,
           0.004264354705810547,
           0.9613287448883057
          ],
          [
           0,
           0,
           0,
           0,
           0,
           0,
           0,
           0,
           0,
           0,
           0,
           0,
           0,
           0,
           0,
           0.7796323299407959
          ]
         ]
        },
        {
         "coloraxis": "coloraxis",
         "hovertemplate": "x: %{x}<br>y: %{y}<br>color: %{z}<extra></extra>",
         "name": "2",
         "type": "heatmap",
         "x": [
          "<|endoftext|>_0",
          "Susan_1",
          " Land_2",
          "au_3",
          ",_4",
          " who_5",
          " works_6",
          " for_7",
          " X_8",
          " Susan_9",
          " Land_10",
          "au_11",
          ",_12",
          " who_13",
          " works_14",
          " for_15"
         ],
         "xaxis": "x3",
         "yaxis": "y3",
         "z": [
          [
           0,
           0.3043193817138672,
           0.33294689655303955,
           0.2849254608154297,
           0.10105228424072266,
           0.061242103576660156,
           0.09838008880615234,
           0.10203742980957031,
           2.0154314041137695,
           0.4902515411376953,
           0.23760128021240234,
           0.22283649444580078,
           0.0630636215209961,
           0.05532073974609375,
           0.07880687713623047,
           0.11815714836120605
          ],
          [
           0,
           0.09890270233154297,
           0.15703392028808594,
           0.15539288520812988,
           0.03953266143798828,
           0.031513214111328125,
           0.04230690002441406,
           0.08500432968139648,
           0.7049684524536133,
           0.252962589263916,
           0.12296390533447266,
           0.12397909164428711,
           0.03790760040283203,
           0.05120277404785156,
           0.06806087493896484,
           0.061158180236816406
          ],
          [
           0,
           0.08439826965332031,
           0.08997917175292969,
           0.10536003112792969,
           0.044553279876708984,
           0.0259932279586792,
           0.03484058380126953,
           0.0486750602722168,
           0.44796228408813477,
           0.1407928466796875,
           0.10369586944580078,
           0.09681415557861328,
           0.047020912170410156,
           0.03959178924560547,
           0.05884099006652832,
           0.0870976448059082
          ],
          [
           0,
           0.04446518421173096,
           0.07627201080322266,
           0.08646678924560547,
           0.04089069366455078,
           0.026730060577392578,
           0.03047466278076172,
           0.03516864776611328,
           0.3685615062713623,
           0.1131596565246582,
           0.08833026885986328,
           0.08022403717041016,
           0.040902137756347656,
           0.035231590270996094,
           0.04244422912597656,
           0.08725547790527344
          ],
          [
           0,
           0.03008747100830078,
           0.06657791137695312,
           0.06912517547607422,
           0.048867225646972656,
           0.038237571716308594,
           0.026416778564453125,
           0.04354524612426758,
           0.26430845260620117,
           0.11566972732543945,
           0.08626794815063477,
           0.08417654037475586,
           0.045456886291503906,
           0.04011869430541992,
           0.037064552307128906,
           0.12668228149414062
          ],
          [
           0,
           0.017577648162841797,
           0.04006385803222656,
           0.05048179626464844,
           0.033869028091430664,
           0.01919841766357422,
           0.02589893341064453,
           0.026665687561035156,
           0.2800750732421875,
           0.11531734466552734,
           0.06439018249511719,
           0.07098770141601562,
           0.059540748596191406,
           0.03652143478393555,
           0.042595863342285156,
           0.24879693984985352
          ],
          [
           0,
           0.01737213134765625,
           0.024010181427001953,
           0.029981613159179688,
           0.020404815673828125,
           0.017004013061523438,
           0.020299434661865234,
           0.025432586669921875,
           0.20822954177856445,
           0.056774139404296875,
           0.05050468444824219,
           0.05451059341430664,
           0.04051399230957031,
           0.0381011962890625,
           0.04565906524658203,
           0.25647830963134766
          ],
          [
           0,
           0.012603282928466797,
           0.024481773376464844,
           0.022926807403564453,
           0.013024449348449707,
           0.011263370513916016,
           0.01334381103515625,
           0.01779460906982422,
           0.17226028442382812,
           0.03773784637451172,
           0.025748491287231445,
           0.028059959411621094,
           0.01865100860595703,
           0.019758224487304688,
           0.043186187744140625,
           0.37389659881591797
          ],
          [
           0,
           0.011327743530273438,
           0.019601821899414062,
           0.01349341869354248,
           0.007407426834106445,
           0.006642341613769531,
           0.009232521057128906,
           0.009450912475585938,
           0.12884998321533203,
           0.031000137329101562,
           0.01601243019104004,
           0.0131072998046875,
           0.007927417755126953,
           0.011114120483398438,
           0.023707985877990723,
           0.43979501724243164
          ],
          [
           0,
           0.008881568908691406,
           0.011783599853515625,
           0.014002799987792969,
           0.007012367248535156,
           0.005862236022949219,
           0.007203578948974609,
           0.007279396057128906,
           0.12256240844726562,
           0.01790332794189453,
           0.011064529418945312,
           0.008265018463134766,
           0.005625724792480469,
           0.00421905517578125,
           0.0055838823318481445,
           0.3656444549560547
          ],
          [
           0,
           0.006647586822509766,
           0.009759306907653809,
           0.009373664855957031,
           0.005951404571533203,
           0.004449129104614258,
           0.005049705505371094,
           0.006721019744873047,
           0.08365631103515625,
           0.011114120483398438,
           0.007441997528076172,
           0.009082317352294922,
           0.004458427429199219,
           0.002996683120727539,
           0.004504203796386719,
           0.3910036087036133
          ],
          [
           0,
           0,
           0,
           0,
           0,
           0,
           0,
           0,
           0,
           0,
           0,
           0,
           0,
           0,
           0,
           0.4006366729736328
          ]
         ]
        }
       ],
       "layout": {
        "annotations": [
         {
          "font": {},
          "showarrow": false,
          "text": "Residual Stream",
          "x": 0.15999999999999998,
          "xanchor": "center",
          "xref": "paper",
          "y": 1,
          "yanchor": "bottom",
          "yref": "paper"
         },
         {
          "font": {},
          "showarrow": false,
          "text": "Attn Output",
          "x": 0.49999999999999994,
          "xanchor": "center",
          "xref": "paper",
          "y": 1,
          "yanchor": "bottom",
          "yref": "paper"
         },
         {
          "font": {},
          "showarrow": false,
          "text": "MLP Output",
          "x": 0.8399999999999999,
          "xanchor": "center",
          "xref": "paper",
          "y": 1,
          "yanchor": "bottom",
          "yref": "paper"
         }
        ],
        "coloraxis": {
         "cmid": 0,
         "colorscale": [
          [
           0,
           "rgb(103,0,31)"
          ],
          [
           0.1,
           "rgb(178,24,43)"
          ],
          [
           0.2,
           "rgb(214,96,77)"
          ],
          [
           0.3,
           "rgb(244,165,130)"
          ],
          [
           0.4,
           "rgb(253,219,199)"
          ],
          [
           0.5,
           "rgb(247,247,247)"
          ],
          [
           0.6,
           "rgb(209,229,240)"
          ],
          [
           0.7,
           "rgb(146,197,222)"
          ],
          [
           0.8,
           "rgb(67,147,195)"
          ],
          [
           0.9,
           "rgb(33,102,172)"
          ],
          [
           1,
           "rgb(5,48,97)"
          ]
         ]
        },
        "template": {
         "data": {
          "bar": [
           {
            "error_x": {
             "color": "#2a3f5f"
            },
            "error_y": {
             "color": "#2a3f5f"
            },
            "marker": {
             "line": {
              "color": "#E5ECF6",
              "width": 0.5
             },
             "pattern": {
              "fillmode": "overlay",
              "size": 10,
              "solidity": 0.2
             }
            },
            "type": "bar"
           }
          ],
          "barpolar": [
           {
            "marker": {
             "line": {
              "color": "#E5ECF6",
              "width": 0.5
             },
             "pattern": {
              "fillmode": "overlay",
              "size": 10,
              "solidity": 0.2
             }
            },
            "type": "barpolar"
           }
          ],
          "carpet": [
           {
            "aaxis": {
             "endlinecolor": "#2a3f5f",
             "gridcolor": "white",
             "linecolor": "white",
             "minorgridcolor": "white",
             "startlinecolor": "#2a3f5f"
            },
            "baxis": {
             "endlinecolor": "#2a3f5f",
             "gridcolor": "white",
             "linecolor": "white",
             "minorgridcolor": "white",
             "startlinecolor": "#2a3f5f"
            },
            "type": "carpet"
           }
          ],
          "choropleth": [
           {
            "colorbar": {
             "outlinewidth": 0,
             "ticks": ""
            },
            "type": "choropleth"
           }
          ],
          "contour": [
           {
            "colorbar": {
             "outlinewidth": 0,
             "ticks": ""
            },
            "colorscale": [
             [
              0,
              "#0d0887"
             ],
             [
              0.1111111111111111,
              "#46039f"
             ],
             [
              0.2222222222222222,
              "#7201a8"
             ],
             [
              0.3333333333333333,
              "#9c179e"
             ],
             [
              0.4444444444444444,
              "#bd3786"
             ],
             [
              0.5555555555555556,
              "#d8576b"
             ],
             [
              0.6666666666666666,
              "#ed7953"
             ],
             [
              0.7777777777777778,
              "#fb9f3a"
             ],
             [
              0.8888888888888888,
              "#fdca26"
             ],
             [
              1,
              "#f0f921"
             ]
            ],
            "type": "contour"
           }
          ],
          "contourcarpet": [
           {
            "colorbar": {
             "outlinewidth": 0,
             "ticks": ""
            },
            "type": "contourcarpet"
           }
          ],
          "heatmap": [
           {
            "colorbar": {
             "outlinewidth": 0,
             "ticks": ""
            },
            "colorscale": [
             [
              0,
              "#0d0887"
             ],
             [
              0.1111111111111111,
              "#46039f"
             ],
             [
              0.2222222222222222,
              "#7201a8"
             ],
             [
              0.3333333333333333,
              "#9c179e"
             ],
             [
              0.4444444444444444,
              "#bd3786"
             ],
             [
              0.5555555555555556,
              "#d8576b"
             ],
             [
              0.6666666666666666,
              "#ed7953"
             ],
             [
              0.7777777777777778,
              "#fb9f3a"
             ],
             [
              0.8888888888888888,
              "#fdca26"
             ],
             [
              1,
              "#f0f921"
             ]
            ],
            "type": "heatmap"
           }
          ],
          "heatmapgl": [
           {
            "colorbar": {
             "outlinewidth": 0,
             "ticks": ""
            },
            "colorscale": [
             [
              0,
              "#0d0887"
             ],
             [
              0.1111111111111111,
              "#46039f"
             ],
             [
              0.2222222222222222,
              "#7201a8"
             ],
             [
              0.3333333333333333,
              "#9c179e"
             ],
             [
              0.4444444444444444,
              "#bd3786"
             ],
             [
              0.5555555555555556,
              "#d8576b"
             ],
             [
              0.6666666666666666,
              "#ed7953"
             ],
             [
              0.7777777777777778,
              "#fb9f3a"
             ],
             [
              0.8888888888888888,
              "#fdca26"
             ],
             [
              1,
              "#f0f921"
             ]
            ],
            "type": "heatmapgl"
           }
          ],
          "histogram": [
           {
            "marker": {
             "pattern": {
              "fillmode": "overlay",
              "size": 10,
              "solidity": 0.2
             }
            },
            "type": "histogram"
           }
          ],
          "histogram2d": [
           {
            "colorbar": {
             "outlinewidth": 0,
             "ticks": ""
            },
            "colorscale": [
             [
              0,
              "#0d0887"
             ],
             [
              0.1111111111111111,
              "#46039f"
             ],
             [
              0.2222222222222222,
              "#7201a8"
             ],
             [
              0.3333333333333333,
              "#9c179e"
             ],
             [
              0.4444444444444444,
              "#bd3786"
             ],
             [
              0.5555555555555556,
              "#d8576b"
             ],
             [
              0.6666666666666666,
              "#ed7953"
             ],
             [
              0.7777777777777778,
              "#fb9f3a"
             ],
             [
              0.8888888888888888,
              "#fdca26"
             ],
             [
              1,
              "#f0f921"
             ]
            ],
            "type": "histogram2d"
           }
          ],
          "histogram2dcontour": [
           {
            "colorbar": {
             "outlinewidth": 0,
             "ticks": ""
            },
            "colorscale": [
             [
              0,
              "#0d0887"
             ],
             [
              0.1111111111111111,
              "#46039f"
             ],
             [
              0.2222222222222222,
              "#7201a8"
             ],
             [
              0.3333333333333333,
              "#9c179e"
             ],
             [
              0.4444444444444444,
              "#bd3786"
             ],
             [
              0.5555555555555556,
              "#d8576b"
             ],
             [
              0.6666666666666666,
              "#ed7953"
             ],
             [
              0.7777777777777778,
              "#fb9f3a"
             ],
             [
              0.8888888888888888,
              "#fdca26"
             ],
             [
              1,
              "#f0f921"
             ]
            ],
            "type": "histogram2dcontour"
           }
          ],
          "mesh3d": [
           {
            "colorbar": {
             "outlinewidth": 0,
             "ticks": ""
            },
            "type": "mesh3d"
           }
          ],
          "parcoords": [
           {
            "line": {
             "colorbar": {
              "outlinewidth": 0,
              "ticks": ""
             }
            },
            "type": "parcoords"
           }
          ],
          "pie": [
           {
            "automargin": true,
            "type": "pie"
           }
          ],
          "scatter": [
           {
            "fillpattern": {
             "fillmode": "overlay",
             "size": 10,
             "solidity": 0.2
            },
            "type": "scatter"
           }
          ],
          "scatter3d": [
           {
            "line": {
             "colorbar": {
              "outlinewidth": 0,
              "ticks": ""
             }
            },
            "marker": {
             "colorbar": {
              "outlinewidth": 0,
              "ticks": ""
             }
            },
            "type": "scatter3d"
           }
          ],
          "scattercarpet": [
           {
            "marker": {
             "colorbar": {
              "outlinewidth": 0,
              "ticks": ""
             }
            },
            "type": "scattercarpet"
           }
          ],
          "scattergeo": [
           {
            "marker": {
             "colorbar": {
              "outlinewidth": 0,
              "ticks": ""
             }
            },
            "type": "scattergeo"
           }
          ],
          "scattergl": [
           {
            "marker": {
             "colorbar": {
              "outlinewidth": 0,
              "ticks": ""
             }
            },
            "type": "scattergl"
           }
          ],
          "scattermapbox": [
           {
            "marker": {
             "colorbar": {
              "outlinewidth": 0,
              "ticks": ""
             }
            },
            "type": "scattermapbox"
           }
          ],
          "scatterpolar": [
           {
            "marker": {
             "colorbar": {
              "outlinewidth": 0,
              "ticks": ""
             }
            },
            "type": "scatterpolar"
           }
          ],
          "scatterpolargl": [
           {
            "marker": {
             "colorbar": {
              "outlinewidth": 0,
              "ticks": ""
             }
            },
            "type": "scatterpolargl"
           }
          ],
          "scatterternary": [
           {
            "marker": {
             "colorbar": {
              "outlinewidth": 0,
              "ticks": ""
             }
            },
            "type": "scatterternary"
           }
          ],
          "surface": [
           {
            "colorbar": {
             "outlinewidth": 0,
             "ticks": ""
            },
            "colorscale": [
             [
              0,
              "#0d0887"
             ],
             [
              0.1111111111111111,
              "#46039f"
             ],
             [
              0.2222222222222222,
              "#7201a8"
             ],
             [
              0.3333333333333333,
              "#9c179e"
             ],
             [
              0.4444444444444444,
              "#bd3786"
             ],
             [
              0.5555555555555556,
              "#d8576b"
             ],
             [
              0.6666666666666666,
              "#ed7953"
             ],
             [
              0.7777777777777778,
              "#fb9f3a"
             ],
             [
              0.8888888888888888,
              "#fdca26"
             ],
             [
              1,
              "#f0f921"
             ]
            ],
            "type": "surface"
           }
          ],
          "table": [
           {
            "cells": {
             "fill": {
              "color": "#EBF0F8"
             },
             "line": {
              "color": "white"
             }
            },
            "header": {
             "fill": {
              "color": "#C8D4E3"
             },
             "line": {
              "color": "white"
             }
            },
            "type": "table"
           }
          ]
         },
         "layout": {
          "annotationdefaults": {
           "arrowcolor": "#2a3f5f",
           "arrowhead": 0,
           "arrowwidth": 1
          },
          "autotypenumbers": "strict",
          "coloraxis": {
           "colorbar": {
            "outlinewidth": 0,
            "ticks": ""
           }
          },
          "colorscale": {
           "diverging": [
            [
             0,
             "#8e0152"
            ],
            [
             0.1,
             "#c51b7d"
            ],
            [
             0.2,
             "#de77ae"
            ],
            [
             0.3,
             "#f1b6da"
            ],
            [
             0.4,
             "#fde0ef"
            ],
            [
             0.5,
             "#f7f7f7"
            ],
            [
             0.6,
             "#e6f5d0"
            ],
            [
             0.7,
             "#b8e186"
            ],
            [
             0.8,
             "#7fbc41"
            ],
            [
             0.9,
             "#4d9221"
            ],
            [
             1,
             "#276419"
            ]
           ],
           "sequential": [
            [
             0,
             "#0d0887"
            ],
            [
             0.1111111111111111,
             "#46039f"
            ],
            [
             0.2222222222222222,
             "#7201a8"
            ],
            [
             0.3333333333333333,
             "#9c179e"
            ],
            [
             0.4444444444444444,
             "#bd3786"
            ],
            [
             0.5555555555555556,
             "#d8576b"
            ],
            [
             0.6666666666666666,
             "#ed7953"
            ],
            [
             0.7777777777777778,
             "#fb9f3a"
            ],
            [
             0.8888888888888888,
             "#fdca26"
            ],
            [
             1,
             "#f0f921"
            ]
           ],
           "sequentialminus": [
            [
             0,
             "#0d0887"
            ],
            [
             0.1111111111111111,
             "#46039f"
            ],
            [
             0.2222222222222222,
             "#7201a8"
            ],
            [
             0.3333333333333333,
             "#9c179e"
            ],
            [
             0.4444444444444444,
             "#bd3786"
            ],
            [
             0.5555555555555556,
             "#d8576b"
            ],
            [
             0.6666666666666666,
             "#ed7953"
            ],
            [
             0.7777777777777778,
             "#fb9f3a"
            ],
            [
             0.8888888888888888,
             "#fdca26"
            ],
            [
             1,
             "#f0f921"
            ]
           ]
          },
          "colorway": [
           "#636efa",
           "#EF553B",
           "#00cc96",
           "#ab63fa",
           "#FFA15A",
           "#19d3f3",
           "#FF6692",
           "#B6E880",
           "#FF97FF",
           "#FECB52"
          ],
          "font": {
           "color": "#2a3f5f"
          },
          "geo": {
           "bgcolor": "white",
           "lakecolor": "white",
           "landcolor": "#E5ECF6",
           "showlakes": true,
           "showland": true,
           "subunitcolor": "white"
          },
          "hoverlabel": {
           "align": "left"
          },
          "hovermode": "closest",
          "mapbox": {
           "style": "light"
          },
          "paper_bgcolor": "white",
          "plot_bgcolor": "#E5ECF6",
          "polar": {
           "angularaxis": {
            "gridcolor": "white",
            "linecolor": "white",
            "ticks": ""
           },
           "bgcolor": "#E5ECF6",
           "radialaxis": {
            "gridcolor": "white",
            "linecolor": "white",
            "ticks": ""
           }
          },
          "scene": {
           "xaxis": {
            "backgroundcolor": "#E5ECF6",
            "gridcolor": "white",
            "gridwidth": 2,
            "linecolor": "white",
            "showbackground": true,
            "ticks": "",
            "zerolinecolor": "white"
           },
           "yaxis": {
            "backgroundcolor": "#E5ECF6",
            "gridcolor": "white",
            "gridwidth": 2,
            "linecolor": "white",
            "showbackground": true,
            "ticks": "",
            "zerolinecolor": "white"
           },
           "zaxis": {
            "backgroundcolor": "#E5ECF6",
            "gridcolor": "white",
            "gridwidth": 2,
            "linecolor": "white",
            "showbackground": true,
            "ticks": "",
            "zerolinecolor": "white"
           }
          },
          "shapedefaults": {
           "line": {
            "color": "#2a3f5f"
           }
          },
          "ternary": {
           "aaxis": {
            "gridcolor": "white",
            "linecolor": "white",
            "ticks": ""
           },
           "baxis": {
            "gridcolor": "white",
            "linecolor": "white",
            "ticks": ""
           },
           "bgcolor": "#E5ECF6",
           "caxis": {
            "gridcolor": "white",
            "linecolor": "white",
            "ticks": ""
           }
          },
          "title": {
           "x": 0.05
          },
          "xaxis": {
           "automargin": true,
           "gridcolor": "white",
           "linecolor": "white",
           "ticks": "",
           "title": {
            "standoff": 15
           },
           "zerolinecolor": "white",
           "zerolinewidth": 2
          },
          "yaxis": {
           "automargin": true,
           "gridcolor": "white",
           "linecolor": "white",
           "ticks": "",
           "title": {
            "standoff": 15
           },
           "zerolinecolor": "white",
           "zerolinewidth": 2
          }
         }
        },
        "title": {
         "text": "Activation Patching Per Block (MAD)"
        },
        "xaxis": {
         "anchor": "y",
         "domain": [
          0,
          0.31999999999999995
         ],
         "title": {
          "text": "Position"
         }
        },
        "xaxis2": {
         "anchor": "y2",
         "domain": [
          0.33999999999999997,
          0.6599999999999999
         ],
         "matches": "x",
         "title": {
          "text": "Position"
         }
        },
        "xaxis3": {
         "anchor": "y3",
         "domain": [
          0.6799999999999999,
          0.9999999999999999
         ],
         "matches": "x",
         "title": {
          "text": "Position"
         }
        },
        "yaxis": {
         "anchor": "x",
         "autorange": "reversed",
         "domain": [
          0,
          1
         ],
         "title": {
          "text": "Layer"
         }
        },
        "yaxis2": {
         "anchor": "x2",
         "domain": [
          0,
          1
         ],
         "matches": "y",
         "showticklabels": false
        },
        "yaxis3": {
         "anchor": "x3",
         "domain": [
          0,
          1
         ],
         "matches": "y",
         "showticklabels": false
        }
       }
      }
     },
     "metadata": {},
     "output_type": "display_data"
    }
   ],
   "source": [
    "imshow(\n",
    "    data[\"neg\"][\"patch_attn_head_out\"][\"mean\"].mean(0),\n",
    "    yaxis=\"Layer\", \n",
    "    xaxis=\"Head\", \n",
    "    title = \"Attention heads\"\n",
    ")\n",
    "imshow(\n",
    "    data_var[\"neg\"][\"patch_attn_head_out\"][\"mean\"].mean(0),\n",
    "    yaxis=\"Layer\", \n",
    "    xaxis=\"Head\", \n",
    "    title = \"Attention heads (MAD)\",\n",
    "    # zmax=1,\n",
    "    # zmin=-1\n",
    ")\n",
    "imshow(\n",
    "    data[\"neg\"][\"patch_per_block\"][\"mean\"].mean(0),\n",
    "    facet_col=0,\n",
    "    facet_labels=[\"Residual Stream\", \"Attn Output\", \"MLP Output\"],\n",
    "    title=\"Activation Patching Per Block\",\n",
    "    xaxis=\"Position\",\n",
    "    yaxis=\"Layer\",\n",
    "    # zmax=1,\n",
    "    # zmin=-1,\n",
    "    x=[f\"{tok}_{i}\" for i, tok in enumerate(data[\"pos\"][\"example_str_token\"])],\n",
    ")\n",
    "imshow(\n",
    "    data_var[\"neg\"][\"patch_per_block\"][\"mean\"].mean(0),\n",
    "    facet_col=0,\n",
    "    facet_labels=[\"Residual Stream\", \"Attn Output\", \"MLP Output\"],\n",
    "    title=\"Activation Patching Per Block (MAD)\",\n",
    "    xaxis=\"Position\",\n",
    "    yaxis=\"Layer\",\n",
    "    # zmax= 6,\n",
    "    # zmin=-6,\n",
    "    x=[f\"{tok}_{i}\" for i, tok in enumerate(data[\"neg\"][\"example_str_token\"])],\n",
    ")"
   ]
  },
  {
   "cell_type": "markdown",
   "metadata": {},
   "source": [
    "### Subsample"
   ]
  },
  {
   "cell_type": "code",
   "execution_count": 294,
   "metadata": {},
   "outputs": [
    {
     "data": {
      "application/vnd.plotly.v1+json": {
       "config": {
        "plotlyServerURL": "https://plot.ly"
       },
       "data": [
        {
         "coloraxis": "coloraxis",
         "hovertemplate": "x: %{x}<br>y: %{y}<br>color: %{z}<extra></extra>",
         "name": "0",
         "type": "heatmap",
         "x": [
          "<|endoftext|>_0",
          "Windows_1",
          " Emb_2",
          "edded_3",
          " Compact_4",
          " is_5",
          " created_6",
          " by_7",
          " maternal_8",
          " Windows_9",
          " Emb_10",
          "edded_11",
          " Compact_12",
          " is_13",
          " created_14",
          " by_15"
         ],
         "xaxis": "x",
         "yaxis": "y",
         "z": [
          [
           0,
           0,
           0,
           0,
           0,
           0,
           0,
           0,
           3.9959630966186523,
           0,
           0,
           0,
           0,
           0,
           0,
           0
          ],
          [
           0,
           0,
           0,
           0,
           0,
           0,
           0,
           0,
           3.946335554122925,
           0.055531807243824005,
           0.004454723559319973,
           0.001398136606439948,
           -0.007928379811346531,
           -0.018742624670267105,
           -0.013286320492625237,
           0.07347290217876434
          ],
          [
           0,
           0,
           0,
           0,
           0,
           0,
           0,
           0,
           3.9636528491973877,
           0.07826080918312073,
           0.007475381251424551,
           -0.0023622773587703705,
           -0.002131473971530795,
           -0.031003279611468315,
           -0.021778250113129616,
           0.09190482646226883
          ],
          [
           0,
           0,
           0,
           0,
           0,
           0,
           0,
           0,
           3.889857053756714,
           0.1649024933576584,
           0.002604433801025152,
           -0.007620329037308693,
           0.006193783134222031,
           -0.02152683213353157,
           -0.024641428142786026,
           0.1012527272105217
          ],
          [
           0,
           0,
           0,
           0,
           0,
           0,
           0,
           0,
           3.7728710174560547,
           0.21939833462238312,
           -0.002678534248843789,
           -0.007948541082441807,
           0.006848448421806097,
           -0.013923374935984612,
           -0.020929576829075813,
           0.11463998258113861
          ],
          [
           0,
           0,
           0,
           0,
           0,
           0,
           0,
           0,
           3.9927639961242676,
           0.23778922855854034,
           -0.007218821905553341,
           0.0022434680722653866,
           0.016071205958724022,
           -0.018828758969902992,
           -0.038902219384908676,
           0.12828098237514496
          ],
          [
           0,
           0,
           0,
           0,
           0,
           0,
           0,
           0,
           3.743738889694214,
           0.2619888484477997,
           -0.0027034252416342497,
           0.00120139354839921,
           0.018448615446686745,
           -0.025102738291025162,
           -0.05326647683978081,
           0.6108961701393127
          ],
          [
           0,
           0,
           0,
           0,
           0,
           0,
           0,
           0,
           3.348083019256592,
           0.28466472029685974,
           0.009187595918774605,
           0.004376038908958435,
           0.015617188066244125,
           -0.035000238567590714,
           -0.07975749671459198,
           0.9437231421470642
          ],
          [
           0,
           0,
           0,
           0,
           0,
           0,
           0,
           0,
           2.6104214191436768,
           0.1495349109172821,
           0.008730822242796421,
           0.005034568253904581,
           0.008421676233410835,
           -0.029610715806484222,
           -0.0698738694190979,
           1.9344370365142822
          ],
          [
           0,
           0,
           0,
           0,
           0,
           0,
           0,
           0,
           2.2256317138671875,
           0.14420810341835022,
           0.009530214592814445,
           0.006148520391434431,
           0.0029300039168447256,
           0.0038825315423309803,
           0.010741541162133217,
           2.1187705993652344
          ],
          [
           0,
           0,
           0,
           0,
           0,
           0,
           0,
           0,
           1.914907455444336,
           0.125901997089386,
           0.00417659617960453,
           0.006303602829575539,
           0.002471132203936577,
           0.003936332184821367,
           0.003226589411497116,
           2.9820549488067627
          ],
          [
           0,
           0,
           0,
           0,
           0,
           0,
           0,
           0,
           1.0444605350494385,
           0.06588750332593918,
           0.007744451519101858,
           0.005357387010008097,
           0.003956084605306387,
           0.006106853485107422,
           0.0038015071768313646,
           3.82688045501709
          ]
         ]
        },
        {
         "coloraxis": "coloraxis",
         "hovertemplate": "x: %{x}<br>y: %{y}<br>color: %{z}<extra></extra>",
         "name": "1",
         "type": "heatmap",
         "x": [
          "<|endoftext|>_0",
          "Windows_1",
          " Emb_2",
          "edded_3",
          " Compact_4",
          " is_5",
          " created_6",
          " by_7",
          " maternal_8",
          " Windows_9",
          " Emb_10",
          "edded_11",
          " Compact_12",
          " is_13",
          " created_14",
          " by_15"
         ],
         "xaxis": "x2",
         "yaxis": "y2",
         "z": [
          [
           0,
           0,
           0,
           0,
           0,
           0,
           0,
           0,
           1.2683509588241577,
           0.055531807243824005,
           0.004454723559319973,
           0.001398136606439948,
           -0.007928379811346531,
           -0.018742624670267105,
           -0.013286320492625237,
           0.07347290217876434
          ],
          [
           0,
           0,
           0,
           0,
           0,
           0,
           0,
           0,
           -1.2521510124206543,
           0.03851759806275368,
           0.008259269408881664,
           -0.003952711820602417,
           0.0011855285847559571,
           0.0069627175107598305,
           -0.002586799208074808,
           -0.01937633380293846
          ],
          [
           0,
           0,
           0,
           0,
           0,
           0,
           0,
           0,
           0.14403873682022095,
           0.07985077798366547,
           0.004194164648652077,
           -0.005516450852155685,
           0.008557915687561035,
           0.007515767589211464,
           0.003682789159938693,
           0.008095263503491879
          ],
          [
           0,
           0,
           0,
           0,
           0,
           0,
           0,
           0,
           0.1129746213555336,
           0.09374026954174042,
           -0.003232288174331188,
           -0.0010394226992502809,
           -0.004149288404732943,
           -0.004751015920192003,
           0.0020671540405601263,
           0.009294924326241016
          ],
          [
           0,
           0,
           0,
           0,
           0,
           0,
           0,
           0,
           0.11143754422664642,
           0.07219552993774414,
           -0.003714017802849412,
           0.01312875747680664,
           0.005314202047884464,
           -0.002334002871066332,
           -0.010347649455070496,
           0.017010437324643135
          ],
          [
           0,
           0,
           0,
           0,
           0,
           0,
           0,
           0,
           0.06788133084774017,
           -0.007538139820098877,
           -0.004034179262816906,
           0.009733987040817738,
           0.014178460463881493,
           -0.002147589810192585,
           0.00028321982244960964,
           0.5590289235115051
          ],
          [
           0,
           0,
           0,
           0,
           0,
           0,
           0,
           0,
           0.022354496642947197,
           0.04953012242913246,
           -0.008101197890937328,
           0.006414409726858139,
           0.009548098780214787,
           -0.01934731937944889,
           -0.039101798087358475,
           0.30393797159194946
          ],
          [
           0,
           0,
           0,
           0,
           0,
           0,
           0,
           0,
           0.004518657922744751,
           0.037065453827381134,
           0.0010809283703565598,
           0.0029162948485463858,
           0.0053566014394164085,
           -0.008409354835748672,
           -0.0060743773356080055,
           1.337890625
          ],
          [
           0,
           0,
           0,
           0,
           0,
           0,
           0,
           0,
           0.008651800453662872,
           0.01773558370769024,
           0.00045397577923722565,
           0.0012835413217544556,
           0.00002765714998531621,
           0.002980256685987115,
           0.012867455370724201,
           -0.13892585039138794
          ],
          [
           0,
           0,
           0,
           0,
           0,
           0,
           0,
           0,
           0.023564491420984268,
           0.013847265392541885,
           0.0019499474437907338,
           0.002029611961916089,
           0.0031086772214621305,
           0.002075556432828307,
           0.0021692514419555664,
           1.08353853225708
          ],
          [
           0,
           0,
           0,
           0,
           0,
           0,
           0,
           0,
           0.009577125310897827,
           0.005309043452143669,
           0.0027545380871742964,
           0.0015498489374294877,
           0.0023271040990948677,
           0.002177818911150098,
           0.0016216807998716831,
           1.3960497379302979
          ],
          [
           0,
           0,
           0,
           0,
           0,
           0,
           0,
           0,
           0,
           0,
           0,
           0,
           0,
           0,
           0,
           0.6676955819129944
          ]
         ]
        },
        {
         "coloraxis": "coloraxis",
         "hovertemplate": "x: %{x}<br>y: %{y}<br>color: %{z}<extra></extra>",
         "name": "2",
         "type": "heatmap",
         "x": [
          "<|endoftext|>_0",
          "Windows_1",
          " Emb_2",
          "edded_3",
          " Compact_4",
          " is_5",
          " created_6",
          " by_7",
          " maternal_8",
          " Windows_9",
          " Emb_10",
          "edded_11",
          " Compact_12",
          " is_13",
          " created_14",
          " by_15"
         ],
         "xaxis": "x3",
         "yaxis": "y3",
         "z": [
          [
           0,
           0,
           0,
           0,
           0,
           0,
           0,
           0,
           3.714001417160034,
           0.050353869795799255,
           -0.0001693737431196496,
           0.00548618845641613,
           -0.011046535335481167,
           -0.005453227553516626,
           0.007074582390487194,
           0.011562804691493511
          ],
          [
           0,
           0,
           0,
           0,
           0,
           0,
           0,
           0,
           0.2948846220970154,
           0.01931448094546795,
           -0.0037713563069701195,
           0.00032755552092567086,
           -0.0004364806227385998,
           -0.014567689970135689,
           -0.012299744412302971,
           0.022608375176787376
          ],
          [
           0,
           0,
           0,
           0,
           0,
           0,
           0,
           0,
           0.34417811036109924,
           0.005413688253611326,
           -0.011533448472619057,
           -0.002949722344055772,
           0.005078679881989956,
           -0.00645034434273839,
           -0.0035895113833248615,
           0.04471774399280548
          ],
          [
           0,
           0,
           0,
           0,
           0,
           0,
           0,
           0,
           0.3364109694957733,
           -0.05384358763694763,
           0.0008253270061686635,
           -0.0023298764135688543,
           -0.000758334354031831,
           0.00034419892472214997,
           -0.0031596266198903322,
           0.030601991340517998
          ],
          [
           0,
           0,
           0,
           0,
           0,
           0,
           0,
           0,
           0.4364749491214752,
           -0.03819331154227257,
           0.010870556347072124,
           -0.0020794582087546587,
           0.01396050676703453,
           -0.009670794010162354,
           -0.006103672087192535,
           0.008976699784398079
          ],
          [
           0,
           0,
           0,
           0,
           0,
           0,
           0,
           0,
           0.3744703531265259,
           -0.026438292115926743,
           0.0029872101731598377,
           0.016285410150885582,
           0.016075359657406807,
           0.003386891447007656,
           0.0013238507090136409,
           -0.022302279248833656
          ],
          [
           0,
           0,
           0,
           0,
           0,
           0,
           0,
           0,
           0.20840823650360107,
           0.02112296223640442,
           -0.010377445258200169,
           0.0005317699979059398,
           -0.004809005651623011,
           -0.042688727378845215,
           -0.03333285078406334,
           -0.06085599586367607
          ],
          [
           0,
           0,
           0,
           0,
           0,
           0,
           0,
           0,
           0.2424313724040985,
           0.00011615455150604248,
           0.0005556755932047963,
           0.008051758632063866,
           0.012915258295834064,
           -0.004049265291541815,
           -0.001309042563661933,
           0.03740888833999634
          ],
          [
           0,
           0,
           0,
           0,
           0,
           0,
           0,
           0,
           0.09913387149572372,
           -0.007796639110893011,
           -0.0004144090344198048,
           0.0005536710959859192,
           0.0009541940526105464,
           0.0020790225826203823,
           -0.0006328475428745151,
           -0.1689824014902115
          ],
          [
           0,
           0,
           0,
           0,
           0,
           0,
           0,
           0,
           0.021857360377907753,
           -0.006216997746378183,
           0.0015754556516185403,
           -0.000631931412499398,
           -0.0005749380216002464,
           0.0004923403030261397,
           -0.0004293930542189628,
           0.14089952409267426
          ],
          [
           0,
           0,
           0,
           0,
           0,
           0,
           0,
           0,
           0.02770414762198925,
           -0.0039384509436786175,
           0.0006009399658069015,
           -0.0016687684692442417,
           -0.0009940427262336016,
           0.00026362479547969997,
           -0.00011344551603542641,
           0.33854347467422485
          ],
          [
           0,
           0,
           0,
           0,
           0,
           0,
           0,
           0,
           0,
           0,
           0,
           0,
           0,
           0,
           0,
           0.01219424232840538
          ]
         ]
        }
       ],
       "layout": {
        "annotations": [
         {
          "font": {},
          "showarrow": false,
          "text": "Residual Stream",
          "x": 0.15999999999999998,
          "xanchor": "center",
          "xref": "paper",
          "y": 1,
          "yanchor": "bottom",
          "yref": "paper"
         },
         {
          "font": {},
          "showarrow": false,
          "text": "Attn Output",
          "x": 0.49999999999999994,
          "xanchor": "center",
          "xref": "paper",
          "y": 1,
          "yanchor": "bottom",
          "yref": "paper"
         },
         {
          "font": {},
          "showarrow": false,
          "text": "MLP Output",
          "x": 0.8399999999999999,
          "xanchor": "center",
          "xref": "paper",
          "y": 1,
          "yanchor": "bottom",
          "yref": "paper"
         }
        ],
        "coloraxis": {
         "cmid": 0,
         "colorscale": [
          [
           0,
           "rgb(103,0,31)"
          ],
          [
           0.1,
           "rgb(178,24,43)"
          ],
          [
           0.2,
           "rgb(214,96,77)"
          ],
          [
           0.3,
           "rgb(244,165,130)"
          ],
          [
           0.4,
           "rgb(253,219,199)"
          ],
          [
           0.5,
           "rgb(247,247,247)"
          ],
          [
           0.6,
           "rgb(209,229,240)"
          ],
          [
           0.7,
           "rgb(146,197,222)"
          ],
          [
           0.8,
           "rgb(67,147,195)"
          ],
          [
           0.9,
           "rgb(33,102,172)"
          ],
          [
           1,
           "rgb(5,48,97)"
          ]
         ]
        },
        "template": {
         "data": {
          "bar": [
           {
            "error_x": {
             "color": "#2a3f5f"
            },
            "error_y": {
             "color": "#2a3f5f"
            },
            "marker": {
             "line": {
              "color": "#E5ECF6",
              "width": 0.5
             },
             "pattern": {
              "fillmode": "overlay",
              "size": 10,
              "solidity": 0.2
             }
            },
            "type": "bar"
           }
          ],
          "barpolar": [
           {
            "marker": {
             "line": {
              "color": "#E5ECF6",
              "width": 0.5
             },
             "pattern": {
              "fillmode": "overlay",
              "size": 10,
              "solidity": 0.2
             }
            },
            "type": "barpolar"
           }
          ],
          "carpet": [
           {
            "aaxis": {
             "endlinecolor": "#2a3f5f",
             "gridcolor": "white",
             "linecolor": "white",
             "minorgridcolor": "white",
             "startlinecolor": "#2a3f5f"
            },
            "baxis": {
             "endlinecolor": "#2a3f5f",
             "gridcolor": "white",
             "linecolor": "white",
             "minorgridcolor": "white",
             "startlinecolor": "#2a3f5f"
            },
            "type": "carpet"
           }
          ],
          "choropleth": [
           {
            "colorbar": {
             "outlinewidth": 0,
             "ticks": ""
            },
            "type": "choropleth"
           }
          ],
          "contour": [
           {
            "colorbar": {
             "outlinewidth": 0,
             "ticks": ""
            },
            "colorscale": [
             [
              0,
              "#0d0887"
             ],
             [
              0.1111111111111111,
              "#46039f"
             ],
             [
              0.2222222222222222,
              "#7201a8"
             ],
             [
              0.3333333333333333,
              "#9c179e"
             ],
             [
              0.4444444444444444,
              "#bd3786"
             ],
             [
              0.5555555555555556,
              "#d8576b"
             ],
             [
              0.6666666666666666,
              "#ed7953"
             ],
             [
              0.7777777777777778,
              "#fb9f3a"
             ],
             [
              0.8888888888888888,
              "#fdca26"
             ],
             [
              1,
              "#f0f921"
             ]
            ],
            "type": "contour"
           }
          ],
          "contourcarpet": [
           {
            "colorbar": {
             "outlinewidth": 0,
             "ticks": ""
            },
            "type": "contourcarpet"
           }
          ],
          "heatmap": [
           {
            "colorbar": {
             "outlinewidth": 0,
             "ticks": ""
            },
            "colorscale": [
             [
              0,
              "#0d0887"
             ],
             [
              0.1111111111111111,
              "#46039f"
             ],
             [
              0.2222222222222222,
              "#7201a8"
             ],
             [
              0.3333333333333333,
              "#9c179e"
             ],
             [
              0.4444444444444444,
              "#bd3786"
             ],
             [
              0.5555555555555556,
              "#d8576b"
             ],
             [
              0.6666666666666666,
              "#ed7953"
             ],
             [
              0.7777777777777778,
              "#fb9f3a"
             ],
             [
              0.8888888888888888,
              "#fdca26"
             ],
             [
              1,
              "#f0f921"
             ]
            ],
            "type": "heatmap"
           }
          ],
          "heatmapgl": [
           {
            "colorbar": {
             "outlinewidth": 0,
             "ticks": ""
            },
            "colorscale": [
             [
              0,
              "#0d0887"
             ],
             [
              0.1111111111111111,
              "#46039f"
             ],
             [
              0.2222222222222222,
              "#7201a8"
             ],
             [
              0.3333333333333333,
              "#9c179e"
             ],
             [
              0.4444444444444444,
              "#bd3786"
             ],
             [
              0.5555555555555556,
              "#d8576b"
             ],
             [
              0.6666666666666666,
              "#ed7953"
             ],
             [
              0.7777777777777778,
              "#fb9f3a"
             ],
             [
              0.8888888888888888,
              "#fdca26"
             ],
             [
              1,
              "#f0f921"
             ]
            ],
            "type": "heatmapgl"
           }
          ],
          "histogram": [
           {
            "marker": {
             "pattern": {
              "fillmode": "overlay",
              "size": 10,
              "solidity": 0.2
             }
            },
            "type": "histogram"
           }
          ],
          "histogram2d": [
           {
            "colorbar": {
             "outlinewidth": 0,
             "ticks": ""
            },
            "colorscale": [
             [
              0,
              "#0d0887"
             ],
             [
              0.1111111111111111,
              "#46039f"
             ],
             [
              0.2222222222222222,
              "#7201a8"
             ],
             [
              0.3333333333333333,
              "#9c179e"
             ],
             [
              0.4444444444444444,
              "#bd3786"
             ],
             [
              0.5555555555555556,
              "#d8576b"
             ],
             [
              0.6666666666666666,
              "#ed7953"
             ],
             [
              0.7777777777777778,
              "#fb9f3a"
             ],
             [
              0.8888888888888888,
              "#fdca26"
             ],
             [
              1,
              "#f0f921"
             ]
            ],
            "type": "histogram2d"
           }
          ],
          "histogram2dcontour": [
           {
            "colorbar": {
             "outlinewidth": 0,
             "ticks": ""
            },
            "colorscale": [
             [
              0,
              "#0d0887"
             ],
             [
              0.1111111111111111,
              "#46039f"
             ],
             [
              0.2222222222222222,
              "#7201a8"
             ],
             [
              0.3333333333333333,
              "#9c179e"
             ],
             [
              0.4444444444444444,
              "#bd3786"
             ],
             [
              0.5555555555555556,
              "#d8576b"
             ],
             [
              0.6666666666666666,
              "#ed7953"
             ],
             [
              0.7777777777777778,
              "#fb9f3a"
             ],
             [
              0.8888888888888888,
              "#fdca26"
             ],
             [
              1,
              "#f0f921"
             ]
            ],
            "type": "histogram2dcontour"
           }
          ],
          "mesh3d": [
           {
            "colorbar": {
             "outlinewidth": 0,
             "ticks": ""
            },
            "type": "mesh3d"
           }
          ],
          "parcoords": [
           {
            "line": {
             "colorbar": {
              "outlinewidth": 0,
              "ticks": ""
             }
            },
            "type": "parcoords"
           }
          ],
          "pie": [
           {
            "automargin": true,
            "type": "pie"
           }
          ],
          "scatter": [
           {
            "fillpattern": {
             "fillmode": "overlay",
             "size": 10,
             "solidity": 0.2
            },
            "type": "scatter"
           }
          ],
          "scatter3d": [
           {
            "line": {
             "colorbar": {
              "outlinewidth": 0,
              "ticks": ""
             }
            },
            "marker": {
             "colorbar": {
              "outlinewidth": 0,
              "ticks": ""
             }
            },
            "type": "scatter3d"
           }
          ],
          "scattercarpet": [
           {
            "marker": {
             "colorbar": {
              "outlinewidth": 0,
              "ticks": ""
             }
            },
            "type": "scattercarpet"
           }
          ],
          "scattergeo": [
           {
            "marker": {
             "colorbar": {
              "outlinewidth": 0,
              "ticks": ""
             }
            },
            "type": "scattergeo"
           }
          ],
          "scattergl": [
           {
            "marker": {
             "colorbar": {
              "outlinewidth": 0,
              "ticks": ""
             }
            },
            "type": "scattergl"
           }
          ],
          "scattermapbox": [
           {
            "marker": {
             "colorbar": {
              "outlinewidth": 0,
              "ticks": ""
             }
            },
            "type": "scattermapbox"
           }
          ],
          "scatterpolar": [
           {
            "marker": {
             "colorbar": {
              "outlinewidth": 0,
              "ticks": ""
             }
            },
            "type": "scatterpolar"
           }
          ],
          "scatterpolargl": [
           {
            "marker": {
             "colorbar": {
              "outlinewidth": 0,
              "ticks": ""
             }
            },
            "type": "scatterpolargl"
           }
          ],
          "scatterternary": [
           {
            "marker": {
             "colorbar": {
              "outlinewidth": 0,
              "ticks": ""
             }
            },
            "type": "scatterternary"
           }
          ],
          "surface": [
           {
            "colorbar": {
             "outlinewidth": 0,
             "ticks": ""
            },
            "colorscale": [
             [
              0,
              "#0d0887"
             ],
             [
              0.1111111111111111,
              "#46039f"
             ],
             [
              0.2222222222222222,
              "#7201a8"
             ],
             [
              0.3333333333333333,
              "#9c179e"
             ],
             [
              0.4444444444444444,
              "#bd3786"
             ],
             [
              0.5555555555555556,
              "#d8576b"
             ],
             [
              0.6666666666666666,
              "#ed7953"
             ],
             [
              0.7777777777777778,
              "#fb9f3a"
             ],
             [
              0.8888888888888888,
              "#fdca26"
             ],
             [
              1,
              "#f0f921"
             ]
            ],
            "type": "surface"
           }
          ],
          "table": [
           {
            "cells": {
             "fill": {
              "color": "#EBF0F8"
             },
             "line": {
              "color": "white"
             }
            },
            "header": {
             "fill": {
              "color": "#C8D4E3"
             },
             "line": {
              "color": "white"
             }
            },
            "type": "table"
           }
          ]
         },
         "layout": {
          "annotationdefaults": {
           "arrowcolor": "#2a3f5f",
           "arrowhead": 0,
           "arrowwidth": 1
          },
          "autotypenumbers": "strict",
          "coloraxis": {
           "colorbar": {
            "outlinewidth": 0,
            "ticks": ""
           }
          },
          "colorscale": {
           "diverging": [
            [
             0,
             "#8e0152"
            ],
            [
             0.1,
             "#c51b7d"
            ],
            [
             0.2,
             "#de77ae"
            ],
            [
             0.3,
             "#f1b6da"
            ],
            [
             0.4,
             "#fde0ef"
            ],
            [
             0.5,
             "#f7f7f7"
            ],
            [
             0.6,
             "#e6f5d0"
            ],
            [
             0.7,
             "#b8e186"
            ],
            [
             0.8,
             "#7fbc41"
            ],
            [
             0.9,
             "#4d9221"
            ],
            [
             1,
             "#276419"
            ]
           ],
           "sequential": [
            [
             0,
             "#0d0887"
            ],
            [
             0.1111111111111111,
             "#46039f"
            ],
            [
             0.2222222222222222,
             "#7201a8"
            ],
            [
             0.3333333333333333,
             "#9c179e"
            ],
            [
             0.4444444444444444,
             "#bd3786"
            ],
            [
             0.5555555555555556,
             "#d8576b"
            ],
            [
             0.6666666666666666,
             "#ed7953"
            ],
            [
             0.7777777777777778,
             "#fb9f3a"
            ],
            [
             0.8888888888888888,
             "#fdca26"
            ],
            [
             1,
             "#f0f921"
            ]
           ],
           "sequentialminus": [
            [
             0,
             "#0d0887"
            ],
            [
             0.1111111111111111,
             "#46039f"
            ],
            [
             0.2222222222222222,
             "#7201a8"
            ],
            [
             0.3333333333333333,
             "#9c179e"
            ],
            [
             0.4444444444444444,
             "#bd3786"
            ],
            [
             0.5555555555555556,
             "#d8576b"
            ],
            [
             0.6666666666666666,
             "#ed7953"
            ],
            [
             0.7777777777777778,
             "#fb9f3a"
            ],
            [
             0.8888888888888888,
             "#fdca26"
            ],
            [
             1,
             "#f0f921"
            ]
           ]
          },
          "colorway": [
           "#636efa",
           "#EF553B",
           "#00cc96",
           "#ab63fa",
           "#FFA15A",
           "#19d3f3",
           "#FF6692",
           "#B6E880",
           "#FF97FF",
           "#FECB52"
          ],
          "font": {
           "color": "#2a3f5f"
          },
          "geo": {
           "bgcolor": "white",
           "lakecolor": "white",
           "landcolor": "#E5ECF6",
           "showlakes": true,
           "showland": true,
           "subunitcolor": "white"
          },
          "hoverlabel": {
           "align": "left"
          },
          "hovermode": "closest",
          "mapbox": {
           "style": "light"
          },
          "paper_bgcolor": "white",
          "plot_bgcolor": "#E5ECF6",
          "polar": {
           "angularaxis": {
            "gridcolor": "white",
            "linecolor": "white",
            "ticks": ""
           },
           "bgcolor": "#E5ECF6",
           "radialaxis": {
            "gridcolor": "white",
            "linecolor": "white",
            "ticks": ""
           }
          },
          "scene": {
           "xaxis": {
            "backgroundcolor": "#E5ECF6",
            "gridcolor": "white",
            "gridwidth": 2,
            "linecolor": "white",
            "showbackground": true,
            "ticks": "",
            "zerolinecolor": "white"
           },
           "yaxis": {
            "backgroundcolor": "#E5ECF6",
            "gridcolor": "white",
            "gridwidth": 2,
            "linecolor": "white",
            "showbackground": true,
            "ticks": "",
            "zerolinecolor": "white"
           },
           "zaxis": {
            "backgroundcolor": "#E5ECF6",
            "gridcolor": "white",
            "gridwidth": 2,
            "linecolor": "white",
            "showbackground": true,
            "ticks": "",
            "zerolinecolor": "white"
           }
          },
          "shapedefaults": {
           "line": {
            "color": "#2a3f5f"
           }
          },
          "ternary": {
           "aaxis": {
            "gridcolor": "white",
            "linecolor": "white",
            "ticks": ""
           },
           "baxis": {
            "gridcolor": "white",
            "linecolor": "white",
            "ticks": ""
           },
           "bgcolor": "#E5ECF6",
           "caxis": {
            "gridcolor": "white",
            "linecolor": "white",
            "ticks": ""
           }
          },
          "title": {
           "x": 0.05
          },
          "xaxis": {
           "automargin": true,
           "gridcolor": "white",
           "linecolor": "white",
           "ticks": "",
           "title": {
            "standoff": 15
           },
           "zerolinecolor": "white",
           "zerolinewidth": 2
          },
          "yaxis": {
           "automargin": true,
           "gridcolor": "white",
           "linecolor": "white",
           "ticks": "",
           "title": {
            "standoff": 15
           },
           "zerolinecolor": "white",
           "zerolinewidth": 2
          }
         }
        },
        "title": {
         "text": "Activation Patching Per Block"
        },
        "xaxis": {
         "anchor": "y",
         "domain": [
          0,
          0.31999999999999995
         ],
         "title": {
          "text": "Position"
         }
        },
        "xaxis2": {
         "anchor": "y2",
         "domain": [
          0.33999999999999997,
          0.6599999999999999
         ],
         "matches": "x",
         "title": {
          "text": "Position"
         }
        },
        "xaxis3": {
         "anchor": "y3",
         "domain": [
          0.6799999999999999,
          0.9999999999999999
         ],
         "matches": "x",
         "title": {
          "text": "Position"
         }
        },
        "yaxis": {
         "anchor": "x",
         "autorange": "reversed",
         "domain": [
          0,
          1
         ],
         "title": {
          "text": "Layer"
         }
        },
        "yaxis2": {
         "anchor": "x2",
         "domain": [
          0,
          1
         ],
         "matches": "y",
         "showticklabels": false
        },
        "yaxis3": {
         "anchor": "x3",
         "domain": [
          0,
          1
         ],
         "matches": "y",
         "showticklabels": false
        }
       }
      }
     },
     "metadata": {},
     "output_type": "display_data"
    }
   ],
   "source": [
    "imshow(\n",
    "    data[\"neg\"][\"patch_per_block\"][\"mean\"][0,:,:,:],\n",
    "    facet_col=0,\n",
    "    facet_labels=[\"Residual Stream\", \"Attn Output\", \"MLP Output\"],\n",
    "    title=\"Activation Patching Per Block\",\n",
    "    xaxis=\"Position\",\n",
    "    yaxis=\"Layer\",\n",
    "    # zmax=1,\n",
    "    # zmin=-1,\n",
    "    x=[f\"{tok}_{i}\" for i, tok in enumerate(data[\"pos\"][\"example_str_token\"])],\n",
    ")"
   ]
  },
  {
   "cell_type": "code",
   "execution_count": 295,
   "metadata": {},
   "outputs": [
    {
     "data": {
      "application/vnd.plotly.v1+json": {
       "config": {
        "plotlyServerURL": "https://plot.ly"
       },
       "data": [
        {
         "coloraxis": "coloraxis",
         "hovertemplate": "x: %{x}<br>y: %{y}<br>color: %{z}<extra></extra>",
         "name": "0",
         "type": "heatmap",
         "x": [
          "<|endoftext|>_0",
          "Windows_1",
          " Emb_2",
          "edded_3",
          " Compact_4",
          " is_5",
          " created_6",
          " by_7",
          " maternal_8",
          " Windows_9",
          " Emb_10",
          "edded_11",
          " Compact_12",
          " is_13",
          " created_14",
          " by_15"
         ],
         "xaxis": "x",
         "yaxis": "y",
         "z": [
          [
           0,
           0,
           0,
           0,
           0,
           0,
           0,
           0,
           3.960146427154541,
           0,
           0,
           0,
           0,
           0,
           0,
           0
          ],
          [
           0,
           0,
           0,
           0,
           0,
           0,
           0,
           0,
           3.951960563659668,
           0.05175144597887993,
           -0.0013387619983404875,
           -0.005754557903856039,
           -0.014907035045325756,
           -0.015207437798380852,
           -0.006385948974639177,
           0.11353763937950134
          ],
          [
           0,
           0,
           0,
           0,
           0,
           0,
           0,
           0,
           3.9597489833831787,
           0.09102293848991394,
           0.0007265359163284302,
           -0.002962104044854641,
           -0.014598699286580086,
           -0.02871406450867653,
           -0.010173419490456581,
           0.12962718307971954
          ],
          [
           0,
           0,
           0,
           0,
           0,
           0,
           0,
           0,
           3.785175085067749,
           0.2298278957605362,
           0.0031778274569660425,
           -0.014091942459344864,
           -0.002880058716982603,
           -0.03087788261473179,
           -0.021118994802236557,
           0.13416874408721924
          ],
          [
           0,
           0,
           0,
           0,
           0,
           0,
           0,
           0,
           3.7169432640075684,
           0.2666001319885254,
           -0.0017746280645951629,
           -0.02017325907945633,
           -0.011864738538861275,
           -0.02006533183157444,
           -0.034420862793922424,
           0.14805562794208527
          ],
          [
           0,
           0,
           0,
           0,
           0,
           0,
           0,
           0,
           3.666842460632324,
           0.3808935582637787,
           -0.014256555587053299,
           -0.02365817502140999,
           -0.0015251892618834972,
           -0.009199989028275013,
           -0.04009319096803665,
           0.15537850558757782
          ],
          [
           0,
           0,
           0,
           0,
           0,
           0,
           0,
           0,
           3.4881222248077393,
           0.3165625035762787,
           -0.012415623292326927,
           -0.015224744565784931,
           -0.0017395210452377796,
           -0.011981832794845104,
           -0.027367398142814636,
           0.8111528754234314
          ],
          [
           0,
           0,
           0,
           0,
           0,
           0,
           0,
           0,
           3.2187206745147705,
           0.3176536560058594,
           -0.013898225501179695,
           -0.02623314969241619,
           0.01767779141664505,
           -0.0034610985312610865,
           -0.0427914597094059,
           1.0888673067092896
          ],
          [
           0,
           0,
           0,
           0,
           0,
           0,
           0,
           0,
           2.5710301399230957,
           0.20688176155090332,
           -0.01021130383014679,
           -0.01724482886493206,
           0.0000347501045325771,
           -0.004230831749737263,
           -0.04227323457598686,
           2.071810007095337
          ],
          [
           0,
           0,
           0,
           0,
           0,
           0,
           0,
           0,
           2.195396900177002,
           0.1887979805469513,
           -0.0006323754787445068,
           -0.0019134818576276302,
           -0.002032720949500799,
           -0.001142562017776072,
           -0.007348124869167805,
           2.1925909519195557
          ],
          [
           0,
           0,
           0,
           0,
           0,
           0,
           0,
           0,
           1.8985304832458496,
           0.12687481939792633,
           0.0025078982580453157,
           0.00777771882712841,
           0.003972181584686041,
           0.005078436806797981,
           0.0031199257355183363,
           2.9862608909606934
          ],
          [
           0,
           0,
           0,
           0,
           0,
           0,
           0,
           0,
           0.9009619951248169,
           0.04632003232836723,
           0.006319799926131964,
           0.008004841394722462,
           0.005155959632247686,
           0.004212100990116596,
           0.004510119091719389,
           3.811781883239746
          ]
         ]
        },
        {
         "coloraxis": "coloraxis",
         "hovertemplate": "x: %{x}<br>y: %{y}<br>color: %{z}<extra></extra>",
         "name": "1",
         "type": "heatmap",
         "x": [
          "<|endoftext|>_0",
          "Windows_1",
          " Emb_2",
          "edded_3",
          " Compact_4",
          " is_5",
          " created_6",
          " by_7",
          " maternal_8",
          " Windows_9",
          " Emb_10",
          "edded_11",
          " Compact_12",
          " is_13",
          " created_14",
          " by_15"
         ],
         "xaxis": "x2",
         "yaxis": "y2",
         "z": [
          [
           0,
           0,
           0,
           0,
           0,
           0,
           0,
           0,
           1.4520070552825928,
           0.05175144597887993,
           -0.0013387619983404875,
           -0.005754557903856039,
           -0.014907035045325756,
           -0.015207437798380852,
           -0.006385948974639177,
           0.11353763937950134
          ],
          [
           0,
           0,
           0,
           0,
           0,
           0,
           0,
           0,
           -1.9653716087341309,
           -0.10155505686998367,
           0.021275948733091354,
           0.015355908311903477,
           0.0038487177807837725,
           -0.019215168431401253,
           -0.0018152426928281784,
           -0.0245978906750679
          ],
          [
           0,
           0,
           0,
           0,
           0,
           0,
           0,
           0,
           -0.05170385167002678,
           0.1416945606470108,
           0.008590785786509514,
           0.003550739260390401,
           0.00664511090144515,
           -0.0007539910147897899,
           -0.001644123112782836,
           0.013451195321977139
          ],
          [
           0,
           0,
           0,
           0,
           0,
           0,
           0,
           0,
           0.04539238661527634,
           0.06868255138397217,
           -0.00847955048084259,
           -0.005574729293584824,
           -0.0028372949454933405,
           0.0020311952102929354,
           -0.010480011813342571,
           0.022107578814029694
          ],
          [
           0,
           0,
           0,
           0,
           0,
           0,
           0,
           0,
           0.0696842148900032,
           0.07034628093242645,
           -0.008277078159153461,
           -0.007153575774282217,
           0.009230031631886959,
           0.0029019599314779043,
           -0.003364154603332281,
           0.007887176238000393
          ],
          [
           0,
           0,
           0,
           0,
           0,
           0,
           0,
           0,
           0.05045704543590546,
           0.015392239205539227,
           0.003415842540562153,
           0.01868852786719799,
           -0.001360574970021844,
           0.006669154390692711,
           0.02882586419582367,
           0.7895312309265137
          ],
          [
           0,
           0,
           0,
           0,
           0,
           0,
           0,
           0,
           0.07784835249185562,
           0.012971014715731144,
           -0.00856572575867176,
           -0.022930754348635674,
           0.013975183479487896,
           0.00644691102206707,
           -0.026045894250273705,
           0.22902175784111023
          ],
          [
           0,
           0,
           0,
           0,
           0,
           0,
           0,
           0,
           0.017673473805189133,
           0.016915835440158844,
           -0.0021909349597990513,
           -0.006404707208275795,
           0.0034341488499194384,
           -0.0025435423012822866,
           -0.01914103701710701,
           1.6010843515396118
          ],
          [
           0,
           0,
           0,
           0,
           0,
           0,
           0,
           0,
           0.016981353983283043,
           0.016150368377566338,
           -0.00041043758392333984,
           -0.0021165686193853617,
           -0.001008518855087459,
           -0.0006497865542769432,
           -0.004208695143461227,
           -0.0779137834906578
          ],
          [
           0,
           0,
           0,
           0,
           0,
           0,
           0,
           0,
           0.024151945486664772,
           0.006383122876286507,
           0.0017132663633674383,
           0.003442363115027547,
           0.003459610277786851,
           0.0016533064190298319,
           0.0029256700072437525,
           0.9944565296173096
          ],
          [
           0,
           0,
           0,
           0,
           0,
           0,
           0,
           0,
           0.006002752110362053,
           0.0043226853013038635,
           0.004111799877136946,
           0.0038455049507319927,
           0.003059151815250516,
           0.0010278475238010287,
           0.0038512961473315954,
           1.3675901889801025
          ],
          [
           0,
           0,
           0,
           0,
           0,
           0,
           0,
           0,
           0,
           0,
           0,
           0,
           0,
           0,
           0,
           0.5852556824684143
          ]
         ]
        },
        {
         "coloraxis": "coloraxis",
         "hovertemplate": "x: %{x}<br>y: %{y}<br>color: %{z}<extra></extra>",
         "name": "2",
         "type": "heatmap",
         "x": [
          "<|endoftext|>_0",
          "Windows_1",
          " Emb_2",
          "edded_3",
          " Compact_4",
          " is_5",
          " created_6",
          " by_7",
          " maternal_8",
          " Windows_9",
          " Emb_10",
          "edded_11",
          " Compact_12",
          " is_13",
          " created_14",
          " by_15"
         ],
         "xaxis": "x3",
         "yaxis": "y3",
         "z": [
          [
           0,
           0,
           0,
           0,
           0,
           0,
           0,
           0,
           3.7728612422943115,
           0.06496219336986542,
           0.015622940845787525,
           -0.002837421139702201,
           -0.029983265325427055,
           -0.014545622281730175,
           0.005025640595704317,
           0.03802517056465149
          ],
          [
           0,
           0,
           0,
           0,
           0,
           0,
           0,
           0,
           -0.030140932649374008,
           -0.10721217840909958,
           0.0026234446559101343,
           0.007162950001657009,
           0.006603439338505268,
           -0.0022198122460395098,
           0.00006222665251698345,
           0.03373086079955101
          ],
          [
           0,
           0,
           0,
           0,
           0,
           0,
           0,
           0,
           0.3287777304649353,
           0.07580412924289703,
           0.00842757523059845,
           -0.0076034837402403355,
           0.012810315936803818,
           0.0022090000566095114,
           0.019123734906315804,
           0.04975346475839615
          ],
          [
           0,
           0,
           0,
           0,
           0,
           0,
           0,
           0,
           0.2678660750389099,
           -0.01430100854486227,
           0.0005768287228420377,
           -0.008142217062413692,
           0.0036753404419869184,
           -0.008154485374689102,
           -0.004186639096587896,
           0.030574513599276543
          ],
          [
           0,
           0,
           0,
           0,
           0,
           0,
           0,
           0,
           0.29707786440849304,
           -0.0365854911506176,
           0.004300531465560198,
           -0.003197781275957823,
           0.02006056345999241,
           0.01395366434007883,
           -0.0033009438775479794,
           0.007357120979577303
          ],
          [
           0,
           0,
           0,
           0,
           0,
           0,
           0,
           0,
           0.3610554039478302,
           -0.03499714285135269,
           -0.007743394933640957,
           0.005863621830940247,
           0.020076721906661987,
           -0.021361274644732475,
           -0.01819707825779915,
           0.11727632582187653
          ],
          [
           0,
           0,
           0,
           0,
           0,
           0,
           0,
           0,
           0.1146865114569664,
           -0.01163214910775423,
           -0.001098810462281108,
           -0.013349471613764763,
           0.0160643570125103,
           -0.01459452137351036,
           -0.017251407727599144,
           -0.10723508894443512
          ],
          [
           0,
           0,
           0,
           0,
           0,
           0,
           0,
           0,
           0.21294549107551575,
           0.010190190747380257,
           0.0021418589167296886,
           -0.00194136134814471,
           0.0123541709035635,
           0.007908071391284466,
           -0.0032042968086898327,
           -0.014494361355900764
          ],
          [
           0,
           0,
           0,
           0,
           0,
           0,
           0,
           0,
           0.09522180259227753,
           0.005619832780212164,
           -0.001531544839963317,
           0.0008407949935644865,
           0.00045110165956430137,
           -0.0010092294542118907,
           -0.005409684032201767,
           -0.18575020134449005
          ],
          [
           0,
           0,
           0,
           0,
           0,
           0,
           0,
           0,
           -0.04612477496266365,
           -0.001471154042519629,
           0.00034439979935996234,
           0.0005560344434343278,
           -0.00037708101444877684,
           0.00002766609213722404,
           -0.0003183925000485033,
           0.008823385462164879
          ],
          [
           0,
           0,
           0,
           0,
           0,
           0,
           0,
           0,
           -0.03434312343597412,
           -0.0019652259070426226,
           0.00011249422823311761,
           0.0009099000599235296,
           0.00009167969255940989,
           0.00042583642061799765,
           0.00004286110197426751,
           0.2963663935661316
          ],
          [
           0,
           0,
           0,
           0,
           0,
           0,
           0,
           0,
           0,
           0,
           0,
           0,
           0,
           0,
           0,
           0.03605878725647926
          ]
         ]
        }
       ],
       "layout": {
        "annotations": [
         {
          "font": {},
          "showarrow": false,
          "text": "Residual Stream",
          "x": 0.15999999999999998,
          "xanchor": "center",
          "xref": "paper",
          "y": 1,
          "yanchor": "bottom",
          "yref": "paper"
         },
         {
          "font": {},
          "showarrow": false,
          "text": "Attn Output",
          "x": 0.49999999999999994,
          "xanchor": "center",
          "xref": "paper",
          "y": 1,
          "yanchor": "bottom",
          "yref": "paper"
         },
         {
          "font": {},
          "showarrow": false,
          "text": "MLP Output",
          "x": 0.8399999999999999,
          "xanchor": "center",
          "xref": "paper",
          "y": 1,
          "yanchor": "bottom",
          "yref": "paper"
         }
        ],
        "coloraxis": {
         "cmid": 0,
         "colorscale": [
          [
           0,
           "rgb(103,0,31)"
          ],
          [
           0.1,
           "rgb(178,24,43)"
          ],
          [
           0.2,
           "rgb(214,96,77)"
          ],
          [
           0.3,
           "rgb(244,165,130)"
          ],
          [
           0.4,
           "rgb(253,219,199)"
          ],
          [
           0.5,
           "rgb(247,247,247)"
          ],
          [
           0.6,
           "rgb(209,229,240)"
          ],
          [
           0.7,
           "rgb(146,197,222)"
          ],
          [
           0.8,
           "rgb(67,147,195)"
          ],
          [
           0.9,
           "rgb(33,102,172)"
          ],
          [
           1,
           "rgb(5,48,97)"
          ]
         ]
        },
        "template": {
         "data": {
          "bar": [
           {
            "error_x": {
             "color": "#2a3f5f"
            },
            "error_y": {
             "color": "#2a3f5f"
            },
            "marker": {
             "line": {
              "color": "#E5ECF6",
              "width": 0.5
             },
             "pattern": {
              "fillmode": "overlay",
              "size": 10,
              "solidity": 0.2
             }
            },
            "type": "bar"
           }
          ],
          "barpolar": [
           {
            "marker": {
             "line": {
              "color": "#E5ECF6",
              "width": 0.5
             },
             "pattern": {
              "fillmode": "overlay",
              "size": 10,
              "solidity": 0.2
             }
            },
            "type": "barpolar"
           }
          ],
          "carpet": [
           {
            "aaxis": {
             "endlinecolor": "#2a3f5f",
             "gridcolor": "white",
             "linecolor": "white",
             "minorgridcolor": "white",
             "startlinecolor": "#2a3f5f"
            },
            "baxis": {
             "endlinecolor": "#2a3f5f",
             "gridcolor": "white",
             "linecolor": "white",
             "minorgridcolor": "white",
             "startlinecolor": "#2a3f5f"
            },
            "type": "carpet"
           }
          ],
          "choropleth": [
           {
            "colorbar": {
             "outlinewidth": 0,
             "ticks": ""
            },
            "type": "choropleth"
           }
          ],
          "contour": [
           {
            "colorbar": {
             "outlinewidth": 0,
             "ticks": ""
            },
            "colorscale": [
             [
              0,
              "#0d0887"
             ],
             [
              0.1111111111111111,
              "#46039f"
             ],
             [
              0.2222222222222222,
              "#7201a8"
             ],
             [
              0.3333333333333333,
              "#9c179e"
             ],
             [
              0.4444444444444444,
              "#bd3786"
             ],
             [
              0.5555555555555556,
              "#d8576b"
             ],
             [
              0.6666666666666666,
              "#ed7953"
             ],
             [
              0.7777777777777778,
              "#fb9f3a"
             ],
             [
              0.8888888888888888,
              "#fdca26"
             ],
             [
              1,
              "#f0f921"
             ]
            ],
            "type": "contour"
           }
          ],
          "contourcarpet": [
           {
            "colorbar": {
             "outlinewidth": 0,
             "ticks": ""
            },
            "type": "contourcarpet"
           }
          ],
          "heatmap": [
           {
            "colorbar": {
             "outlinewidth": 0,
             "ticks": ""
            },
            "colorscale": [
             [
              0,
              "#0d0887"
             ],
             [
              0.1111111111111111,
              "#46039f"
             ],
             [
              0.2222222222222222,
              "#7201a8"
             ],
             [
              0.3333333333333333,
              "#9c179e"
             ],
             [
              0.4444444444444444,
              "#bd3786"
             ],
             [
              0.5555555555555556,
              "#d8576b"
             ],
             [
              0.6666666666666666,
              "#ed7953"
             ],
             [
              0.7777777777777778,
              "#fb9f3a"
             ],
             [
              0.8888888888888888,
              "#fdca26"
             ],
             [
              1,
              "#f0f921"
             ]
            ],
            "type": "heatmap"
           }
          ],
          "heatmapgl": [
           {
            "colorbar": {
             "outlinewidth": 0,
             "ticks": ""
            },
            "colorscale": [
             [
              0,
              "#0d0887"
             ],
             [
              0.1111111111111111,
              "#46039f"
             ],
             [
              0.2222222222222222,
              "#7201a8"
             ],
             [
              0.3333333333333333,
              "#9c179e"
             ],
             [
              0.4444444444444444,
              "#bd3786"
             ],
             [
              0.5555555555555556,
              "#d8576b"
             ],
             [
              0.6666666666666666,
              "#ed7953"
             ],
             [
              0.7777777777777778,
              "#fb9f3a"
             ],
             [
              0.8888888888888888,
              "#fdca26"
             ],
             [
              1,
              "#f0f921"
             ]
            ],
            "type": "heatmapgl"
           }
          ],
          "histogram": [
           {
            "marker": {
             "pattern": {
              "fillmode": "overlay",
              "size": 10,
              "solidity": 0.2
             }
            },
            "type": "histogram"
           }
          ],
          "histogram2d": [
           {
            "colorbar": {
             "outlinewidth": 0,
             "ticks": ""
            },
            "colorscale": [
             [
              0,
              "#0d0887"
             ],
             [
              0.1111111111111111,
              "#46039f"
             ],
             [
              0.2222222222222222,
              "#7201a8"
             ],
             [
              0.3333333333333333,
              "#9c179e"
             ],
             [
              0.4444444444444444,
              "#bd3786"
             ],
             [
              0.5555555555555556,
              "#d8576b"
             ],
             [
              0.6666666666666666,
              "#ed7953"
             ],
             [
              0.7777777777777778,
              "#fb9f3a"
             ],
             [
              0.8888888888888888,
              "#fdca26"
             ],
             [
              1,
              "#f0f921"
             ]
            ],
            "type": "histogram2d"
           }
          ],
          "histogram2dcontour": [
           {
            "colorbar": {
             "outlinewidth": 0,
             "ticks": ""
            },
            "colorscale": [
             [
              0,
              "#0d0887"
             ],
             [
              0.1111111111111111,
              "#46039f"
             ],
             [
              0.2222222222222222,
              "#7201a8"
             ],
             [
              0.3333333333333333,
              "#9c179e"
             ],
             [
              0.4444444444444444,
              "#bd3786"
             ],
             [
              0.5555555555555556,
              "#d8576b"
             ],
             [
              0.6666666666666666,
              "#ed7953"
             ],
             [
              0.7777777777777778,
              "#fb9f3a"
             ],
             [
              0.8888888888888888,
              "#fdca26"
             ],
             [
              1,
              "#f0f921"
             ]
            ],
            "type": "histogram2dcontour"
           }
          ],
          "mesh3d": [
           {
            "colorbar": {
             "outlinewidth": 0,
             "ticks": ""
            },
            "type": "mesh3d"
           }
          ],
          "parcoords": [
           {
            "line": {
             "colorbar": {
              "outlinewidth": 0,
              "ticks": ""
             }
            },
            "type": "parcoords"
           }
          ],
          "pie": [
           {
            "automargin": true,
            "type": "pie"
           }
          ],
          "scatter": [
           {
            "fillpattern": {
             "fillmode": "overlay",
             "size": 10,
             "solidity": 0.2
            },
            "type": "scatter"
           }
          ],
          "scatter3d": [
           {
            "line": {
             "colorbar": {
              "outlinewidth": 0,
              "ticks": ""
             }
            },
            "marker": {
             "colorbar": {
              "outlinewidth": 0,
              "ticks": ""
             }
            },
            "type": "scatter3d"
           }
          ],
          "scattercarpet": [
           {
            "marker": {
             "colorbar": {
              "outlinewidth": 0,
              "ticks": ""
             }
            },
            "type": "scattercarpet"
           }
          ],
          "scattergeo": [
           {
            "marker": {
             "colorbar": {
              "outlinewidth": 0,
              "ticks": ""
             }
            },
            "type": "scattergeo"
           }
          ],
          "scattergl": [
           {
            "marker": {
             "colorbar": {
              "outlinewidth": 0,
              "ticks": ""
             }
            },
            "type": "scattergl"
           }
          ],
          "scattermapbox": [
           {
            "marker": {
             "colorbar": {
              "outlinewidth": 0,
              "ticks": ""
             }
            },
            "type": "scattermapbox"
           }
          ],
          "scatterpolar": [
           {
            "marker": {
             "colorbar": {
              "outlinewidth": 0,
              "ticks": ""
             }
            },
            "type": "scatterpolar"
           }
          ],
          "scatterpolargl": [
           {
            "marker": {
             "colorbar": {
              "outlinewidth": 0,
              "ticks": ""
             }
            },
            "type": "scatterpolargl"
           }
          ],
          "scatterternary": [
           {
            "marker": {
             "colorbar": {
              "outlinewidth": 0,
              "ticks": ""
             }
            },
            "type": "scatterternary"
           }
          ],
          "surface": [
           {
            "colorbar": {
             "outlinewidth": 0,
             "ticks": ""
            },
            "colorscale": [
             [
              0,
              "#0d0887"
             ],
             [
              0.1111111111111111,
              "#46039f"
             ],
             [
              0.2222222222222222,
              "#7201a8"
             ],
             [
              0.3333333333333333,
              "#9c179e"
             ],
             [
              0.4444444444444444,
              "#bd3786"
             ],
             [
              0.5555555555555556,
              "#d8576b"
             ],
             [
              0.6666666666666666,
              "#ed7953"
             ],
             [
              0.7777777777777778,
              "#fb9f3a"
             ],
             [
              0.8888888888888888,
              "#fdca26"
             ],
             [
              1,
              "#f0f921"
             ]
            ],
            "type": "surface"
           }
          ],
          "table": [
           {
            "cells": {
             "fill": {
              "color": "#EBF0F8"
             },
             "line": {
              "color": "white"
             }
            },
            "header": {
             "fill": {
              "color": "#C8D4E3"
             },
             "line": {
              "color": "white"
             }
            },
            "type": "table"
           }
          ]
         },
         "layout": {
          "annotationdefaults": {
           "arrowcolor": "#2a3f5f",
           "arrowhead": 0,
           "arrowwidth": 1
          },
          "autotypenumbers": "strict",
          "coloraxis": {
           "colorbar": {
            "outlinewidth": 0,
            "ticks": ""
           }
          },
          "colorscale": {
           "diverging": [
            [
             0,
             "#8e0152"
            ],
            [
             0.1,
             "#c51b7d"
            ],
            [
             0.2,
             "#de77ae"
            ],
            [
             0.3,
             "#f1b6da"
            ],
            [
             0.4,
             "#fde0ef"
            ],
            [
             0.5,
             "#f7f7f7"
            ],
            [
             0.6,
             "#e6f5d0"
            ],
            [
             0.7,
             "#b8e186"
            ],
            [
             0.8,
             "#7fbc41"
            ],
            [
             0.9,
             "#4d9221"
            ],
            [
             1,
             "#276419"
            ]
           ],
           "sequential": [
            [
             0,
             "#0d0887"
            ],
            [
             0.1111111111111111,
             "#46039f"
            ],
            [
             0.2222222222222222,
             "#7201a8"
            ],
            [
             0.3333333333333333,
             "#9c179e"
            ],
            [
             0.4444444444444444,
             "#bd3786"
            ],
            [
             0.5555555555555556,
             "#d8576b"
            ],
            [
             0.6666666666666666,
             "#ed7953"
            ],
            [
             0.7777777777777778,
             "#fb9f3a"
            ],
            [
             0.8888888888888888,
             "#fdca26"
            ],
            [
             1,
             "#f0f921"
            ]
           ],
           "sequentialminus": [
            [
             0,
             "#0d0887"
            ],
            [
             0.1111111111111111,
             "#46039f"
            ],
            [
             0.2222222222222222,
             "#7201a8"
            ],
            [
             0.3333333333333333,
             "#9c179e"
            ],
            [
             0.4444444444444444,
             "#bd3786"
            ],
            [
             0.5555555555555556,
             "#d8576b"
            ],
            [
             0.6666666666666666,
             "#ed7953"
            ],
            [
             0.7777777777777778,
             "#fb9f3a"
            ],
            [
             0.8888888888888888,
             "#fdca26"
            ],
            [
             1,
             "#f0f921"
            ]
           ]
          },
          "colorway": [
           "#636efa",
           "#EF553B",
           "#00cc96",
           "#ab63fa",
           "#FFA15A",
           "#19d3f3",
           "#FF6692",
           "#B6E880",
           "#FF97FF",
           "#FECB52"
          ],
          "font": {
           "color": "#2a3f5f"
          },
          "geo": {
           "bgcolor": "white",
           "lakecolor": "white",
           "landcolor": "#E5ECF6",
           "showlakes": true,
           "showland": true,
           "subunitcolor": "white"
          },
          "hoverlabel": {
           "align": "left"
          },
          "hovermode": "closest",
          "mapbox": {
           "style": "light"
          },
          "paper_bgcolor": "white",
          "plot_bgcolor": "#E5ECF6",
          "polar": {
           "angularaxis": {
            "gridcolor": "white",
            "linecolor": "white",
            "ticks": ""
           },
           "bgcolor": "#E5ECF6",
           "radialaxis": {
            "gridcolor": "white",
            "linecolor": "white",
            "ticks": ""
           }
          },
          "scene": {
           "xaxis": {
            "backgroundcolor": "#E5ECF6",
            "gridcolor": "white",
            "gridwidth": 2,
            "linecolor": "white",
            "showbackground": true,
            "ticks": "",
            "zerolinecolor": "white"
           },
           "yaxis": {
            "backgroundcolor": "#E5ECF6",
            "gridcolor": "white",
            "gridwidth": 2,
            "linecolor": "white",
            "showbackground": true,
            "ticks": "",
            "zerolinecolor": "white"
           },
           "zaxis": {
            "backgroundcolor": "#E5ECF6",
            "gridcolor": "white",
            "gridwidth": 2,
            "linecolor": "white",
            "showbackground": true,
            "ticks": "",
            "zerolinecolor": "white"
           }
          },
          "shapedefaults": {
           "line": {
            "color": "#2a3f5f"
           }
          },
          "ternary": {
           "aaxis": {
            "gridcolor": "white",
            "linecolor": "white",
            "ticks": ""
           },
           "baxis": {
            "gridcolor": "white",
            "linecolor": "white",
            "ticks": ""
           },
           "bgcolor": "#E5ECF6",
           "caxis": {
            "gridcolor": "white",
            "linecolor": "white",
            "ticks": ""
           }
          },
          "title": {
           "x": 0.05
          },
          "xaxis": {
           "automargin": true,
           "gridcolor": "white",
           "linecolor": "white",
           "ticks": "",
           "title": {
            "standoff": 15
           },
           "zerolinecolor": "white",
           "zerolinewidth": 2
          },
          "yaxis": {
           "automargin": true,
           "gridcolor": "white",
           "linecolor": "white",
           "ticks": "",
           "title": {
            "standoff": 15
           },
           "zerolinecolor": "white",
           "zerolinewidth": 2
          }
         }
        },
        "title": {
         "text": "Activation Patching Per Block"
        },
        "xaxis": {
         "anchor": "y",
         "domain": [
          0,
          0.31999999999999995
         ],
         "title": {
          "text": "Position"
         }
        },
        "xaxis2": {
         "anchor": "y2",
         "domain": [
          0.33999999999999997,
          0.6599999999999999
         ],
         "matches": "x",
         "title": {
          "text": "Position"
         }
        },
        "xaxis3": {
         "anchor": "y3",
         "domain": [
          0.6799999999999999,
          0.9999999999999999
         ],
         "matches": "x",
         "title": {
          "text": "Position"
         }
        },
        "yaxis": {
         "anchor": "x",
         "autorange": "reversed",
         "domain": [
          0,
          1
         ],
         "title": {
          "text": "Layer"
         }
        },
        "yaxis2": {
         "anchor": "x2",
         "domain": [
          0,
          1
         ],
         "matches": "y",
         "showticklabels": false
        },
        "yaxis3": {
         "anchor": "x3",
         "domain": [
          0,
          1
         ],
         "matches": "y",
         "showticklabels": false
        }
       }
      }
     },
     "metadata": {},
     "output_type": "display_data"
    }
   ],
   "source": [
    "imshow(\n",
    "    data[\"neg\"][\"patch_per_block\"][\"mean\"][1,:,:,:],\n",
    "    facet_col=0,\n",
    "    facet_labels=[\"Residual Stream\", \"Attn Output\", \"MLP Output\"],\n",
    "    title=\"Activation Patching Per Block\",\n",
    "    xaxis=\"Position\",\n",
    "    yaxis=\"Layer\",\n",
    "    # zmax=1,\n",
    "    # zmin=-1,\n",
    "    x=[f\"{tok}_{i}\" for i, tok in enumerate(data[\"pos\"][\"example_str_token\"])],\n",
    ")"
   ]
  },
  {
   "cell_type": "code",
   "execution_count": null,
   "metadata": {},
   "outputs": [],
   "source": []
  }
 ],
 "metadata": {
  "kernelspec": {
   "display_name": "mpi",
   "language": "python",
   "name": "python3"
  },
  "language_info": {
   "codemirror_mode": {
    "name": "ipython",
    "version": 3
   },
   "file_extension": ".py",
   "mimetype": "text/x-python",
   "name": "python",
   "nbconvert_exporter": "python",
   "pygments_lexer": "ipython3",
   "version": "3.11.4"
  }
 },
 "nbformat": 4,
 "nbformat_minor": 2
}
