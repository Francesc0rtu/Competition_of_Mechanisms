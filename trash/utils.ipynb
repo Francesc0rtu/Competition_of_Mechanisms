{
 "cells": [
  {
   "cell_type": "code",
   "execution_count": 1,
   "metadata": {},
   "outputs": [
    {
     "ename": "ImportError",
     "evalue": "cannot import name 'float_range' from 'src.utils' (/home/fortu/Competition_of_Mechanisms/script/../src/utils.py)",
     "output_type": "error",
     "traceback": [
      "\u001b[0;31m---------------------------------------------------------------------------\u001b[0m",
      "\u001b[0;31mImportError\u001b[0m                               Traceback (most recent call last)",
      "\u001b[1;32m/home/fortu/Competition_of_Mechanisms/script/utils.ipynb Cell 1\u001b[0m line \u001b[0;36m1\n\u001b[1;32m     <a href='vscode-notebook-cell:/home/fortu/Competition_of_Mechanisms/script/utils.ipynb#W0sZmlsZQ%3D%3D?line=12'>13</a>\u001b[0m \u001b[39mimport\u001b[39;00m \u001b[39mjson\u001b[39;00m\n\u001b[1;32m     <a href='vscode-notebook-cell:/home/fortu/Competition_of_Mechanisms/script/utils.ipynb#W0sZmlsZQ%3D%3D?line=13'>14</a>\u001b[0m \u001b[39mfrom\u001b[39;00m \u001b[39msrc\u001b[39;00m\u001b[39m.\u001b[39;00m\u001b[39mmodel\u001b[39;00m \u001b[39mimport\u001b[39;00m WrapHookedTransformer\n\u001b[0;32m---> <a href='vscode-notebook-cell:/home/fortu/Competition_of_Mechanisms/script/utils.ipynb#W0sZmlsZQ%3D%3D?line=14'>15</a>\u001b[0m \u001b[39mfrom\u001b[39;00m \u001b[39msrc\u001b[39;00m\u001b[39m.\u001b[39;00m\u001b[39mutils\u001b[39;00m \u001b[39mimport\u001b[39;00m float_range\n\u001b[1;32m     <a href='vscode-notebook-cell:/home/fortu/Competition_of_Mechanisms/script/utils.ipynb#W0sZmlsZQ%3D%3D?line=15'>16</a>\u001b[0m \u001b[39mfrom\u001b[39;00m \u001b[39mtqdm\u001b[39;00m \u001b[39mimport\u001b[39;00m tqdm\n\u001b[1;32m     <a href='vscode-notebook-cell:/home/fortu/Competition_of_Mechanisms/script/utils.ipynb#W0sZmlsZQ%3D%3D?line=17'>18</a>\u001b[0m \u001b[39mimport\u001b[39;00m \u001b[39mtransformer_lens\u001b[39;00m\u001b[39m.\u001b[39;00m\u001b[39mutils\u001b[39;00m \u001b[39mas\u001b[39;00m \u001b[39mutils\u001b[39;00m\n",
      "\u001b[0;31mImportError\u001b[0m: cannot import name 'float_range' from 'src.utils' (/home/fortu/Competition_of_Mechanisms/script/../src/utils.py)"
     ]
    }
   ],
   "source": [
    "import sys\n",
    "sys.path.append('..')\n",
    "sys.path.append('../src')\n",
    "sys.path.append('../data')\n",
    "\n",
    "import sys\n",
    "sys.path.append('..')\n",
    "sys.path.append('../src')\n",
    "sys.path.append('../data')\n",
    "\n",
    "import torch\n",
    "from transformer_lens import HookedTransformer\n",
    "import json\n",
    "from src.model import WrapHookedTransformer\n",
    "from src.utils import float_range\n",
    "from tqdm import tqdm\n",
    "\n",
    "import transformer_lens.utils as utils\n",
    "from transformer_lens.utils import get_act_name\n",
    "from functools import partial\n",
    "from transformer_lens import patching\n",
    "\n",
    "import numpy as np\n",
    "import torch\n",
    "from tqdm import tqdm\n",
    "%load_ext autoreload\n",
    "%autoreload 2\n"
   ]
  },
  {
   "cell_type": "code",
   "execution_count": null,
   "metadata": {},
   "outputs": [],
   "source": [
    "data = json.load(open(\"../data/known_1000.json\"))\n",
    "model = WrapHookedTransformer.from_pretrained(\"gpt2-xl\", device=\"cuda\")\n",
    "dataset = []\n",
    "for d in tqdm(data, total=len(data)):\n",
    "    dataset.append(\n",
    "        {\"prompt\": d[\"prompt\"],\n",
    "         \"target\": \" \" + d[\"attribute\"]}\n",
    "    )\n",
    "    \n",
    "\n",
    "alphas = [0.0, 0.1, 0.2, 0.3, 0.4, 0.5, 0.6, 0.7, 0.8, 0.9, 1.0]\n",
    "num_alphas = len(alphas)\n",
    "num_samples = 20\n",
    "\n",
    "# Initialize arrays\n",
    "target_win = np.zeros([num_alphas, num_samples])\n",
    "orthogonal_win = np.zeros([num_alphas, num_samples])\n",
    "target_win_over_orthogonal = np.zeros([num_alphas, num_samples])\n"
   ]
  },
  {
   "cell_type": "code",
   "execution_count": 2,
   "metadata": {},
   "outputs": [],
   "source": [
    "result = torch.load(\"../results/locate_mechanism/gpt2_result_len_16.pt\")"
   ]
  }
 ],
 "metadata": {
  "kernelspec": {
   "display_name": "mpi",
   "language": "python",
   "name": "python3"
  },
  "language_info": {
   "codemirror_mode": {
    "name": "ipython",
    "version": 3
   },
   "file_extension": ".py",
   "mimetype": "text/x-python",
   "name": "python",
   "nbconvert_exporter": "python",
   "pygments_lexer": "ipython3",
   "version": "3.11.4"
  }
 },
 "nbformat": 4,
 "nbformat_minor": 2
}
